{
  "nbformat": 4,
  "nbformat_minor": 0,
  "metadata": {
    "colab": {
      "name": "AudioTagger",
      "version": "0.3.2",
      "provenance": [],
      "collapsed_sections": [],
      "toc_visible": true,
      "include_colab_link": true
    },
    "kernelspec": {
      "name": "python3",
      "display_name": "Python 3"
    },
    "accelerator": "GPU"
  },
  "cells": [
    {
      "cell_type": "markdown",
      "metadata": {
        "id": "view-in-github",
        "colab_type": "text"
      },
      "source": [
        "<a href=\"https://colab.research.google.com/github/QColeman97/AudioTagger/blob/master/AudioTagger.ipynb\" target=\"_parent\"><img src=\"https://colab.research.google.com/assets/colab-badge.svg\" alt=\"Open In Colab\"/></a>"
      ]
    },
    {
      "cell_type": "code",
      "metadata": {
        "id": "1r-IRKqSNCF8",
        "colab_type": "code",
        "outputId": "b0863a3c-1bb3-42cf-a1ff-297740988a7b",
        "colab": {
          "base_uri": "https://localhost:8080/",
          "height": 54
        }
      },
      "source": [
        "from google.colab import drive\n",
        "drive.mount('/content/drive')"
      ],
      "execution_count": 1,
      "outputs": [
        {
          "output_type": "stream",
          "text": [
            "Drive already mounted at /content/drive; to attempt to forcibly remount, call drive.mount(\"/content/drive\", force_remount=True).\n"
          ],
          "name": "stdout"
        }
      ]
    },
    {
      "cell_type": "code",
      "metadata": {
        "id": "7D7P93WP3rs-",
        "colab_type": "code",
        "colab": {
          "base_uri": "https://localhost:8080/",
          "height": 54
        },
        "outputId": "dd28350b-46a4-4cd2-b4da-d41ca5cd4200"
      },
      "source": [
        "!pip install sox"
      ],
      "execution_count": 2,
      "outputs": [
        {
          "output_type": "stream",
          "text": [
            "Requirement already satisfied: sox in /usr/local/lib/python3.6/dist-packages (1.3.7)\n"
          ],
          "name": "stdout"
        }
      ]
    },
    {
      "cell_type": "code",
      "metadata": {
        "id": "BntxWSSKakG2",
        "colab_type": "code",
        "colab": {}
      },
      "source": [
        "import numpy as np \n",
        "import pandas as pd \n",
        "import matplotlib.pyplot as plt\n",
        "import seaborn as sns # for data visualization \n",
        "\n",
        "import IPython\n",
        "import IPython.display as ipd #To play sound in notebook\n",
        "import scipy as sci\n",
        "import wave \n",
        "from pathlib import Path\n",
        "\n",
        "from scipy.fftpack import fft #Fast Fourier Transformation \n",
        "from scipy.io import wavfile \n",
        "\n",
        "import librosa "
      ],
      "execution_count": 0,
      "outputs": []
    },
    {
      "cell_type": "code",
      "metadata": {
        "id": "WUp-xuxBUHie",
        "colab_type": "code",
        "outputId": "b0db4341-31c6-4974-bf9e-7b42c7010e53",
        "colab": {
          "base_uri": "https://localhost:8080/",
          "height": 54
        }
      },
      "source": [
        "import os \n",
        "print(os.listdir(\"drive/My Drive/CSC490Final-AudioTagger\"))"
      ],
      "execution_count": 4,
      "outputs": [
        {
          "output_type": "stream",
          "text": [
            "['FSDKaggle2018.audio_test', 'FSDKaggle2018.audio_train', 'test_post_competition_scoring_clips.csv', 'train_post_competition.csv']\n"
          ],
          "name": "stdout"
        }
      ]
    },
    {
      "cell_type": "code",
      "metadata": {
        "id": "K7_TeQythJZs",
        "colab_type": "code",
        "outputId": "ce974dbf-438c-46bd-8f41-8c76a42c4fa6",
        "colab": {
          "base_uri": "https://localhost:8080/",
          "height": 51
        }
      },
      "source": [
        "INPUT_PATH =\"drive/My Drive/CSC490Final-AudioTagger/\"\n",
        "audio_train_file = (INPUT_PATH + \"FSDKaggle2018.audio_train\")\n",
        "audio_test_file = (INPUT_PATH + \"FSDKaggle2018.audio_test\")\n",
        "train= pd.read_csv(INPUT_PATH + \"train_post_competition.csv\")\n",
        "\n",
        "\n",
        "#scipy.wavfile.read returns rate of wave, and # of data read\n",
        "filename = '/001ca53d.wav'\n",
        "sample_rate, samples = wavfile.read(str(audio_train_file) + filename)\n",
        "print(samples)\n",
        "print(train.shape)"
      ],
      "execution_count": 5,
      "outputs": [
        {
          "output_type": "stream",
          "text": [
            "[-33 -32 -34 ...  -1  -1  -1]\n",
            "(9473, 5)\n"
          ],
          "name": "stdout"
        }
      ]
    },
    {
      "cell_type": "code",
      "metadata": {
        "id": "BzbjcBaw7G5v",
        "colab_type": "code",
        "outputId": "cf291421-e6b9-4d2f-9ff1-92de4d947576",
        "colab": {
          "base_uri": "https://localhost:8080/",
          "height": 153
        }
      },
      "source": [
        "print(train.head())"
      ],
      "execution_count": 6,
      "outputs": [
        {
          "output_type": "stream",
          "text": [
            "          fname         label  ...  freesound_id             license\n",
            "0  00044347.wav        Hi-hat  ...         28739         Attribution\n",
            "1  001ca53d.wav     Saxophone  ...        358827         Attribution\n",
            "2  002d256b.wav       Trumpet  ...         10897  Creative Commons 0\n",
            "3  0033e230.wav  Glockenspiel  ...        325017         Attribution\n",
            "4  00353774.wav         Cello  ...        195688         Attribution\n",
            "\n",
            "[5 rows x 5 columns]\n"
          ],
          "name": "stdout"
        }
      ]
    },
    {
      "cell_type": "markdown",
      "metadata": {
        "id": "8ZLKMxHB3Qqc",
        "colab_type": "text"
      },
      "source": [
        "# DATA PREPROCESSING \n",
        "Cut out silent parts \n",
        "\n",
        "Normalize wave form"
      ]
    },
    {
      "cell_type": "code",
      "metadata": {
        "id": "F5RnmkK0I8iy",
        "colab_type": "code",
        "colab": {
          "base_uri": "https://localhost:8080/",
          "height": 34
        },
        "outputId": "d9dd88f6-59d9-4cee-fc95-783db89d4753"
      },
      "source": [
        "df_train = pd.read_csv(INPUT_PATH +'/train_post_competition.csv')\n",
        "df_test = pd.read_csv(INPUT_PATH + '/test_post_competition_scoring_clips.csv')\n",
        "labels = df_train.label.unique()\n",
        "label2int = {label:index for index, label in enumerate(labels)}\n",
        "num_class = len(labels)\n",
        "#Indices of manually verified training data\n",
        "verifed_train = np.array(df_train[df_train.manually_verified == 1].index)\n",
        "#array of labels in number form (0 = hi-hat, 1 = saxophone, etc)\n",
        "plain_y_train = np.array([label2int[label] for label in df_train.label])\n",
        "\n",
        "#np.set_printoptions(threshold=np.inf)\n",
        "plain_y_train"
      ],
      "execution_count": 40,
      "outputs": [
        {
          "output_type": "execute_result",
          "data": {
            "text/plain": [
              "array([ 0,  1,  2, ..., 12, 20, 17])"
            ]
          },
          "metadata": {
            "tags": []
          },
          "execution_count": 40
        }
      ]
    },
    {
      "cell_type": "code",
      "metadata": {
        "id": "fv0TgNsTJBMp",
        "colab_type": "code",
        "colab": {}
      },
      "source": [
        "'''Two approaches:\n",
        "  1) LH uses highest feature with only beginning sound. Useful info\n",
        "     are usually in begging part of sample and support. \n",
        "     \n",
        "  2) Splits sample and uses one that are long but with coarser feature. \n",
        "     Good for samples with contents in the middle or later part. Perfect \n",
        "     for ones that use entire wav file  \n",
        "'''\n",
        "confLH, confX = {}, {}\n",
        "confs = [confLH, confX]\n",
        "confLH['folder'] = Path('LH')\n",
        "confX['folder'] = Path('X')\n",
        "\n",
        "#configs for confLH: highest resolutions\n",
        "\n",
        "confLH['sampling_rate'] = 44100\n",
        "confLH['duration'] = 4\n",
        "confLH['hop_length'] = 882 # 20ms\n",
        "confLH['fmin'] = 20\n",
        "confLH['fmax'] = confLH['sampling_rate'] // 2\n",
        "confLH['n_mels'] = 128\n",
        "confLH['n_fft'] = confLH['n_mels'] * 20\n",
        "confLH['audio_split'] = 'head'\n",
        "confLH['samples'] = confLH['sampling_rate'] * confLH['duration']\n",
        "confLH['dims'] = (confLH['n_mels'], 1 + \n",
        "                  int(np.floor(confLH['samples']/confLH['hop_length'])), 1)\n",
        "\n",
        "\n",
        "# Approach X uses longer sound, then it uses suppressed \n",
        "confX['sampling_rate'] = 26000\n",
        "confX['duration'] = 6\n",
        "confX['hop_length'] = 520 # 20ms\n",
        "confX['fmin'] = 20\n",
        "confX['fmax'] = confX['sampling_rate'] // 2\n",
        "confX['n_mels'] = 48\n",
        "confX['n_fft'] = confX['n_mels'] * 20\n",
        "confX['audio_split'] = 'dont_crop'\n",
        "confX['samples'] = confX['sampling_rate'] * confX['duration']\n",
        "confX['dims'] = (confX['n_mels'], 1 + \n",
        "                  int(np.floor(confX['samples']/confX['hop_length'])), 1)\n",
        "\n",
        "\n"
      ],
      "execution_count": 0,
      "outputs": []
    },
    {
      "cell_type": "code",
      "metadata": {
        "id": "txYQUju9Pk2O",
        "colab_type": "code",
        "colab": {}
      },
      "source": [
        "import librosa\n",
        "import librosa.display\n",
        "\n",
        "def read_audio(conf, pathname):\n",
        "    #return audio time series and sampling rate \n",
        "    y, sr = librosa.load(pathname, sr=conf['sampling_rate'])\n",
        "    # trim silence\n",
        "    if 0 < len(y):\n",
        "        y, _ = librosa.effects.trim(y) # trim, top_db=default(60)\n",
        "    # make it unified length to conf.samples\n",
        "    if len(y) > conf['samples']: # long enough\n",
        "        if conf['audio_split'] == 'head':\n",
        "            y = y[0:0+conf['samples']]\n",
        "    else: # pad blank\n",
        "        padding = conf['samples'] - len(y)    # add padding at both ends\n",
        "        offset = padding // 2\n",
        "        y = np.pad(y, (offset, conf['samples'] - len(y) - offset), 'constant')\n",
        "    return y\n",
        "\n",
        "def audio_to_melspectrogram(conf, audio):\n",
        "    spectrogram = librosa.feature.melspectrogram(audio, \n",
        "                                                 sr=conf['sampling_rate'],\n",
        "                                                 n_mels=conf['n_mels'],\n",
        "                                                 hop_length=conf['hop_length'],\n",
        "                                                 n_fft=conf['n_fft'],\n",
        "                                                 fmin=conf['fmin'],\n",
        "                                                 fmax=conf['fmax'])\n",
        "    #convert spectrogram to decibel\n",
        "    spectrogram = librosa.power_to_db(spectrogram)\n",
        "    spectrogram = spectrogram.astype(np.float32)\n",
        "    return spectrogram\n",
        "\n",
        "def show_melspectrogram(mels, conf):\n",
        "    librosa.display.specshow(mels, x_axis='time', y_axis='mel', \n",
        "                             sr=conf['sampling_rate'], hop_length=conf['hop_length'],\n",
        "                            fmin=conf['fmin'], fmax=conf['fmax'])\n",
        "    plt.colorbar(format='%+2.0f dB')\n",
        "    plt.title('Log-frequency power spectrogram')\n",
        "    plt.show()\n",
        "\n",
        "def read_as_melspectrogram(conf, pathname, debug_display=False):\n",
        "    x = read_audio(conf, pathname)\n",
        "    mels = audio_to_melspectrogram(conf, x)\n",
        "    if debug_display:\n",
        "        IPython.display.display(IPython.display.Audio(x, rate=conf['sampling_rate']))\n",
        "        show_melspectrogram(mels, conf)\n",
        "    return mels"
      ],
      "execution_count": 0,
      "outputs": []
    },
    {
      "cell_type": "code",
      "metadata": {
        "id": "HRrxlCENVBRO",
        "colab_type": "code",
        "colab": {
          "base_uri": "https://localhost:8080/",
          "height": 238
        },
        "outputId": "b2a8316d-9fac-4f7d-aab1-211822d49f1b"
      },
      "source": [
        "#spectograms are ndarray \n",
        "mels1 = read_as_melspectrogram(confLH, audio_train_file + '/' +\n",
        "                       df_train.fname[0], debug_display=False)\n",
        "mels_LH2 = read_as_melspectrogram(confLH, audio_train_file + '/' +\n",
        "                                  df_train.fname[1], debug_display=False)\n",
        "\n",
        "mels2 = read_as_melspectrogram(confX, audio_train_file + '/' + \n",
        "                       df_train.fname[0], debug_display=False)\n"
      ],
      "execution_count": 46,
      "outputs": [
        {
          "output_type": "stream",
          "text": [
            "[[-32.454773  -37.377052  -34.06007   ... -36.114246  -16.214312\n",
            "   -2.8257742]\n",
            " [-44.019295  -43.012085  -38.085457  ... -46.167946  -15.615058\n",
            "   -2.4670937]\n",
            " [-53.407314  -48.762466  -41.635468  ... -41.03498   -14.579424\n",
            "   -1.5052011]\n",
            " ...\n",
            " [-55.19351   -55.19351   -55.19351   ... -55.19351   -55.19351\n",
            "  -55.19351  ]\n",
            " [-55.19351   -55.19351   -55.19351   ... -55.19351   -55.19351\n",
            "  -55.19351  ]\n",
            " [-55.19351   -55.19351   -55.19351   ... -55.19351   -55.19351\n",
            "  -55.19351  ]]\n"
          ],
          "name": "stdout"
        }
      ]
    },
    {
      "cell_type": "code",
      "metadata": {
        "id": "GOZIHtjckMis",
        "colab_type": "code",
        "colab": {
          "base_uri": "https://localhost:8080/",
          "height": 68
        },
        "outputId": "e80112c9-c6ad-4291-83ae-bbe2a6259ef7"
      },
      "source": [
        "print(mels1.size)\n",
        "print(mels_LH2.size)\n",
        "print(mels2.size)\n"
      ],
      "execution_count": 44,
      "outputs": [
        {
          "output_type": "stream",
          "text": [
            "25728\n",
            "25728\n",
            "27744\n"
          ],
          "name": "stdout"
        }
      ]
    },
    {
      "cell_type": "code",
      "metadata": {
        "id": "5cPhP8mb3ZMr",
        "colab_type": "code",
        "colab": {
          "base_uri": "https://localhost:8080/",
          "height": 163
        },
        "outputId": "eb10eccd-221c-4a54-8555-f2d134d79db3"
      },
      "source": [
        "#\n",
        "sox "
      ],
      "execution_count": 10,
      "outputs": [
        {
          "output_type": "error",
          "ename": "NameError",
          "evalue": "ignored",
          "traceback": [
            "\u001b[0;31m---------------------------------------------------------------------------\u001b[0m",
            "\u001b[0;31mNameError\u001b[0m                                 Traceback (most recent call last)",
            "\u001b[0;32m<ipython-input-10-1cf13dafd024>\u001b[0m in \u001b[0;36m<module>\u001b[0;34m()\u001b[0m\n\u001b[0;32m----> 1\u001b[0;31m \u001b[0msox\u001b[0m\u001b[0;34m\u001b[0m\u001b[0;34m\u001b[0m\u001b[0m\n\u001b[0m",
            "\u001b[0;31mNameError\u001b[0m: name 'sox' is not defined"
          ]
        }
      ]
    },
    {
      "cell_type": "markdown",
      "metadata": {
        "id": "6zOO1tc23ikz",
        "colab_type": "text"
      },
      "source": [
        ""
      ]
    }
  ]
}