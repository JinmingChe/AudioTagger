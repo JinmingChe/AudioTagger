{
  "nbformat": 4,
  "nbformat_minor": 0,
  "metadata": {
    "colab": {
      "name": "Train.ipynb",
      "version": "0.3.2",
      "provenance": [],
      "include_colab_link": true
    },
    "kernelspec": {
      "name": "python3",
      "display_name": "Python 3"
    },
    "accelerator": "GPU"
  },
  "cells": [
    {
      "cell_type": "markdown",
      "metadata": {
        "id": "view-in-github",
        "colab_type": "text"
      },
      "source": [
        "<a href=\"https://colab.research.google.com/github/QColeman97/AudioTagger/blob/master/TagAudio.ipynb\" target=\"_parent\"><img src=\"https://colab.research.google.com/assets/colab-badge.svg\" alt=\"Open In Colab\"/></a>"
      ]
    },
    {
      "cell_type": "code",
      "metadata": {
        "id": "tcgupmmSzS9x",
        "colab_type": "code",
        "colab": {
          "base_uri": "https://localhost:8080/",
          "height": 88
        },
        "outputId": "bd792fb3-6dfe-4827-b5f4-7cd489aab900"
      },
      "source": [
        "from google.colab import drive\n",
        "drive.mount('/content/drive')\n",
        "\n",
        "import numpy as np\n",
        "import pandas as pd\n",
        "import matplotlib.pyplot as plt\n",
        "# import seaborn as sns # for data visualization\n",
        "\n",
        "# import IPython\n",
        "# import IPython.display as ipd #To play sound in notebook\n",
        "# import scipy as sci\n",
        "# import wave\n",
        "from pathlib import Path\n",
        "\n",
        "from scipy.fftpack import fft #Fast Fourier Transformation\n",
        "from scipy.io import wavfile\n",
        "\n",
        "import librosa\n",
        "from librosa import display\n",
        "import os\n",
        "import glob\n",
        "\n",
        "input_path = 'drive/My Drive/AudioTaggerData/'\n",
        "\n",
        "\n",
        "# input_path = '../AudioTaggerData/'\n",
        "train_files_path = input_path + 'FSDKaggle2018.audio_train'\n",
        "test_files_path = input_path + 'FSDKaggle2018.audio_test'\n",
        "train_csv_path = (input_path +\n",
        "                  'FSDKaggle2018.meta/train_post_competition.csv')\n",
        "test_csv_path = (input_path +\n",
        "                 'FSDKaggle2018.meta/' +\n",
        "                 'test_post_competition_scoring_clips.csv')\n",
        "\n",
        "#scipy.wavfile.read returns rate of wave, and # of data read\n",
        "filename = '/001ca53d.wav'\n",
        "# sample_rate, samples = wavfile.read(str(audio_train_file) + filename)\n",
        "# print(samples)\n",
        "# print(train.shape)\n",
        "\n",
        "# Data preprocessing part\n",
        "\n",
        "df_train = pd.read_csv(train_csv_path)\n",
        "df_test = pd.read_csv(test_csv_path)\n",
        "\n",
        "unique_labels = df_train.label.unique()\n",
        "num_class = len(unique_labels)\n",
        "label2index = {label: index for index, label in enumerate(unique_labels)}\n",
        "\n",
        "# print('Label to index:')\n",
        "# print(label2index)\n",
        "\n",
        "train_dict = pd.Series.from_csv(train_csv_path, header = 0).to_dict()\n",
        "test_dict = pd.Series.from_csv(test_csv_path, header = 0).to_dict()\n",
        "\n",
        "\n",
        "# print('Train dict at:')\n",
        "# print(test_dict['40f595b9.wav'])\n",
        "# KeyError: '40f595b9.wav'\n",
        "\n",
        "# train_df = pd.read_csv(train_csv_path, header = 0)\n",
        "# train_dict = train_df.transpose().to_dict()\n",
        "# print('train dict:')\n",
        "# print(train_dict)\n",
        "\n",
        "#Indices of manually verified training data\n",
        "# verified_train = np.array(df_train[df_train.manually_verified == 1].index)\n",
        "# print(len(verified_train))\n",
        "# print(len(df_train))\n",
        "\n",
        "#array of labels in number form (0 = hi-hat, 1 = saxophone, etc)\n",
        "label_emb_indices = np.array([label2index[label] for label in df_train.label])\n",
        "\n",
        "label_emb_test_indices = np.array([label2index[label] for label in df_test.label])\n",
        "\n",
        "# print(plain_y_train)\n",
        "\n",
        "# print('Label emb indices:')\n",
        "# print(label_emb_indices)\n",
        "\n",
        "# # Approach X uses longer sound, then it uses suppressed\n",
        "# # confX['sampling_rate'] = 26000\n",
        "# # sampling_rate = 44100 # Original file sr\n",
        "# sampling_rate = 32000\n",
        "# # duration = 4\n",
        "# duration = 5\n",
        "# # confX['hop_length'] = 520  # 20ms\n",
        "# hop_length = 192\n",
        "# fmin = 20\n",
        "# fmax = sampling_rate // 2\n",
        "# # confX['n_mels'] = 48\n",
        "# n_mels = 128\n",
        "# # confX['n_fft'] = confX['n_mels'] * 20\n",
        "# n_fft = 1024\n",
        "# audio_split = 'dont_crop'\n",
        "# samples = sampling_rate * duration\n",
        "# dims = (n_mels, 1 + int(np.floor(samples / hop_length)), 1)\n",
        "\n",
        "\n",
        "def pre_process(pathname):\n",
        "    sampling_rate = 32000\n",
        "    # duration = 4\n",
        "    # duration = 5\n",
        "    # confX['hop_length'] = 520  # 20ms\n",
        "    hop_length = 192\n",
        "    # fmin = 20\n",
        "    # fmax = sampling_rate // 2\n",
        "    fmax = None\n",
        "    # confX['n_mels'] = 48\n",
        "    n_mels = 128 # originally\n",
        "#     n_mels = 32\n",
        "    # confX['n_fft'] = confX['n_mels'] * 20\n",
        "    n_fft = 1024\n",
        "    # audio_split = 'dont_crop'\n",
        "    # samples = sampling_rate * duration\n",
        "    # dims = (n_mels, 1 + int(np.floor(samples / hop_length)), 1)\n",
        "\n",
        "    # TODO: Correct spectrogram creation to minimize bad data\n",
        "\n",
        "    # y, sr = librosa.load(pathname, sr = None)\n",
        "    y, sr = librosa.load(pathname, sr = sampling_rate)\n",
        "    # print('Y len:', len(y))\n",
        "    y, (trim_begin, trim_end) = librosa.effects.trim(y)\n",
        "\n",
        "    # print('Y len:', len(y))\n",
        "#     y = librosa.effects.time_stretch(y, 2)\n",
        "#     print('Y len:', len(y))\n",
        "\n",
        "    # while len(y) > 10000:\n",
        "    #     y = librosa.effects.time_stretch(y, 2)\n",
        "    #     print('Y len:', len(y))\n",
        "    # print()\n",
        "\n",
        "    # Amplitudes of STFT\n",
        "    stft = np.abs(librosa.stft(y, n_fft = n_fft, hop_length = hop_length,\n",
        "                               window = 'hann', center = True,\n",
        "                               pad_mode = 'reflect'))\n",
        "\n",
        "    # print('stft shape:', stft.shape)\n",
        "\n",
        "    freqs = librosa.core.fft_frequencies(sr = sampling_rate, n_fft = n_fft)\n",
        "    stft = librosa.perceptual_weighting(stft*2, freqs, ref = 1.0, amin = 1e-10,\n",
        "                                        top_db = 99.0)\n",
        "\n",
        "    # print('stft shape:', stft.shape)\n",
        "\n",
        "    # Apply mel filterbank\n",
        "    # Power param is set to 2 (power) by default\n",
        "    mel_spect = librosa.feature.melspectrogram(S = stft, sr = sampling_rate,\n",
        "                                               n_mels = n_mels, fmax = fmax)\n",
        "\n",
        "    # print('mel shape:', mel_spect.shape)\n",
        "\n",
        "    log_mel_spect = librosa.core.power_to_db(mel_spect)\n",
        "\n",
        "    # print('log mel shape:', log_mel_spect.shape)\n",
        "\n",
        "    # spectrogram = librosa.feature.melspectrogram(S = stft)\n",
        "    # Keep spectrogram\n",
        "    # return np.asarray(spectrogram)\n",
        "    return np.asarray(log_mel_spect)\n",
        "\n",
        "\n",
        "# pre_process(audio_train_file + filename)\n",
        "def get_data(pathname, training = True):\n",
        "    file_list = glob.glob(os.path.join(pathname, '*.wav'))\n",
        "\n",
        "    if training:\n",
        "        data_f = open('Audio.train', 'w')\n",
        "    else:\n",
        "        data_f = open('Audio.test', 'w')\n",
        "\n",
        "    # print(file_list)\n",
        "#     spectrograms, times = [], []\n",
        "    spectrograms = np.ndarray((9474, 256, 128))\n",
        "\n",
        "    for i, file in enumerate(file_list):\n",
        "        print(\"%04d / %d | %s\" % (i + 1, len(file_list), file))\n",
        "\n",
        "        try:\n",
        "            spectrogram = pre_process(file)\n",
        "        except Exception:\n",
        "            print('Weird, couldnt convert to spectrogram, skipping file')\n",
        "            continue\n",
        "\n",
        "        # times.append(spectrogram.shape[1])\n",
        "\n",
        "        # Originally 2000 (average)\n",
        "#         time_restriction = 64\n",
        "        time_restriction = 256\n",
        "        if time_restriction >= spectrogram.shape[1]:\n",
        "            pad_amount = time_restriction - spectrogram.shape[1]\n",
        "            # Use avg or max time\n",
        "            spectrogram = np.pad(spectrogram, ((0, 0), (0, pad_amount)),\n",
        "                                 'minimum')\n",
        "        else:\n",
        "            spectrogram = spectrogram[:, :time_restriction]\n",
        "\n",
        "        spectrogram = spectrogram.transpose()\n",
        "\n",
        "        # print(\"Spectrogram Shape:\", spectrogram.shape)\n",
        "\n",
        "#         spectrograms.append(spectrogram.astype(np.float32))\n",
        "        for j in range(len(spectrogram)):\n",
        "            for k in range(len(spectrogram[j])):\n",
        "                spectrograms[i][j][k] = spectrogram[j][k].astype(np.float32)\n",
        "                \n",
        "        # data_f.write(np.array2string(spectrogram) + '\\n\\n')\n",
        "#         np.savetxt(data_f, spectrogram)\n",
        "#         data_f.write('\\n')\n",
        "\n",
        "        # if i > 500:\n",
        "        #     break\n",
        "        # if 32 < i < 50:  # 34 is a weird one\n",
        "#         if i % 12 == 0:\n",
        "        \n",
        "#             plt.figure(\"General-Purpose \")\n",
        "#             plt.clf()\n",
        "#             plt.subplots_adjust(right = 0.98, left = 0.1, bottom = 0.1,\n",
        "#                                 top = 0.99)\n",
        "#             plt.imshow(spectrogram, origin = \"lower\",\n",
        "#                        interpolation = \"nearest\", cmap = \"viridis\")\n",
        "#             plt.xlabel(\"%d bins\" % spectrogram.shape[1])\n",
        "#             plt.ylabel(\"%d frames\" % spectrogram.shape[0])\n",
        "#             plt.colorbar()\n",
        "#             plt.show()\n",
        "        \n",
        "            # display.specshow(spectrogram, y_axis = 'log', x_axis = 'time')\n",
        "            #\n",
        "            # plt.title('Mel Spectrogram')\n",
        "            # plt.colorbar(format = '%+2.0f dB')\n",
        "            # plt.tight_layout()\n",
        "            # plt.show()\n",
        "        \n",
        "            # print('Spectrogram:', i)\n",
        "            # print(spectrogram)\n",
        "\n",
        "    # average_time = np.average(times)\n",
        "    # print('Average timesteps:', average_time)\n",
        "    # max_time = np.amax(times)\n",
        "    # print('Max timesteps:', max_time)\n",
        "\n",
        "    return spectrograms\n",
        "#     data_f.close()\n",
        "\n",
        "\n",
        "def get_labels(pathname, training = True):\n",
        "    file_list = glob.glob(os.path.join(pathname, '*.wav'))\n",
        "\n",
        "    if training:\n",
        "        labels_f = open('Labels.train', 'w')\n",
        "    else:\n",
        "        labels_f = open('Labels.test', 'w')\n",
        "\n",
        "#     labels = []\n",
        "    labels = np.ndarray((1570, 41))\n",
        "    for i, file in enumerate(file_list):\n",
        "#         label = np.zeros((41,))\n",
        "        categ = (train_dict[file.split('/')[-1]] if\n",
        "            (training) else test_dict[file.split('/')[-1]])\n",
        "        hot_index = label2index[categ]\n",
        "        labels[i][hot_index] = 1\n",
        "#         labels.append(label)\n",
        "#         labels_f.write(' '.join([str(x) for x in label]) + '\\n')\n",
        "\n",
        "    return np.array(labels)\n",
        "#     labels_f.close()\n",
        "\n",
        "\n",
        "# get_data(train_files_path, training = True)\n",
        "# get_labels(train_files_path, training = True)\n"
      ],
      "execution_count": 33,
      "outputs": [
        {
          "output_type": "stream",
          "text": [
            "Drive already mounted at /content/drive; to attempt to forcibly remount, call drive.mount(\"/content/drive\", force_remount=True).\n"
          ],
          "name": "stdout"
        },
        {
          "output_type": "stream",
          "text": [
            "/usr/local/lib/python3.6/dist-packages/pandas/core/series.py:4141: FutureWarning: from_csv is deprecated. Please use read_csv(...) instead. Note that some of the default arguments are different, so please refer to the documentation for from_csv when changing your function calls\n",
            "  infer_datetime_format=infer_datetime_format)\n"
          ],
          "name": "stderr"
        }
      ]
    },
    {
      "cell_type": "code",
      "metadata": {
        "id": "QbbUGp4yGKIt",
        "colab_type": "code",
        "colab": {
          "base_uri": "https://localhost:8080/",
          "height": 66864
        },
        "outputId": "b6f21687-0124-476e-968b-0ccbc976eac5"
      },
      "source": [
        "from keras import models, layers\n",
        "from keras_preprocessing.image import ImageDataGenerator\n",
        "# import librosa\n",
        "# from librosa import display\n",
        "import numpy as np\n",
        "# import matplotlib.pyplot as plt\n",
        "# import IPython.display as ipd  # only for IPython notebooks\n",
        "# import pyaudio\n",
        "# import wave\n",
        "# import PreProcess\n",
        "\n",
        "\n",
        "# #1 preprocess method\n",
        "# Normalize input w/ batch normalization (BN)\n",
        "# Input is trnasformed into logmel domain (turned into log-mel spectrograms)\n",
        "# BN again & reshaped (time, frequency, 1) - greyscale image\n",
        "# Then conv stuff\n",
        "\n",
        "# Hyperparams / config to test:\n",
        "# ch 7: (advanced)\n",
        "#   model ensembling (of 2D CNN & Combined 1D CNN & RNN combo, etc??)\n",
        "#   Replace Conv2D w/ SeparableConv2D\n",
        "#   Batch normailization (can replace regularization)\n",
        "#   Inception\n",
        "#   Residual connections\n",
        "#   DenseNet is a good model to follow (top leader) or fine tune from\n",
        "\n",
        "# ch 5: (convnets)\n",
        "#   Tune HP (# neurons, layers, epochs, batch_size)\n",
        "#   dropout, regularization (can be replaced by BN)\n",
        "#   Data augmentation\n",
        "\n",
        "# K-Fold Validation\n",
        "\n",
        "\n",
        "# class LyrParams:\n",
        "#     # Describes, for a layer, # channels/neurons, dropout rate &\n",
        "#     # regularization choice (Lyr = layer)\n",
        "#     def __init__(self, units, dpt = None):\n",
        "#         self.units = units\n",
        "#         self.dpt = dpt\n",
        "\n",
        "# nn.add(layers.Conv2D(prm_lyrs[1].units, (3, 3), activation = 'relu'))\n",
        "# if prm_lyrs[0].dpt:\n",
        "#   nn.add(layers.dpt(prm_lyrs[0].dpt))\n",
        "\n",
        "# Lab 3 is a good one for backup\n",
        "# Model structure after best methods - 6 conv units (conv *2 + maxpool)\n",
        "def make_model(input_shape):\n",
        "    # Current Shape: (500, 128, 1)  # 500 = timesteps, 128 = frequencies\n",
        "    nn = models.Sequential()\n",
        "    nn.add(layers.SeparableConv2D(64, (3, 3), padding = 'same',\n",
        "                                  activation = 'relu',\n",
        "                                  input_shape = input_shape))\n",
        "    # Shape: (126, 498, 64)\n",
        "    nn.add(layers.BatchNormalization())\n",
        "    nn.add(layers.SeparableConv2D(64, (3, 3), padding = 'same',\n",
        "                                  activation = 'relu'))\n",
        "    # Shape: (124, 496, 64)\n",
        "    nn.add(layers.BatchNormalization())\n",
        "    nn.add(layers.MaxPooling2D((2, 2)))\n",
        "    # Shape: (62, 248, 64)\n",
        "    nn.add(layers.Dropout(0.3))\n",
        "\n",
        "    nn.add(layers.SeparableConv2D(128, (3, 3), padding = 'same',\n",
        "                                  activation = 'relu'))\n",
        "    # Shape: (60, 246, 128)\n",
        "    nn.add(layers.BatchNormalization())\n",
        "    nn.add(layers.SeparableConv2D(128, (3, 3), padding = 'same',\n",
        "                                  activation = 'relu'))\n",
        "    # Shape: (58, 244, 128)\n",
        "    nn.add(layers.BatchNormalization())\n",
        "    nn.add(layers.MaxPooling2D((2, 2)))\n",
        "    # Shape: (29, 122, 128)\n",
        "    nn.add(layers.Dropout(0.3))\n",
        "\n",
        "#     # Possibly make this block more like the others\n",
        "#     nn.add(layers.SeparableConv2D(256, (3, 3), padding = 'same',\n",
        "#                                   activation = 'relu'))\n",
        "#     # Shape: (27, 120, 256)\n",
        "#     nn.add(layers.BatchNormalization())\n",
        "#     nn.add(layers.Dropout(0.3))\n",
        "    nn.add(layers.SeparableConv2D(256, (3, 3), padding = 'same',\n",
        "                                  activation = 'relu'))\n",
        "    # Shape: (25, 118, 256)\n",
        "    nn.add(layers.BatchNormalization())\n",
        "    nn.add(layers.Dropout(0.3))\n",
        "    nn.add(layers.SeparableConv2D(256, (3, 3), padding = 'same',\n",
        "                                  activation = 'relu'))\n",
        "    # Shape: (23, 116, 256)\n",
        "    nn.add(layers.BatchNormalization())\n",
        "    nn.add(layers.Dropout(0.3))\n",
        "    nn.add(layers.SeparableConv2D(256, (3, 3), padding = 'same',\n",
        "                                  activation = 'relu'))\n",
        "    # Shape: (21, 114, 256)\n",
        "    nn.add(layers.BatchNormalization())\n",
        "    nn.add(layers.MaxPooling2D((2, 2)))\n",
        "    # Shape: (10, 57, 256)\n",
        "    nn.add(layers.Dropout(0.3))\n",
        "\n",
        "#     nn.add(layers.SeparableConv2D(512, (3, 3), padding = 'same',\n",
        "#                                   activation = 'relu'))\n",
        "#     # Shape: (8, 55, 512)\n",
        "#     nn.add(layers.BatchNormalization())\n",
        "#     nn.add(layers.SeparableConv2D(512, (3, 3), padding = 'same',\n",
        "#                                   activation = 'relu'))\n",
        "#     # Shape: (6, 53, 512)\n",
        "#     nn.add(layers.BatchNormalization())\n",
        "#     nn.add(layers.MaxPooling2D((2, 2)))\n",
        "#     # Shape: (3, 26, 512)\n",
        "#     nn.add(layers.Dropout(0.3))\n",
        "\n",
        "    nn.add(layers.SeparableConv2D(512, (3, 3), padding = 'same',\n",
        "                                  activation = 'relu'))\n",
        "    # Shape: (1, 24, 512)\n",
        "    nn.add(layers.BatchNormalization())\n",
        "    nn.add(layers.SeparableConv2D(512, (3, 3), padding = 'same',\n",
        "                                  activation = 'relu'))\n",
        "    nn.add(layers.BatchNormalization())\n",
        "    nn.add(layers.GlobalAveragePooling2D())\n",
        "\n",
        "    nn.add(layers.Dense(41, activation = 'softmax'))\n",
        "    return nn\n",
        "\n",
        "\n",
        "# Get data\n",
        "# input_path = 'AudioTaggerData/'\n",
        "input_path = 'drive/My Drive/AudioTaggerData/'\n",
        "\n",
        "train_files_path = input_path + 'FSDKaggle2018.audio_train'\n",
        "test_files_path = input_path + 'FSDKaggle2018.audio_test'\n",
        "train_csv_path = (input_path +\n",
        "                  'FSDKaggle2018.meta/train_post_competition.csv')\n",
        "test_csv_path = (input_path +\n",
        "                 'FSDKaggle2018.meta/' +\n",
        "                 'test_post_competition_scoring_clips.csv')\n",
        "\n",
        "\n",
        "def get_train_data():\n",
        "#     data = np.ndarray((9474, 64, 32))\n",
        "    data = np.ndarray((9474, 256, 128))\n",
        "\n",
        "#     data_len, data = 9474, []\n",
        "    data_len, time_len, freq = 9474, 256, 128\n",
        "\n",
        "#     data_len, data = 3, []\n",
        "    with open(input_path + 'Audio.train', 'r') as data_f:\n",
        "        for i in range(data_len):\n",
        "#             sample = []\n",
        "#             time_step = [float(elem) for elem in\n",
        "#                          data_f.readline().split()]\n",
        "#             print(time_step)\n",
        "            for j in range(time_len):\n",
        "#             while time_step != []:\n",
        "#                 sample.append(np.array(time_step))\n",
        "                \n",
        "    \n",
        "                time_step = [float(elem) for elem in\n",
        "                             data_f.readline().split()]\n",
        "#                 sample.append(time_step)\n",
        "                \n",
        "                if len(time_step) < freq:\n",
        "                    rest = freq - len(time_step)\n",
        "                    time_step += [-100.0 for x in range(rest)]\n",
        "    \n",
        "                for k in range(freq):\n",
        "#                     if (len(time_step) != 32):\n",
        "#                         print('BAD time step len:', i)\n",
        "#                     if (i >= 9474 or j >= 64 or k >= 32):\n",
        "#                         print('OOB error:')\n",
        "#                         print(i,j,k)\n",
        "#                     print(len(time_step))\n",
        "                    data[i][j][k] = time_step[k]\n",
        "            \n",
        "#                 print(time_step)\n",
        "                # print('line')\n",
        "                # print(line)\n",
        "#                 sample.append(np.array(time_step))\n",
        "#             data.append(np.array(sample))\n",
        "#             data.append(sample)\n",
        "\n",
        "            data_f.readline()\n",
        "\n",
        "#             print('DATA:')\n",
        "#             print(data)\n",
        "\n",
        "#     return np.array(data)\n",
        "    return data\n",
        "\n",
        "def get_test_data():\n",
        "    data = np.ndarray((1570, 256, 128))\n",
        "    data_len = 1570\n",
        "\n",
        "#     data_len, data = 3, []\n",
        "    with open(input_path + 'Audio.test', 'r') as data_f:\n",
        "        for i in range(data_len):\n",
        "\n",
        "            for j in range(256):\n",
        "    \n",
        "                time_step = [float(elem) for elem in\n",
        "                             data_f.readline().split()]\n",
        "#                 sample.append(time_step)\n",
        "                \n",
        "                if len(time_step) < 128:\n",
        "                    rest = 128 - len(time_step)\n",
        "                    time_step += [-100.0 for x in range(rest)]\n",
        "    \n",
        "                for k in range(128):\n",
        "                    data[i][j][k] = time_step[k]\n",
        "\n",
        "            data_f.readline()\n",
        "\n",
        "    return data\n",
        "\n",
        "\n",
        "def get_train_labels():\n",
        "    labels = np.ndarray((9474, 41))\n",
        "#     labels_len, labels = 9474, []\n",
        "    labels_len = 9474\n",
        "\n",
        "#     labels_len, labels = 3, []\n",
        "    with open(input_path + 'Labels.train', 'r') as label_f:\n",
        "        for i in range(labels_len):\n",
        "            label = [float(elem) for elem in label_f.readline().split()]\n",
        "#             labels.append(label)\n",
        "\n",
        "            if len(label) < 41:\n",
        "                    rest = 41 - len(label)\n",
        "                    label += [0.0 for x in range(rest)]\n",
        "            \n",
        "            for j in range(41):\n",
        "                labels[i][j] = label[j]\n",
        "\n",
        "#     return np.array(labels)\n",
        "    return labels\n",
        "\n",
        "def get_test_labels():\n",
        "    labels = np.ndarray((1570, 41))\n",
        "#     labels_len, labels = 9474, []\n",
        "    labels_len = 1570\n",
        "\n",
        "#     labels_len, labels = 3, []\n",
        "    with open(input_path + 'Labels.test', 'r') as label_f:\n",
        "        for i in range(labels_len):\n",
        "            label = [float(elem) for elem in label_f.readline().split()]\n",
        "#             labels.append(label)\n",
        "\n",
        "            if len(label) < 41:\n",
        "                    rest = 41 - len(label)\n",
        "                    label += [0.0 for x in range(rest)]\n",
        "            \n",
        "            for j in range(41):\n",
        "                labels[i][j] = label[j]\n",
        "\n",
        "#     return np.array(labels)\n",
        "    return labels\n",
        "\n",
        "# 1. Create training data (log mel spectrograms)\n",
        "# dummy_samples = 10\n",
        "# Num train samples = 9474\n",
        "# Num test samples = 1570\n",
        "\n",
        "\n",
        "\n",
        "# UNDO\n",
        "# train_data = get_train_data()\n",
        "# train_labels = get_train_labels()\n",
        "\n",
        "# test_data = get_test_data()\n",
        "# test_labels = get_test_labels()\n",
        "test_data = get_data(test_files_path, training = False)\n",
        "test_labels = get_labels(test_files_path, training = False)\n",
        "\n",
        "#UNDO\n",
        "# train_samples, test_samples = 9474, 1570\n",
        "# max_timesteps = train_data.shape[1]\n",
        "# num_freq = train_data.shape[2]\n"
      ],
      "execution_count": 0,
      "outputs": [
        {
          "output_type": "stream",
          "text": [
            "0001 / 1600 | drive/My Drive/AudioTaggerData/FSDKaggle2018.audio_test/40f595b9.wav\n"
          ],
          "name": "stdout"
        },
        {
          "output_type": "stream",
          "text": [
            "/usr/local/lib/python3.6/dist-packages/librosa/core/time_frequency.py:1006: RuntimeWarning: divide by zero encountered in log10\n",
            "  - 0.5 * np.log10(f_sq + const[3]))\n"
          ],
          "name": "stderr"
        },
        {
          "output_type": "stream",
          "text": [
            "0002 / 1600 | drive/My Drive/AudioTaggerData/FSDKaggle2018.audio_test/a9a0f11e.wav\n"
          ],
          "name": "stdout"
        },
        {
          "output_type": "stream",
          "text": [
            "/usr/local/lib/python3.6/dist-packages/librosa/core/time_frequency.py:1006: RuntimeWarning: divide by zero encountered in log10\n",
            "  - 0.5 * np.log10(f_sq + const[3]))\n"
          ],
          "name": "stderr"
        },
        {
          "output_type": "stream",
          "text": [
            "0003 / 1600 | drive/My Drive/AudioTaggerData/FSDKaggle2018.audio_test/9958521a.wav\n"
          ],
          "name": "stdout"
        },
        {
          "output_type": "stream",
          "text": [
            "/usr/local/lib/python3.6/dist-packages/librosa/core/time_frequency.py:1006: RuntimeWarning: divide by zero encountered in log10\n",
            "  - 0.5 * np.log10(f_sq + const[3]))\n"
          ],
          "name": "stderr"
        },
        {
          "output_type": "stream",
          "text": [
            "0004 / 1600 | drive/My Drive/AudioTaggerData/FSDKaggle2018.audio_test/b99c77a5.wav\n"
          ],
          "name": "stdout"
        },
        {
          "output_type": "stream",
          "text": [
            "/usr/local/lib/python3.6/dist-packages/librosa/core/time_frequency.py:1006: RuntimeWarning: divide by zero encountered in log10\n",
            "  - 0.5 * np.log10(f_sq + const[3]))\n"
          ],
          "name": "stderr"
        },
        {
          "output_type": "stream",
          "text": [
            "0005 / 1600 | drive/My Drive/AudioTaggerData/FSDKaggle2018.audio_test/22f70afe.wav\n"
          ],
          "name": "stdout"
        },
        {
          "output_type": "stream",
          "text": [
            "/usr/local/lib/python3.6/dist-packages/librosa/core/time_frequency.py:1006: RuntimeWarning: divide by zero encountered in log10\n",
            "  - 0.5 * np.log10(f_sq + const[3]))\n"
          ],
          "name": "stderr"
        },
        {
          "output_type": "stream",
          "text": [
            "0006 / 1600 | drive/My Drive/AudioTaggerData/FSDKaggle2018.audio_test/78d550c4.wav\n"
          ],
          "name": "stdout"
        },
        {
          "output_type": "stream",
          "text": [
            "/usr/local/lib/python3.6/dist-packages/librosa/core/time_frequency.py:1006: RuntimeWarning: divide by zero encountered in log10\n",
            "  - 0.5 * np.log10(f_sq + const[3]))\n"
          ],
          "name": "stderr"
        },
        {
          "output_type": "stream",
          "text": [
            "0007 / 1600 | drive/My Drive/AudioTaggerData/FSDKaggle2018.audio_test/5b7c331b.wav\n"
          ],
          "name": "stdout"
        },
        {
          "output_type": "stream",
          "text": [
            "/usr/local/lib/python3.6/dist-packages/librosa/core/time_frequency.py:1006: RuntimeWarning: divide by zero encountered in log10\n",
            "  - 0.5 * np.log10(f_sq + const[3]))\n"
          ],
          "name": "stderr"
        },
        {
          "output_type": "stream",
          "text": [
            "0008 / 1600 | drive/My Drive/AudioTaggerData/FSDKaggle2018.audio_test/3831e47e.wav\n"
          ],
          "name": "stdout"
        },
        {
          "output_type": "stream",
          "text": [
            "/usr/local/lib/python3.6/dist-packages/librosa/core/time_frequency.py:1006: RuntimeWarning: divide by zero encountered in log10\n",
            "  - 0.5 * np.log10(f_sq + const[3]))\n"
          ],
          "name": "stderr"
        },
        {
          "output_type": "stream",
          "text": [
            "0009 / 1600 | drive/My Drive/AudioTaggerData/FSDKaggle2018.audio_test/be7277bc.wav\n"
          ],
          "name": "stdout"
        },
        {
          "output_type": "stream",
          "text": [
            "/usr/local/lib/python3.6/dist-packages/librosa/core/time_frequency.py:1006: RuntimeWarning: divide by zero encountered in log10\n",
            "  - 0.5 * np.log10(f_sq + const[3]))\n"
          ],
          "name": "stderr"
        },
        {
          "output_type": "stream",
          "text": [
            "0010 / 1600 | drive/My Drive/AudioTaggerData/FSDKaggle2018.audio_test/996e7bd3.wav\n"
          ],
          "name": "stdout"
        },
        {
          "output_type": "stream",
          "text": [
            "/usr/local/lib/python3.6/dist-packages/librosa/core/time_frequency.py:1006: RuntimeWarning: divide by zero encountered in log10\n",
            "  - 0.5 * np.log10(f_sq + const[3]))\n"
          ],
          "name": "stderr"
        },
        {
          "output_type": "stream",
          "text": [
            "0011 / 1600 | drive/My Drive/AudioTaggerData/FSDKaggle2018.audio_test/0c91a6b2.wav\n"
          ],
          "name": "stdout"
        },
        {
          "output_type": "stream",
          "text": [
            "/usr/local/lib/python3.6/dist-packages/librosa/core/time_frequency.py:1006: RuntimeWarning: divide by zero encountered in log10\n",
            "  - 0.5 * np.log10(f_sq + const[3]))\n"
          ],
          "name": "stderr"
        },
        {
          "output_type": "stream",
          "text": [
            "0012 / 1600 | drive/My Drive/AudioTaggerData/FSDKaggle2018.audio_test/de1246d6.wav\n"
          ],
          "name": "stdout"
        },
        {
          "output_type": "stream",
          "text": [
            "/usr/local/lib/python3.6/dist-packages/librosa/core/time_frequency.py:1006: RuntimeWarning: divide by zero encountered in log10\n",
            "  - 0.5 * np.log10(f_sq + const[3]))\n"
          ],
          "name": "stderr"
        },
        {
          "output_type": "stream",
          "text": [
            "0013 / 1600 | drive/My Drive/AudioTaggerData/FSDKaggle2018.audio_test/299606e0.wav\n"
          ],
          "name": "stdout"
        },
        {
          "output_type": "stream",
          "text": [
            "/usr/local/lib/python3.6/dist-packages/librosa/core/time_frequency.py:1006: RuntimeWarning: divide by zero encountered in log10\n",
            "  - 0.5 * np.log10(f_sq + const[3]))\n"
          ],
          "name": "stderr"
        },
        {
          "output_type": "stream",
          "text": [
            "0014 / 1600 | drive/My Drive/AudioTaggerData/FSDKaggle2018.audio_test/b16f66a5.wav\n"
          ],
          "name": "stdout"
        },
        {
          "output_type": "stream",
          "text": [
            "/usr/local/lib/python3.6/dist-packages/librosa/core/time_frequency.py:1006: RuntimeWarning: divide by zero encountered in log10\n",
            "  - 0.5 * np.log10(f_sq + const[3]))\n"
          ],
          "name": "stderr"
        },
        {
          "output_type": "stream",
          "text": [
            "0015 / 1600 | drive/My Drive/AudioTaggerData/FSDKaggle2018.audio_test/c3c0d19a.wav\n"
          ],
          "name": "stdout"
        },
        {
          "output_type": "stream",
          "text": [
            "/usr/local/lib/python3.6/dist-packages/librosa/core/time_frequency.py:1006: RuntimeWarning: divide by zero encountered in log10\n",
            "  - 0.5 * np.log10(f_sq + const[3]))\n"
          ],
          "name": "stderr"
        },
        {
          "output_type": "stream",
          "text": [
            "0016 / 1600 | drive/My Drive/AudioTaggerData/FSDKaggle2018.audio_test/028db587.wav\n"
          ],
          "name": "stdout"
        },
        {
          "output_type": "stream",
          "text": [
            "/usr/local/lib/python3.6/dist-packages/librosa/core/time_frequency.py:1006: RuntimeWarning: divide by zero encountered in log10\n",
            "  - 0.5 * np.log10(f_sq + const[3]))\n"
          ],
          "name": "stderr"
        },
        {
          "output_type": "stream",
          "text": [
            "0017 / 1600 | drive/My Drive/AudioTaggerData/FSDKaggle2018.audio_test/f0ccf0ad.wav\n"
          ],
          "name": "stdout"
        },
        {
          "output_type": "stream",
          "text": [
            "/usr/local/lib/python3.6/dist-packages/librosa/core/time_frequency.py:1006: RuntimeWarning: divide by zero encountered in log10\n",
            "  - 0.5 * np.log10(f_sq + const[3]))\n"
          ],
          "name": "stderr"
        },
        {
          "output_type": "stream",
          "text": [
            "0018 / 1600 | drive/My Drive/AudioTaggerData/FSDKaggle2018.audio_test/bea3dcfa.wav\n"
          ],
          "name": "stdout"
        },
        {
          "output_type": "stream",
          "text": [
            "/usr/local/lib/python3.6/dist-packages/librosa/core/time_frequency.py:1006: RuntimeWarning: divide by zero encountered in log10\n",
            "  - 0.5 * np.log10(f_sq + const[3]))\n"
          ],
          "name": "stderr"
        },
        {
          "output_type": "stream",
          "text": [
            "0019 / 1600 | drive/My Drive/AudioTaggerData/FSDKaggle2018.audio_test/5da19fab.wav\n"
          ],
          "name": "stdout"
        },
        {
          "output_type": "stream",
          "text": [
            "/usr/local/lib/python3.6/dist-packages/librosa/core/time_frequency.py:1006: RuntimeWarning: divide by zero encountered in log10\n",
            "  - 0.5 * np.log10(f_sq + const[3]))\n"
          ],
          "name": "stderr"
        },
        {
          "output_type": "stream",
          "text": [
            "0020 / 1600 | drive/My Drive/AudioTaggerData/FSDKaggle2018.audio_test/e9938792.wav\n"
          ],
          "name": "stdout"
        },
        {
          "output_type": "stream",
          "text": [
            "/usr/local/lib/python3.6/dist-packages/librosa/core/time_frequency.py:1006: RuntimeWarning: divide by zero encountered in log10\n",
            "  - 0.5 * np.log10(f_sq + const[3]))\n"
          ],
          "name": "stderr"
        },
        {
          "output_type": "stream",
          "text": [
            "0021 / 1600 | drive/My Drive/AudioTaggerData/FSDKaggle2018.audio_test/361c028f.wav\n"
          ],
          "name": "stdout"
        },
        {
          "output_type": "stream",
          "text": [
            "/usr/local/lib/python3.6/dist-packages/librosa/core/time_frequency.py:1006: RuntimeWarning: divide by zero encountered in log10\n",
            "  - 0.5 * np.log10(f_sq + const[3]))\n"
          ],
          "name": "stderr"
        },
        {
          "output_type": "stream",
          "text": [
            "0022 / 1600 | drive/My Drive/AudioTaggerData/FSDKaggle2018.audio_test/4e8087bd.wav\n"
          ],
          "name": "stdout"
        },
        {
          "output_type": "stream",
          "text": [
            "/usr/local/lib/python3.6/dist-packages/librosa/core/time_frequency.py:1006: RuntimeWarning: divide by zero encountered in log10\n",
            "  - 0.5 * np.log10(f_sq + const[3]))\n"
          ],
          "name": "stderr"
        },
        {
          "output_type": "stream",
          "text": [
            "0023 / 1600 | drive/My Drive/AudioTaggerData/FSDKaggle2018.audio_test/4e2885b5.wav\n"
          ],
          "name": "stdout"
        },
        {
          "output_type": "stream",
          "text": [
            "/usr/local/lib/python3.6/dist-packages/librosa/core/time_frequency.py:1006: RuntimeWarning: divide by zero encountered in log10\n",
            "  - 0.5 * np.log10(f_sq + const[3]))\n"
          ],
          "name": "stderr"
        },
        {
          "output_type": "stream",
          "text": [
            "0024 / 1600 | drive/My Drive/AudioTaggerData/FSDKaggle2018.audio_test/c3850244.wav\n"
          ],
          "name": "stdout"
        },
        {
          "output_type": "stream",
          "text": [
            "/usr/local/lib/python3.6/dist-packages/librosa/core/time_frequency.py:1006: RuntimeWarning: divide by zero encountered in log10\n",
            "  - 0.5 * np.log10(f_sq + const[3]))\n"
          ],
          "name": "stderr"
        },
        {
          "output_type": "stream",
          "text": [
            "0025 / 1600 | drive/My Drive/AudioTaggerData/FSDKaggle2018.audio_test/b4e8b943.wav\n"
          ],
          "name": "stdout"
        },
        {
          "output_type": "stream",
          "text": [
            "/usr/local/lib/python3.6/dist-packages/librosa/core/time_frequency.py:1006: RuntimeWarning: divide by zero encountered in log10\n",
            "  - 0.5 * np.log10(f_sq + const[3]))\n"
          ],
          "name": "stderr"
        },
        {
          "output_type": "stream",
          "text": [
            "0026 / 1600 | drive/My Drive/AudioTaggerData/FSDKaggle2018.audio_test/9569780a.wav\n"
          ],
          "name": "stdout"
        },
        {
          "output_type": "stream",
          "text": [
            "/usr/local/lib/python3.6/dist-packages/librosa/core/time_frequency.py:1006: RuntimeWarning: divide by zero encountered in log10\n",
            "  - 0.5 * np.log10(f_sq + const[3]))\n"
          ],
          "name": "stderr"
        },
        {
          "output_type": "stream",
          "text": [
            "0027 / 1600 | drive/My Drive/AudioTaggerData/FSDKaggle2018.audio_test/9476d6c4.wav\n"
          ],
          "name": "stdout"
        },
        {
          "output_type": "stream",
          "text": [
            "/usr/local/lib/python3.6/dist-packages/librosa/core/time_frequency.py:1006: RuntimeWarning: divide by zero encountered in log10\n",
            "  - 0.5 * np.log10(f_sq + const[3]))\n"
          ],
          "name": "stderr"
        },
        {
          "output_type": "stream",
          "text": [
            "0028 / 1600 | drive/My Drive/AudioTaggerData/FSDKaggle2018.audio_test/05723b3a.wav\n"
          ],
          "name": "stdout"
        },
        {
          "output_type": "stream",
          "text": [
            "/usr/local/lib/python3.6/dist-packages/librosa/core/time_frequency.py:1006: RuntimeWarning: divide by zero encountered in log10\n",
            "  - 0.5 * np.log10(f_sq + const[3]))\n"
          ],
          "name": "stderr"
        },
        {
          "output_type": "stream",
          "text": [
            "0029 / 1600 | drive/My Drive/AudioTaggerData/FSDKaggle2018.audio_test/e9b6db58.wav\n"
          ],
          "name": "stdout"
        },
        {
          "output_type": "stream",
          "text": [
            "/usr/local/lib/python3.6/dist-packages/librosa/core/time_frequency.py:1006: RuntimeWarning: divide by zero encountered in log10\n",
            "  - 0.5 * np.log10(f_sq + const[3]))\n"
          ],
          "name": "stderr"
        },
        {
          "output_type": "stream",
          "text": [
            "0030 / 1600 | drive/My Drive/AudioTaggerData/FSDKaggle2018.audio_test/932395f6.wav\n"
          ],
          "name": "stdout"
        },
        {
          "output_type": "stream",
          "text": [
            "/usr/local/lib/python3.6/dist-packages/librosa/core/time_frequency.py:1006: RuntimeWarning: divide by zero encountered in log10\n",
            "  - 0.5 * np.log10(f_sq + const[3]))\n"
          ],
          "name": "stderr"
        },
        {
          "output_type": "stream",
          "text": [
            "0031 / 1600 | drive/My Drive/AudioTaggerData/FSDKaggle2018.audio_test/6aaffcf2.wav\n"
          ],
          "name": "stdout"
        },
        {
          "output_type": "stream",
          "text": [
            "/usr/local/lib/python3.6/dist-packages/librosa/core/time_frequency.py:1006: RuntimeWarning: divide by zero encountered in log10\n",
            "  - 0.5 * np.log10(f_sq + const[3]))\n"
          ],
          "name": "stderr"
        },
        {
          "output_type": "stream",
          "text": [
            "0032 / 1600 | drive/My Drive/AudioTaggerData/FSDKaggle2018.audio_test/719a68f7.wav\n"
          ],
          "name": "stdout"
        },
        {
          "output_type": "stream",
          "text": [
            "/usr/local/lib/python3.6/dist-packages/librosa/core/time_frequency.py:1006: RuntimeWarning: divide by zero encountered in log10\n",
            "  - 0.5 * np.log10(f_sq + const[3]))\n"
          ],
          "name": "stderr"
        },
        {
          "output_type": "stream",
          "text": [
            "0033 / 1600 | drive/My Drive/AudioTaggerData/FSDKaggle2018.audio_test/07c95625.wav\n"
          ],
          "name": "stdout"
        },
        {
          "output_type": "stream",
          "text": [
            "/usr/local/lib/python3.6/dist-packages/librosa/core/time_frequency.py:1006: RuntimeWarning: divide by zero encountered in log10\n",
            "  - 0.5 * np.log10(f_sq + const[3]))\n"
          ],
          "name": "stderr"
        },
        {
          "output_type": "stream",
          "text": [
            "0034 / 1600 | drive/My Drive/AudioTaggerData/FSDKaggle2018.audio_test/a84e442a.wav\n"
          ],
          "name": "stdout"
        },
        {
          "output_type": "stream",
          "text": [
            "/usr/local/lib/python3.6/dist-packages/librosa/core/time_frequency.py:1006: RuntimeWarning: divide by zero encountered in log10\n",
            "  - 0.5 * np.log10(f_sq + const[3]))\n"
          ],
          "name": "stderr"
        },
        {
          "output_type": "stream",
          "text": [
            "0035 / 1600 | drive/My Drive/AudioTaggerData/FSDKaggle2018.audio_test/66444640.wav\n"
          ],
          "name": "stdout"
        },
        {
          "output_type": "stream",
          "text": [
            "/usr/local/lib/python3.6/dist-packages/librosa/core/time_frequency.py:1006: RuntimeWarning: divide by zero encountered in log10\n",
            "  - 0.5 * np.log10(f_sq + const[3]))\n"
          ],
          "name": "stderr"
        },
        {
          "output_type": "stream",
          "text": [
            "0036 / 1600 | drive/My Drive/AudioTaggerData/FSDKaggle2018.audio_test/c47b9a51.wav\n"
          ],
          "name": "stdout"
        },
        {
          "output_type": "stream",
          "text": [
            "/usr/local/lib/python3.6/dist-packages/librosa/core/time_frequency.py:1006: RuntimeWarning: divide by zero encountered in log10\n",
            "  - 0.5 * np.log10(f_sq + const[3]))\n"
          ],
          "name": "stderr"
        },
        {
          "output_type": "stream",
          "text": [
            "0037 / 1600 | drive/My Drive/AudioTaggerData/FSDKaggle2018.audio_test/96a0eea4.wav\n"
          ],
          "name": "stdout"
        },
        {
          "output_type": "stream",
          "text": [
            "/usr/local/lib/python3.6/dist-packages/librosa/core/time_frequency.py:1006: RuntimeWarning: divide by zero encountered in log10\n",
            "  - 0.5 * np.log10(f_sq + const[3]))\n"
          ],
          "name": "stderr"
        },
        {
          "output_type": "stream",
          "text": [
            "0038 / 1600 | drive/My Drive/AudioTaggerData/FSDKaggle2018.audio_test/64319f9a.wav\n"
          ],
          "name": "stdout"
        },
        {
          "output_type": "stream",
          "text": [
            "/usr/local/lib/python3.6/dist-packages/librosa/core/time_frequency.py:1006: RuntimeWarning: divide by zero encountered in log10\n",
            "  - 0.5 * np.log10(f_sq + const[3]))\n"
          ],
          "name": "stderr"
        },
        {
          "output_type": "stream",
          "text": [
            "0039 / 1600 | drive/My Drive/AudioTaggerData/FSDKaggle2018.audio_test/22025272.wav\n"
          ],
          "name": "stdout"
        },
        {
          "output_type": "stream",
          "text": [
            "/usr/local/lib/python3.6/dist-packages/librosa/core/time_frequency.py:1006: RuntimeWarning: divide by zero encountered in log10\n",
            "  - 0.5 * np.log10(f_sq + const[3]))\n"
          ],
          "name": "stderr"
        },
        {
          "output_type": "stream",
          "text": [
            "0040 / 1600 | drive/My Drive/AudioTaggerData/FSDKaggle2018.audio_test/b80565b4.wav\n"
          ],
          "name": "stdout"
        },
        {
          "output_type": "stream",
          "text": [
            "/usr/local/lib/python3.6/dist-packages/librosa/core/time_frequency.py:1006: RuntimeWarning: divide by zero encountered in log10\n",
            "  - 0.5 * np.log10(f_sq + const[3]))\n"
          ],
          "name": "stderr"
        },
        {
          "output_type": "stream",
          "text": [
            "0041 / 1600 | drive/My Drive/AudioTaggerData/FSDKaggle2018.audio_test/cfadac1f.wav\n"
          ],
          "name": "stdout"
        },
        {
          "output_type": "stream",
          "text": [
            "/usr/local/lib/python3.6/dist-packages/librosa/core/time_frequency.py:1006: RuntimeWarning: divide by zero encountered in log10\n",
            "  - 0.5 * np.log10(f_sq + const[3]))\n"
          ],
          "name": "stderr"
        },
        {
          "output_type": "stream",
          "text": [
            "0042 / 1600 | drive/My Drive/AudioTaggerData/FSDKaggle2018.audio_test/c9e0c8d1.wav\n"
          ],
          "name": "stdout"
        },
        {
          "output_type": "stream",
          "text": [
            "/usr/local/lib/python3.6/dist-packages/librosa/core/time_frequency.py:1006: RuntimeWarning: divide by zero encountered in log10\n",
            "  - 0.5 * np.log10(f_sq + const[3]))\n"
          ],
          "name": "stderr"
        },
        {
          "output_type": "stream",
          "text": [
            "0043 / 1600 | drive/My Drive/AudioTaggerData/FSDKaggle2018.audio_test/523f63b1.wav\n"
          ],
          "name": "stdout"
        },
        {
          "output_type": "stream",
          "text": [
            "/usr/local/lib/python3.6/dist-packages/librosa/core/time_frequency.py:1006: RuntimeWarning: divide by zero encountered in log10\n",
            "  - 0.5 * np.log10(f_sq + const[3]))\n"
          ],
          "name": "stderr"
        },
        {
          "output_type": "stream",
          "text": [
            "0044 / 1600 | drive/My Drive/AudioTaggerData/FSDKaggle2018.audio_test/3e810d62.wav\n"
          ],
          "name": "stdout"
        },
        {
          "output_type": "stream",
          "text": [
            "/usr/local/lib/python3.6/dist-packages/librosa/core/time_frequency.py:1006: RuntimeWarning: divide by zero encountered in log10\n",
            "  - 0.5 * np.log10(f_sq + const[3]))\n"
          ],
          "name": "stderr"
        },
        {
          "output_type": "stream",
          "text": [
            "0045 / 1600 | drive/My Drive/AudioTaggerData/FSDKaggle2018.audio_test/7251fb2f.wav\n"
          ],
          "name": "stdout"
        },
        {
          "output_type": "stream",
          "text": [
            "/usr/local/lib/python3.6/dist-packages/librosa/core/time_frequency.py:1006: RuntimeWarning: divide by zero encountered in log10\n",
            "  - 0.5 * np.log10(f_sq + const[3]))\n"
          ],
          "name": "stderr"
        },
        {
          "output_type": "stream",
          "text": [
            "0046 / 1600 | drive/My Drive/AudioTaggerData/FSDKaggle2018.audio_test/706a2d68.wav\n"
          ],
          "name": "stdout"
        },
        {
          "output_type": "stream",
          "text": [
            "/usr/local/lib/python3.6/dist-packages/librosa/core/time_frequency.py:1006: RuntimeWarning: divide by zero encountered in log10\n",
            "  - 0.5 * np.log10(f_sq + const[3]))\n"
          ],
          "name": "stderr"
        },
        {
          "output_type": "stream",
          "text": [
            "0047 / 1600 | drive/My Drive/AudioTaggerData/FSDKaggle2018.audio_test/d0a1d8f7.wav\n"
          ],
          "name": "stdout"
        },
        {
          "output_type": "stream",
          "text": [
            "/usr/local/lib/python3.6/dist-packages/librosa/core/time_frequency.py:1006: RuntimeWarning: divide by zero encountered in log10\n",
            "  - 0.5 * np.log10(f_sq + const[3]))\n"
          ],
          "name": "stderr"
        },
        {
          "output_type": "stream",
          "text": [
            "0048 / 1600 | drive/My Drive/AudioTaggerData/FSDKaggle2018.audio_test/523f818d.wav\n"
          ],
          "name": "stdout"
        },
        {
          "output_type": "stream",
          "text": [
            "/usr/local/lib/python3.6/dist-packages/librosa/core/time_frequency.py:1006: RuntimeWarning: divide by zero encountered in log10\n",
            "  - 0.5 * np.log10(f_sq + const[3]))\n"
          ],
          "name": "stderr"
        },
        {
          "output_type": "stream",
          "text": [
            "0049 / 1600 | drive/My Drive/AudioTaggerData/FSDKaggle2018.audio_test/1472c52c.wav\n"
          ],
          "name": "stdout"
        },
        {
          "output_type": "stream",
          "text": [
            "/usr/local/lib/python3.6/dist-packages/librosa/core/time_frequency.py:1006: RuntimeWarning: divide by zero encountered in log10\n",
            "  - 0.5 * np.log10(f_sq + const[3]))\n"
          ],
          "name": "stderr"
        },
        {
          "output_type": "stream",
          "text": [
            "0050 / 1600 | drive/My Drive/AudioTaggerData/FSDKaggle2018.audio_test/c0b5ac20.wav\n"
          ],
          "name": "stdout"
        },
        {
          "output_type": "stream",
          "text": [
            "/usr/local/lib/python3.6/dist-packages/librosa/core/time_frequency.py:1006: RuntimeWarning: divide by zero encountered in log10\n",
            "  - 0.5 * np.log10(f_sq + const[3]))\n"
          ],
          "name": "stderr"
        },
        {
          "output_type": "stream",
          "text": [
            "0051 / 1600 | drive/My Drive/AudioTaggerData/FSDKaggle2018.audio_test/b124d6f9.wav\n"
          ],
          "name": "stdout"
        },
        {
          "output_type": "stream",
          "text": [
            "/usr/local/lib/python3.6/dist-packages/librosa/core/time_frequency.py:1006: RuntimeWarning: divide by zero encountered in log10\n",
            "  - 0.5 * np.log10(f_sq + const[3]))\n"
          ],
          "name": "stderr"
        },
        {
          "output_type": "stream",
          "text": [
            "0052 / 1600 | drive/My Drive/AudioTaggerData/FSDKaggle2018.audio_test/1692752a.wav\n"
          ],
          "name": "stdout"
        },
        {
          "output_type": "stream",
          "text": [
            "/usr/local/lib/python3.6/dist-packages/librosa/core/time_frequency.py:1006: RuntimeWarning: divide by zero encountered in log10\n",
            "  - 0.5 * np.log10(f_sq + const[3]))\n"
          ],
          "name": "stderr"
        },
        {
          "output_type": "stream",
          "text": [
            "0053 / 1600 | drive/My Drive/AudioTaggerData/FSDKaggle2018.audio_test/9275c40a.wav\n"
          ],
          "name": "stdout"
        },
        {
          "output_type": "stream",
          "text": [
            "/usr/local/lib/python3.6/dist-packages/librosa/core/time_frequency.py:1006: RuntimeWarning: divide by zero encountered in log10\n",
            "  - 0.5 * np.log10(f_sq + const[3]))\n"
          ],
          "name": "stderr"
        },
        {
          "output_type": "stream",
          "text": [
            "0054 / 1600 | drive/My Drive/AudioTaggerData/FSDKaggle2018.audio_test/f8eadaaf.wav\n"
          ],
          "name": "stdout"
        },
        {
          "output_type": "stream",
          "text": [
            "/usr/local/lib/python3.6/dist-packages/librosa/core/time_frequency.py:1006: RuntimeWarning: divide by zero encountered in log10\n",
            "  - 0.5 * np.log10(f_sq + const[3]))\n"
          ],
          "name": "stderr"
        },
        {
          "output_type": "stream",
          "text": [
            "0055 / 1600 | drive/My Drive/AudioTaggerData/FSDKaggle2018.audio_test/cc8a484c.wav\n"
          ],
          "name": "stdout"
        },
        {
          "output_type": "stream",
          "text": [
            "/usr/local/lib/python3.6/dist-packages/librosa/core/time_frequency.py:1006: RuntimeWarning: divide by zero encountered in log10\n",
            "  - 0.5 * np.log10(f_sq + const[3]))\n"
          ],
          "name": "stderr"
        },
        {
          "output_type": "stream",
          "text": [
            "0056 / 1600 | drive/My Drive/AudioTaggerData/FSDKaggle2018.audio_test/d86acdda.wav\n"
          ],
          "name": "stdout"
        },
        {
          "output_type": "stream",
          "text": [
            "/usr/local/lib/python3.6/dist-packages/librosa/core/time_frequency.py:1006: RuntimeWarning: divide by zero encountered in log10\n",
            "  - 0.5 * np.log10(f_sq + const[3]))\n"
          ],
          "name": "stderr"
        },
        {
          "output_type": "stream",
          "text": [
            "0057 / 1600 | drive/My Drive/AudioTaggerData/FSDKaggle2018.audio_test/1f3856c2.wav\n"
          ],
          "name": "stdout"
        },
        {
          "output_type": "stream",
          "text": [
            "/usr/local/lib/python3.6/dist-packages/librosa/core/time_frequency.py:1006: RuntimeWarning: divide by zero encountered in log10\n",
            "  - 0.5 * np.log10(f_sq + const[3]))\n"
          ],
          "name": "stderr"
        },
        {
          "output_type": "stream",
          "text": [
            "0058 / 1600 | drive/My Drive/AudioTaggerData/FSDKaggle2018.audio_test/b6dc900b.wav\n"
          ],
          "name": "stdout"
        },
        {
          "output_type": "stream",
          "text": [
            "/usr/local/lib/python3.6/dist-packages/librosa/core/time_frequency.py:1006: RuntimeWarning: divide by zero encountered in log10\n",
            "  - 0.5 * np.log10(f_sq + const[3]))\n"
          ],
          "name": "stderr"
        },
        {
          "output_type": "stream",
          "text": [
            "0059 / 1600 | drive/My Drive/AudioTaggerData/FSDKaggle2018.audio_test/80158b0d.wav\n"
          ],
          "name": "stdout"
        },
        {
          "output_type": "stream",
          "text": [
            "/usr/local/lib/python3.6/dist-packages/librosa/core/time_frequency.py:1006: RuntimeWarning: divide by zero encountered in log10\n",
            "  - 0.5 * np.log10(f_sq + const[3]))\n"
          ],
          "name": "stderr"
        },
        {
          "output_type": "stream",
          "text": [
            "0060 / 1600 | drive/My Drive/AudioTaggerData/FSDKaggle2018.audio_test/0459ee65.wav\n"
          ],
          "name": "stdout"
        },
        {
          "output_type": "stream",
          "text": [
            "/usr/local/lib/python3.6/dist-packages/librosa/core/time_frequency.py:1006: RuntimeWarning: divide by zero encountered in log10\n",
            "  - 0.5 * np.log10(f_sq + const[3]))\n"
          ],
          "name": "stderr"
        },
        {
          "output_type": "stream",
          "text": [
            "0061 / 1600 | drive/My Drive/AudioTaggerData/FSDKaggle2018.audio_test/ce6859a8.wav\n"
          ],
          "name": "stdout"
        },
        {
          "output_type": "stream",
          "text": [
            "/usr/local/lib/python3.6/dist-packages/librosa/core/time_frequency.py:1006: RuntimeWarning: divide by zero encountered in log10\n",
            "  - 0.5 * np.log10(f_sq + const[3]))\n"
          ],
          "name": "stderr"
        },
        {
          "output_type": "stream",
          "text": [
            "0062 / 1600 | drive/My Drive/AudioTaggerData/FSDKaggle2018.audio_test/e45de6c1.wav\n"
          ],
          "name": "stdout"
        },
        {
          "output_type": "stream",
          "text": [
            "/usr/local/lib/python3.6/dist-packages/librosa/core/time_frequency.py:1006: RuntimeWarning: divide by zero encountered in log10\n",
            "  - 0.5 * np.log10(f_sq + const[3]))\n"
          ],
          "name": "stderr"
        },
        {
          "output_type": "stream",
          "text": [
            "0063 / 1600 | drive/My Drive/AudioTaggerData/FSDKaggle2018.audio_test/60307496.wav\n"
          ],
          "name": "stdout"
        },
        {
          "output_type": "stream",
          "text": [
            "/usr/local/lib/python3.6/dist-packages/librosa/core/time_frequency.py:1006: RuntimeWarning: divide by zero encountered in log10\n",
            "  - 0.5 * np.log10(f_sq + const[3]))\n"
          ],
          "name": "stderr"
        },
        {
          "output_type": "stream",
          "text": [
            "0064 / 1600 | drive/My Drive/AudioTaggerData/FSDKaggle2018.audio_test/d5f8a25d.wav\n"
          ],
          "name": "stdout"
        },
        {
          "output_type": "stream",
          "text": [
            "/usr/local/lib/python3.6/dist-packages/librosa/core/time_frequency.py:1006: RuntimeWarning: divide by zero encountered in log10\n",
            "  - 0.5 * np.log10(f_sq + const[3]))\n"
          ],
          "name": "stderr"
        },
        {
          "output_type": "stream",
          "text": [
            "0065 / 1600 | drive/My Drive/AudioTaggerData/FSDKaggle2018.audio_test/7a21d4ba.wav\n"
          ],
          "name": "stdout"
        },
        {
          "output_type": "stream",
          "text": [
            "/usr/local/lib/python3.6/dist-packages/librosa/core/time_frequency.py:1006: RuntimeWarning: divide by zero encountered in log10\n",
            "  - 0.5 * np.log10(f_sq + const[3]))\n"
          ],
          "name": "stderr"
        },
        {
          "output_type": "stream",
          "text": [
            "0066 / 1600 | drive/My Drive/AudioTaggerData/FSDKaggle2018.audio_test/d5ab8880.wav\n"
          ],
          "name": "stdout"
        },
        {
          "output_type": "stream",
          "text": [
            "/usr/local/lib/python3.6/dist-packages/librosa/core/time_frequency.py:1006: RuntimeWarning: divide by zero encountered in log10\n",
            "  - 0.5 * np.log10(f_sq + const[3]))\n"
          ],
          "name": "stderr"
        },
        {
          "output_type": "stream",
          "text": [
            "0067 / 1600 | drive/My Drive/AudioTaggerData/FSDKaggle2018.audio_test/7b851138.wav\n"
          ],
          "name": "stdout"
        },
        {
          "output_type": "stream",
          "text": [
            "/usr/local/lib/python3.6/dist-packages/librosa/core/time_frequency.py:1006: RuntimeWarning: divide by zero encountered in log10\n",
            "  - 0.5 * np.log10(f_sq + const[3]))\n"
          ],
          "name": "stderr"
        },
        {
          "output_type": "stream",
          "text": [
            "0068 / 1600 | drive/My Drive/AudioTaggerData/FSDKaggle2018.audio_test/a1d1c681.wav\n"
          ],
          "name": "stdout"
        },
        {
          "output_type": "stream",
          "text": [
            "/usr/local/lib/python3.6/dist-packages/librosa/core/time_frequency.py:1006: RuntimeWarning: divide by zero encountered in log10\n",
            "  - 0.5 * np.log10(f_sq + const[3]))\n"
          ],
          "name": "stderr"
        },
        {
          "output_type": "stream",
          "text": [
            "0069 / 1600 | drive/My Drive/AudioTaggerData/FSDKaggle2018.audio_test/158a30ac.wav\n"
          ],
          "name": "stdout"
        },
        {
          "output_type": "stream",
          "text": [
            "/usr/local/lib/python3.6/dist-packages/librosa/core/time_frequency.py:1006: RuntimeWarning: divide by zero encountered in log10\n",
            "  - 0.5 * np.log10(f_sq + const[3]))\n"
          ],
          "name": "stderr"
        },
        {
          "output_type": "stream",
          "text": [
            "0070 / 1600 | drive/My Drive/AudioTaggerData/FSDKaggle2018.audio_test/e06b1539.wav\n"
          ],
          "name": "stdout"
        },
        {
          "output_type": "stream",
          "text": [
            "/usr/local/lib/python3.6/dist-packages/librosa/core/time_frequency.py:1006: RuntimeWarning: divide by zero encountered in log10\n",
            "  - 0.5 * np.log10(f_sq + const[3]))\n"
          ],
          "name": "stderr"
        },
        {
          "output_type": "stream",
          "text": [
            "0071 / 1600 | drive/My Drive/AudioTaggerData/FSDKaggle2018.audio_test/899b27fc.wav\n"
          ],
          "name": "stdout"
        },
        {
          "output_type": "stream",
          "text": [
            "/usr/local/lib/python3.6/dist-packages/librosa/core/time_frequency.py:1006: RuntimeWarning: divide by zero encountered in log10\n",
            "  - 0.5 * np.log10(f_sq + const[3]))\n"
          ],
          "name": "stderr"
        },
        {
          "output_type": "stream",
          "text": [
            "0072 / 1600 | drive/My Drive/AudioTaggerData/FSDKaggle2018.audio_test/ca23f652.wav\n"
          ],
          "name": "stdout"
        },
        {
          "output_type": "stream",
          "text": [
            "/usr/local/lib/python3.6/dist-packages/librosa/core/time_frequency.py:1006: RuntimeWarning: divide by zero encountered in log10\n",
            "  - 0.5 * np.log10(f_sq + const[3]))\n"
          ],
          "name": "stderr"
        },
        {
          "output_type": "stream",
          "text": [
            "0073 / 1600 | drive/My Drive/AudioTaggerData/FSDKaggle2018.audio_test/30a320a3.wav\n"
          ],
          "name": "stdout"
        },
        {
          "output_type": "stream",
          "text": [
            "/usr/local/lib/python3.6/dist-packages/librosa/core/time_frequency.py:1006: RuntimeWarning: divide by zero encountered in log10\n",
            "  - 0.5 * np.log10(f_sq + const[3]))\n"
          ],
          "name": "stderr"
        },
        {
          "output_type": "stream",
          "text": [
            "0074 / 1600 | drive/My Drive/AudioTaggerData/FSDKaggle2018.audio_test/61a2bd86.wav\n"
          ],
          "name": "stdout"
        },
        {
          "output_type": "stream",
          "text": [
            "/usr/local/lib/python3.6/dist-packages/librosa/core/time_frequency.py:1006: RuntimeWarning: divide by zero encountered in log10\n",
            "  - 0.5 * np.log10(f_sq + const[3]))\n"
          ],
          "name": "stderr"
        },
        {
          "output_type": "stream",
          "text": [
            "0075 / 1600 | drive/My Drive/AudioTaggerData/FSDKaggle2018.audio_test/12a0327a.wav\n"
          ],
          "name": "stdout"
        },
        {
          "output_type": "stream",
          "text": [
            "/usr/local/lib/python3.6/dist-packages/librosa/core/time_frequency.py:1006: RuntimeWarning: divide by zero encountered in log10\n",
            "  - 0.5 * np.log10(f_sq + const[3]))\n"
          ],
          "name": "stderr"
        },
        {
          "output_type": "stream",
          "text": [
            "0076 / 1600 | drive/My Drive/AudioTaggerData/FSDKaggle2018.audio_test/daad94be.wav\n"
          ],
          "name": "stdout"
        },
        {
          "output_type": "stream",
          "text": [
            "/usr/local/lib/python3.6/dist-packages/librosa/core/time_frequency.py:1006: RuntimeWarning: divide by zero encountered in log10\n",
            "  - 0.5 * np.log10(f_sq + const[3]))\n"
          ],
          "name": "stderr"
        },
        {
          "output_type": "stream",
          "text": [
            "0077 / 1600 | drive/My Drive/AudioTaggerData/FSDKaggle2018.audio_test/75962078.wav\n"
          ],
          "name": "stdout"
        },
        {
          "output_type": "stream",
          "text": [
            "/usr/local/lib/python3.6/dist-packages/librosa/core/time_frequency.py:1006: RuntimeWarning: divide by zero encountered in log10\n",
            "  - 0.5 * np.log10(f_sq + const[3]))\n"
          ],
          "name": "stderr"
        },
        {
          "output_type": "stream",
          "text": [
            "0078 / 1600 | drive/My Drive/AudioTaggerData/FSDKaggle2018.audio_test/6bb55ddf.wav\n"
          ],
          "name": "stdout"
        },
        {
          "output_type": "stream",
          "text": [
            "/usr/local/lib/python3.6/dist-packages/librosa/core/time_frequency.py:1006: RuntimeWarning: divide by zero encountered in log10\n",
            "  - 0.5 * np.log10(f_sq + const[3]))\n"
          ],
          "name": "stderr"
        },
        {
          "output_type": "stream",
          "text": [
            "0079 / 1600 | drive/My Drive/AudioTaggerData/FSDKaggle2018.audio_test/be09bb9d.wav\n"
          ],
          "name": "stdout"
        },
        {
          "output_type": "stream",
          "text": [
            "/usr/local/lib/python3.6/dist-packages/librosa/core/time_frequency.py:1006: RuntimeWarning: divide by zero encountered in log10\n",
            "  - 0.5 * np.log10(f_sq + const[3]))\n"
          ],
          "name": "stderr"
        },
        {
          "output_type": "stream",
          "text": [
            "0080 / 1600 | drive/My Drive/AudioTaggerData/FSDKaggle2018.audio_test/247a90a0.wav\n"
          ],
          "name": "stdout"
        },
        {
          "output_type": "stream",
          "text": [
            "/usr/local/lib/python3.6/dist-packages/librosa/core/time_frequency.py:1006: RuntimeWarning: divide by zero encountered in log10\n",
            "  - 0.5 * np.log10(f_sq + const[3]))\n"
          ],
          "name": "stderr"
        },
        {
          "output_type": "stream",
          "text": [
            "0081 / 1600 | drive/My Drive/AudioTaggerData/FSDKaggle2018.audio_test/1146e063.wav\n"
          ],
          "name": "stdout"
        },
        {
          "output_type": "stream",
          "text": [
            "/usr/local/lib/python3.6/dist-packages/librosa/core/time_frequency.py:1006: RuntimeWarning: divide by zero encountered in log10\n",
            "  - 0.5 * np.log10(f_sq + const[3]))\n"
          ],
          "name": "stderr"
        },
        {
          "output_type": "stream",
          "text": [
            "0082 / 1600 | drive/My Drive/AudioTaggerData/FSDKaggle2018.audio_test/ba873ba8.wav\n"
          ],
          "name": "stdout"
        },
        {
          "output_type": "stream",
          "text": [
            "/usr/local/lib/python3.6/dist-packages/librosa/core/time_frequency.py:1006: RuntimeWarning: divide by zero encountered in log10\n",
            "  - 0.5 * np.log10(f_sq + const[3]))\n"
          ],
          "name": "stderr"
        },
        {
          "output_type": "stream",
          "text": [
            "0083 / 1600 | drive/My Drive/AudioTaggerData/FSDKaggle2018.audio_test/7b944469.wav\n"
          ],
          "name": "stdout"
        },
        {
          "output_type": "stream",
          "text": [
            "/usr/local/lib/python3.6/dist-packages/librosa/core/time_frequency.py:1006: RuntimeWarning: divide by zero encountered in log10\n",
            "  - 0.5 * np.log10(f_sq + const[3]))\n"
          ],
          "name": "stderr"
        },
        {
          "output_type": "stream",
          "text": [
            "0084 / 1600 | drive/My Drive/AudioTaggerData/FSDKaggle2018.audio_test/f04b9a80.wav\n"
          ],
          "name": "stdout"
        },
        {
          "output_type": "stream",
          "text": [
            "/usr/local/lib/python3.6/dist-packages/librosa/core/time_frequency.py:1006: RuntimeWarning: divide by zero encountered in log10\n",
            "  - 0.5 * np.log10(f_sq + const[3]))\n"
          ],
          "name": "stderr"
        },
        {
          "output_type": "stream",
          "text": [
            "0085 / 1600 | drive/My Drive/AudioTaggerData/FSDKaggle2018.audio_test/856739f7.wav\n"
          ],
          "name": "stdout"
        },
        {
          "output_type": "stream",
          "text": [
            "/usr/local/lib/python3.6/dist-packages/librosa/core/time_frequency.py:1006: RuntimeWarning: divide by zero encountered in log10\n",
            "  - 0.5 * np.log10(f_sq + const[3]))\n"
          ],
          "name": "stderr"
        },
        {
          "output_type": "stream",
          "text": [
            "0086 / 1600 | drive/My Drive/AudioTaggerData/FSDKaggle2018.audio_test/0f53de64.wav\n"
          ],
          "name": "stdout"
        },
        {
          "output_type": "stream",
          "text": [
            "/usr/local/lib/python3.6/dist-packages/librosa/core/time_frequency.py:1006: RuntimeWarning: divide by zero encountered in log10\n",
            "  - 0.5 * np.log10(f_sq + const[3]))\n"
          ],
          "name": "stderr"
        },
        {
          "output_type": "stream",
          "text": [
            "0087 / 1600 | drive/My Drive/AudioTaggerData/FSDKaggle2018.audio_test/17a4e6f1.wav\n"
          ],
          "name": "stdout"
        },
        {
          "output_type": "stream",
          "text": [
            "/usr/local/lib/python3.6/dist-packages/librosa/core/time_frequency.py:1006: RuntimeWarning: divide by zero encountered in log10\n",
            "  - 0.5 * np.log10(f_sq + const[3]))\n"
          ],
          "name": "stderr"
        },
        {
          "output_type": "stream",
          "text": [
            "0088 / 1600 | drive/My Drive/AudioTaggerData/FSDKaggle2018.audio_test/a301c238.wav\n"
          ],
          "name": "stdout"
        },
        {
          "output_type": "stream",
          "text": [
            "/usr/local/lib/python3.6/dist-packages/librosa/core/time_frequency.py:1006: RuntimeWarning: divide by zero encountered in log10\n",
            "  - 0.5 * np.log10(f_sq + const[3]))\n"
          ],
          "name": "stderr"
        },
        {
          "output_type": "stream",
          "text": [
            "0089 / 1600 | drive/My Drive/AudioTaggerData/FSDKaggle2018.audio_test/0f5182eb.wav\n"
          ],
          "name": "stdout"
        },
        {
          "output_type": "stream",
          "text": [
            "/usr/local/lib/python3.6/dist-packages/librosa/core/time_frequency.py:1006: RuntimeWarning: divide by zero encountered in log10\n",
            "  - 0.5 * np.log10(f_sq + const[3]))\n"
          ],
          "name": "stderr"
        },
        {
          "output_type": "stream",
          "text": [
            "0090 / 1600 | drive/My Drive/AudioTaggerData/FSDKaggle2018.audio_test/e934d467.wav\n"
          ],
          "name": "stdout"
        },
        {
          "output_type": "stream",
          "text": [
            "/usr/local/lib/python3.6/dist-packages/librosa/core/time_frequency.py:1006: RuntimeWarning: divide by zero encountered in log10\n",
            "  - 0.5 * np.log10(f_sq + const[3]))\n"
          ],
          "name": "stderr"
        },
        {
          "output_type": "stream",
          "text": [
            "0091 / 1600 | drive/My Drive/AudioTaggerData/FSDKaggle2018.audio_test/782f4030.wav\n"
          ],
          "name": "stdout"
        },
        {
          "output_type": "stream",
          "text": [
            "/usr/local/lib/python3.6/dist-packages/librosa/core/time_frequency.py:1006: RuntimeWarning: divide by zero encountered in log10\n",
            "  - 0.5 * np.log10(f_sq + const[3]))\n"
          ],
          "name": "stderr"
        },
        {
          "output_type": "stream",
          "text": [
            "0092 / 1600 | drive/My Drive/AudioTaggerData/FSDKaggle2018.audio_test/feaffb2e.wav\n"
          ],
          "name": "stdout"
        },
        {
          "output_type": "stream",
          "text": [
            "/usr/local/lib/python3.6/dist-packages/librosa/core/time_frequency.py:1006: RuntimeWarning: divide by zero encountered in log10\n",
            "  - 0.5 * np.log10(f_sq + const[3]))\n"
          ],
          "name": "stderr"
        },
        {
          "output_type": "stream",
          "text": [
            "0093 / 1600 | drive/My Drive/AudioTaggerData/FSDKaggle2018.audio_test/7fd7c943.wav\n"
          ],
          "name": "stdout"
        },
        {
          "output_type": "stream",
          "text": [
            "/usr/local/lib/python3.6/dist-packages/librosa/core/time_frequency.py:1006: RuntimeWarning: divide by zero encountered in log10\n",
            "  - 0.5 * np.log10(f_sq + const[3]))\n"
          ],
          "name": "stderr"
        },
        {
          "output_type": "stream",
          "text": [
            "0094 / 1600 | drive/My Drive/AudioTaggerData/FSDKaggle2018.audio_test/ff81cc5d.wav\n"
          ],
          "name": "stdout"
        },
        {
          "output_type": "stream",
          "text": [
            "/usr/local/lib/python3.6/dist-packages/librosa/core/time_frequency.py:1006: RuntimeWarning: divide by zero encountered in log10\n",
            "  - 0.5 * np.log10(f_sq + const[3]))\n"
          ],
          "name": "stderr"
        },
        {
          "output_type": "stream",
          "text": [
            "0095 / 1600 | drive/My Drive/AudioTaggerData/FSDKaggle2018.audio_test/b66e6cb2.wav\n"
          ],
          "name": "stdout"
        },
        {
          "output_type": "stream",
          "text": [
            "/usr/local/lib/python3.6/dist-packages/librosa/core/time_frequency.py:1006: RuntimeWarning: divide by zero encountered in log10\n",
            "  - 0.5 * np.log10(f_sq + const[3]))\n"
          ],
          "name": "stderr"
        },
        {
          "output_type": "stream",
          "text": [
            "0096 / 1600 | drive/My Drive/AudioTaggerData/FSDKaggle2018.audio_test/92e273eb.wav\n"
          ],
          "name": "stdout"
        },
        {
          "output_type": "stream",
          "text": [
            "/usr/local/lib/python3.6/dist-packages/librosa/core/time_frequency.py:1006: RuntimeWarning: divide by zero encountered in log10\n",
            "  - 0.5 * np.log10(f_sq + const[3]))\n"
          ],
          "name": "stderr"
        },
        {
          "output_type": "stream",
          "text": [
            "0097 / 1600 | drive/My Drive/AudioTaggerData/FSDKaggle2018.audio_test/da0d5d08.wav\n"
          ],
          "name": "stdout"
        },
        {
          "output_type": "stream",
          "text": [
            "/usr/local/lib/python3.6/dist-packages/librosa/core/time_frequency.py:1006: RuntimeWarning: divide by zero encountered in log10\n",
            "  - 0.5 * np.log10(f_sq + const[3]))\n"
          ],
          "name": "stderr"
        },
        {
          "output_type": "stream",
          "text": [
            "0098 / 1600 | drive/My Drive/AudioTaggerData/FSDKaggle2018.audio_test/7052d283.wav\n"
          ],
          "name": "stdout"
        },
        {
          "output_type": "stream",
          "text": [
            "/usr/local/lib/python3.6/dist-packages/librosa/core/time_frequency.py:1006: RuntimeWarning: divide by zero encountered in log10\n",
            "  - 0.5 * np.log10(f_sq + const[3]))\n"
          ],
          "name": "stderr"
        },
        {
          "output_type": "stream",
          "text": [
            "0099 / 1600 | drive/My Drive/AudioTaggerData/FSDKaggle2018.audio_test/1b004964.wav\n"
          ],
          "name": "stdout"
        },
        {
          "output_type": "stream",
          "text": [
            "/usr/local/lib/python3.6/dist-packages/librosa/core/time_frequency.py:1006: RuntimeWarning: divide by zero encountered in log10\n",
            "  - 0.5 * np.log10(f_sq + const[3]))\n"
          ],
          "name": "stderr"
        },
        {
          "output_type": "stream",
          "text": [
            "0100 / 1600 | drive/My Drive/AudioTaggerData/FSDKaggle2018.audio_test/bc57d17d.wav\n"
          ],
          "name": "stdout"
        },
        {
          "output_type": "stream",
          "text": [
            "/usr/local/lib/python3.6/dist-packages/librosa/core/time_frequency.py:1006: RuntimeWarning: divide by zero encountered in log10\n",
            "  - 0.5 * np.log10(f_sq + const[3]))\n"
          ],
          "name": "stderr"
        },
        {
          "output_type": "stream",
          "text": [
            "0101 / 1600 | drive/My Drive/AudioTaggerData/FSDKaggle2018.audio_test/097cdef5.wav\n"
          ],
          "name": "stdout"
        },
        {
          "output_type": "stream",
          "text": [
            "/usr/local/lib/python3.6/dist-packages/librosa/core/time_frequency.py:1006: RuntimeWarning: divide by zero encountered in log10\n",
            "  - 0.5 * np.log10(f_sq + const[3]))\n"
          ],
          "name": "stderr"
        },
        {
          "output_type": "stream",
          "text": [
            "0102 / 1600 | drive/My Drive/AudioTaggerData/FSDKaggle2018.audio_test/34409de5.wav\n"
          ],
          "name": "stdout"
        },
        {
          "output_type": "stream",
          "text": [
            "/usr/local/lib/python3.6/dist-packages/librosa/core/time_frequency.py:1006: RuntimeWarning: divide by zero encountered in log10\n",
            "  - 0.5 * np.log10(f_sq + const[3]))\n"
          ],
          "name": "stderr"
        },
        {
          "output_type": "stream",
          "text": [
            "0103 / 1600 | drive/My Drive/AudioTaggerData/FSDKaggle2018.audio_test/1d73513c.wav\n"
          ],
          "name": "stdout"
        },
        {
          "output_type": "stream",
          "text": [
            "/usr/local/lib/python3.6/dist-packages/librosa/core/time_frequency.py:1006: RuntimeWarning: divide by zero encountered in log10\n",
            "  - 0.5 * np.log10(f_sq + const[3]))\n"
          ],
          "name": "stderr"
        },
        {
          "output_type": "stream",
          "text": [
            "0104 / 1600 | drive/My Drive/AudioTaggerData/FSDKaggle2018.audio_test/e02910e8.wav\n"
          ],
          "name": "stdout"
        },
        {
          "output_type": "stream",
          "text": [
            "/usr/local/lib/python3.6/dist-packages/librosa/core/time_frequency.py:1006: RuntimeWarning: divide by zero encountered in log10\n",
            "  - 0.5 * np.log10(f_sq + const[3]))\n"
          ],
          "name": "stderr"
        },
        {
          "output_type": "stream",
          "text": [
            "0105 / 1600 | drive/My Drive/AudioTaggerData/FSDKaggle2018.audio_test/406845db.wav\n"
          ],
          "name": "stdout"
        },
        {
          "output_type": "stream",
          "text": [
            "/usr/local/lib/python3.6/dist-packages/librosa/core/time_frequency.py:1006: RuntimeWarning: divide by zero encountered in log10\n",
            "  - 0.5 * np.log10(f_sq + const[3]))\n"
          ],
          "name": "stderr"
        },
        {
          "output_type": "stream",
          "text": [
            "0106 / 1600 | drive/My Drive/AudioTaggerData/FSDKaggle2018.audio_test/c7aa4025.wav\n"
          ],
          "name": "stdout"
        },
        {
          "output_type": "stream",
          "text": [
            "/usr/local/lib/python3.6/dist-packages/librosa/core/time_frequency.py:1006: RuntimeWarning: divide by zero encountered in log10\n",
            "  - 0.5 * np.log10(f_sq + const[3]))\n"
          ],
          "name": "stderr"
        },
        {
          "output_type": "stream",
          "text": [
            "0107 / 1600 | drive/My Drive/AudioTaggerData/FSDKaggle2018.audio_test/c36a59f9.wav\n"
          ],
          "name": "stdout"
        },
        {
          "output_type": "stream",
          "text": [
            "/usr/local/lib/python3.6/dist-packages/librosa/core/time_frequency.py:1006: RuntimeWarning: divide by zero encountered in log10\n",
            "  - 0.5 * np.log10(f_sq + const[3]))\n"
          ],
          "name": "stderr"
        },
        {
          "output_type": "stream",
          "text": [
            "0108 / 1600 | drive/My Drive/AudioTaggerData/FSDKaggle2018.audio_test/a5f420d3.wav\n"
          ],
          "name": "stdout"
        },
        {
          "output_type": "stream",
          "text": [
            "/usr/local/lib/python3.6/dist-packages/librosa/core/time_frequency.py:1006: RuntimeWarning: divide by zero encountered in log10\n",
            "  - 0.5 * np.log10(f_sq + const[3]))\n"
          ],
          "name": "stderr"
        },
        {
          "output_type": "stream",
          "text": [
            "0109 / 1600 | drive/My Drive/AudioTaggerData/FSDKaggle2018.audio_test/5e5d1ee1.wav\n"
          ],
          "name": "stdout"
        },
        {
          "output_type": "stream",
          "text": [
            "/usr/local/lib/python3.6/dist-packages/librosa/core/time_frequency.py:1006: RuntimeWarning: divide by zero encountered in log10\n",
            "  - 0.5 * np.log10(f_sq + const[3]))\n"
          ],
          "name": "stderr"
        },
        {
          "output_type": "stream",
          "text": [
            "0110 / 1600 | drive/My Drive/AudioTaggerData/FSDKaggle2018.audio_test/6c9a3eb2.wav\n"
          ],
          "name": "stdout"
        },
        {
          "output_type": "stream",
          "text": [
            "/usr/local/lib/python3.6/dist-packages/librosa/core/time_frequency.py:1006: RuntimeWarning: divide by zero encountered in log10\n",
            "  - 0.5 * np.log10(f_sq + const[3]))\n"
          ],
          "name": "stderr"
        },
        {
          "output_type": "stream",
          "text": [
            "0111 / 1600 | drive/My Drive/AudioTaggerData/FSDKaggle2018.audio_test/b418dcc1.wav\n"
          ],
          "name": "stdout"
        },
        {
          "output_type": "stream",
          "text": [
            "/usr/local/lib/python3.6/dist-packages/librosa/core/time_frequency.py:1006: RuntimeWarning: divide by zero encountered in log10\n",
            "  - 0.5 * np.log10(f_sq + const[3]))\n"
          ],
          "name": "stderr"
        },
        {
          "output_type": "stream",
          "text": [
            "0112 / 1600 | drive/My Drive/AudioTaggerData/FSDKaggle2018.audio_test/a0152732.wav\n"
          ],
          "name": "stdout"
        },
        {
          "output_type": "stream",
          "text": [
            "/usr/local/lib/python3.6/dist-packages/librosa/core/time_frequency.py:1006: RuntimeWarning: divide by zero encountered in log10\n",
            "  - 0.5 * np.log10(f_sq + const[3]))\n"
          ],
          "name": "stderr"
        },
        {
          "output_type": "stream",
          "text": [
            "0113 / 1600 | drive/My Drive/AudioTaggerData/FSDKaggle2018.audio_test/0638da1a.wav\n"
          ],
          "name": "stdout"
        },
        {
          "output_type": "stream",
          "text": [
            "/usr/local/lib/python3.6/dist-packages/librosa/core/time_frequency.py:1006: RuntimeWarning: divide by zero encountered in log10\n",
            "  - 0.5 * np.log10(f_sq + const[3]))\n"
          ],
          "name": "stderr"
        },
        {
          "output_type": "stream",
          "text": [
            "0114 / 1600 | drive/My Drive/AudioTaggerData/FSDKaggle2018.audio_test/be264bf2.wav\n"
          ],
          "name": "stdout"
        },
        {
          "output_type": "stream",
          "text": [
            "/usr/local/lib/python3.6/dist-packages/librosa/core/time_frequency.py:1006: RuntimeWarning: divide by zero encountered in log10\n",
            "  - 0.5 * np.log10(f_sq + const[3]))\n"
          ],
          "name": "stderr"
        },
        {
          "output_type": "stream",
          "text": [
            "0115 / 1600 | drive/My Drive/AudioTaggerData/FSDKaggle2018.audio_test/010a0b3a.wav\n"
          ],
          "name": "stdout"
        },
        {
          "output_type": "stream",
          "text": [
            "/usr/local/lib/python3.6/dist-packages/librosa/core/time_frequency.py:1006: RuntimeWarning: divide by zero encountered in log10\n",
            "  - 0.5 * np.log10(f_sq + const[3]))\n"
          ],
          "name": "stderr"
        },
        {
          "output_type": "stream",
          "text": [
            "0116 / 1600 | drive/My Drive/AudioTaggerData/FSDKaggle2018.audio_test/8d13a005.wav\n"
          ],
          "name": "stdout"
        },
        {
          "output_type": "stream",
          "text": [
            "/usr/local/lib/python3.6/dist-packages/librosa/core/time_frequency.py:1006: RuntimeWarning: divide by zero encountered in log10\n",
            "  - 0.5 * np.log10(f_sq + const[3]))\n"
          ],
          "name": "stderr"
        },
        {
          "output_type": "stream",
          "text": [
            "0117 / 1600 | drive/My Drive/AudioTaggerData/FSDKaggle2018.audio_test/ee459aaf.wav\n"
          ],
          "name": "stdout"
        },
        {
          "output_type": "stream",
          "text": [
            "/usr/local/lib/python3.6/dist-packages/librosa/core/time_frequency.py:1006: RuntimeWarning: divide by zero encountered in log10\n",
            "  - 0.5 * np.log10(f_sq + const[3]))\n"
          ],
          "name": "stderr"
        },
        {
          "output_type": "stream",
          "text": [
            "0118 / 1600 | drive/My Drive/AudioTaggerData/FSDKaggle2018.audio_test/2e276aaa.wav\n"
          ],
          "name": "stdout"
        },
        {
          "output_type": "stream",
          "text": [
            "/usr/local/lib/python3.6/dist-packages/librosa/core/time_frequency.py:1006: RuntimeWarning: divide by zero encountered in log10\n",
            "  - 0.5 * np.log10(f_sq + const[3]))\n"
          ],
          "name": "stderr"
        },
        {
          "output_type": "stream",
          "text": [
            "0119 / 1600 | drive/My Drive/AudioTaggerData/FSDKaggle2018.audio_test/28e59c89.wav\n"
          ],
          "name": "stdout"
        },
        {
          "output_type": "stream",
          "text": [
            "/usr/local/lib/python3.6/dist-packages/librosa/core/time_frequency.py:1006: RuntimeWarning: divide by zero encountered in log10\n",
            "  - 0.5 * np.log10(f_sq + const[3]))\n"
          ],
          "name": "stderr"
        },
        {
          "output_type": "stream",
          "text": [
            "0120 / 1600 | drive/My Drive/AudioTaggerData/FSDKaggle2018.audio_test/3077dab1.wav\n"
          ],
          "name": "stdout"
        },
        {
          "output_type": "stream",
          "text": [
            "/usr/local/lib/python3.6/dist-packages/librosa/core/time_frequency.py:1006: RuntimeWarning: divide by zero encountered in log10\n",
            "  - 0.5 * np.log10(f_sq + const[3]))\n"
          ],
          "name": "stderr"
        },
        {
          "output_type": "stream",
          "text": [
            "0121 / 1600 | drive/My Drive/AudioTaggerData/FSDKaggle2018.audio_test/07cf422e.wav\n"
          ],
          "name": "stdout"
        },
        {
          "output_type": "stream",
          "text": [
            "/usr/local/lib/python3.6/dist-packages/librosa/core/time_frequency.py:1006: RuntimeWarning: divide by zero encountered in log10\n",
            "  - 0.5 * np.log10(f_sq + const[3]))\n"
          ],
          "name": "stderr"
        },
        {
          "output_type": "stream",
          "text": [
            "0122 / 1600 | drive/My Drive/AudioTaggerData/FSDKaggle2018.audio_test/70836b66.wav\n"
          ],
          "name": "stdout"
        },
        {
          "output_type": "stream",
          "text": [
            "/usr/local/lib/python3.6/dist-packages/librosa/core/time_frequency.py:1006: RuntimeWarning: divide by zero encountered in log10\n",
            "  - 0.5 * np.log10(f_sq + const[3]))\n"
          ],
          "name": "stderr"
        },
        {
          "output_type": "stream",
          "text": [
            "0123 / 1600 | drive/My Drive/AudioTaggerData/FSDKaggle2018.audio_test/08d23bb8.wav\n"
          ],
          "name": "stdout"
        },
        {
          "output_type": "stream",
          "text": [
            "/usr/local/lib/python3.6/dist-packages/librosa/core/time_frequency.py:1006: RuntimeWarning: divide by zero encountered in log10\n",
            "  - 0.5 * np.log10(f_sq + const[3]))\n"
          ],
          "name": "stderr"
        },
        {
          "output_type": "stream",
          "text": [
            "0124 / 1600 | drive/My Drive/AudioTaggerData/FSDKaggle2018.audio_test/5e152e41.wav\n"
          ],
          "name": "stdout"
        },
        {
          "output_type": "stream",
          "text": [
            "/usr/local/lib/python3.6/dist-packages/librosa/core/time_frequency.py:1006: RuntimeWarning: divide by zero encountered in log10\n",
            "  - 0.5 * np.log10(f_sq + const[3]))\n"
          ],
          "name": "stderr"
        },
        {
          "output_type": "stream",
          "text": [
            "0125 / 1600 | drive/My Drive/AudioTaggerData/FSDKaggle2018.audio_test/fb4aed88.wav\n"
          ],
          "name": "stdout"
        },
        {
          "output_type": "stream",
          "text": [
            "/usr/local/lib/python3.6/dist-packages/librosa/core/time_frequency.py:1006: RuntimeWarning: divide by zero encountered in log10\n",
            "  - 0.5 * np.log10(f_sq + const[3]))\n"
          ],
          "name": "stderr"
        },
        {
          "output_type": "stream",
          "text": [
            "0126 / 1600 | drive/My Drive/AudioTaggerData/FSDKaggle2018.audio_test/047bf19c.wav\n"
          ],
          "name": "stdout"
        },
        {
          "output_type": "stream",
          "text": [
            "/usr/local/lib/python3.6/dist-packages/librosa/core/time_frequency.py:1006: RuntimeWarning: divide by zero encountered in log10\n",
            "  - 0.5 * np.log10(f_sq + const[3]))\n"
          ],
          "name": "stderr"
        },
        {
          "output_type": "stream",
          "text": [
            "0127 / 1600 | drive/My Drive/AudioTaggerData/FSDKaggle2018.audio_test/190f0ca0.wav\n"
          ],
          "name": "stdout"
        },
        {
          "output_type": "stream",
          "text": [
            "/usr/local/lib/python3.6/dist-packages/librosa/core/time_frequency.py:1006: RuntimeWarning: divide by zero encountered in log10\n",
            "  - 0.5 * np.log10(f_sq + const[3]))\n"
          ],
          "name": "stderr"
        },
        {
          "output_type": "stream",
          "text": [
            "0128 / 1600 | drive/My Drive/AudioTaggerData/FSDKaggle2018.audio_test/bc34f748.wav\n"
          ],
          "name": "stdout"
        },
        {
          "output_type": "stream",
          "text": [
            "/usr/local/lib/python3.6/dist-packages/librosa/core/time_frequency.py:1006: RuntimeWarning: divide by zero encountered in log10\n",
            "  - 0.5 * np.log10(f_sq + const[3]))\n"
          ],
          "name": "stderr"
        },
        {
          "output_type": "stream",
          "text": [
            "0129 / 1600 | drive/My Drive/AudioTaggerData/FSDKaggle2018.audio_test/1b7c4e2b.wav\n"
          ],
          "name": "stdout"
        },
        {
          "output_type": "stream",
          "text": [
            "/usr/local/lib/python3.6/dist-packages/librosa/core/time_frequency.py:1006: RuntimeWarning: divide by zero encountered in log10\n",
            "  - 0.5 * np.log10(f_sq + const[3]))\n"
          ],
          "name": "stderr"
        },
        {
          "output_type": "stream",
          "text": [
            "0130 / 1600 | drive/My Drive/AudioTaggerData/FSDKaggle2018.audio_test/3b95f75a.wav\n"
          ],
          "name": "stdout"
        },
        {
          "output_type": "stream",
          "text": [
            "/usr/local/lib/python3.6/dist-packages/librosa/core/time_frequency.py:1006: RuntimeWarning: divide by zero encountered in log10\n",
            "  - 0.5 * np.log10(f_sq + const[3]))\n"
          ],
          "name": "stderr"
        },
        {
          "output_type": "stream",
          "text": [
            "0131 / 1600 | drive/My Drive/AudioTaggerData/FSDKaggle2018.audio_test/77ee306d.wav\n"
          ],
          "name": "stdout"
        },
        {
          "output_type": "stream",
          "text": [
            "/usr/local/lib/python3.6/dist-packages/librosa/core/time_frequency.py:1006: RuntimeWarning: divide by zero encountered in log10\n",
            "  - 0.5 * np.log10(f_sq + const[3]))\n"
          ],
          "name": "stderr"
        },
        {
          "output_type": "stream",
          "text": [
            "0132 / 1600 | drive/My Drive/AudioTaggerData/FSDKaggle2018.audio_test/5b3bd5e9.wav\n"
          ],
          "name": "stdout"
        },
        {
          "output_type": "stream",
          "text": [
            "/usr/local/lib/python3.6/dist-packages/librosa/core/time_frequency.py:1006: RuntimeWarning: divide by zero encountered in log10\n",
            "  - 0.5 * np.log10(f_sq + const[3]))\n"
          ],
          "name": "stderr"
        },
        {
          "output_type": "stream",
          "text": [
            "0133 / 1600 | drive/My Drive/AudioTaggerData/FSDKaggle2018.audio_test/98238965.wav\n"
          ],
          "name": "stdout"
        },
        {
          "output_type": "stream",
          "text": [
            "/usr/local/lib/python3.6/dist-packages/librosa/core/time_frequency.py:1006: RuntimeWarning: divide by zero encountered in log10\n",
            "  - 0.5 * np.log10(f_sq + const[3]))\n"
          ],
          "name": "stderr"
        },
        {
          "output_type": "stream",
          "text": [
            "0134 / 1600 | drive/My Drive/AudioTaggerData/FSDKaggle2018.audio_test/346a3906.wav\n"
          ],
          "name": "stdout"
        },
        {
          "output_type": "stream",
          "text": [
            "/usr/local/lib/python3.6/dist-packages/librosa/core/time_frequency.py:1006: RuntimeWarning: divide by zero encountered in log10\n",
            "  - 0.5 * np.log10(f_sq + const[3]))\n"
          ],
          "name": "stderr"
        },
        {
          "output_type": "stream",
          "text": [
            "0135 / 1600 | drive/My Drive/AudioTaggerData/FSDKaggle2018.audio_test/dce36540.wav\n"
          ],
          "name": "stdout"
        },
        {
          "output_type": "stream",
          "text": [
            "/usr/local/lib/python3.6/dist-packages/librosa/core/time_frequency.py:1006: RuntimeWarning: divide by zero encountered in log10\n",
            "  - 0.5 * np.log10(f_sq + const[3]))\n"
          ],
          "name": "stderr"
        },
        {
          "output_type": "stream",
          "text": [
            "0136 / 1600 | drive/My Drive/AudioTaggerData/FSDKaggle2018.audio_test/4cd85b98.wav\n"
          ],
          "name": "stdout"
        },
        {
          "output_type": "stream",
          "text": [
            "/usr/local/lib/python3.6/dist-packages/librosa/core/time_frequency.py:1006: RuntimeWarning: divide by zero encountered in log10\n",
            "  - 0.5 * np.log10(f_sq + const[3]))\n"
          ],
          "name": "stderr"
        },
        {
          "output_type": "stream",
          "text": [
            "0137 / 1600 | drive/My Drive/AudioTaggerData/FSDKaggle2018.audio_test/0761d26b.wav\n"
          ],
          "name": "stdout"
        },
        {
          "output_type": "stream",
          "text": [
            "/usr/local/lib/python3.6/dist-packages/librosa/core/time_frequency.py:1006: RuntimeWarning: divide by zero encountered in log10\n",
            "  - 0.5 * np.log10(f_sq + const[3]))\n"
          ],
          "name": "stderr"
        },
        {
          "output_type": "stream",
          "text": [
            "0138 / 1600 | drive/My Drive/AudioTaggerData/FSDKaggle2018.audio_test/32393924.wav\n"
          ],
          "name": "stdout"
        },
        {
          "output_type": "stream",
          "text": [
            "/usr/local/lib/python3.6/dist-packages/librosa/core/time_frequency.py:1006: RuntimeWarning: divide by zero encountered in log10\n",
            "  - 0.5 * np.log10(f_sq + const[3]))\n"
          ],
          "name": "stderr"
        },
        {
          "output_type": "stream",
          "text": [
            "0139 / 1600 | drive/My Drive/AudioTaggerData/FSDKaggle2018.audio_test/d0cd7cf4.wav\n"
          ],
          "name": "stdout"
        },
        {
          "output_type": "stream",
          "text": [
            "/usr/local/lib/python3.6/dist-packages/librosa/core/time_frequency.py:1006: RuntimeWarning: divide by zero encountered in log10\n",
            "  - 0.5 * np.log10(f_sq + const[3]))\n"
          ],
          "name": "stderr"
        },
        {
          "output_type": "stream",
          "text": [
            "0140 / 1600 | drive/My Drive/AudioTaggerData/FSDKaggle2018.audio_test/e2c7b0c7.wav\n"
          ],
          "name": "stdout"
        },
        {
          "output_type": "stream",
          "text": [
            "/usr/local/lib/python3.6/dist-packages/librosa/core/time_frequency.py:1006: RuntimeWarning: divide by zero encountered in log10\n",
            "  - 0.5 * np.log10(f_sq + const[3]))\n"
          ],
          "name": "stderr"
        },
        {
          "output_type": "stream",
          "text": [
            "0141 / 1600 | drive/My Drive/AudioTaggerData/FSDKaggle2018.audio_test/fe747b60.wav\n"
          ],
          "name": "stdout"
        },
        {
          "output_type": "stream",
          "text": [
            "/usr/local/lib/python3.6/dist-packages/librosa/core/time_frequency.py:1006: RuntimeWarning: divide by zero encountered in log10\n",
            "  - 0.5 * np.log10(f_sq + const[3]))\n"
          ],
          "name": "stderr"
        },
        {
          "output_type": "stream",
          "text": [
            "0142 / 1600 | drive/My Drive/AudioTaggerData/FSDKaggle2018.audio_test/a414c520.wav\n"
          ],
          "name": "stdout"
        },
        {
          "output_type": "stream",
          "text": [
            "/usr/local/lib/python3.6/dist-packages/librosa/core/time_frequency.py:1006: RuntimeWarning: divide by zero encountered in log10\n",
            "  - 0.5 * np.log10(f_sq + const[3]))\n"
          ],
          "name": "stderr"
        },
        {
          "output_type": "stream",
          "text": [
            "0143 / 1600 | drive/My Drive/AudioTaggerData/FSDKaggle2018.audio_test/aebe749b.wav\n"
          ],
          "name": "stdout"
        },
        {
          "output_type": "stream",
          "text": [
            "/usr/local/lib/python3.6/dist-packages/librosa/core/time_frequency.py:1006: RuntimeWarning: divide by zero encountered in log10\n",
            "  - 0.5 * np.log10(f_sq + const[3]))\n"
          ],
          "name": "stderr"
        },
        {
          "output_type": "stream",
          "text": [
            "0144 / 1600 | drive/My Drive/AudioTaggerData/FSDKaggle2018.audio_test/bbe1a14c.wav\n"
          ],
          "name": "stdout"
        },
        {
          "output_type": "stream",
          "text": [
            "/usr/local/lib/python3.6/dist-packages/librosa/core/time_frequency.py:1006: RuntimeWarning: divide by zero encountered in log10\n",
            "  - 0.5 * np.log10(f_sq + const[3]))\n"
          ],
          "name": "stderr"
        },
        {
          "output_type": "stream",
          "text": [
            "0145 / 1600 | drive/My Drive/AudioTaggerData/FSDKaggle2018.audio_test/ffba7963.wav\n"
          ],
          "name": "stdout"
        },
        {
          "output_type": "stream",
          "text": [
            "/usr/local/lib/python3.6/dist-packages/librosa/core/time_frequency.py:1006: RuntimeWarning: divide by zero encountered in log10\n",
            "  - 0.5 * np.log10(f_sq + const[3]))\n"
          ],
          "name": "stderr"
        },
        {
          "output_type": "stream",
          "text": [
            "0146 / 1600 | drive/My Drive/AudioTaggerData/FSDKaggle2018.audio_test/ff812cf5.wav\n"
          ],
          "name": "stdout"
        },
        {
          "output_type": "stream",
          "text": [
            "/usr/local/lib/python3.6/dist-packages/librosa/core/time_frequency.py:1006: RuntimeWarning: divide by zero encountered in log10\n",
            "  - 0.5 * np.log10(f_sq + const[3]))\n"
          ],
          "name": "stderr"
        },
        {
          "output_type": "stream",
          "text": [
            "0147 / 1600 | drive/My Drive/AudioTaggerData/FSDKaggle2018.audio_test/c0fe39ac.wav\n"
          ],
          "name": "stdout"
        },
        {
          "output_type": "stream",
          "text": [
            "/usr/local/lib/python3.6/dist-packages/librosa/core/time_frequency.py:1006: RuntimeWarning: divide by zero encountered in log10\n",
            "  - 0.5 * np.log10(f_sq + const[3]))\n"
          ],
          "name": "stderr"
        },
        {
          "output_type": "stream",
          "text": [
            "0148 / 1600 | drive/My Drive/AudioTaggerData/FSDKaggle2018.audio_test/ac755dd6.wav\n"
          ],
          "name": "stdout"
        },
        {
          "output_type": "stream",
          "text": [
            "/usr/local/lib/python3.6/dist-packages/librosa/core/time_frequency.py:1006: RuntimeWarning: divide by zero encountered in log10\n",
            "  - 0.5 * np.log10(f_sq + const[3]))\n"
          ],
          "name": "stderr"
        },
        {
          "output_type": "stream",
          "text": [
            "0149 / 1600 | drive/My Drive/AudioTaggerData/FSDKaggle2018.audio_test/c7398e6a.wav\n"
          ],
          "name": "stdout"
        },
        {
          "output_type": "stream",
          "text": [
            "/usr/local/lib/python3.6/dist-packages/librosa/core/time_frequency.py:1006: RuntimeWarning: divide by zero encountered in log10\n",
            "  - 0.5 * np.log10(f_sq + const[3]))\n"
          ],
          "name": "stderr"
        },
        {
          "output_type": "stream",
          "text": [
            "0150 / 1600 | drive/My Drive/AudioTaggerData/FSDKaggle2018.audio_test/fd3e7f3c.wav\n"
          ],
          "name": "stdout"
        },
        {
          "output_type": "stream",
          "text": [
            "/usr/local/lib/python3.6/dist-packages/librosa/core/time_frequency.py:1006: RuntimeWarning: divide by zero encountered in log10\n",
            "  - 0.5 * np.log10(f_sq + const[3]))\n"
          ],
          "name": "stderr"
        },
        {
          "output_type": "stream",
          "text": [
            "0151 / 1600 | drive/My Drive/AudioTaggerData/FSDKaggle2018.audio_test/e5f750d1.wav\n"
          ],
          "name": "stdout"
        },
        {
          "output_type": "stream",
          "text": [
            "/usr/local/lib/python3.6/dist-packages/librosa/core/time_frequency.py:1006: RuntimeWarning: divide by zero encountered in log10\n",
            "  - 0.5 * np.log10(f_sq + const[3]))\n"
          ],
          "name": "stderr"
        },
        {
          "output_type": "stream",
          "text": [
            "0152 / 1600 | drive/My Drive/AudioTaggerData/FSDKaggle2018.audio_test/ed5d4897.wav\n"
          ],
          "name": "stdout"
        },
        {
          "output_type": "stream",
          "text": [
            "/usr/local/lib/python3.6/dist-packages/librosa/core/time_frequency.py:1006: RuntimeWarning: divide by zero encountered in log10\n",
            "  - 0.5 * np.log10(f_sq + const[3]))\n"
          ],
          "name": "stderr"
        },
        {
          "output_type": "stream",
          "text": [
            "0153 / 1600 | drive/My Drive/AudioTaggerData/FSDKaggle2018.audio_test/9546c28d.wav\n"
          ],
          "name": "stdout"
        },
        {
          "output_type": "stream",
          "text": [
            "/usr/local/lib/python3.6/dist-packages/librosa/core/time_frequency.py:1006: RuntimeWarning: divide by zero encountered in log10\n",
            "  - 0.5 * np.log10(f_sq + const[3]))\n"
          ],
          "name": "stderr"
        },
        {
          "output_type": "stream",
          "text": [
            "0154 / 1600 | drive/My Drive/AudioTaggerData/FSDKaggle2018.audio_test/1a281fda.wav\n"
          ],
          "name": "stdout"
        },
        {
          "output_type": "stream",
          "text": [
            "/usr/local/lib/python3.6/dist-packages/librosa/core/time_frequency.py:1006: RuntimeWarning: divide by zero encountered in log10\n",
            "  - 0.5 * np.log10(f_sq + const[3]))\n"
          ],
          "name": "stderr"
        },
        {
          "output_type": "stream",
          "text": [
            "0155 / 1600 | drive/My Drive/AudioTaggerData/FSDKaggle2018.audio_test/af43843d.wav\n"
          ],
          "name": "stdout"
        },
        {
          "output_type": "stream",
          "text": [
            "/usr/local/lib/python3.6/dist-packages/librosa/core/time_frequency.py:1006: RuntimeWarning: divide by zero encountered in log10\n",
            "  - 0.5 * np.log10(f_sq + const[3]))\n"
          ],
          "name": "stderr"
        },
        {
          "output_type": "stream",
          "text": [
            "0156 / 1600 | drive/My Drive/AudioTaggerData/FSDKaggle2018.audio_test/67ec5ee0.wav\n"
          ],
          "name": "stdout"
        },
        {
          "output_type": "stream",
          "text": [
            "/usr/local/lib/python3.6/dist-packages/librosa/core/time_frequency.py:1006: RuntimeWarning: divide by zero encountered in log10\n",
            "  - 0.5 * np.log10(f_sq + const[3]))\n"
          ],
          "name": "stderr"
        },
        {
          "output_type": "stream",
          "text": [
            "0157 / 1600 | drive/My Drive/AudioTaggerData/FSDKaggle2018.audio_test/66c1e9de.wav\n"
          ],
          "name": "stdout"
        },
        {
          "output_type": "stream",
          "text": [
            "/usr/local/lib/python3.6/dist-packages/librosa/core/time_frequency.py:1006: RuntimeWarning: divide by zero encountered in log10\n",
            "  - 0.5 * np.log10(f_sq + const[3]))\n"
          ],
          "name": "stderr"
        },
        {
          "output_type": "stream",
          "text": [
            "0158 / 1600 | drive/My Drive/AudioTaggerData/FSDKaggle2018.audio_test/0995f876.wav\n"
          ],
          "name": "stdout"
        },
        {
          "output_type": "stream",
          "text": [
            "/usr/local/lib/python3.6/dist-packages/librosa/core/time_frequency.py:1006: RuntimeWarning: divide by zero encountered in log10\n",
            "  - 0.5 * np.log10(f_sq + const[3]))\n"
          ],
          "name": "stderr"
        },
        {
          "output_type": "stream",
          "text": [
            "0159 / 1600 | drive/My Drive/AudioTaggerData/FSDKaggle2018.audio_test/686d0322.wav\n"
          ],
          "name": "stdout"
        },
        {
          "output_type": "stream",
          "text": [
            "/usr/local/lib/python3.6/dist-packages/librosa/core/time_frequency.py:1006: RuntimeWarning: divide by zero encountered in log10\n",
            "  - 0.5 * np.log10(f_sq + const[3]))\n"
          ],
          "name": "stderr"
        },
        {
          "output_type": "stream",
          "text": [
            "0160 / 1600 | drive/My Drive/AudioTaggerData/FSDKaggle2018.audio_test/bf698a07.wav\n"
          ],
          "name": "stdout"
        },
        {
          "output_type": "stream",
          "text": [
            "/usr/local/lib/python3.6/dist-packages/librosa/core/time_frequency.py:1006: RuntimeWarning: divide by zero encountered in log10\n",
            "  - 0.5 * np.log10(f_sq + const[3]))\n"
          ],
          "name": "stderr"
        },
        {
          "output_type": "stream",
          "text": [
            "0161 / 1600 | drive/My Drive/AudioTaggerData/FSDKaggle2018.audio_test/ca518ffa.wav\n"
          ],
          "name": "stdout"
        },
        {
          "output_type": "stream",
          "text": [
            "/usr/local/lib/python3.6/dist-packages/librosa/core/time_frequency.py:1006: RuntimeWarning: divide by zero encountered in log10\n",
            "  - 0.5 * np.log10(f_sq + const[3]))\n"
          ],
          "name": "stderr"
        },
        {
          "output_type": "stream",
          "text": [
            "0162 / 1600 | drive/My Drive/AudioTaggerData/FSDKaggle2018.audio_test/7c9fb8d6.wav\n"
          ],
          "name": "stdout"
        },
        {
          "output_type": "stream",
          "text": [
            "/usr/local/lib/python3.6/dist-packages/librosa/core/time_frequency.py:1006: RuntimeWarning: divide by zero encountered in log10\n",
            "  - 0.5 * np.log10(f_sq + const[3]))\n"
          ],
          "name": "stderr"
        },
        {
          "output_type": "stream",
          "text": [
            "0163 / 1600 | drive/My Drive/AudioTaggerData/FSDKaggle2018.audio_test/918d8fc9.wav\n"
          ],
          "name": "stdout"
        },
        {
          "output_type": "stream",
          "text": [
            "/usr/local/lib/python3.6/dist-packages/librosa/core/time_frequency.py:1006: RuntimeWarning: divide by zero encountered in log10\n",
            "  - 0.5 * np.log10(f_sq + const[3]))\n"
          ],
          "name": "stderr"
        },
        {
          "output_type": "stream",
          "text": [
            "0164 / 1600 | drive/My Drive/AudioTaggerData/FSDKaggle2018.audio_test/7e1c049f.wav\n"
          ],
          "name": "stdout"
        },
        {
          "output_type": "stream",
          "text": [
            "/usr/local/lib/python3.6/dist-packages/librosa/core/time_frequency.py:1006: RuntimeWarning: divide by zero encountered in log10\n",
            "  - 0.5 * np.log10(f_sq + const[3]))\n"
          ],
          "name": "stderr"
        },
        {
          "output_type": "stream",
          "text": [
            "0165 / 1600 | drive/My Drive/AudioTaggerData/FSDKaggle2018.audio_test/d5479db2.wav\n"
          ],
          "name": "stdout"
        },
        {
          "output_type": "stream",
          "text": [
            "/usr/local/lib/python3.6/dist-packages/librosa/core/time_frequency.py:1006: RuntimeWarning: divide by zero encountered in log10\n",
            "  - 0.5 * np.log10(f_sq + const[3]))\n"
          ],
          "name": "stderr"
        },
        {
          "output_type": "stream",
          "text": [
            "0166 / 1600 | drive/My Drive/AudioTaggerData/FSDKaggle2018.audio_test/3a5f8a0d.wav\n"
          ],
          "name": "stdout"
        },
        {
          "output_type": "stream",
          "text": [
            "/usr/local/lib/python3.6/dist-packages/librosa/core/time_frequency.py:1006: RuntimeWarning: divide by zero encountered in log10\n",
            "  - 0.5 * np.log10(f_sq + const[3]))\n"
          ],
          "name": "stderr"
        },
        {
          "output_type": "stream",
          "text": [
            "0167 / 1600 | drive/My Drive/AudioTaggerData/FSDKaggle2018.audio_test/cd6dd770.wav\n"
          ],
          "name": "stdout"
        },
        {
          "output_type": "stream",
          "text": [
            "/usr/local/lib/python3.6/dist-packages/librosa/core/time_frequency.py:1006: RuntimeWarning: divide by zero encountered in log10\n",
            "  - 0.5 * np.log10(f_sq + const[3]))\n"
          ],
          "name": "stderr"
        },
        {
          "output_type": "stream",
          "text": [
            "0168 / 1600 | drive/My Drive/AudioTaggerData/FSDKaggle2018.audio_test/7c6c426f.wav\n"
          ],
          "name": "stdout"
        },
        {
          "output_type": "stream",
          "text": [
            "/usr/local/lib/python3.6/dist-packages/librosa/core/time_frequency.py:1006: RuntimeWarning: divide by zero encountered in log10\n",
            "  - 0.5 * np.log10(f_sq + const[3]))\n"
          ],
          "name": "stderr"
        },
        {
          "output_type": "stream",
          "text": [
            "0169 / 1600 | drive/My Drive/AudioTaggerData/FSDKaggle2018.audio_test/eb13babe.wav\n"
          ],
          "name": "stdout"
        },
        {
          "output_type": "stream",
          "text": [
            "/usr/local/lib/python3.6/dist-packages/librosa/core/time_frequency.py:1006: RuntimeWarning: divide by zero encountered in log10\n",
            "  - 0.5 * np.log10(f_sq + const[3]))\n"
          ],
          "name": "stderr"
        },
        {
          "output_type": "stream",
          "text": [
            "0170 / 1600 | drive/My Drive/AudioTaggerData/FSDKaggle2018.audio_test/7c444d1b.wav\n"
          ],
          "name": "stdout"
        },
        {
          "output_type": "stream",
          "text": [
            "/usr/local/lib/python3.6/dist-packages/librosa/core/time_frequency.py:1006: RuntimeWarning: divide by zero encountered in log10\n",
            "  - 0.5 * np.log10(f_sq + const[3]))\n"
          ],
          "name": "stderr"
        },
        {
          "output_type": "stream",
          "text": [
            "0171 / 1600 | drive/My Drive/AudioTaggerData/FSDKaggle2018.audio_test/6c4e791e.wav\n"
          ],
          "name": "stdout"
        },
        {
          "output_type": "stream",
          "text": [
            "/usr/local/lib/python3.6/dist-packages/librosa/core/time_frequency.py:1006: RuntimeWarning: divide by zero encountered in log10\n",
            "  - 0.5 * np.log10(f_sq + const[3]))\n"
          ],
          "name": "stderr"
        },
        {
          "output_type": "stream",
          "text": [
            "0172 / 1600 | drive/My Drive/AudioTaggerData/FSDKaggle2018.audio_test/d4e0f124.wav\n"
          ],
          "name": "stdout"
        },
        {
          "output_type": "stream",
          "text": [
            "/usr/local/lib/python3.6/dist-packages/librosa/core/time_frequency.py:1006: RuntimeWarning: divide by zero encountered in log10\n",
            "  - 0.5 * np.log10(f_sq + const[3]))\n"
          ],
          "name": "stderr"
        },
        {
          "output_type": "stream",
          "text": [
            "0173 / 1600 | drive/My Drive/AudioTaggerData/FSDKaggle2018.audio_test/5e3e89f1.wav\n"
          ],
          "name": "stdout"
        },
        {
          "output_type": "stream",
          "text": [
            "/usr/local/lib/python3.6/dist-packages/librosa/core/time_frequency.py:1006: RuntimeWarning: divide by zero encountered in log10\n",
            "  - 0.5 * np.log10(f_sq + const[3]))\n"
          ],
          "name": "stderr"
        },
        {
          "output_type": "stream",
          "text": [
            "0174 / 1600 | drive/My Drive/AudioTaggerData/FSDKaggle2018.audio_test/2a4a615f.wav\n"
          ],
          "name": "stdout"
        },
        {
          "output_type": "stream",
          "text": [
            "/usr/local/lib/python3.6/dist-packages/librosa/core/time_frequency.py:1006: RuntimeWarning: divide by zero encountered in log10\n",
            "  - 0.5 * np.log10(f_sq + const[3]))\n"
          ],
          "name": "stderr"
        },
        {
          "output_type": "stream",
          "text": [
            "0175 / 1600 | drive/My Drive/AudioTaggerData/FSDKaggle2018.audio_test/641e156b.wav\n"
          ],
          "name": "stdout"
        },
        {
          "output_type": "stream",
          "text": [
            "/usr/local/lib/python3.6/dist-packages/librosa/core/time_frequency.py:1006: RuntimeWarning: divide by zero encountered in log10\n",
            "  - 0.5 * np.log10(f_sq + const[3]))\n"
          ],
          "name": "stderr"
        },
        {
          "output_type": "stream",
          "text": [
            "0176 / 1600 | drive/My Drive/AudioTaggerData/FSDKaggle2018.audio_test/f8128d63.wav\n"
          ],
          "name": "stdout"
        },
        {
          "output_type": "stream",
          "text": [
            "/usr/local/lib/python3.6/dist-packages/librosa/core/time_frequency.py:1006: RuntimeWarning: divide by zero encountered in log10\n",
            "  - 0.5 * np.log10(f_sq + const[3]))\n"
          ],
          "name": "stderr"
        },
        {
          "output_type": "stream",
          "text": [
            "0177 / 1600 | drive/My Drive/AudioTaggerData/FSDKaggle2018.audio_test/a1a2cd91.wav\n"
          ],
          "name": "stdout"
        },
        {
          "output_type": "stream",
          "text": [
            "/usr/local/lib/python3.6/dist-packages/librosa/core/time_frequency.py:1006: RuntimeWarning: divide by zero encountered in log10\n",
            "  - 0.5 * np.log10(f_sq + const[3]))\n"
          ],
          "name": "stderr"
        },
        {
          "output_type": "stream",
          "text": [
            "0178 / 1600 | drive/My Drive/AudioTaggerData/FSDKaggle2018.audio_test/de8ce59b.wav\n"
          ],
          "name": "stdout"
        },
        {
          "output_type": "stream",
          "text": [
            "/usr/local/lib/python3.6/dist-packages/librosa/core/time_frequency.py:1006: RuntimeWarning: divide by zero encountered in log10\n",
            "  - 0.5 * np.log10(f_sq + const[3]))\n"
          ],
          "name": "stderr"
        },
        {
          "output_type": "stream",
          "text": [
            "0179 / 1600 | drive/My Drive/AudioTaggerData/FSDKaggle2018.audio_test/18b60e7c.wav\n"
          ],
          "name": "stdout"
        },
        {
          "output_type": "stream",
          "text": [
            "/usr/local/lib/python3.6/dist-packages/librosa/core/time_frequency.py:1006: RuntimeWarning: divide by zero encountered in log10\n",
            "  - 0.5 * np.log10(f_sq + const[3]))\n"
          ],
          "name": "stderr"
        },
        {
          "output_type": "stream",
          "text": [
            "0180 / 1600 | drive/My Drive/AudioTaggerData/FSDKaggle2018.audio_test/e52a2307.wav\n"
          ],
          "name": "stdout"
        },
        {
          "output_type": "stream",
          "text": [
            "/usr/local/lib/python3.6/dist-packages/librosa/core/time_frequency.py:1006: RuntimeWarning: divide by zero encountered in log10\n",
            "  - 0.5 * np.log10(f_sq + const[3]))\n"
          ],
          "name": "stderr"
        },
        {
          "output_type": "stream",
          "text": [
            "0181 / 1600 | drive/My Drive/AudioTaggerData/FSDKaggle2018.audio_test/c2ef914d.wav\n"
          ],
          "name": "stdout"
        },
        {
          "output_type": "stream",
          "text": [
            "/usr/local/lib/python3.6/dist-packages/librosa/core/time_frequency.py:1006: RuntimeWarning: divide by zero encountered in log10\n",
            "  - 0.5 * np.log10(f_sq + const[3]))\n"
          ],
          "name": "stderr"
        },
        {
          "output_type": "stream",
          "text": [
            "0182 / 1600 | drive/My Drive/AudioTaggerData/FSDKaggle2018.audio_test/3ed76a58.wav\n"
          ],
          "name": "stdout"
        },
        {
          "output_type": "stream",
          "text": [
            "/usr/local/lib/python3.6/dist-packages/librosa/core/time_frequency.py:1006: RuntimeWarning: divide by zero encountered in log10\n",
            "  - 0.5 * np.log10(f_sq + const[3]))\n"
          ],
          "name": "stderr"
        },
        {
          "output_type": "stream",
          "text": [
            "0183 / 1600 | drive/My Drive/AudioTaggerData/FSDKaggle2018.audio_test/b68f6fc8.wav\n"
          ],
          "name": "stdout"
        },
        {
          "output_type": "stream",
          "text": [
            "/usr/local/lib/python3.6/dist-packages/librosa/core/time_frequency.py:1006: RuntimeWarning: divide by zero encountered in log10\n",
            "  - 0.5 * np.log10(f_sq + const[3]))\n"
          ],
          "name": "stderr"
        },
        {
          "output_type": "stream",
          "text": [
            "0184 / 1600 | drive/My Drive/AudioTaggerData/FSDKaggle2018.audio_test/75bbb109.wav\n"
          ],
          "name": "stdout"
        },
        {
          "output_type": "stream",
          "text": [
            "/usr/local/lib/python3.6/dist-packages/librosa/core/time_frequency.py:1006: RuntimeWarning: divide by zero encountered in log10\n",
            "  - 0.5 * np.log10(f_sq + const[3]))\n"
          ],
          "name": "stderr"
        },
        {
          "output_type": "stream",
          "text": [
            "0185 / 1600 | drive/My Drive/AudioTaggerData/FSDKaggle2018.audio_test/a8e6db3f.wav\n"
          ],
          "name": "stdout"
        },
        {
          "output_type": "stream",
          "text": [
            "/usr/local/lib/python3.6/dist-packages/librosa/core/time_frequency.py:1006: RuntimeWarning: divide by zero encountered in log10\n",
            "  - 0.5 * np.log10(f_sq + const[3]))\n"
          ],
          "name": "stderr"
        },
        {
          "output_type": "stream",
          "text": [
            "0186 / 1600 | drive/My Drive/AudioTaggerData/FSDKaggle2018.audio_test/63b335dd.wav\n"
          ],
          "name": "stdout"
        },
        {
          "output_type": "stream",
          "text": [
            "/usr/local/lib/python3.6/dist-packages/librosa/core/time_frequency.py:1006: RuntimeWarning: divide by zero encountered in log10\n",
            "  - 0.5 * np.log10(f_sq + const[3]))\n"
          ],
          "name": "stderr"
        },
        {
          "output_type": "stream",
          "text": [
            "0187 / 1600 | drive/My Drive/AudioTaggerData/FSDKaggle2018.audio_test/22244948.wav\n"
          ],
          "name": "stdout"
        },
        {
          "output_type": "stream",
          "text": [
            "/usr/local/lib/python3.6/dist-packages/librosa/core/time_frequency.py:1006: RuntimeWarning: divide by zero encountered in log10\n",
            "  - 0.5 * np.log10(f_sq + const[3]))\n"
          ],
          "name": "stderr"
        },
        {
          "output_type": "stream",
          "text": [
            "0188 / 1600 | drive/My Drive/AudioTaggerData/FSDKaggle2018.audio_test/908bb124.wav\n"
          ],
          "name": "stdout"
        },
        {
          "output_type": "stream",
          "text": [
            "/usr/local/lib/python3.6/dist-packages/librosa/core/time_frequency.py:1006: RuntimeWarning: divide by zero encountered in log10\n",
            "  - 0.5 * np.log10(f_sq + const[3]))\n"
          ],
          "name": "stderr"
        },
        {
          "output_type": "stream",
          "text": [
            "0189 / 1600 | drive/My Drive/AudioTaggerData/FSDKaggle2018.audio_test/b4c9b8c7.wav\n"
          ],
          "name": "stdout"
        },
        {
          "output_type": "stream",
          "text": [
            "/usr/local/lib/python3.6/dist-packages/librosa/core/time_frequency.py:1006: RuntimeWarning: divide by zero encountered in log10\n",
            "  - 0.5 * np.log10(f_sq + const[3]))\n"
          ],
          "name": "stderr"
        },
        {
          "output_type": "stream",
          "text": [
            "0190 / 1600 | drive/My Drive/AudioTaggerData/FSDKaggle2018.audio_test/fc0ab9f4.wav\n"
          ],
          "name": "stdout"
        },
        {
          "output_type": "stream",
          "text": [
            "/usr/local/lib/python3.6/dist-packages/librosa/core/time_frequency.py:1006: RuntimeWarning: divide by zero encountered in log10\n",
            "  - 0.5 * np.log10(f_sq + const[3]))\n"
          ],
          "name": "stderr"
        },
        {
          "output_type": "stream",
          "text": [
            "0191 / 1600 | drive/My Drive/AudioTaggerData/FSDKaggle2018.audio_test/7e57ebd1.wav\n"
          ],
          "name": "stdout"
        },
        {
          "output_type": "stream",
          "text": [
            "/usr/local/lib/python3.6/dist-packages/librosa/core/time_frequency.py:1006: RuntimeWarning: divide by zero encountered in log10\n",
            "  - 0.5 * np.log10(f_sq + const[3]))\n"
          ],
          "name": "stderr"
        },
        {
          "output_type": "stream",
          "text": [
            "0192 / 1600 | drive/My Drive/AudioTaggerData/FSDKaggle2018.audio_test/492bacbe.wav\n"
          ],
          "name": "stdout"
        },
        {
          "output_type": "stream",
          "text": [
            "/usr/local/lib/python3.6/dist-packages/librosa/core/time_frequency.py:1006: RuntimeWarning: divide by zero encountered in log10\n",
            "  - 0.5 * np.log10(f_sq + const[3]))\n"
          ],
          "name": "stderr"
        },
        {
          "output_type": "stream",
          "text": [
            "0193 / 1600 | drive/My Drive/AudioTaggerData/FSDKaggle2018.audio_test/c5a307f5.wav\n"
          ],
          "name": "stdout"
        },
        {
          "output_type": "stream",
          "text": [
            "/usr/local/lib/python3.6/dist-packages/librosa/core/time_frequency.py:1006: RuntimeWarning: divide by zero encountered in log10\n",
            "  - 0.5 * np.log10(f_sq + const[3]))\n"
          ],
          "name": "stderr"
        },
        {
          "output_type": "stream",
          "text": [
            "0194 / 1600 | drive/My Drive/AudioTaggerData/FSDKaggle2018.audio_test/c25bf513.wav\n"
          ],
          "name": "stdout"
        },
        {
          "output_type": "stream",
          "text": [
            "/usr/local/lib/python3.6/dist-packages/librosa/core/time_frequency.py:1006: RuntimeWarning: divide by zero encountered in log10\n",
            "  - 0.5 * np.log10(f_sq + const[3]))\n"
          ],
          "name": "stderr"
        },
        {
          "output_type": "stream",
          "text": [
            "0195 / 1600 | drive/My Drive/AudioTaggerData/FSDKaggle2018.audio_test/72fbaa43.wav\n"
          ],
          "name": "stdout"
        },
        {
          "output_type": "stream",
          "text": [
            "/usr/local/lib/python3.6/dist-packages/librosa/core/time_frequency.py:1006: RuntimeWarning: divide by zero encountered in log10\n",
            "  - 0.5 * np.log10(f_sq + const[3]))\n"
          ],
          "name": "stderr"
        },
        {
          "output_type": "stream",
          "text": [
            "0196 / 1600 | drive/My Drive/AudioTaggerData/FSDKaggle2018.audio_test/efa4618b.wav\n"
          ],
          "name": "stdout"
        },
        {
          "output_type": "stream",
          "text": [
            "/usr/local/lib/python3.6/dist-packages/librosa/core/time_frequency.py:1006: RuntimeWarning: divide by zero encountered in log10\n",
            "  - 0.5 * np.log10(f_sq + const[3]))\n"
          ],
          "name": "stderr"
        },
        {
          "output_type": "stream",
          "text": [
            "0197 / 1600 | drive/My Drive/AudioTaggerData/FSDKaggle2018.audio_test/d6ea15c3.wav\n"
          ],
          "name": "stdout"
        },
        {
          "output_type": "stream",
          "text": [
            "/usr/local/lib/python3.6/dist-packages/librosa/core/time_frequency.py:1006: RuntimeWarning: divide by zero encountered in log10\n",
            "  - 0.5 * np.log10(f_sq + const[3]))\n"
          ],
          "name": "stderr"
        },
        {
          "output_type": "stream",
          "text": [
            "0198 / 1600 | drive/My Drive/AudioTaggerData/FSDKaggle2018.audio_test/7d6bdda3.wav\n"
          ],
          "name": "stdout"
        },
        {
          "output_type": "stream",
          "text": [
            "/usr/local/lib/python3.6/dist-packages/librosa/core/time_frequency.py:1006: RuntimeWarning: divide by zero encountered in log10\n",
            "  - 0.5 * np.log10(f_sq + const[3]))\n"
          ],
          "name": "stderr"
        },
        {
          "output_type": "stream",
          "text": [
            "0199 / 1600 | drive/My Drive/AudioTaggerData/FSDKaggle2018.audio_test/452da28b.wav\n"
          ],
          "name": "stdout"
        },
        {
          "output_type": "stream",
          "text": [
            "/usr/local/lib/python3.6/dist-packages/librosa/core/time_frequency.py:1006: RuntimeWarning: divide by zero encountered in log10\n",
            "  - 0.5 * np.log10(f_sq + const[3]))\n"
          ],
          "name": "stderr"
        },
        {
          "output_type": "stream",
          "text": [
            "0200 / 1600 | drive/My Drive/AudioTaggerData/FSDKaggle2018.audio_test/b80a41ad.wav\n"
          ],
          "name": "stdout"
        },
        {
          "output_type": "stream",
          "text": [
            "/usr/local/lib/python3.6/dist-packages/librosa/core/time_frequency.py:1006: RuntimeWarning: divide by zero encountered in log10\n",
            "  - 0.5 * np.log10(f_sq + const[3]))\n"
          ],
          "name": "stderr"
        },
        {
          "output_type": "stream",
          "text": [
            "0201 / 1600 | drive/My Drive/AudioTaggerData/FSDKaggle2018.audio_test/3f1983c4.wav\n"
          ],
          "name": "stdout"
        },
        {
          "output_type": "stream",
          "text": [
            "/usr/local/lib/python3.6/dist-packages/librosa/core/time_frequency.py:1006: RuntimeWarning: divide by zero encountered in log10\n",
            "  - 0.5 * np.log10(f_sq + const[3]))\n"
          ],
          "name": "stderr"
        },
        {
          "output_type": "stream",
          "text": [
            "0202 / 1600 | drive/My Drive/AudioTaggerData/FSDKaggle2018.audio_test/41111461.wav\n"
          ],
          "name": "stdout"
        },
        {
          "output_type": "stream",
          "text": [
            "/usr/local/lib/python3.6/dist-packages/librosa/core/time_frequency.py:1006: RuntimeWarning: divide by zero encountered in log10\n",
            "  - 0.5 * np.log10(f_sq + const[3]))\n"
          ],
          "name": "stderr"
        },
        {
          "output_type": "stream",
          "text": [
            "0203 / 1600 | drive/My Drive/AudioTaggerData/FSDKaggle2018.audio_test/ec2b584c.wav\n"
          ],
          "name": "stdout"
        },
        {
          "output_type": "stream",
          "text": [
            "/usr/local/lib/python3.6/dist-packages/librosa/core/time_frequency.py:1006: RuntimeWarning: divide by zero encountered in log10\n",
            "  - 0.5 * np.log10(f_sq + const[3]))\n"
          ],
          "name": "stderr"
        },
        {
          "output_type": "stream",
          "text": [
            "0204 / 1600 | drive/My Drive/AudioTaggerData/FSDKaggle2018.audio_test/5c018580.wav\n"
          ],
          "name": "stdout"
        },
        {
          "output_type": "stream",
          "text": [
            "/usr/local/lib/python3.6/dist-packages/librosa/core/time_frequency.py:1006: RuntimeWarning: divide by zero encountered in log10\n",
            "  - 0.5 * np.log10(f_sq + const[3]))\n"
          ],
          "name": "stderr"
        },
        {
          "output_type": "stream",
          "text": [
            "0205 / 1600 | drive/My Drive/AudioTaggerData/FSDKaggle2018.audio_test/698f7dfd.wav\n"
          ],
          "name": "stdout"
        },
        {
          "output_type": "stream",
          "text": [
            "/usr/local/lib/python3.6/dist-packages/librosa/core/time_frequency.py:1006: RuntimeWarning: divide by zero encountered in log10\n",
            "  - 0.5 * np.log10(f_sq + const[3]))\n"
          ],
          "name": "stderr"
        },
        {
          "output_type": "stream",
          "text": [
            "0206 / 1600 | drive/My Drive/AudioTaggerData/FSDKaggle2018.audio_test/98240e2f.wav\n"
          ],
          "name": "stdout"
        },
        {
          "output_type": "stream",
          "text": [
            "/usr/local/lib/python3.6/dist-packages/librosa/core/time_frequency.py:1006: RuntimeWarning: divide by zero encountered in log10\n",
            "  - 0.5 * np.log10(f_sq + const[3]))\n"
          ],
          "name": "stderr"
        },
        {
          "output_type": "stream",
          "text": [
            "0207 / 1600 | drive/My Drive/AudioTaggerData/FSDKaggle2018.audio_test/ac822579.wav\n"
          ],
          "name": "stdout"
        },
        {
          "output_type": "stream",
          "text": [
            "/usr/local/lib/python3.6/dist-packages/librosa/core/time_frequency.py:1006: RuntimeWarning: divide by zero encountered in log10\n",
            "  - 0.5 * np.log10(f_sq + const[3]))\n"
          ],
          "name": "stderr"
        },
        {
          "output_type": "stream",
          "text": [
            "0208 / 1600 | drive/My Drive/AudioTaggerData/FSDKaggle2018.audio_test/b66cffa2.wav\n"
          ],
          "name": "stdout"
        },
        {
          "output_type": "stream",
          "text": [
            "/usr/local/lib/python3.6/dist-packages/librosa/core/time_frequency.py:1006: RuntimeWarning: divide by zero encountered in log10\n",
            "  - 0.5 * np.log10(f_sq + const[3]))\n"
          ],
          "name": "stderr"
        },
        {
          "output_type": "stream",
          "text": [
            "0209 / 1600 | drive/My Drive/AudioTaggerData/FSDKaggle2018.audio_test/7820fdd4.wav\n"
          ],
          "name": "stdout"
        },
        {
          "output_type": "stream",
          "text": [
            "/usr/local/lib/python3.6/dist-packages/librosa/core/time_frequency.py:1006: RuntimeWarning: divide by zero encountered in log10\n",
            "  - 0.5 * np.log10(f_sq + const[3]))\n"
          ],
          "name": "stderr"
        },
        {
          "output_type": "stream",
          "text": [
            "0210 / 1600 | drive/My Drive/AudioTaggerData/FSDKaggle2018.audio_test/b795119f.wav\n"
          ],
          "name": "stdout"
        },
        {
          "output_type": "stream",
          "text": [
            "/usr/local/lib/python3.6/dist-packages/librosa/core/time_frequency.py:1006: RuntimeWarning: divide by zero encountered in log10\n",
            "  - 0.5 * np.log10(f_sq + const[3]))\n"
          ],
          "name": "stderr"
        },
        {
          "output_type": "stream",
          "text": [
            "0211 / 1600 | drive/My Drive/AudioTaggerData/FSDKaggle2018.audio_test/7fe3251a.wav\n"
          ],
          "name": "stdout"
        },
        {
          "output_type": "stream",
          "text": [
            "/usr/local/lib/python3.6/dist-packages/librosa/core/time_frequency.py:1006: RuntimeWarning: divide by zero encountered in log10\n",
            "  - 0.5 * np.log10(f_sq + const[3]))\n"
          ],
          "name": "stderr"
        },
        {
          "output_type": "stream",
          "text": [
            "0212 / 1600 | drive/My Drive/AudioTaggerData/FSDKaggle2018.audio_test/c5869407.wav\n"
          ],
          "name": "stdout"
        },
        {
          "output_type": "stream",
          "text": [
            "/usr/local/lib/python3.6/dist-packages/librosa/core/time_frequency.py:1006: RuntimeWarning: divide by zero encountered in log10\n",
            "  - 0.5 * np.log10(f_sq + const[3]))\n"
          ],
          "name": "stderr"
        },
        {
          "output_type": "stream",
          "text": [
            "0213 / 1600 | drive/My Drive/AudioTaggerData/FSDKaggle2018.audio_test/7c56f810.wav\n"
          ],
          "name": "stdout"
        },
        {
          "output_type": "stream",
          "text": [
            "/usr/local/lib/python3.6/dist-packages/librosa/core/time_frequency.py:1006: RuntimeWarning: divide by zero encountered in log10\n",
            "  - 0.5 * np.log10(f_sq + const[3]))\n"
          ],
          "name": "stderr"
        },
        {
          "output_type": "stream",
          "text": [
            "0214 / 1600 | drive/My Drive/AudioTaggerData/FSDKaggle2018.audio_test/46b06055.wav\n"
          ],
          "name": "stdout"
        },
        {
          "output_type": "stream",
          "text": [
            "/usr/local/lib/python3.6/dist-packages/librosa/core/time_frequency.py:1006: RuntimeWarning: divide by zero encountered in log10\n",
            "  - 0.5 * np.log10(f_sq + const[3]))\n"
          ],
          "name": "stderr"
        },
        {
          "output_type": "stream",
          "text": [
            "0215 / 1600 | drive/My Drive/AudioTaggerData/FSDKaggle2018.audio_test/0844d331.wav\n"
          ],
          "name": "stdout"
        },
        {
          "output_type": "stream",
          "text": [
            "/usr/local/lib/python3.6/dist-packages/librosa/core/time_frequency.py:1006: RuntimeWarning: divide by zero encountered in log10\n",
            "  - 0.5 * np.log10(f_sq + const[3]))\n"
          ],
          "name": "stderr"
        },
        {
          "output_type": "stream",
          "text": [
            "0216 / 1600 | drive/My Drive/AudioTaggerData/FSDKaggle2018.audio_test/ac4477b8.wav\n"
          ],
          "name": "stdout"
        },
        {
          "output_type": "stream",
          "text": [
            "/usr/local/lib/python3.6/dist-packages/librosa/core/time_frequency.py:1006: RuntimeWarning: divide by zero encountered in log10\n",
            "  - 0.5 * np.log10(f_sq + const[3]))\n"
          ],
          "name": "stderr"
        },
        {
          "output_type": "stream",
          "text": [
            "0217 / 1600 | drive/My Drive/AudioTaggerData/FSDKaggle2018.audio_test/c43d2146.wav\n"
          ],
          "name": "stdout"
        },
        {
          "output_type": "stream",
          "text": [
            "/usr/local/lib/python3.6/dist-packages/librosa/core/time_frequency.py:1006: RuntimeWarning: divide by zero encountered in log10\n",
            "  - 0.5 * np.log10(f_sq + const[3]))\n"
          ],
          "name": "stderr"
        },
        {
          "output_type": "stream",
          "text": [
            "0218 / 1600 | drive/My Drive/AudioTaggerData/FSDKaggle2018.audio_test/604f9eba.wav\n"
          ],
          "name": "stdout"
        },
        {
          "output_type": "stream",
          "text": [
            "/usr/local/lib/python3.6/dist-packages/librosa/core/time_frequency.py:1006: RuntimeWarning: divide by zero encountered in log10\n",
            "  - 0.5 * np.log10(f_sq + const[3]))\n"
          ],
          "name": "stderr"
        },
        {
          "output_type": "stream",
          "text": [
            "0219 / 1600 | drive/My Drive/AudioTaggerData/FSDKaggle2018.audio_test/d618ccf7.wav\n"
          ],
          "name": "stdout"
        },
        {
          "output_type": "stream",
          "text": [
            "/usr/local/lib/python3.6/dist-packages/librosa/core/time_frequency.py:1006: RuntimeWarning: divide by zero encountered in log10\n",
            "  - 0.5 * np.log10(f_sq + const[3]))\n"
          ],
          "name": "stderr"
        },
        {
          "output_type": "stream",
          "text": [
            "0220 / 1600 | drive/My Drive/AudioTaggerData/FSDKaggle2018.audio_test/fd6430d6.wav\n"
          ],
          "name": "stdout"
        },
        {
          "output_type": "stream",
          "text": [
            "/usr/local/lib/python3.6/dist-packages/librosa/core/time_frequency.py:1006: RuntimeWarning: divide by zero encountered in log10\n",
            "  - 0.5 * np.log10(f_sq + const[3]))\n"
          ],
          "name": "stderr"
        },
        {
          "output_type": "stream",
          "text": [
            "0221 / 1600 | drive/My Drive/AudioTaggerData/FSDKaggle2018.audio_test/6448e0b2.wav\n"
          ],
          "name": "stdout"
        },
        {
          "output_type": "stream",
          "text": [
            "/usr/local/lib/python3.6/dist-packages/librosa/core/time_frequency.py:1006: RuntimeWarning: divide by zero encountered in log10\n",
            "  - 0.5 * np.log10(f_sq + const[3]))\n"
          ],
          "name": "stderr"
        },
        {
          "output_type": "stream",
          "text": [
            "0222 / 1600 | drive/My Drive/AudioTaggerData/FSDKaggle2018.audio_test/7f77b540.wav\n"
          ],
          "name": "stdout"
        },
        {
          "output_type": "stream",
          "text": [
            "/usr/local/lib/python3.6/dist-packages/librosa/core/time_frequency.py:1006: RuntimeWarning: divide by zero encountered in log10\n",
            "  - 0.5 * np.log10(f_sq + const[3]))\n"
          ],
          "name": "stderr"
        },
        {
          "output_type": "stream",
          "text": [
            "0223 / 1600 | drive/My Drive/AudioTaggerData/FSDKaggle2018.audio_test/9c80c2dc.wav\n"
          ],
          "name": "stdout"
        },
        {
          "output_type": "stream",
          "text": [
            "/usr/local/lib/python3.6/dist-packages/librosa/core/time_frequency.py:1006: RuntimeWarning: divide by zero encountered in log10\n",
            "  - 0.5 * np.log10(f_sq + const[3]))\n"
          ],
          "name": "stderr"
        },
        {
          "output_type": "stream",
          "text": [
            "0224 / 1600 | drive/My Drive/AudioTaggerData/FSDKaggle2018.audio_test/f52523f9.wav\n"
          ],
          "name": "stdout"
        },
        {
          "output_type": "stream",
          "text": [
            "/usr/local/lib/python3.6/dist-packages/librosa/core/time_frequency.py:1006: RuntimeWarning: divide by zero encountered in log10\n",
            "  - 0.5 * np.log10(f_sq + const[3]))\n"
          ],
          "name": "stderr"
        },
        {
          "output_type": "stream",
          "text": [
            "0225 / 1600 | drive/My Drive/AudioTaggerData/FSDKaggle2018.audio_test/5ceab91b.wav\n"
          ],
          "name": "stdout"
        },
        {
          "output_type": "stream",
          "text": [
            "/usr/local/lib/python3.6/dist-packages/librosa/core/time_frequency.py:1006: RuntimeWarning: divide by zero encountered in log10\n",
            "  - 0.5 * np.log10(f_sq + const[3]))\n"
          ],
          "name": "stderr"
        },
        {
          "output_type": "stream",
          "text": [
            "0226 / 1600 | drive/My Drive/AudioTaggerData/FSDKaggle2018.audio_test/8d20f174.wav\n"
          ],
          "name": "stdout"
        },
        {
          "output_type": "stream",
          "text": [
            "/usr/local/lib/python3.6/dist-packages/librosa/core/time_frequency.py:1006: RuntimeWarning: divide by zero encountered in log10\n",
            "  - 0.5 * np.log10(f_sq + const[3]))\n"
          ],
          "name": "stderr"
        },
        {
          "output_type": "stream",
          "text": [
            "0227 / 1600 | drive/My Drive/AudioTaggerData/FSDKaggle2018.audio_test/6de0ac67.wav\n"
          ],
          "name": "stdout"
        },
        {
          "output_type": "stream",
          "text": [
            "/usr/local/lib/python3.6/dist-packages/librosa/core/time_frequency.py:1006: RuntimeWarning: divide by zero encountered in log10\n",
            "  - 0.5 * np.log10(f_sq + const[3]))\n"
          ],
          "name": "stderr"
        },
        {
          "output_type": "stream",
          "text": [
            "0228 / 1600 | drive/My Drive/AudioTaggerData/FSDKaggle2018.audio_test/4b8aa2a7.wav\n"
          ],
          "name": "stdout"
        },
        {
          "output_type": "stream",
          "text": [
            "/usr/local/lib/python3.6/dist-packages/librosa/core/time_frequency.py:1006: RuntimeWarning: divide by zero encountered in log10\n",
            "  - 0.5 * np.log10(f_sq + const[3]))\n"
          ],
          "name": "stderr"
        },
        {
          "output_type": "stream",
          "text": [
            "0229 / 1600 | drive/My Drive/AudioTaggerData/FSDKaggle2018.audio_test/0da2acf4.wav\n"
          ],
          "name": "stdout"
        },
        {
          "output_type": "stream",
          "text": [
            "/usr/local/lib/python3.6/dist-packages/librosa/core/time_frequency.py:1006: RuntimeWarning: divide by zero encountered in log10\n",
            "  - 0.5 * np.log10(f_sq + const[3]))\n"
          ],
          "name": "stderr"
        },
        {
          "output_type": "stream",
          "text": [
            "0230 / 1600 | drive/My Drive/AudioTaggerData/FSDKaggle2018.audio_test/67d91e2b.wav\n"
          ],
          "name": "stdout"
        },
        {
          "output_type": "stream",
          "text": [
            "/usr/local/lib/python3.6/dist-packages/librosa/core/time_frequency.py:1006: RuntimeWarning: divide by zero encountered in log10\n",
            "  - 0.5 * np.log10(f_sq + const[3]))\n"
          ],
          "name": "stderr"
        },
        {
          "output_type": "stream",
          "text": [
            "0231 / 1600 | drive/My Drive/AudioTaggerData/FSDKaggle2018.audio_test/a4789a53.wav\n"
          ],
          "name": "stdout"
        },
        {
          "output_type": "stream",
          "text": [
            "/usr/local/lib/python3.6/dist-packages/librosa/core/time_frequency.py:1006: RuntimeWarning: divide by zero encountered in log10\n",
            "  - 0.5 * np.log10(f_sq + const[3]))\n"
          ],
          "name": "stderr"
        },
        {
          "output_type": "stream",
          "text": [
            "0232 / 1600 | drive/My Drive/AudioTaggerData/FSDKaggle2018.audio_test/6a8e3fbf.wav\n"
          ],
          "name": "stdout"
        },
        {
          "output_type": "stream",
          "text": [
            "/usr/local/lib/python3.6/dist-packages/librosa/core/time_frequency.py:1006: RuntimeWarning: divide by zero encountered in log10\n",
            "  - 0.5 * np.log10(f_sq + const[3]))\n"
          ],
          "name": "stderr"
        },
        {
          "output_type": "stream",
          "text": [
            "0233 / 1600 | drive/My Drive/AudioTaggerData/FSDKaggle2018.audio_test/d84358f2.wav\n"
          ],
          "name": "stdout"
        },
        {
          "output_type": "stream",
          "text": [
            "/usr/local/lib/python3.6/dist-packages/librosa/core/time_frequency.py:1006: RuntimeWarning: divide by zero encountered in log10\n",
            "  - 0.5 * np.log10(f_sq + const[3]))\n"
          ],
          "name": "stderr"
        },
        {
          "output_type": "stream",
          "text": [
            "0234 / 1600 | drive/My Drive/AudioTaggerData/FSDKaggle2018.audio_test/374c8729.wav\n"
          ],
          "name": "stdout"
        },
        {
          "output_type": "stream",
          "text": [
            "/usr/local/lib/python3.6/dist-packages/librosa/core/time_frequency.py:1006: RuntimeWarning: divide by zero encountered in log10\n",
            "  - 0.5 * np.log10(f_sq + const[3]))\n"
          ],
          "name": "stderr"
        },
        {
          "output_type": "stream",
          "text": [
            "0235 / 1600 | drive/My Drive/AudioTaggerData/FSDKaggle2018.audio_test/db434d06.wav\n"
          ],
          "name": "stdout"
        },
        {
          "output_type": "stream",
          "text": [
            "/usr/local/lib/python3.6/dist-packages/librosa/core/time_frequency.py:1006: RuntimeWarning: divide by zero encountered in log10\n",
            "  - 0.5 * np.log10(f_sq + const[3]))\n"
          ],
          "name": "stderr"
        },
        {
          "output_type": "stream",
          "text": [
            "0236 / 1600 | drive/My Drive/AudioTaggerData/FSDKaggle2018.audio_test/bdc28adc.wav\n"
          ],
          "name": "stdout"
        },
        {
          "output_type": "stream",
          "text": [
            "/usr/local/lib/python3.6/dist-packages/librosa/core/time_frequency.py:1006: RuntimeWarning: divide by zero encountered in log10\n",
            "  - 0.5 * np.log10(f_sq + const[3]))\n"
          ],
          "name": "stderr"
        },
        {
          "output_type": "stream",
          "text": [
            "0237 / 1600 | drive/My Drive/AudioTaggerData/FSDKaggle2018.audio_test/22f3b36c.wav\n"
          ],
          "name": "stdout"
        },
        {
          "output_type": "stream",
          "text": [
            "/usr/local/lib/python3.6/dist-packages/librosa/core/time_frequency.py:1006: RuntimeWarning: divide by zero encountered in log10\n",
            "  - 0.5 * np.log10(f_sq + const[3]))\n"
          ],
          "name": "stderr"
        },
        {
          "output_type": "stream",
          "text": [
            "0238 / 1600 | drive/My Drive/AudioTaggerData/FSDKaggle2018.audio_test/e9431311.wav\n"
          ],
          "name": "stdout"
        },
        {
          "output_type": "stream",
          "text": [
            "/usr/local/lib/python3.6/dist-packages/librosa/core/time_frequency.py:1006: RuntimeWarning: divide by zero encountered in log10\n",
            "  - 0.5 * np.log10(f_sq + const[3]))\n"
          ],
          "name": "stderr"
        },
        {
          "output_type": "stream",
          "text": [
            "0239 / 1600 | drive/My Drive/AudioTaggerData/FSDKaggle2018.audio_test/d4d395ee.wav\n"
          ],
          "name": "stdout"
        },
        {
          "output_type": "stream",
          "text": [
            "/usr/local/lib/python3.6/dist-packages/librosa/core/time_frequency.py:1006: RuntimeWarning: divide by zero encountered in log10\n",
            "  - 0.5 * np.log10(f_sq + const[3]))\n"
          ],
          "name": "stderr"
        },
        {
          "output_type": "stream",
          "text": [
            "0240 / 1600 | drive/My Drive/AudioTaggerData/FSDKaggle2018.audio_test/dd95828a.wav\n"
          ],
          "name": "stdout"
        },
        {
          "output_type": "stream",
          "text": [
            "/usr/local/lib/python3.6/dist-packages/librosa/core/time_frequency.py:1006: RuntimeWarning: divide by zero encountered in log10\n",
            "  - 0.5 * np.log10(f_sq + const[3]))\n"
          ],
          "name": "stderr"
        },
        {
          "output_type": "stream",
          "text": [
            "0241 / 1600 | drive/My Drive/AudioTaggerData/FSDKaggle2018.audio_test/fea0565a.wav\n"
          ],
          "name": "stdout"
        },
        {
          "output_type": "stream",
          "text": [
            "/usr/local/lib/python3.6/dist-packages/librosa/core/time_frequency.py:1006: RuntimeWarning: divide by zero encountered in log10\n",
            "  - 0.5 * np.log10(f_sq + const[3]))\n"
          ],
          "name": "stderr"
        },
        {
          "output_type": "stream",
          "text": [
            "0242 / 1600 | drive/My Drive/AudioTaggerData/FSDKaggle2018.audio_test/a476e03f.wav\n"
          ],
          "name": "stdout"
        },
        {
          "output_type": "stream",
          "text": [
            "/usr/local/lib/python3.6/dist-packages/librosa/core/time_frequency.py:1006: RuntimeWarning: divide by zero encountered in log10\n",
            "  - 0.5 * np.log10(f_sq + const[3]))\n"
          ],
          "name": "stderr"
        },
        {
          "output_type": "stream",
          "text": [
            "0243 / 1600 | drive/My Drive/AudioTaggerData/FSDKaggle2018.audio_test/75d1d7bb.wav\n"
          ],
          "name": "stdout"
        },
        {
          "output_type": "stream",
          "text": [
            "/usr/local/lib/python3.6/dist-packages/librosa/core/time_frequency.py:1006: RuntimeWarning: divide by zero encountered in log10\n",
            "  - 0.5 * np.log10(f_sq + const[3]))\n"
          ],
          "name": "stderr"
        },
        {
          "output_type": "stream",
          "text": [
            "0244 / 1600 | drive/My Drive/AudioTaggerData/FSDKaggle2018.audio_test/9d241042.wav\n"
          ],
          "name": "stdout"
        },
        {
          "output_type": "stream",
          "text": [
            "/usr/local/lib/python3.6/dist-packages/librosa/core/time_frequency.py:1006: RuntimeWarning: divide by zero encountered in log10\n",
            "  - 0.5 * np.log10(f_sq + const[3]))\n"
          ],
          "name": "stderr"
        },
        {
          "output_type": "stream",
          "text": [
            "0245 / 1600 | drive/My Drive/AudioTaggerData/FSDKaggle2018.audio_test/891af38f.wav\n"
          ],
          "name": "stdout"
        },
        {
          "output_type": "stream",
          "text": [
            "/usr/local/lib/python3.6/dist-packages/librosa/core/time_frequency.py:1006: RuntimeWarning: divide by zero encountered in log10\n",
            "  - 0.5 * np.log10(f_sq + const[3]))\n"
          ],
          "name": "stderr"
        },
        {
          "output_type": "stream",
          "text": [
            "0246 / 1600 | drive/My Drive/AudioTaggerData/FSDKaggle2018.audio_test/38957ab8.wav\n"
          ],
          "name": "stdout"
        },
        {
          "output_type": "stream",
          "text": [
            "/usr/local/lib/python3.6/dist-packages/librosa/core/time_frequency.py:1006: RuntimeWarning: divide by zero encountered in log10\n",
            "  - 0.5 * np.log10(f_sq + const[3]))\n"
          ],
          "name": "stderr"
        },
        {
          "output_type": "stream",
          "text": [
            "0247 / 1600 | drive/My Drive/AudioTaggerData/FSDKaggle2018.audio_test/bf12e1fd.wav\n"
          ],
          "name": "stdout"
        },
        {
          "output_type": "stream",
          "text": [
            "/usr/local/lib/python3.6/dist-packages/librosa/core/time_frequency.py:1006: RuntimeWarning: divide by zero encountered in log10\n",
            "  - 0.5 * np.log10(f_sq + const[3]))\n"
          ],
          "name": "stderr"
        },
        {
          "output_type": "stream",
          "text": [
            "0248 / 1600 | drive/My Drive/AudioTaggerData/FSDKaggle2018.audio_test/e6eb9ec4.wav\n"
          ],
          "name": "stdout"
        },
        {
          "output_type": "stream",
          "text": [
            "/usr/local/lib/python3.6/dist-packages/librosa/core/time_frequency.py:1006: RuntimeWarning: divide by zero encountered in log10\n",
            "  - 0.5 * np.log10(f_sq + const[3]))\n"
          ],
          "name": "stderr"
        },
        {
          "output_type": "stream",
          "text": [
            "0249 / 1600 | drive/My Drive/AudioTaggerData/FSDKaggle2018.audio_test/aeade423.wav\n"
          ],
          "name": "stdout"
        },
        {
          "output_type": "stream",
          "text": [
            "/usr/local/lib/python3.6/dist-packages/librosa/core/time_frequency.py:1006: RuntimeWarning: divide by zero encountered in log10\n",
            "  - 0.5 * np.log10(f_sq + const[3]))\n"
          ],
          "name": "stderr"
        },
        {
          "output_type": "stream",
          "text": [
            "0250 / 1600 | drive/My Drive/AudioTaggerData/FSDKaggle2018.audio_test/e3c90a56.wav\n"
          ],
          "name": "stdout"
        },
        {
          "output_type": "stream",
          "text": [
            "/usr/local/lib/python3.6/dist-packages/librosa/core/time_frequency.py:1006: RuntimeWarning: divide by zero encountered in log10\n",
            "  - 0.5 * np.log10(f_sq + const[3]))\n"
          ],
          "name": "stderr"
        },
        {
          "output_type": "stream",
          "text": [
            "0251 / 1600 | drive/My Drive/AudioTaggerData/FSDKaggle2018.audio_test/42557556.wav\n"
          ],
          "name": "stdout"
        },
        {
          "output_type": "stream",
          "text": [
            "/usr/local/lib/python3.6/dist-packages/librosa/core/time_frequency.py:1006: RuntimeWarning: divide by zero encountered in log10\n",
            "  - 0.5 * np.log10(f_sq + const[3]))\n"
          ],
          "name": "stderr"
        },
        {
          "output_type": "stream",
          "text": [
            "0252 / 1600 | drive/My Drive/AudioTaggerData/FSDKaggle2018.audio_test/dfbc9586.wav\n"
          ],
          "name": "stdout"
        },
        {
          "output_type": "stream",
          "text": [
            "/usr/local/lib/python3.6/dist-packages/librosa/core/time_frequency.py:1006: RuntimeWarning: divide by zero encountered in log10\n",
            "  - 0.5 * np.log10(f_sq + const[3]))\n"
          ],
          "name": "stderr"
        },
        {
          "output_type": "stream",
          "text": [
            "0253 / 1600 | drive/My Drive/AudioTaggerData/FSDKaggle2018.audio_test/9d299d8c.wav\n"
          ],
          "name": "stdout"
        },
        {
          "output_type": "stream",
          "text": [
            "/usr/local/lib/python3.6/dist-packages/librosa/core/time_frequency.py:1006: RuntimeWarning: divide by zero encountered in log10\n",
            "  - 0.5 * np.log10(f_sq + const[3]))\n"
          ],
          "name": "stderr"
        },
        {
          "output_type": "stream",
          "text": [
            "0254 / 1600 | drive/My Drive/AudioTaggerData/FSDKaggle2018.audio_test/af0ae5a0.wav\n"
          ],
          "name": "stdout"
        },
        {
          "output_type": "stream",
          "text": [
            "/usr/local/lib/python3.6/dist-packages/librosa/core/time_frequency.py:1006: RuntimeWarning: divide by zero encountered in log10\n",
            "  - 0.5 * np.log10(f_sq + const[3]))\n"
          ],
          "name": "stderr"
        },
        {
          "output_type": "stream",
          "text": [
            "0255 / 1600 | drive/My Drive/AudioTaggerData/FSDKaggle2018.audio_test/0e7aea38.wav\n"
          ],
          "name": "stdout"
        },
        {
          "output_type": "stream",
          "text": [
            "/usr/local/lib/python3.6/dist-packages/librosa/core/time_frequency.py:1006: RuntimeWarning: divide by zero encountered in log10\n",
            "  - 0.5 * np.log10(f_sq + const[3]))\n"
          ],
          "name": "stderr"
        },
        {
          "output_type": "stream",
          "text": [
            "0256 / 1600 | drive/My Drive/AudioTaggerData/FSDKaggle2018.audio_test/b25fcbc1.wav\n"
          ],
          "name": "stdout"
        },
        {
          "output_type": "stream",
          "text": [
            "/usr/local/lib/python3.6/dist-packages/librosa/core/time_frequency.py:1006: RuntimeWarning: divide by zero encountered in log10\n",
            "  - 0.5 * np.log10(f_sq + const[3]))\n"
          ],
          "name": "stderr"
        },
        {
          "output_type": "stream",
          "text": [
            "0257 / 1600 | drive/My Drive/AudioTaggerData/FSDKaggle2018.audio_test/8128ca7b.wav\n"
          ],
          "name": "stdout"
        },
        {
          "output_type": "stream",
          "text": [
            "/usr/local/lib/python3.6/dist-packages/librosa/core/time_frequency.py:1006: RuntimeWarning: divide by zero encountered in log10\n",
            "  - 0.5 * np.log10(f_sq + const[3]))\n"
          ],
          "name": "stderr"
        },
        {
          "output_type": "stream",
          "text": [
            "0258 / 1600 | drive/My Drive/AudioTaggerData/FSDKaggle2018.audio_test/925d7f4c.wav\n"
          ],
          "name": "stdout"
        },
        {
          "output_type": "stream",
          "text": [
            "/usr/local/lib/python3.6/dist-packages/librosa/core/time_frequency.py:1006: RuntimeWarning: divide by zero encountered in log10\n",
            "  - 0.5 * np.log10(f_sq + const[3]))\n"
          ],
          "name": "stderr"
        },
        {
          "output_type": "stream",
          "text": [
            "0259 / 1600 | drive/My Drive/AudioTaggerData/FSDKaggle2018.audio_test/51100727.wav\n"
          ],
          "name": "stdout"
        },
        {
          "output_type": "stream",
          "text": [
            "/usr/local/lib/python3.6/dist-packages/librosa/core/time_frequency.py:1006: RuntimeWarning: divide by zero encountered in log10\n",
            "  - 0.5 * np.log10(f_sq + const[3]))\n"
          ],
          "name": "stderr"
        },
        {
          "output_type": "stream",
          "text": [
            "0260 / 1600 | drive/My Drive/AudioTaggerData/FSDKaggle2018.audio_test/1dec0b63.wav\n"
          ],
          "name": "stdout"
        },
        {
          "output_type": "stream",
          "text": [
            "/usr/local/lib/python3.6/dist-packages/librosa/core/time_frequency.py:1006: RuntimeWarning: divide by zero encountered in log10\n",
            "  - 0.5 * np.log10(f_sq + const[3]))\n"
          ],
          "name": "stderr"
        },
        {
          "output_type": "stream",
          "text": [
            "0261 / 1600 | drive/My Drive/AudioTaggerData/FSDKaggle2018.audio_test/58a13aa9.wav\n"
          ],
          "name": "stdout"
        },
        {
          "output_type": "stream",
          "text": [
            "/usr/local/lib/python3.6/dist-packages/librosa/core/time_frequency.py:1006: RuntimeWarning: divide by zero encountered in log10\n",
            "  - 0.5 * np.log10(f_sq + const[3]))\n"
          ],
          "name": "stderr"
        },
        {
          "output_type": "stream",
          "text": [
            "0262 / 1600 | drive/My Drive/AudioTaggerData/FSDKaggle2018.audio_test/af728aaf.wav\n"
          ],
          "name": "stdout"
        },
        {
          "output_type": "stream",
          "text": [
            "/usr/local/lib/python3.6/dist-packages/librosa/core/time_frequency.py:1006: RuntimeWarning: divide by zero encountered in log10\n",
            "  - 0.5 * np.log10(f_sq + const[3]))\n"
          ],
          "name": "stderr"
        },
        {
          "output_type": "stream",
          "text": [
            "0263 / 1600 | drive/My Drive/AudioTaggerData/FSDKaggle2018.audio_test/27d61cf7.wav\n"
          ],
          "name": "stdout"
        },
        {
          "output_type": "stream",
          "text": [
            "/usr/local/lib/python3.6/dist-packages/librosa/core/time_frequency.py:1006: RuntimeWarning: divide by zero encountered in log10\n",
            "  - 0.5 * np.log10(f_sq + const[3]))\n"
          ],
          "name": "stderr"
        },
        {
          "output_type": "stream",
          "text": [
            "0264 / 1600 | drive/My Drive/AudioTaggerData/FSDKaggle2018.audio_test/55d3227f.wav\n"
          ],
          "name": "stdout"
        },
        {
          "output_type": "stream",
          "text": [
            "/usr/local/lib/python3.6/dist-packages/librosa/core/time_frequency.py:1006: RuntimeWarning: divide by zero encountered in log10\n",
            "  - 0.5 * np.log10(f_sq + const[3]))\n"
          ],
          "name": "stderr"
        },
        {
          "output_type": "stream",
          "text": [
            "0265 / 1600 | drive/My Drive/AudioTaggerData/FSDKaggle2018.audio_test/5fd78c8a.wav\n"
          ],
          "name": "stdout"
        },
        {
          "output_type": "stream",
          "text": [
            "/usr/local/lib/python3.6/dist-packages/librosa/core/time_frequency.py:1006: RuntimeWarning: divide by zero encountered in log10\n",
            "  - 0.5 * np.log10(f_sq + const[3]))\n"
          ],
          "name": "stderr"
        },
        {
          "output_type": "stream",
          "text": [
            "0266 / 1600 | drive/My Drive/AudioTaggerData/FSDKaggle2018.audio_test/c69955e7.wav\n"
          ],
          "name": "stdout"
        },
        {
          "output_type": "stream",
          "text": [
            "/usr/local/lib/python3.6/dist-packages/librosa/core/time_frequency.py:1006: RuntimeWarning: divide by zero encountered in log10\n",
            "  - 0.5 * np.log10(f_sq + const[3]))\n"
          ],
          "name": "stderr"
        },
        {
          "output_type": "stream",
          "text": [
            "0267 / 1600 | drive/My Drive/AudioTaggerData/FSDKaggle2018.audio_test/fa6c3248.wav\n"
          ],
          "name": "stdout"
        },
        {
          "output_type": "stream",
          "text": [
            "/usr/local/lib/python3.6/dist-packages/librosa/core/time_frequency.py:1006: RuntimeWarning: divide by zero encountered in log10\n",
            "  - 0.5 * np.log10(f_sq + const[3]))\n"
          ],
          "name": "stderr"
        },
        {
          "output_type": "stream",
          "text": [
            "0268 / 1600 | drive/My Drive/AudioTaggerData/FSDKaggle2018.audio_test/853939b1.wav\n"
          ],
          "name": "stdout"
        },
        {
          "output_type": "stream",
          "text": [
            "/usr/local/lib/python3.6/dist-packages/librosa/core/time_frequency.py:1006: RuntimeWarning: divide by zero encountered in log10\n",
            "  - 0.5 * np.log10(f_sq + const[3]))\n"
          ],
          "name": "stderr"
        },
        {
          "output_type": "stream",
          "text": [
            "0269 / 1600 | drive/My Drive/AudioTaggerData/FSDKaggle2018.audio_test/a19a76c1.wav\n"
          ],
          "name": "stdout"
        },
        {
          "output_type": "stream",
          "text": [
            "/usr/local/lib/python3.6/dist-packages/librosa/core/time_frequency.py:1006: RuntimeWarning: divide by zero encountered in log10\n",
            "  - 0.5 * np.log10(f_sq + const[3]))\n"
          ],
          "name": "stderr"
        },
        {
          "output_type": "stream",
          "text": [
            "0270 / 1600 | drive/My Drive/AudioTaggerData/FSDKaggle2018.audio_test/f98c8231.wav\n"
          ],
          "name": "stdout"
        },
        {
          "output_type": "stream",
          "text": [
            "/usr/local/lib/python3.6/dist-packages/librosa/core/time_frequency.py:1006: RuntimeWarning: divide by zero encountered in log10\n",
            "  - 0.5 * np.log10(f_sq + const[3]))\n"
          ],
          "name": "stderr"
        },
        {
          "output_type": "stream",
          "text": [
            "0271 / 1600 | drive/My Drive/AudioTaggerData/FSDKaggle2018.audio_test/5064c8f4.wav\n"
          ],
          "name": "stdout"
        },
        {
          "output_type": "stream",
          "text": [
            "/usr/local/lib/python3.6/dist-packages/librosa/core/time_frequency.py:1006: RuntimeWarning: divide by zero encountered in log10\n",
            "  - 0.5 * np.log10(f_sq + const[3]))\n"
          ],
          "name": "stderr"
        },
        {
          "output_type": "stream",
          "text": [
            "0272 / 1600 | drive/My Drive/AudioTaggerData/FSDKaggle2018.audio_test/a3e69b4e.wav\n"
          ],
          "name": "stdout"
        },
        {
          "output_type": "stream",
          "text": [
            "/usr/local/lib/python3.6/dist-packages/librosa/core/time_frequency.py:1006: RuntimeWarning: divide by zero encountered in log10\n",
            "  - 0.5 * np.log10(f_sq + const[3]))\n"
          ],
          "name": "stderr"
        },
        {
          "output_type": "stream",
          "text": [
            "0273 / 1600 | drive/My Drive/AudioTaggerData/FSDKaggle2018.audio_test/2750c860.wav\n"
          ],
          "name": "stdout"
        },
        {
          "output_type": "stream",
          "text": [
            "/usr/local/lib/python3.6/dist-packages/librosa/core/time_frequency.py:1006: RuntimeWarning: divide by zero encountered in log10\n",
            "  - 0.5 * np.log10(f_sq + const[3]))\n"
          ],
          "name": "stderr"
        },
        {
          "output_type": "stream",
          "text": [
            "0274 / 1600 | drive/My Drive/AudioTaggerData/FSDKaggle2018.audio_test/55f687f3.wav\n"
          ],
          "name": "stdout"
        },
        {
          "output_type": "stream",
          "text": [
            "/usr/local/lib/python3.6/dist-packages/librosa/core/time_frequency.py:1006: RuntimeWarning: divide by zero encountered in log10\n",
            "  - 0.5 * np.log10(f_sq + const[3]))\n"
          ],
          "name": "stderr"
        },
        {
          "output_type": "stream",
          "text": [
            "0275 / 1600 | drive/My Drive/AudioTaggerData/FSDKaggle2018.audio_test/6888026f.wav\n"
          ],
          "name": "stdout"
        },
        {
          "output_type": "stream",
          "text": [
            "/usr/local/lib/python3.6/dist-packages/librosa/core/time_frequency.py:1006: RuntimeWarning: divide by zero encountered in log10\n",
            "  - 0.5 * np.log10(f_sq + const[3]))\n"
          ],
          "name": "stderr"
        },
        {
          "output_type": "stream",
          "text": [
            "0276 / 1600 | drive/My Drive/AudioTaggerData/FSDKaggle2018.audio_test/fed5f0e6.wav\n"
          ],
          "name": "stdout"
        },
        {
          "output_type": "stream",
          "text": [
            "/usr/local/lib/python3.6/dist-packages/librosa/core/time_frequency.py:1006: RuntimeWarning: divide by zero encountered in log10\n",
            "  - 0.5 * np.log10(f_sq + const[3]))\n"
          ],
          "name": "stderr"
        },
        {
          "output_type": "stream",
          "text": [
            "0277 / 1600 | drive/My Drive/AudioTaggerData/FSDKaggle2018.audio_test/6d27faa4.wav\n"
          ],
          "name": "stdout"
        },
        {
          "output_type": "stream",
          "text": [
            "/usr/local/lib/python3.6/dist-packages/librosa/core/time_frequency.py:1006: RuntimeWarning: divide by zero encountered in log10\n",
            "  - 0.5 * np.log10(f_sq + const[3]))\n"
          ],
          "name": "stderr"
        },
        {
          "output_type": "stream",
          "text": [
            "0278 / 1600 | drive/My Drive/AudioTaggerData/FSDKaggle2018.audio_test/2804c60c.wav\n"
          ],
          "name": "stdout"
        },
        {
          "output_type": "stream",
          "text": [
            "/usr/local/lib/python3.6/dist-packages/librosa/core/time_frequency.py:1006: RuntimeWarning: divide by zero encountered in log10\n",
            "  - 0.5 * np.log10(f_sq + const[3]))\n"
          ],
          "name": "stderr"
        },
        {
          "output_type": "stream",
          "text": [
            "0279 / 1600 | drive/My Drive/AudioTaggerData/FSDKaggle2018.audio_test/fe995ee3.wav\n"
          ],
          "name": "stdout"
        },
        {
          "output_type": "stream",
          "text": [
            "/usr/local/lib/python3.6/dist-packages/librosa/core/time_frequency.py:1006: RuntimeWarning: divide by zero encountered in log10\n",
            "  - 0.5 * np.log10(f_sq + const[3]))\n"
          ],
          "name": "stderr"
        },
        {
          "output_type": "stream",
          "text": [
            "0280 / 1600 | drive/My Drive/AudioTaggerData/FSDKaggle2018.audio_test/9770293b.wav\n"
          ],
          "name": "stdout"
        },
        {
          "output_type": "stream",
          "text": [
            "/usr/local/lib/python3.6/dist-packages/librosa/core/time_frequency.py:1006: RuntimeWarning: divide by zero encountered in log10\n",
            "  - 0.5 * np.log10(f_sq + const[3]))\n"
          ],
          "name": "stderr"
        },
        {
          "output_type": "stream",
          "text": [
            "0281 / 1600 | drive/My Drive/AudioTaggerData/FSDKaggle2018.audio_test/2ac77c6a.wav\n"
          ],
          "name": "stdout"
        },
        {
          "output_type": "stream",
          "text": [
            "/usr/local/lib/python3.6/dist-packages/librosa/core/time_frequency.py:1006: RuntimeWarning: divide by zero encountered in log10\n",
            "  - 0.5 * np.log10(f_sq + const[3]))\n"
          ],
          "name": "stderr"
        },
        {
          "output_type": "stream",
          "text": [
            "0282 / 1600 | drive/My Drive/AudioTaggerData/FSDKaggle2018.audio_test/f0d5373d.wav\n"
          ],
          "name": "stdout"
        },
        {
          "output_type": "stream",
          "text": [
            "/usr/local/lib/python3.6/dist-packages/librosa/core/time_frequency.py:1006: RuntimeWarning: divide by zero encountered in log10\n",
            "  - 0.5 * np.log10(f_sq + const[3]))\n"
          ],
          "name": "stderr"
        },
        {
          "output_type": "stream",
          "text": [
            "0283 / 1600 | drive/My Drive/AudioTaggerData/FSDKaggle2018.audio_test/4223de81.wav\n"
          ],
          "name": "stdout"
        },
        {
          "output_type": "stream",
          "text": [
            "/usr/local/lib/python3.6/dist-packages/librosa/core/time_frequency.py:1006: RuntimeWarning: divide by zero encountered in log10\n",
            "  - 0.5 * np.log10(f_sq + const[3]))\n"
          ],
          "name": "stderr"
        },
        {
          "output_type": "stream",
          "text": [
            "0284 / 1600 | drive/My Drive/AudioTaggerData/FSDKaggle2018.audio_test/224ab14d.wav\n"
          ],
          "name": "stdout"
        },
        {
          "output_type": "stream",
          "text": [
            "/usr/local/lib/python3.6/dist-packages/librosa/core/time_frequency.py:1006: RuntimeWarning: divide by zero encountered in log10\n",
            "  - 0.5 * np.log10(f_sq + const[3]))\n"
          ],
          "name": "stderr"
        },
        {
          "output_type": "stream",
          "text": [
            "0285 / 1600 | drive/My Drive/AudioTaggerData/FSDKaggle2018.audio_test/c92a3475.wav\n"
          ],
          "name": "stdout"
        },
        {
          "output_type": "stream",
          "text": [
            "/usr/local/lib/python3.6/dist-packages/librosa/core/time_frequency.py:1006: RuntimeWarning: divide by zero encountered in log10\n",
            "  - 0.5 * np.log10(f_sq + const[3]))\n"
          ],
          "name": "stderr"
        },
        {
          "output_type": "stream",
          "text": [
            "0286 / 1600 | drive/My Drive/AudioTaggerData/FSDKaggle2018.audio_test/9cd2f7ce.wav\n"
          ],
          "name": "stdout"
        },
        {
          "output_type": "stream",
          "text": [
            "/usr/local/lib/python3.6/dist-packages/librosa/core/time_frequency.py:1006: RuntimeWarning: divide by zero encountered in log10\n",
            "  - 0.5 * np.log10(f_sq + const[3]))\n"
          ],
          "name": "stderr"
        },
        {
          "output_type": "stream",
          "text": [
            "0287 / 1600 | drive/My Drive/AudioTaggerData/FSDKaggle2018.audio_test/430a19a8.wav\n"
          ],
          "name": "stdout"
        },
        {
          "output_type": "stream",
          "text": [
            "/usr/local/lib/python3.6/dist-packages/librosa/core/time_frequency.py:1006: RuntimeWarning: divide by zero encountered in log10\n",
            "  - 0.5 * np.log10(f_sq + const[3]))\n"
          ],
          "name": "stderr"
        },
        {
          "output_type": "stream",
          "text": [
            "0288 / 1600 | drive/My Drive/AudioTaggerData/FSDKaggle2018.audio_test/7547651b.wav\n"
          ],
          "name": "stdout"
        },
        {
          "output_type": "stream",
          "text": [
            "/usr/local/lib/python3.6/dist-packages/librosa/core/time_frequency.py:1006: RuntimeWarning: divide by zero encountered in log10\n",
            "  - 0.5 * np.log10(f_sq + const[3]))\n"
          ],
          "name": "stderr"
        },
        {
          "output_type": "stream",
          "text": [
            "0289 / 1600 | drive/My Drive/AudioTaggerData/FSDKaggle2018.audio_test/597dc329.wav\n"
          ],
          "name": "stdout"
        },
        {
          "output_type": "stream",
          "text": [
            "/usr/local/lib/python3.6/dist-packages/librosa/core/time_frequency.py:1006: RuntimeWarning: divide by zero encountered in log10\n",
            "  - 0.5 * np.log10(f_sq + const[3]))\n"
          ],
          "name": "stderr"
        },
        {
          "output_type": "stream",
          "text": [
            "0290 / 1600 | drive/My Drive/AudioTaggerData/FSDKaggle2018.audio_test/0d976b22.wav\n"
          ],
          "name": "stdout"
        },
        {
          "output_type": "stream",
          "text": [
            "/usr/local/lib/python3.6/dist-packages/librosa/core/time_frequency.py:1006: RuntimeWarning: divide by zero encountered in log10\n",
            "  - 0.5 * np.log10(f_sq + const[3]))\n"
          ],
          "name": "stderr"
        },
        {
          "output_type": "stream",
          "text": [
            "0291 / 1600 | drive/My Drive/AudioTaggerData/FSDKaggle2018.audio_test/89248704.wav\n"
          ],
          "name": "stdout"
        },
        {
          "output_type": "stream",
          "text": [
            "/usr/local/lib/python3.6/dist-packages/librosa/core/time_frequency.py:1006: RuntimeWarning: divide by zero encountered in log10\n",
            "  - 0.5 * np.log10(f_sq + const[3]))\n"
          ],
          "name": "stderr"
        },
        {
          "output_type": "stream",
          "text": [
            "0292 / 1600 | drive/My Drive/AudioTaggerData/FSDKaggle2018.audio_test/0381efd3.wav\n"
          ],
          "name": "stdout"
        },
        {
          "output_type": "stream",
          "text": [
            "/usr/local/lib/python3.6/dist-packages/librosa/core/time_frequency.py:1006: RuntimeWarning: divide by zero encountered in log10\n",
            "  - 0.5 * np.log10(f_sq + const[3]))\n"
          ],
          "name": "stderr"
        },
        {
          "output_type": "stream",
          "text": [
            "0293 / 1600 | drive/My Drive/AudioTaggerData/FSDKaggle2018.audio_test/1cbdc6d4.wav\n"
          ],
          "name": "stdout"
        },
        {
          "output_type": "stream",
          "text": [
            "/usr/local/lib/python3.6/dist-packages/librosa/core/time_frequency.py:1006: RuntimeWarning: divide by zero encountered in log10\n",
            "  - 0.5 * np.log10(f_sq + const[3]))\n"
          ],
          "name": "stderr"
        },
        {
          "output_type": "stream",
          "text": [
            "0294 / 1600 | drive/My Drive/AudioTaggerData/FSDKaggle2018.audio_test/d6afd652.wav\n"
          ],
          "name": "stdout"
        },
        {
          "output_type": "stream",
          "text": [
            "/usr/local/lib/python3.6/dist-packages/librosa/core/time_frequency.py:1006: RuntimeWarning: divide by zero encountered in log10\n",
            "  - 0.5 * np.log10(f_sq + const[3]))\n"
          ],
          "name": "stderr"
        },
        {
          "output_type": "stream",
          "text": [
            "0295 / 1600 | drive/My Drive/AudioTaggerData/FSDKaggle2018.audio_test/f6a3ee71.wav\n"
          ],
          "name": "stdout"
        },
        {
          "output_type": "stream",
          "text": [
            "/usr/local/lib/python3.6/dist-packages/librosa/core/time_frequency.py:1006: RuntimeWarning: divide by zero encountered in log10\n",
            "  - 0.5 * np.log10(f_sq + const[3]))\n"
          ],
          "name": "stderr"
        },
        {
          "output_type": "stream",
          "text": [
            "0296 / 1600 | drive/My Drive/AudioTaggerData/FSDKaggle2018.audio_test/d3869bfb.wav\n"
          ],
          "name": "stdout"
        },
        {
          "output_type": "stream",
          "text": [
            "/usr/local/lib/python3.6/dist-packages/librosa/core/time_frequency.py:1006: RuntimeWarning: divide by zero encountered in log10\n",
            "  - 0.5 * np.log10(f_sq + const[3]))\n"
          ],
          "name": "stderr"
        },
        {
          "output_type": "stream",
          "text": [
            "0297 / 1600 | drive/My Drive/AudioTaggerData/FSDKaggle2018.audio_test/32fe0550.wav\n"
          ],
          "name": "stdout"
        },
        {
          "output_type": "stream",
          "text": [
            "/usr/local/lib/python3.6/dist-packages/librosa/core/time_frequency.py:1006: RuntimeWarning: divide by zero encountered in log10\n",
            "  - 0.5 * np.log10(f_sq + const[3]))\n"
          ],
          "name": "stderr"
        },
        {
          "output_type": "stream",
          "text": [
            "0298 / 1600 | drive/My Drive/AudioTaggerData/FSDKaggle2018.audio_test/8d55d1fa.wav\n"
          ],
          "name": "stdout"
        },
        {
          "output_type": "stream",
          "text": [
            "/usr/local/lib/python3.6/dist-packages/librosa/core/time_frequency.py:1006: RuntimeWarning: divide by zero encountered in log10\n",
            "  - 0.5 * np.log10(f_sq + const[3]))\n"
          ],
          "name": "stderr"
        },
        {
          "output_type": "stream",
          "text": [
            "0299 / 1600 | drive/My Drive/AudioTaggerData/FSDKaggle2018.audio_test/1c01994c.wav\n"
          ],
          "name": "stdout"
        },
        {
          "output_type": "stream",
          "text": [
            "/usr/local/lib/python3.6/dist-packages/librosa/core/time_frequency.py:1006: RuntimeWarning: divide by zero encountered in log10\n",
            "  - 0.5 * np.log10(f_sq + const[3]))\n"
          ],
          "name": "stderr"
        },
        {
          "output_type": "stream",
          "text": [
            "0300 / 1600 | drive/My Drive/AudioTaggerData/FSDKaggle2018.audio_test/34cddac7.wav\n"
          ],
          "name": "stdout"
        },
        {
          "output_type": "stream",
          "text": [
            "/usr/local/lib/python3.6/dist-packages/librosa/core/time_frequency.py:1006: RuntimeWarning: divide by zero encountered in log10\n",
            "  - 0.5 * np.log10(f_sq + const[3]))\n"
          ],
          "name": "stderr"
        },
        {
          "output_type": "stream",
          "text": [
            "0301 / 1600 | drive/My Drive/AudioTaggerData/FSDKaggle2018.audio_test/6ab2a13b.wav\n"
          ],
          "name": "stdout"
        },
        {
          "output_type": "stream",
          "text": [
            "/usr/local/lib/python3.6/dist-packages/librosa/core/time_frequency.py:1006: RuntimeWarning: divide by zero encountered in log10\n",
            "  - 0.5 * np.log10(f_sq + const[3]))\n"
          ],
          "name": "stderr"
        },
        {
          "output_type": "stream",
          "text": [
            "0302 / 1600 | drive/My Drive/AudioTaggerData/FSDKaggle2018.audio_test/3863cc53.wav\n"
          ],
          "name": "stdout"
        },
        {
          "output_type": "stream",
          "text": [
            "/usr/local/lib/python3.6/dist-packages/librosa/core/time_frequency.py:1006: RuntimeWarning: divide by zero encountered in log10\n",
            "  - 0.5 * np.log10(f_sq + const[3]))\n"
          ],
          "name": "stderr"
        },
        {
          "output_type": "stream",
          "text": [
            "0303 / 1600 | drive/My Drive/AudioTaggerData/FSDKaggle2018.audio_test/cc024474.wav\n"
          ],
          "name": "stdout"
        },
        {
          "output_type": "stream",
          "text": [
            "/usr/local/lib/python3.6/dist-packages/librosa/core/time_frequency.py:1006: RuntimeWarning: divide by zero encountered in log10\n",
            "  - 0.5 * np.log10(f_sq + const[3]))\n"
          ],
          "name": "stderr"
        },
        {
          "output_type": "stream",
          "text": [
            "0304 / 1600 | drive/My Drive/AudioTaggerData/FSDKaggle2018.audio_test/c0933f1f.wav\n"
          ],
          "name": "stdout"
        },
        {
          "output_type": "stream",
          "text": [
            "/usr/local/lib/python3.6/dist-packages/librosa/core/time_frequency.py:1006: RuntimeWarning: divide by zero encountered in log10\n",
            "  - 0.5 * np.log10(f_sq + const[3]))\n"
          ],
          "name": "stderr"
        },
        {
          "output_type": "stream",
          "text": [
            "0305 / 1600 | drive/My Drive/AudioTaggerData/FSDKaggle2018.audio_test/f6ae1e9c.wav\n"
          ],
          "name": "stdout"
        },
        {
          "output_type": "stream",
          "text": [
            "/usr/local/lib/python3.6/dist-packages/librosa/core/time_frequency.py:1006: RuntimeWarning: divide by zero encountered in log10\n",
            "  - 0.5 * np.log10(f_sq + const[3]))\n"
          ],
          "name": "stderr"
        },
        {
          "output_type": "stream",
          "text": [
            "0306 / 1600 | drive/My Drive/AudioTaggerData/FSDKaggle2018.audio_test/8f8b9651.wav\n"
          ],
          "name": "stdout"
        },
        {
          "output_type": "stream",
          "text": [
            "/usr/local/lib/python3.6/dist-packages/librosa/core/time_frequency.py:1006: RuntimeWarning: divide by zero encountered in log10\n",
            "  - 0.5 * np.log10(f_sq + const[3]))\n"
          ],
          "name": "stderr"
        },
        {
          "output_type": "stream",
          "text": [
            "0307 / 1600 | drive/My Drive/AudioTaggerData/FSDKaggle2018.audio_test/81e18145.wav\n"
          ],
          "name": "stdout"
        },
        {
          "output_type": "stream",
          "text": [
            "/usr/local/lib/python3.6/dist-packages/librosa/core/time_frequency.py:1006: RuntimeWarning: divide by zero encountered in log10\n",
            "  - 0.5 * np.log10(f_sq + const[3]))\n"
          ],
          "name": "stderr"
        },
        {
          "output_type": "stream",
          "text": [
            "0308 / 1600 | drive/My Drive/AudioTaggerData/FSDKaggle2018.audio_test/94a9ac6d.wav\n"
          ],
          "name": "stdout"
        },
        {
          "output_type": "stream",
          "text": [
            "/usr/local/lib/python3.6/dist-packages/librosa/core/time_frequency.py:1006: RuntimeWarning: divide by zero encountered in log10\n",
            "  - 0.5 * np.log10(f_sq + const[3]))\n"
          ],
          "name": "stderr"
        },
        {
          "output_type": "stream",
          "text": [
            "0309 / 1600 | drive/My Drive/AudioTaggerData/FSDKaggle2018.audio_test/5a3491fc.wav\n"
          ],
          "name": "stdout"
        },
        {
          "output_type": "stream",
          "text": [
            "/usr/local/lib/python3.6/dist-packages/librosa/core/time_frequency.py:1006: RuntimeWarning: divide by zero encountered in log10\n",
            "  - 0.5 * np.log10(f_sq + const[3]))\n"
          ],
          "name": "stderr"
        },
        {
          "output_type": "stream",
          "text": [
            "0310 / 1600 | drive/My Drive/AudioTaggerData/FSDKaggle2018.audio_test/7ef76869.wav\n"
          ],
          "name": "stdout"
        },
        {
          "output_type": "stream",
          "text": [
            "/usr/local/lib/python3.6/dist-packages/librosa/core/time_frequency.py:1006: RuntimeWarning: divide by zero encountered in log10\n",
            "  - 0.5 * np.log10(f_sq + const[3]))\n"
          ],
          "name": "stderr"
        },
        {
          "output_type": "stream",
          "text": [
            "0311 / 1600 | drive/My Drive/AudioTaggerData/FSDKaggle2018.audio_test/00326aa9.wav\n"
          ],
          "name": "stdout"
        },
        {
          "output_type": "stream",
          "text": [
            "/usr/local/lib/python3.6/dist-packages/librosa/core/time_frequency.py:1006: RuntimeWarning: divide by zero encountered in log10\n",
            "  - 0.5 * np.log10(f_sq + const[3]))\n"
          ],
          "name": "stderr"
        },
        {
          "output_type": "stream",
          "text": [
            "0312 / 1600 | drive/My Drive/AudioTaggerData/FSDKaggle2018.audio_test/8ef3d194.wav\n"
          ],
          "name": "stdout"
        },
        {
          "output_type": "stream",
          "text": [
            "/usr/local/lib/python3.6/dist-packages/librosa/core/time_frequency.py:1006: RuntimeWarning: divide by zero encountered in log10\n",
            "  - 0.5 * np.log10(f_sq + const[3]))\n"
          ],
          "name": "stderr"
        },
        {
          "output_type": "stream",
          "text": [
            "0313 / 1600 | drive/My Drive/AudioTaggerData/FSDKaggle2018.audio_test/3ad721ec.wav\n"
          ],
          "name": "stdout"
        },
        {
          "output_type": "stream",
          "text": [
            "/usr/local/lib/python3.6/dist-packages/librosa/core/time_frequency.py:1006: RuntimeWarning: divide by zero encountered in log10\n",
            "  - 0.5 * np.log10(f_sq + const[3]))\n"
          ],
          "name": "stderr"
        },
        {
          "output_type": "stream",
          "text": [
            "0314 / 1600 | drive/My Drive/AudioTaggerData/FSDKaggle2018.audio_test/5b408682.wav\n"
          ],
          "name": "stdout"
        },
        {
          "output_type": "stream",
          "text": [
            "/usr/local/lib/python3.6/dist-packages/librosa/core/time_frequency.py:1006: RuntimeWarning: divide by zero encountered in log10\n",
            "  - 0.5 * np.log10(f_sq + const[3]))\n"
          ],
          "name": "stderr"
        },
        {
          "output_type": "stream",
          "text": [
            "0315 / 1600 | drive/My Drive/AudioTaggerData/FSDKaggle2018.audio_test/02107093.wav\n"
          ],
          "name": "stdout"
        },
        {
          "output_type": "stream",
          "text": [
            "/usr/local/lib/python3.6/dist-packages/librosa/core/time_frequency.py:1006: RuntimeWarning: divide by zero encountered in log10\n",
            "  - 0.5 * np.log10(f_sq + const[3]))\n"
          ],
          "name": "stderr"
        },
        {
          "output_type": "stream",
          "text": [
            "0316 / 1600 | drive/My Drive/AudioTaggerData/FSDKaggle2018.audio_test/3add7ae7.wav\n"
          ],
          "name": "stdout"
        },
        {
          "output_type": "stream",
          "text": [
            "/usr/local/lib/python3.6/dist-packages/librosa/core/time_frequency.py:1006: RuntimeWarning: divide by zero encountered in log10\n",
            "  - 0.5 * np.log10(f_sq + const[3]))\n"
          ],
          "name": "stderr"
        },
        {
          "output_type": "stream",
          "text": [
            "0317 / 1600 | drive/My Drive/AudioTaggerData/FSDKaggle2018.audio_test/b73ce56b.wav\n"
          ],
          "name": "stdout"
        },
        {
          "output_type": "stream",
          "text": [
            "/usr/local/lib/python3.6/dist-packages/librosa/core/time_frequency.py:1006: RuntimeWarning: divide by zero encountered in log10\n",
            "  - 0.5 * np.log10(f_sq + const[3]))\n"
          ],
          "name": "stderr"
        },
        {
          "output_type": "stream",
          "text": [
            "0318 / 1600 | drive/My Drive/AudioTaggerData/FSDKaggle2018.audio_test/edc01573.wav\n"
          ],
          "name": "stdout"
        },
        {
          "output_type": "stream",
          "text": [
            "/usr/local/lib/python3.6/dist-packages/librosa/core/time_frequency.py:1006: RuntimeWarning: divide by zero encountered in log10\n",
            "  - 0.5 * np.log10(f_sq + const[3]))\n"
          ],
          "name": "stderr"
        },
        {
          "output_type": "stream",
          "text": [
            "0319 / 1600 | drive/My Drive/AudioTaggerData/FSDKaggle2018.audio_test/9b2dcfef.wav\n"
          ],
          "name": "stdout"
        },
        {
          "output_type": "stream",
          "text": [
            "/usr/local/lib/python3.6/dist-packages/librosa/core/time_frequency.py:1006: RuntimeWarning: divide by zero encountered in log10\n",
            "  - 0.5 * np.log10(f_sq + const[3]))\n"
          ],
          "name": "stderr"
        },
        {
          "output_type": "stream",
          "text": [
            "0320 / 1600 | drive/My Drive/AudioTaggerData/FSDKaggle2018.audio_test/d3260470.wav\n"
          ],
          "name": "stdout"
        },
        {
          "output_type": "stream",
          "text": [
            "/usr/local/lib/python3.6/dist-packages/librosa/core/time_frequency.py:1006: RuntimeWarning: divide by zero encountered in log10\n",
            "  - 0.5 * np.log10(f_sq + const[3]))\n"
          ],
          "name": "stderr"
        },
        {
          "output_type": "stream",
          "text": [
            "0321 / 1600 | drive/My Drive/AudioTaggerData/FSDKaggle2018.audio_test/41990e60.wav\n"
          ],
          "name": "stdout"
        },
        {
          "output_type": "stream",
          "text": [
            "/usr/local/lib/python3.6/dist-packages/librosa/core/time_frequency.py:1006: RuntimeWarning: divide by zero encountered in log10\n",
            "  - 0.5 * np.log10(f_sq + const[3]))\n"
          ],
          "name": "stderr"
        },
        {
          "output_type": "stream",
          "text": [
            "0322 / 1600 | drive/My Drive/AudioTaggerData/FSDKaggle2018.audio_test/c6d8f5e0.wav\n"
          ],
          "name": "stdout"
        },
        {
          "output_type": "stream",
          "text": [
            "/usr/local/lib/python3.6/dist-packages/librosa/core/time_frequency.py:1006: RuntimeWarning: divide by zero encountered in log10\n",
            "  - 0.5 * np.log10(f_sq + const[3]))\n"
          ],
          "name": "stderr"
        },
        {
          "output_type": "stream",
          "text": [
            "0323 / 1600 | drive/My Drive/AudioTaggerData/FSDKaggle2018.audio_test/a253f4e7.wav\n"
          ],
          "name": "stdout"
        },
        {
          "output_type": "stream",
          "text": [
            "/usr/local/lib/python3.6/dist-packages/librosa/core/time_frequency.py:1006: RuntimeWarning: divide by zero encountered in log10\n",
            "  - 0.5 * np.log10(f_sq + const[3]))\n"
          ],
          "name": "stderr"
        },
        {
          "output_type": "stream",
          "text": [
            "0324 / 1600 | drive/My Drive/AudioTaggerData/FSDKaggle2018.audio_test/6cd688bd.wav\n"
          ],
          "name": "stdout"
        },
        {
          "output_type": "stream",
          "text": [
            "/usr/local/lib/python3.6/dist-packages/librosa/core/time_frequency.py:1006: RuntimeWarning: divide by zero encountered in log10\n",
            "  - 0.5 * np.log10(f_sq + const[3]))\n"
          ],
          "name": "stderr"
        },
        {
          "output_type": "stream",
          "text": [
            "0325 / 1600 | drive/My Drive/AudioTaggerData/FSDKaggle2018.audio_test/023eab1f.wav\n"
          ],
          "name": "stdout"
        },
        {
          "output_type": "stream",
          "text": [
            "/usr/local/lib/python3.6/dist-packages/librosa/core/time_frequency.py:1006: RuntimeWarning: divide by zero encountered in log10\n",
            "  - 0.5 * np.log10(f_sq + const[3]))\n"
          ],
          "name": "stderr"
        },
        {
          "output_type": "stream",
          "text": [
            "0326 / 1600 | drive/My Drive/AudioTaggerData/FSDKaggle2018.audio_test/63fd0268.wav\n"
          ],
          "name": "stdout"
        },
        {
          "output_type": "stream",
          "text": [
            "/usr/local/lib/python3.6/dist-packages/librosa/core/time_frequency.py:1006: RuntimeWarning: divide by zero encountered in log10\n",
            "  - 0.5 * np.log10(f_sq + const[3]))\n"
          ],
          "name": "stderr"
        },
        {
          "output_type": "stream",
          "text": [
            "0327 / 1600 | drive/My Drive/AudioTaggerData/FSDKaggle2018.audio_test/057425e6.wav\n"
          ],
          "name": "stdout"
        },
        {
          "output_type": "stream",
          "text": [
            "/usr/local/lib/python3.6/dist-packages/librosa/core/time_frequency.py:1006: RuntimeWarning: divide by zero encountered in log10\n",
            "  - 0.5 * np.log10(f_sq + const[3]))\n"
          ],
          "name": "stderr"
        },
        {
          "output_type": "stream",
          "text": [
            "0328 / 1600 | drive/My Drive/AudioTaggerData/FSDKaggle2018.audio_test/21d36543.wav\n"
          ],
          "name": "stdout"
        },
        {
          "output_type": "stream",
          "text": [
            "/usr/local/lib/python3.6/dist-packages/librosa/core/time_frequency.py:1006: RuntimeWarning: divide by zero encountered in log10\n",
            "  - 0.5 * np.log10(f_sq + const[3]))\n"
          ],
          "name": "stderr"
        },
        {
          "output_type": "stream",
          "text": [
            "0329 / 1600 | drive/My Drive/AudioTaggerData/FSDKaggle2018.audio_test/e269a6c9.wav\n"
          ],
          "name": "stdout"
        },
        {
          "output_type": "stream",
          "text": [
            "/usr/local/lib/python3.6/dist-packages/librosa/core/time_frequency.py:1006: RuntimeWarning: divide by zero encountered in log10\n",
            "  - 0.5 * np.log10(f_sq + const[3]))\n"
          ],
          "name": "stderr"
        },
        {
          "output_type": "stream",
          "text": [
            "0330 / 1600 | drive/My Drive/AudioTaggerData/FSDKaggle2018.audio_test/1a2f7f1a.wav\n"
          ],
          "name": "stdout"
        },
        {
          "output_type": "stream",
          "text": [
            "/usr/local/lib/python3.6/dist-packages/librosa/core/time_frequency.py:1006: RuntimeWarning: divide by zero encountered in log10\n",
            "  - 0.5 * np.log10(f_sq + const[3]))\n"
          ],
          "name": "stderr"
        },
        {
          "output_type": "stream",
          "text": [
            "0331 / 1600 | drive/My Drive/AudioTaggerData/FSDKaggle2018.audio_test/d7ad7cda.wav\n"
          ],
          "name": "stdout"
        },
        {
          "output_type": "stream",
          "text": [
            "/usr/local/lib/python3.6/dist-packages/librosa/core/time_frequency.py:1006: RuntimeWarning: divide by zero encountered in log10\n",
            "  - 0.5 * np.log10(f_sq + const[3]))\n"
          ],
          "name": "stderr"
        },
        {
          "output_type": "stream",
          "text": [
            "0332 / 1600 | drive/My Drive/AudioTaggerData/FSDKaggle2018.audio_test/5b4ae941.wav\n"
          ],
          "name": "stdout"
        },
        {
          "output_type": "stream",
          "text": [
            "/usr/local/lib/python3.6/dist-packages/librosa/core/time_frequency.py:1006: RuntimeWarning: divide by zero encountered in log10\n",
            "  - 0.5 * np.log10(f_sq + const[3]))\n"
          ],
          "name": "stderr"
        },
        {
          "output_type": "stream",
          "text": [
            "0333 / 1600 | drive/My Drive/AudioTaggerData/FSDKaggle2018.audio_test/bb3afddd.wav\n"
          ],
          "name": "stdout"
        },
        {
          "output_type": "stream",
          "text": [
            "/usr/local/lib/python3.6/dist-packages/librosa/core/time_frequency.py:1006: RuntimeWarning: divide by zero encountered in log10\n",
            "  - 0.5 * np.log10(f_sq + const[3]))\n"
          ],
          "name": "stderr"
        },
        {
          "output_type": "stream",
          "text": [
            "0334 / 1600 | drive/My Drive/AudioTaggerData/FSDKaggle2018.audio_test/b51bb236.wav\n"
          ],
          "name": "stdout"
        },
        {
          "output_type": "stream",
          "text": [
            "/usr/local/lib/python3.6/dist-packages/librosa/core/time_frequency.py:1006: RuntimeWarning: divide by zero encountered in log10\n",
            "  - 0.5 * np.log10(f_sq + const[3]))\n"
          ],
          "name": "stderr"
        },
        {
          "output_type": "stream",
          "text": [
            "0335 / 1600 | drive/My Drive/AudioTaggerData/FSDKaggle2018.audio_test/91942bdb.wav\n"
          ],
          "name": "stdout"
        },
        {
          "output_type": "stream",
          "text": [
            "/usr/local/lib/python3.6/dist-packages/librosa/core/time_frequency.py:1006: RuntimeWarning: divide by zero encountered in log10\n",
            "  - 0.5 * np.log10(f_sq + const[3]))\n"
          ],
          "name": "stderr"
        },
        {
          "output_type": "stream",
          "text": [
            "0336 / 1600 | drive/My Drive/AudioTaggerData/FSDKaggle2018.audio_test/5b37a914.wav\n"
          ],
          "name": "stdout"
        },
        {
          "output_type": "stream",
          "text": [
            "/usr/local/lib/python3.6/dist-packages/librosa/core/time_frequency.py:1006: RuntimeWarning: divide by zero encountered in log10\n",
            "  - 0.5 * np.log10(f_sq + const[3]))\n"
          ],
          "name": "stderr"
        },
        {
          "output_type": "stream",
          "text": [
            "0337 / 1600 | drive/My Drive/AudioTaggerData/FSDKaggle2018.audio_test/a3744720.wav\n"
          ],
          "name": "stdout"
        },
        {
          "output_type": "stream",
          "text": [
            "/usr/local/lib/python3.6/dist-packages/librosa/core/time_frequency.py:1006: RuntimeWarning: divide by zero encountered in log10\n",
            "  - 0.5 * np.log10(f_sq + const[3]))\n"
          ],
          "name": "stderr"
        },
        {
          "output_type": "stream",
          "text": [
            "0338 / 1600 | drive/My Drive/AudioTaggerData/FSDKaggle2018.audio_test/da303aa2.wav\n"
          ],
          "name": "stdout"
        },
        {
          "output_type": "stream",
          "text": [
            "/usr/local/lib/python3.6/dist-packages/librosa/core/time_frequency.py:1006: RuntimeWarning: divide by zero encountered in log10\n",
            "  - 0.5 * np.log10(f_sq + const[3]))\n"
          ],
          "name": "stderr"
        },
        {
          "output_type": "stream",
          "text": [
            "0339 / 1600 | drive/My Drive/AudioTaggerData/FSDKaggle2018.audio_test/1ef40308.wav\n"
          ],
          "name": "stdout"
        },
        {
          "output_type": "stream",
          "text": [
            "/usr/local/lib/python3.6/dist-packages/librosa/core/time_frequency.py:1006: RuntimeWarning: divide by zero encountered in log10\n",
            "  - 0.5 * np.log10(f_sq + const[3]))\n"
          ],
          "name": "stderr"
        },
        {
          "output_type": "stream",
          "text": [
            "0340 / 1600 | drive/My Drive/AudioTaggerData/FSDKaggle2018.audio_test/19a686e2.wav\n"
          ],
          "name": "stdout"
        },
        {
          "output_type": "stream",
          "text": [
            "/usr/local/lib/python3.6/dist-packages/librosa/core/time_frequency.py:1006: RuntimeWarning: divide by zero encountered in log10\n",
            "  - 0.5 * np.log10(f_sq + const[3]))\n"
          ],
          "name": "stderr"
        },
        {
          "output_type": "stream",
          "text": [
            "0341 / 1600 | drive/My Drive/AudioTaggerData/FSDKaggle2018.audio_test/286df5e5.wav\n"
          ],
          "name": "stdout"
        },
        {
          "output_type": "stream",
          "text": [
            "/usr/local/lib/python3.6/dist-packages/librosa/core/time_frequency.py:1006: RuntimeWarning: divide by zero encountered in log10\n",
            "  - 0.5 * np.log10(f_sq + const[3]))\n"
          ],
          "name": "stderr"
        },
        {
          "output_type": "stream",
          "text": [
            "0342 / 1600 | drive/My Drive/AudioTaggerData/FSDKaggle2018.audio_test/3ce96793.wav\n"
          ],
          "name": "stdout"
        },
        {
          "output_type": "stream",
          "text": [
            "/usr/local/lib/python3.6/dist-packages/librosa/core/time_frequency.py:1006: RuntimeWarning: divide by zero encountered in log10\n",
            "  - 0.5 * np.log10(f_sq + const[3]))\n"
          ],
          "name": "stderr"
        },
        {
          "output_type": "stream",
          "text": [
            "0343 / 1600 | drive/My Drive/AudioTaggerData/FSDKaggle2018.audio_test/3ac46d6b.wav\n"
          ],
          "name": "stdout"
        },
        {
          "output_type": "stream",
          "text": [
            "/usr/local/lib/python3.6/dist-packages/librosa/core/time_frequency.py:1006: RuntimeWarning: divide by zero encountered in log10\n",
            "  - 0.5 * np.log10(f_sq + const[3]))\n"
          ],
          "name": "stderr"
        },
        {
          "output_type": "stream",
          "text": [
            "0344 / 1600 | drive/My Drive/AudioTaggerData/FSDKaggle2018.audio_test/60304185.wav\n"
          ],
          "name": "stdout"
        },
        {
          "output_type": "stream",
          "text": [
            "/usr/local/lib/python3.6/dist-packages/librosa/core/time_frequency.py:1006: RuntimeWarning: divide by zero encountered in log10\n",
            "  - 0.5 * np.log10(f_sq + const[3]))\n"
          ],
          "name": "stderr"
        },
        {
          "output_type": "stream",
          "text": [
            "0345 / 1600 | drive/My Drive/AudioTaggerData/FSDKaggle2018.audio_test/715db382.wav\n"
          ],
          "name": "stdout"
        },
        {
          "output_type": "stream",
          "text": [
            "/usr/local/lib/python3.6/dist-packages/librosa/core/time_frequency.py:1006: RuntimeWarning: divide by zero encountered in log10\n",
            "  - 0.5 * np.log10(f_sq + const[3]))\n"
          ],
          "name": "stderr"
        },
        {
          "output_type": "stream",
          "text": [
            "0346 / 1600 | drive/My Drive/AudioTaggerData/FSDKaggle2018.audio_test/b0751f20.wav\n"
          ],
          "name": "stdout"
        },
        {
          "output_type": "stream",
          "text": [
            "/usr/local/lib/python3.6/dist-packages/librosa/core/time_frequency.py:1006: RuntimeWarning: divide by zero encountered in log10\n",
            "  - 0.5 * np.log10(f_sq + const[3]))\n"
          ],
          "name": "stderr"
        },
        {
          "output_type": "stream",
          "text": [
            "0347 / 1600 | drive/My Drive/AudioTaggerData/FSDKaggle2018.audio_test/1b75d261.wav\n"
          ],
          "name": "stdout"
        },
        {
          "output_type": "stream",
          "text": [
            "/usr/local/lib/python3.6/dist-packages/librosa/core/time_frequency.py:1006: RuntimeWarning: divide by zero encountered in log10\n",
            "  - 0.5 * np.log10(f_sq + const[3]))\n"
          ],
          "name": "stderr"
        },
        {
          "output_type": "stream",
          "text": [
            "0348 / 1600 | drive/My Drive/AudioTaggerData/FSDKaggle2018.audio_test/ebe0b4db.wav\n"
          ],
          "name": "stdout"
        },
        {
          "output_type": "stream",
          "text": [
            "/usr/local/lib/python3.6/dist-packages/librosa/core/time_frequency.py:1006: RuntimeWarning: divide by zero encountered in log10\n",
            "  - 0.5 * np.log10(f_sq + const[3]))\n"
          ],
          "name": "stderr"
        },
        {
          "output_type": "stream",
          "text": [
            "0349 / 1600 | drive/My Drive/AudioTaggerData/FSDKaggle2018.audio_test/0fd76662.wav\n"
          ],
          "name": "stdout"
        },
        {
          "output_type": "stream",
          "text": [
            "/usr/local/lib/python3.6/dist-packages/librosa/core/time_frequency.py:1006: RuntimeWarning: divide by zero encountered in log10\n",
            "  - 0.5 * np.log10(f_sq + const[3]))\n"
          ],
          "name": "stderr"
        },
        {
          "output_type": "stream",
          "text": [
            "0350 / 1600 | drive/My Drive/AudioTaggerData/FSDKaggle2018.audio_test/96205cdd.wav\n"
          ],
          "name": "stdout"
        },
        {
          "output_type": "stream",
          "text": [
            "/usr/local/lib/python3.6/dist-packages/librosa/core/time_frequency.py:1006: RuntimeWarning: divide by zero encountered in log10\n",
            "  - 0.5 * np.log10(f_sq + const[3]))\n"
          ],
          "name": "stderr"
        },
        {
          "output_type": "stream",
          "text": [
            "0351 / 1600 | drive/My Drive/AudioTaggerData/FSDKaggle2018.audio_test/7cd190e1.wav\n"
          ],
          "name": "stdout"
        },
        {
          "output_type": "stream",
          "text": [
            "/usr/local/lib/python3.6/dist-packages/librosa/core/time_frequency.py:1006: RuntimeWarning: divide by zero encountered in log10\n",
            "  - 0.5 * np.log10(f_sq + const[3]))\n"
          ],
          "name": "stderr"
        },
        {
          "output_type": "stream",
          "text": [
            "0352 / 1600 | drive/My Drive/AudioTaggerData/FSDKaggle2018.audio_test/d2b5382b.wav\n"
          ],
          "name": "stdout"
        },
        {
          "output_type": "stream",
          "text": [
            "/usr/local/lib/python3.6/dist-packages/librosa/core/time_frequency.py:1006: RuntimeWarning: divide by zero encountered in log10\n",
            "  - 0.5 * np.log10(f_sq + const[3]))\n"
          ],
          "name": "stderr"
        },
        {
          "output_type": "stream",
          "text": [
            "0353 / 1600 | drive/My Drive/AudioTaggerData/FSDKaggle2018.audio_test/d8bd5749.wav\n"
          ],
          "name": "stdout"
        },
        {
          "output_type": "stream",
          "text": [
            "/usr/local/lib/python3.6/dist-packages/librosa/core/time_frequency.py:1006: RuntimeWarning: divide by zero encountered in log10\n",
            "  - 0.5 * np.log10(f_sq + const[3]))\n"
          ],
          "name": "stderr"
        },
        {
          "output_type": "stream",
          "text": [
            "0354 / 1600 | drive/My Drive/AudioTaggerData/FSDKaggle2018.audio_test/75e35e02.wav\n"
          ],
          "name": "stdout"
        },
        {
          "output_type": "stream",
          "text": [
            "/usr/local/lib/python3.6/dist-packages/librosa/core/time_frequency.py:1006: RuntimeWarning: divide by zero encountered in log10\n",
            "  - 0.5 * np.log10(f_sq + const[3]))\n"
          ],
          "name": "stderr"
        },
        {
          "output_type": "stream",
          "text": [
            "0355 / 1600 | drive/My Drive/AudioTaggerData/FSDKaggle2018.audio_test/18b390aa.wav\n"
          ],
          "name": "stdout"
        },
        {
          "output_type": "stream",
          "text": [
            "/usr/local/lib/python3.6/dist-packages/librosa/core/time_frequency.py:1006: RuntimeWarning: divide by zero encountered in log10\n",
            "  - 0.5 * np.log10(f_sq + const[3]))\n"
          ],
          "name": "stderr"
        },
        {
          "output_type": "stream",
          "text": [
            "0356 / 1600 | drive/My Drive/AudioTaggerData/FSDKaggle2018.audio_test/54aa5112.wav\n"
          ],
          "name": "stdout"
        },
        {
          "output_type": "stream",
          "text": [
            "/usr/local/lib/python3.6/dist-packages/librosa/core/time_frequency.py:1006: RuntimeWarning: divide by zero encountered in log10\n",
            "  - 0.5 * np.log10(f_sq + const[3]))\n"
          ],
          "name": "stderr"
        },
        {
          "output_type": "stream",
          "text": [
            "0357 / 1600 | drive/My Drive/AudioTaggerData/FSDKaggle2018.audio_test/72828b0d.wav\n"
          ],
          "name": "stdout"
        },
        {
          "output_type": "stream",
          "text": [
            "/usr/local/lib/python3.6/dist-packages/librosa/core/time_frequency.py:1006: RuntimeWarning: divide by zero encountered in log10\n",
            "  - 0.5 * np.log10(f_sq + const[3]))\n"
          ],
          "name": "stderr"
        },
        {
          "output_type": "stream",
          "text": [
            "0358 / 1600 | drive/My Drive/AudioTaggerData/FSDKaggle2018.audio_test/a811568c.wav\n"
          ],
          "name": "stdout"
        },
        {
          "output_type": "stream",
          "text": [
            "/usr/local/lib/python3.6/dist-packages/librosa/core/time_frequency.py:1006: RuntimeWarning: divide by zero encountered in log10\n",
            "  - 0.5 * np.log10(f_sq + const[3]))\n"
          ],
          "name": "stderr"
        },
        {
          "output_type": "stream",
          "text": [
            "0359 / 1600 | drive/My Drive/AudioTaggerData/FSDKaggle2018.audio_test/863b390d.wav\n"
          ],
          "name": "stdout"
        },
        {
          "output_type": "stream",
          "text": [
            "/usr/local/lib/python3.6/dist-packages/librosa/core/time_frequency.py:1006: RuntimeWarning: divide by zero encountered in log10\n",
            "  - 0.5 * np.log10(f_sq + const[3]))\n"
          ],
          "name": "stderr"
        },
        {
          "output_type": "stream",
          "text": [
            "0360 / 1600 | drive/My Drive/AudioTaggerData/FSDKaggle2018.audio_test/9a0f1d2b.wav\n"
          ],
          "name": "stdout"
        },
        {
          "output_type": "stream",
          "text": [
            "/usr/local/lib/python3.6/dist-packages/librosa/core/time_frequency.py:1006: RuntimeWarning: divide by zero encountered in log10\n",
            "  - 0.5 * np.log10(f_sq + const[3]))\n"
          ],
          "name": "stderr"
        },
        {
          "output_type": "stream",
          "text": [
            "0361 / 1600 | drive/My Drive/AudioTaggerData/FSDKaggle2018.audio_test/a6420818.wav\n"
          ],
          "name": "stdout"
        },
        {
          "output_type": "stream",
          "text": [
            "/usr/local/lib/python3.6/dist-packages/librosa/core/time_frequency.py:1006: RuntimeWarning: divide by zero encountered in log10\n",
            "  - 0.5 * np.log10(f_sq + const[3]))\n"
          ],
          "name": "stderr"
        },
        {
          "output_type": "stream",
          "text": [
            "0362 / 1600 | drive/My Drive/AudioTaggerData/FSDKaggle2018.audio_test/1fc58e0f.wav\n"
          ],
          "name": "stdout"
        },
        {
          "output_type": "stream",
          "text": [
            "/usr/local/lib/python3.6/dist-packages/librosa/core/time_frequency.py:1006: RuntimeWarning: divide by zero encountered in log10\n",
            "  - 0.5 * np.log10(f_sq + const[3]))\n"
          ],
          "name": "stderr"
        },
        {
          "output_type": "stream",
          "text": [
            "0363 / 1600 | drive/My Drive/AudioTaggerData/FSDKaggle2018.audio_test/14f70585.wav\n"
          ],
          "name": "stdout"
        },
        {
          "output_type": "stream",
          "text": [
            "/usr/local/lib/python3.6/dist-packages/librosa/core/time_frequency.py:1006: RuntimeWarning: divide by zero encountered in log10\n",
            "  - 0.5 * np.log10(f_sq + const[3]))\n"
          ],
          "name": "stderr"
        },
        {
          "output_type": "stream",
          "text": [
            "0364 / 1600 | drive/My Drive/AudioTaggerData/FSDKaggle2018.audio_test/cee063a7.wav\n"
          ],
          "name": "stdout"
        },
        {
          "output_type": "stream",
          "text": [
            "/usr/local/lib/python3.6/dist-packages/librosa/core/time_frequency.py:1006: RuntimeWarning: divide by zero encountered in log10\n",
            "  - 0.5 * np.log10(f_sq + const[3]))\n"
          ],
          "name": "stderr"
        },
        {
          "output_type": "stream",
          "text": [
            "0365 / 1600 | drive/My Drive/AudioTaggerData/FSDKaggle2018.audio_test/cd0c2a96.wav\n"
          ],
          "name": "stdout"
        },
        {
          "output_type": "stream",
          "text": [
            "/usr/local/lib/python3.6/dist-packages/librosa/core/time_frequency.py:1006: RuntimeWarning: divide by zero encountered in log10\n",
            "  - 0.5 * np.log10(f_sq + const[3]))\n"
          ],
          "name": "stderr"
        },
        {
          "output_type": "stream",
          "text": [
            "0366 / 1600 | drive/My Drive/AudioTaggerData/FSDKaggle2018.audio_test/be8f6c7c.wav\n"
          ],
          "name": "stdout"
        },
        {
          "output_type": "stream",
          "text": [
            "/usr/local/lib/python3.6/dist-packages/librosa/core/time_frequency.py:1006: RuntimeWarning: divide by zero encountered in log10\n",
            "  - 0.5 * np.log10(f_sq + const[3]))\n"
          ],
          "name": "stderr"
        },
        {
          "output_type": "stream",
          "text": [
            "0367 / 1600 | drive/My Drive/AudioTaggerData/FSDKaggle2018.audio_test/dc1dc06d.wav\n"
          ],
          "name": "stdout"
        },
        {
          "output_type": "stream",
          "text": [
            "/usr/local/lib/python3.6/dist-packages/librosa/core/time_frequency.py:1006: RuntimeWarning: divide by zero encountered in log10\n",
            "  - 0.5 * np.log10(f_sq + const[3]))\n"
          ],
          "name": "stderr"
        },
        {
          "output_type": "stream",
          "text": [
            "0368 / 1600 | drive/My Drive/AudioTaggerData/FSDKaggle2018.audio_test/df7a5de3.wav\n"
          ],
          "name": "stdout"
        },
        {
          "output_type": "stream",
          "text": [
            "/usr/local/lib/python3.6/dist-packages/librosa/core/time_frequency.py:1006: RuntimeWarning: divide by zero encountered in log10\n",
            "  - 0.5 * np.log10(f_sq + const[3]))\n"
          ],
          "name": "stderr"
        },
        {
          "output_type": "stream",
          "text": [
            "0369 / 1600 | drive/My Drive/AudioTaggerData/FSDKaggle2018.audio_test/f6d42b78.wav\n"
          ],
          "name": "stdout"
        },
        {
          "output_type": "stream",
          "text": [
            "/usr/local/lib/python3.6/dist-packages/librosa/core/time_frequency.py:1006: RuntimeWarning: divide by zero encountered in log10\n",
            "  - 0.5 * np.log10(f_sq + const[3]))\n"
          ],
          "name": "stderr"
        },
        {
          "output_type": "stream",
          "text": [
            "0370 / 1600 | drive/My Drive/AudioTaggerData/FSDKaggle2018.audio_test/8f1c2008.wav\n"
          ],
          "name": "stdout"
        },
        {
          "output_type": "stream",
          "text": [
            "/usr/local/lib/python3.6/dist-packages/librosa/core/time_frequency.py:1006: RuntimeWarning: divide by zero encountered in log10\n",
            "  - 0.5 * np.log10(f_sq + const[3]))\n"
          ],
          "name": "stderr"
        },
        {
          "output_type": "stream",
          "text": [
            "0371 / 1600 | drive/My Drive/AudioTaggerData/FSDKaggle2018.audio_test/dceaa645.wav\n"
          ],
          "name": "stdout"
        },
        {
          "output_type": "stream",
          "text": [
            "/usr/local/lib/python3.6/dist-packages/librosa/core/time_frequency.py:1006: RuntimeWarning: divide by zero encountered in log10\n",
            "  - 0.5 * np.log10(f_sq + const[3]))\n"
          ],
          "name": "stderr"
        },
        {
          "output_type": "stream",
          "text": [
            "0372 / 1600 | drive/My Drive/AudioTaggerData/FSDKaggle2018.audio_test/191087dd.wav\n"
          ],
          "name": "stdout"
        },
        {
          "output_type": "stream",
          "text": [
            "/usr/local/lib/python3.6/dist-packages/librosa/core/time_frequency.py:1006: RuntimeWarning: divide by zero encountered in log10\n",
            "  - 0.5 * np.log10(f_sq + const[3]))\n"
          ],
          "name": "stderr"
        },
        {
          "output_type": "stream",
          "text": [
            "0373 / 1600 | drive/My Drive/AudioTaggerData/FSDKaggle2018.audio_test/a569b358.wav\n"
          ],
          "name": "stdout"
        },
        {
          "output_type": "stream",
          "text": [
            "/usr/local/lib/python3.6/dist-packages/librosa/core/time_frequency.py:1006: RuntimeWarning: divide by zero encountered in log10\n",
            "  - 0.5 * np.log10(f_sq + const[3]))\n"
          ],
          "name": "stderr"
        },
        {
          "output_type": "stream",
          "text": [
            "0374 / 1600 | drive/My Drive/AudioTaggerData/FSDKaggle2018.audio_test/1d987419.wav\n"
          ],
          "name": "stdout"
        },
        {
          "output_type": "stream",
          "text": [
            "/usr/local/lib/python3.6/dist-packages/librosa/core/time_frequency.py:1006: RuntimeWarning: divide by zero encountered in log10\n",
            "  - 0.5 * np.log10(f_sq + const[3]))\n"
          ],
          "name": "stderr"
        },
        {
          "output_type": "stream",
          "text": [
            "0375 / 1600 | drive/My Drive/AudioTaggerData/FSDKaggle2018.audio_test/3ea22ce1.wav\n"
          ],
          "name": "stdout"
        },
        {
          "output_type": "stream",
          "text": [
            "/usr/local/lib/python3.6/dist-packages/librosa/core/time_frequency.py:1006: RuntimeWarning: divide by zero encountered in log10\n",
            "  - 0.5 * np.log10(f_sq + const[3]))\n"
          ],
          "name": "stderr"
        },
        {
          "output_type": "stream",
          "text": [
            "0376 / 1600 | drive/My Drive/AudioTaggerData/FSDKaggle2018.audio_test/76631c30.wav\n"
          ],
          "name": "stdout"
        },
        {
          "output_type": "stream",
          "text": [
            "/usr/local/lib/python3.6/dist-packages/librosa/core/time_frequency.py:1006: RuntimeWarning: divide by zero encountered in log10\n",
            "  - 0.5 * np.log10(f_sq + const[3]))\n"
          ],
          "name": "stderr"
        },
        {
          "output_type": "stream",
          "text": [
            "0377 / 1600 | drive/My Drive/AudioTaggerData/FSDKaggle2018.audio_test/788430c5.wav\n"
          ],
          "name": "stdout"
        },
        {
          "output_type": "stream",
          "text": [
            "/usr/local/lib/python3.6/dist-packages/librosa/core/time_frequency.py:1006: RuntimeWarning: divide by zero encountered in log10\n",
            "  - 0.5 * np.log10(f_sq + const[3]))\n"
          ],
          "name": "stderr"
        },
        {
          "output_type": "stream",
          "text": [
            "0378 / 1600 | drive/My Drive/AudioTaggerData/FSDKaggle2018.audio_test/83043bdc.wav\n"
          ],
          "name": "stdout"
        },
        {
          "output_type": "stream",
          "text": [
            "/usr/local/lib/python3.6/dist-packages/librosa/core/time_frequency.py:1006: RuntimeWarning: divide by zero encountered in log10\n",
            "  - 0.5 * np.log10(f_sq + const[3]))\n"
          ],
          "name": "stderr"
        },
        {
          "output_type": "stream",
          "text": [
            "0379 / 1600 | drive/My Drive/AudioTaggerData/FSDKaggle2018.audio_test/5f3a797f.wav\n"
          ],
          "name": "stdout"
        },
        {
          "output_type": "stream",
          "text": [
            "/usr/local/lib/python3.6/dist-packages/librosa/core/time_frequency.py:1006: RuntimeWarning: divide by zero encountered in log10\n",
            "  - 0.5 * np.log10(f_sq + const[3]))\n"
          ],
          "name": "stderr"
        },
        {
          "output_type": "stream",
          "text": [
            "0380 / 1600 | drive/My Drive/AudioTaggerData/FSDKaggle2018.audio_test/7fffb435.wav\n"
          ],
          "name": "stdout"
        },
        {
          "output_type": "stream",
          "text": [
            "/usr/local/lib/python3.6/dist-packages/librosa/core/time_frequency.py:1006: RuntimeWarning: divide by zero encountered in log10\n",
            "  - 0.5 * np.log10(f_sq + const[3]))\n"
          ],
          "name": "stderr"
        },
        {
          "output_type": "stream",
          "text": [
            "0381 / 1600 | drive/My Drive/AudioTaggerData/FSDKaggle2018.audio_test/69166275.wav\n"
          ],
          "name": "stdout"
        },
        {
          "output_type": "stream",
          "text": [
            "/usr/local/lib/python3.6/dist-packages/librosa/core/time_frequency.py:1006: RuntimeWarning: divide by zero encountered in log10\n",
            "  - 0.5 * np.log10(f_sq + const[3]))\n"
          ],
          "name": "stderr"
        },
        {
          "output_type": "stream",
          "text": [
            "0382 / 1600 | drive/My Drive/AudioTaggerData/FSDKaggle2018.audio_test/8123314e.wav\n"
          ],
          "name": "stdout"
        },
        {
          "output_type": "stream",
          "text": [
            "/usr/local/lib/python3.6/dist-packages/librosa/core/time_frequency.py:1006: RuntimeWarning: divide by zero encountered in log10\n",
            "  - 0.5 * np.log10(f_sq + const[3]))\n"
          ],
          "name": "stderr"
        },
        {
          "output_type": "stream",
          "text": [
            "0383 / 1600 | drive/My Drive/AudioTaggerData/FSDKaggle2018.audio_test/fca3a926.wav\n"
          ],
          "name": "stdout"
        },
        {
          "output_type": "stream",
          "text": [
            "/usr/local/lib/python3.6/dist-packages/librosa/core/time_frequency.py:1006: RuntimeWarning: divide by zero encountered in log10\n",
            "  - 0.5 * np.log10(f_sq + const[3]))\n"
          ],
          "name": "stderr"
        },
        {
          "output_type": "stream",
          "text": [
            "0384 / 1600 | drive/My Drive/AudioTaggerData/FSDKaggle2018.audio_test/bee570da.wav\n"
          ],
          "name": "stdout"
        },
        {
          "output_type": "stream",
          "text": [
            "/usr/local/lib/python3.6/dist-packages/librosa/core/time_frequency.py:1006: RuntimeWarning: divide by zero encountered in log10\n",
            "  - 0.5 * np.log10(f_sq + const[3]))\n"
          ],
          "name": "stderr"
        },
        {
          "output_type": "stream",
          "text": [
            "0385 / 1600 | drive/My Drive/AudioTaggerData/FSDKaggle2018.audio_test/499d675b.wav\n"
          ],
          "name": "stdout"
        },
        {
          "output_type": "stream",
          "text": [
            "/usr/local/lib/python3.6/dist-packages/librosa/core/time_frequency.py:1006: RuntimeWarning: divide by zero encountered in log10\n",
            "  - 0.5 * np.log10(f_sq + const[3]))\n"
          ],
          "name": "stderr"
        },
        {
          "output_type": "stream",
          "text": [
            "0386 / 1600 | drive/My Drive/AudioTaggerData/FSDKaggle2018.audio_test/d798f941.wav\n"
          ],
          "name": "stdout"
        },
        {
          "output_type": "stream",
          "text": [
            "/usr/local/lib/python3.6/dist-packages/librosa/core/time_frequency.py:1006: RuntimeWarning: divide by zero encountered in log10\n",
            "  - 0.5 * np.log10(f_sq + const[3]))\n"
          ],
          "name": "stderr"
        },
        {
          "output_type": "stream",
          "text": [
            "0387 / 1600 | drive/My Drive/AudioTaggerData/FSDKaggle2018.audio_test/684096d4.wav\n"
          ],
          "name": "stdout"
        },
        {
          "output_type": "stream",
          "text": [
            "/usr/local/lib/python3.6/dist-packages/librosa/core/time_frequency.py:1006: RuntimeWarning: divide by zero encountered in log10\n",
            "  - 0.5 * np.log10(f_sq + const[3]))\n"
          ],
          "name": "stderr"
        },
        {
          "output_type": "stream",
          "text": [
            "0388 / 1600 | drive/My Drive/AudioTaggerData/FSDKaggle2018.audio_test/bc89b9ec.wav\n"
          ],
          "name": "stdout"
        },
        {
          "output_type": "stream",
          "text": [
            "/usr/local/lib/python3.6/dist-packages/librosa/core/time_frequency.py:1006: RuntimeWarning: divide by zero encountered in log10\n",
            "  - 0.5 * np.log10(f_sq + const[3]))\n"
          ],
          "name": "stderr"
        },
        {
          "output_type": "stream",
          "text": [
            "0389 / 1600 | drive/My Drive/AudioTaggerData/FSDKaggle2018.audio_test/897071cd.wav\n"
          ],
          "name": "stdout"
        },
        {
          "output_type": "stream",
          "text": [
            "/usr/local/lib/python3.6/dist-packages/librosa/core/time_frequency.py:1006: RuntimeWarning: divide by zero encountered in log10\n",
            "  - 0.5 * np.log10(f_sq + const[3]))\n"
          ],
          "name": "stderr"
        },
        {
          "output_type": "stream",
          "text": [
            "0390 / 1600 | drive/My Drive/AudioTaggerData/FSDKaggle2018.audio_test/f80a4ff8.wav\n"
          ],
          "name": "stdout"
        },
        {
          "output_type": "stream",
          "text": [
            "/usr/local/lib/python3.6/dist-packages/librosa/core/time_frequency.py:1006: RuntimeWarning: divide by zero encountered in log10\n",
            "  - 0.5 * np.log10(f_sq + const[3]))\n"
          ],
          "name": "stderr"
        },
        {
          "output_type": "stream",
          "text": [
            "0391 / 1600 | drive/My Drive/AudioTaggerData/FSDKaggle2018.audio_test/7132bfb1.wav\n"
          ],
          "name": "stdout"
        },
        {
          "output_type": "stream",
          "text": [
            "/usr/local/lib/python3.6/dist-packages/librosa/core/time_frequency.py:1006: RuntimeWarning: divide by zero encountered in log10\n",
            "  - 0.5 * np.log10(f_sq + const[3]))\n"
          ],
          "name": "stderr"
        },
        {
          "output_type": "stream",
          "text": [
            "0392 / 1600 | drive/My Drive/AudioTaggerData/FSDKaggle2018.audio_test/23071dd2.wav\n"
          ],
          "name": "stdout"
        },
        {
          "output_type": "stream",
          "text": [
            "/usr/local/lib/python3.6/dist-packages/librosa/core/time_frequency.py:1006: RuntimeWarning: divide by zero encountered in log10\n",
            "  - 0.5 * np.log10(f_sq + const[3]))\n"
          ],
          "name": "stderr"
        },
        {
          "output_type": "stream",
          "text": [
            "0393 / 1600 | drive/My Drive/AudioTaggerData/FSDKaggle2018.audio_test/9657dc79.wav\n"
          ],
          "name": "stdout"
        },
        {
          "output_type": "stream",
          "text": [
            "/usr/local/lib/python3.6/dist-packages/librosa/core/time_frequency.py:1006: RuntimeWarning: divide by zero encountered in log10\n",
            "  - 0.5 * np.log10(f_sq + const[3]))\n"
          ],
          "name": "stderr"
        },
        {
          "output_type": "stream",
          "text": [
            "0394 / 1600 | drive/My Drive/AudioTaggerData/FSDKaggle2018.audio_test/ecd9337c.wav\n"
          ],
          "name": "stdout"
        },
        {
          "output_type": "stream",
          "text": [
            "/usr/local/lib/python3.6/dist-packages/librosa/core/time_frequency.py:1006: RuntimeWarning: divide by zero encountered in log10\n",
            "  - 0.5 * np.log10(f_sq + const[3]))\n"
          ],
          "name": "stderr"
        },
        {
          "output_type": "stream",
          "text": [
            "0395 / 1600 | drive/My Drive/AudioTaggerData/FSDKaggle2018.audio_test/3cca9c37.wav\n"
          ],
          "name": "stdout"
        },
        {
          "output_type": "stream",
          "text": [
            "/usr/local/lib/python3.6/dist-packages/librosa/core/time_frequency.py:1006: RuntimeWarning: divide by zero encountered in log10\n",
            "  - 0.5 * np.log10(f_sq + const[3]))\n"
          ],
          "name": "stderr"
        },
        {
          "output_type": "stream",
          "text": [
            "0396 / 1600 | drive/My Drive/AudioTaggerData/FSDKaggle2018.audio_test/6a5304b5.wav\n"
          ],
          "name": "stdout"
        },
        {
          "output_type": "stream",
          "text": [
            "/usr/local/lib/python3.6/dist-packages/librosa/core/time_frequency.py:1006: RuntimeWarning: divide by zero encountered in log10\n",
            "  - 0.5 * np.log10(f_sq + const[3]))\n"
          ],
          "name": "stderr"
        },
        {
          "output_type": "stream",
          "text": [
            "0397 / 1600 | drive/My Drive/AudioTaggerData/FSDKaggle2018.audio_test/4797fc8b.wav\n"
          ],
          "name": "stdout"
        },
        {
          "output_type": "stream",
          "text": [
            "/usr/local/lib/python3.6/dist-packages/librosa/core/time_frequency.py:1006: RuntimeWarning: divide by zero encountered in log10\n",
            "  - 0.5 * np.log10(f_sq + const[3]))\n"
          ],
          "name": "stderr"
        },
        {
          "output_type": "stream",
          "text": [
            "0398 / 1600 | drive/My Drive/AudioTaggerData/FSDKaggle2018.audio_test/e2e69418.wav\n"
          ],
          "name": "stdout"
        },
        {
          "output_type": "stream",
          "text": [
            "/usr/local/lib/python3.6/dist-packages/librosa/core/time_frequency.py:1006: RuntimeWarning: divide by zero encountered in log10\n",
            "  - 0.5 * np.log10(f_sq + const[3]))\n"
          ],
          "name": "stderr"
        },
        {
          "output_type": "stream",
          "text": [
            "0399 / 1600 | drive/My Drive/AudioTaggerData/FSDKaggle2018.audio_test/97238e88.wav\n"
          ],
          "name": "stdout"
        },
        {
          "output_type": "stream",
          "text": [
            "/usr/local/lib/python3.6/dist-packages/librosa/core/time_frequency.py:1006: RuntimeWarning: divide by zero encountered in log10\n",
            "  - 0.5 * np.log10(f_sq + const[3]))\n"
          ],
          "name": "stderr"
        },
        {
          "output_type": "stream",
          "text": [
            "0400 / 1600 | drive/My Drive/AudioTaggerData/FSDKaggle2018.audio_test/05fc58ee.wav\n"
          ],
          "name": "stdout"
        },
        {
          "output_type": "stream",
          "text": [
            "/usr/local/lib/python3.6/dist-packages/librosa/core/time_frequency.py:1006: RuntimeWarning: divide by zero encountered in log10\n",
            "  - 0.5 * np.log10(f_sq + const[3]))\n"
          ],
          "name": "stderr"
        },
        {
          "output_type": "stream",
          "text": [
            "0401 / 1600 | drive/My Drive/AudioTaggerData/FSDKaggle2018.audio_test/c10f216b.wav\n"
          ],
          "name": "stdout"
        },
        {
          "output_type": "stream",
          "text": [
            "/usr/local/lib/python3.6/dist-packages/librosa/core/time_frequency.py:1006: RuntimeWarning: divide by zero encountered in log10\n",
            "  - 0.5 * np.log10(f_sq + const[3]))\n"
          ],
          "name": "stderr"
        },
        {
          "output_type": "stream",
          "text": [
            "0402 / 1600 | drive/My Drive/AudioTaggerData/FSDKaggle2018.audio_test/9bc9408c.wav\n"
          ],
          "name": "stdout"
        },
        {
          "output_type": "stream",
          "text": [
            "/usr/local/lib/python3.6/dist-packages/librosa/core/time_frequency.py:1006: RuntimeWarning: divide by zero encountered in log10\n",
            "  - 0.5 * np.log10(f_sq + const[3]))\n"
          ],
          "name": "stderr"
        },
        {
          "output_type": "stream",
          "text": [
            "0403 / 1600 | drive/My Drive/AudioTaggerData/FSDKaggle2018.audio_test/33a0c53d.wav\n"
          ],
          "name": "stdout"
        },
        {
          "output_type": "stream",
          "text": [
            "/usr/local/lib/python3.6/dist-packages/librosa/core/time_frequency.py:1006: RuntimeWarning: divide by zero encountered in log10\n",
            "  - 0.5 * np.log10(f_sq + const[3]))\n"
          ],
          "name": "stderr"
        },
        {
          "output_type": "stream",
          "text": [
            "0404 / 1600 | drive/My Drive/AudioTaggerData/FSDKaggle2018.audio_test/93be3526.wav\n"
          ],
          "name": "stdout"
        },
        {
          "output_type": "stream",
          "text": [
            "/usr/local/lib/python3.6/dist-packages/librosa/core/time_frequency.py:1006: RuntimeWarning: divide by zero encountered in log10\n",
            "  - 0.5 * np.log10(f_sq + const[3]))\n"
          ],
          "name": "stderr"
        },
        {
          "output_type": "stream",
          "text": [
            "0405 / 1600 | drive/My Drive/AudioTaggerData/FSDKaggle2018.audio_test/84b28400.wav\n"
          ],
          "name": "stdout"
        },
        {
          "output_type": "stream",
          "text": [
            "/usr/local/lib/python3.6/dist-packages/librosa/core/time_frequency.py:1006: RuntimeWarning: divide by zero encountered in log10\n",
            "  - 0.5 * np.log10(f_sq + const[3]))\n"
          ],
          "name": "stderr"
        },
        {
          "output_type": "stream",
          "text": [
            "0406 / 1600 | drive/My Drive/AudioTaggerData/FSDKaggle2018.audio_test/87490e51.wav\n"
          ],
          "name": "stdout"
        },
        {
          "output_type": "stream",
          "text": [
            "/usr/local/lib/python3.6/dist-packages/librosa/core/time_frequency.py:1006: RuntimeWarning: divide by zero encountered in log10\n",
            "  - 0.5 * np.log10(f_sq + const[3]))\n"
          ],
          "name": "stderr"
        },
        {
          "output_type": "stream",
          "text": [
            "0407 / 1600 | drive/My Drive/AudioTaggerData/FSDKaggle2018.audio_test/3b6964dc.wav\n"
          ],
          "name": "stdout"
        },
        {
          "output_type": "stream",
          "text": [
            "/usr/local/lib/python3.6/dist-packages/librosa/core/time_frequency.py:1006: RuntimeWarning: divide by zero encountered in log10\n",
            "  - 0.5 * np.log10(f_sq + const[3]))\n"
          ],
          "name": "stderr"
        },
        {
          "output_type": "stream",
          "text": [
            "0408 / 1600 | drive/My Drive/AudioTaggerData/FSDKaggle2018.audio_test/62c37666.wav\n"
          ],
          "name": "stdout"
        },
        {
          "output_type": "stream",
          "text": [
            "/usr/local/lib/python3.6/dist-packages/librosa/core/time_frequency.py:1006: RuntimeWarning: divide by zero encountered in log10\n",
            "  - 0.5 * np.log10(f_sq + const[3]))\n"
          ],
          "name": "stderr"
        },
        {
          "output_type": "stream",
          "text": [
            "0409 / 1600 | drive/My Drive/AudioTaggerData/FSDKaggle2018.audio_test/583119bf.wav\n"
          ],
          "name": "stdout"
        },
        {
          "output_type": "stream",
          "text": [
            "/usr/local/lib/python3.6/dist-packages/librosa/core/time_frequency.py:1006: RuntimeWarning: divide by zero encountered in log10\n",
            "  - 0.5 * np.log10(f_sq + const[3]))\n"
          ],
          "name": "stderr"
        },
        {
          "output_type": "stream",
          "text": [
            "0410 / 1600 | drive/My Drive/AudioTaggerData/FSDKaggle2018.audio_test/192ddfa1.wav\n"
          ],
          "name": "stdout"
        },
        {
          "output_type": "stream",
          "text": [
            "/usr/local/lib/python3.6/dist-packages/librosa/core/time_frequency.py:1006: RuntimeWarning: divide by zero encountered in log10\n",
            "  - 0.5 * np.log10(f_sq + const[3]))\n"
          ],
          "name": "stderr"
        },
        {
          "output_type": "stream",
          "text": [
            "0411 / 1600 | drive/My Drive/AudioTaggerData/FSDKaggle2018.audio_test/94da7dca.wav\n"
          ],
          "name": "stdout"
        },
        {
          "output_type": "stream",
          "text": [
            "/usr/local/lib/python3.6/dist-packages/librosa/core/time_frequency.py:1006: RuntimeWarning: divide by zero encountered in log10\n",
            "  - 0.5 * np.log10(f_sq + const[3]))\n"
          ],
          "name": "stderr"
        },
        {
          "output_type": "stream",
          "text": [
            "0412 / 1600 | drive/My Drive/AudioTaggerData/FSDKaggle2018.audio_test/abe03624.wav\n"
          ],
          "name": "stdout"
        },
        {
          "output_type": "stream",
          "text": [
            "/usr/local/lib/python3.6/dist-packages/librosa/core/time_frequency.py:1006: RuntimeWarning: divide by zero encountered in log10\n",
            "  - 0.5 * np.log10(f_sq + const[3]))\n"
          ],
          "name": "stderr"
        },
        {
          "output_type": "stream",
          "text": [
            "0413 / 1600 | drive/My Drive/AudioTaggerData/FSDKaggle2018.audio_test/eaf6699d.wav\n"
          ],
          "name": "stdout"
        },
        {
          "output_type": "stream",
          "text": [
            "/usr/local/lib/python3.6/dist-packages/librosa/core/time_frequency.py:1006: RuntimeWarning: divide by zero encountered in log10\n",
            "  - 0.5 * np.log10(f_sq + const[3]))\n"
          ],
          "name": "stderr"
        },
        {
          "output_type": "stream",
          "text": [
            "0414 / 1600 | drive/My Drive/AudioTaggerData/FSDKaggle2018.audio_test/9eb4fa3f.wav\n"
          ],
          "name": "stdout"
        },
        {
          "output_type": "stream",
          "text": [
            "/usr/local/lib/python3.6/dist-packages/librosa/core/time_frequency.py:1006: RuntimeWarning: divide by zero encountered in log10\n",
            "  - 0.5 * np.log10(f_sq + const[3]))\n"
          ],
          "name": "stderr"
        },
        {
          "output_type": "stream",
          "text": [
            "0415 / 1600 | drive/My Drive/AudioTaggerData/FSDKaggle2018.audio_test/8a94d1c5.wav\n"
          ],
          "name": "stdout"
        },
        {
          "output_type": "stream",
          "text": [
            "/usr/local/lib/python3.6/dist-packages/librosa/core/time_frequency.py:1006: RuntimeWarning: divide by zero encountered in log10\n",
            "  - 0.5 * np.log10(f_sq + const[3]))\n"
          ],
          "name": "stderr"
        },
        {
          "output_type": "stream",
          "text": [
            "0416 / 1600 | drive/My Drive/AudioTaggerData/FSDKaggle2018.audio_test/f85a25b7.wav\n"
          ],
          "name": "stdout"
        },
        {
          "output_type": "stream",
          "text": [
            "/usr/local/lib/python3.6/dist-packages/librosa/core/time_frequency.py:1006: RuntimeWarning: divide by zero encountered in log10\n",
            "  - 0.5 * np.log10(f_sq + const[3]))\n"
          ],
          "name": "stderr"
        },
        {
          "output_type": "stream",
          "text": [
            "0417 / 1600 | drive/My Drive/AudioTaggerData/FSDKaggle2018.audio_test/4bdbe014.wav\n"
          ],
          "name": "stdout"
        },
        {
          "output_type": "stream",
          "text": [
            "/usr/local/lib/python3.6/dist-packages/librosa/core/time_frequency.py:1006: RuntimeWarning: divide by zero encountered in log10\n",
            "  - 0.5 * np.log10(f_sq + const[3]))\n"
          ],
          "name": "stderr"
        },
        {
          "output_type": "stream",
          "text": [
            "0418 / 1600 | drive/My Drive/AudioTaggerData/FSDKaggle2018.audio_test/763efe7a.wav\n"
          ],
          "name": "stdout"
        },
        {
          "output_type": "stream",
          "text": [
            "/usr/local/lib/python3.6/dist-packages/librosa/core/time_frequency.py:1006: RuntimeWarning: divide by zero encountered in log10\n",
            "  - 0.5 * np.log10(f_sq + const[3]))\n"
          ],
          "name": "stderr"
        },
        {
          "output_type": "stream",
          "text": [
            "0419 / 1600 | drive/My Drive/AudioTaggerData/FSDKaggle2018.audio_test/570a1821.wav\n"
          ],
          "name": "stdout"
        },
        {
          "output_type": "stream",
          "text": [
            "/usr/local/lib/python3.6/dist-packages/librosa/core/time_frequency.py:1006: RuntimeWarning: divide by zero encountered in log10\n",
            "  - 0.5 * np.log10(f_sq + const[3]))\n"
          ],
          "name": "stderr"
        },
        {
          "output_type": "stream",
          "text": [
            "0420 / 1600 | drive/My Drive/AudioTaggerData/FSDKaggle2018.audio_test/f90ae625.wav\n"
          ],
          "name": "stdout"
        },
        {
          "output_type": "stream",
          "text": [
            "/usr/local/lib/python3.6/dist-packages/librosa/core/time_frequency.py:1006: RuntimeWarning: divide by zero encountered in log10\n",
            "  - 0.5 * np.log10(f_sq + const[3]))\n"
          ],
          "name": "stderr"
        },
        {
          "output_type": "stream",
          "text": [
            "0421 / 1600 | drive/My Drive/AudioTaggerData/FSDKaggle2018.audio_test/c37eaf5c.wav\n"
          ],
          "name": "stdout"
        },
        {
          "output_type": "stream",
          "text": [
            "/usr/local/lib/python3.6/dist-packages/librosa/core/time_frequency.py:1006: RuntimeWarning: divide by zero encountered in log10\n",
            "  - 0.5 * np.log10(f_sq + const[3]))\n"
          ],
          "name": "stderr"
        },
        {
          "output_type": "stream",
          "text": [
            "0422 / 1600 | drive/My Drive/AudioTaggerData/FSDKaggle2018.audio_test/5d57c7a8.wav\n"
          ],
          "name": "stdout"
        },
        {
          "output_type": "stream",
          "text": [
            "/usr/local/lib/python3.6/dist-packages/librosa/core/time_frequency.py:1006: RuntimeWarning: divide by zero encountered in log10\n",
            "  - 0.5 * np.log10(f_sq + const[3]))\n"
          ],
          "name": "stderr"
        },
        {
          "output_type": "stream",
          "text": [
            "0423 / 1600 | drive/My Drive/AudioTaggerData/FSDKaggle2018.audio_test/5c9cee87.wav\n"
          ],
          "name": "stdout"
        },
        {
          "output_type": "stream",
          "text": [
            "/usr/local/lib/python3.6/dist-packages/librosa/core/time_frequency.py:1006: RuntimeWarning: divide by zero encountered in log10\n",
            "  - 0.5 * np.log10(f_sq + const[3]))\n"
          ],
          "name": "stderr"
        },
        {
          "output_type": "stream",
          "text": [
            "0424 / 1600 | drive/My Drive/AudioTaggerData/FSDKaggle2018.audio_test/316e82b0.wav\n"
          ],
          "name": "stdout"
        },
        {
          "output_type": "stream",
          "text": [
            "/usr/local/lib/python3.6/dist-packages/librosa/core/time_frequency.py:1006: RuntimeWarning: divide by zero encountered in log10\n",
            "  - 0.5 * np.log10(f_sq + const[3]))\n"
          ],
          "name": "stderr"
        },
        {
          "output_type": "stream",
          "text": [
            "0425 / 1600 | drive/My Drive/AudioTaggerData/FSDKaggle2018.audio_test/3c7db3ac.wav\n"
          ],
          "name": "stdout"
        },
        {
          "output_type": "stream",
          "text": [
            "/usr/local/lib/python3.6/dist-packages/librosa/core/time_frequency.py:1006: RuntimeWarning: divide by zero encountered in log10\n",
            "  - 0.5 * np.log10(f_sq + const[3]))\n"
          ],
          "name": "stderr"
        },
        {
          "output_type": "stream",
          "text": [
            "0426 / 1600 | drive/My Drive/AudioTaggerData/FSDKaggle2018.audio_test/e103173b.wav\n"
          ],
          "name": "stdout"
        },
        {
          "output_type": "stream",
          "text": [
            "/usr/local/lib/python3.6/dist-packages/librosa/core/time_frequency.py:1006: RuntimeWarning: divide by zero encountered in log10\n",
            "  - 0.5 * np.log10(f_sq + const[3]))\n"
          ],
          "name": "stderr"
        },
        {
          "output_type": "stream",
          "text": [
            "0427 / 1600 | drive/My Drive/AudioTaggerData/FSDKaggle2018.audio_test/abd88f50.wav\n"
          ],
          "name": "stdout"
        },
        {
          "output_type": "stream",
          "text": [
            "/usr/local/lib/python3.6/dist-packages/librosa/core/time_frequency.py:1006: RuntimeWarning: divide by zero encountered in log10\n",
            "  - 0.5 * np.log10(f_sq + const[3]))\n"
          ],
          "name": "stderr"
        },
        {
          "output_type": "stream",
          "text": [
            "0428 / 1600 | drive/My Drive/AudioTaggerData/FSDKaggle2018.audio_test/9408d9d8.wav\n"
          ],
          "name": "stdout"
        },
        {
          "output_type": "stream",
          "text": [
            "/usr/local/lib/python3.6/dist-packages/librosa/core/time_frequency.py:1006: RuntimeWarning: divide by zero encountered in log10\n",
            "  - 0.5 * np.log10(f_sq + const[3]))\n"
          ],
          "name": "stderr"
        },
        {
          "output_type": "stream",
          "text": [
            "0429 / 1600 | drive/My Drive/AudioTaggerData/FSDKaggle2018.audio_test/abf29673.wav\n"
          ],
          "name": "stdout"
        },
        {
          "output_type": "stream",
          "text": [
            "/usr/local/lib/python3.6/dist-packages/librosa/core/time_frequency.py:1006: RuntimeWarning: divide by zero encountered in log10\n",
            "  - 0.5 * np.log10(f_sq + const[3]))\n"
          ],
          "name": "stderr"
        },
        {
          "output_type": "stream",
          "text": [
            "0430 / 1600 | drive/My Drive/AudioTaggerData/FSDKaggle2018.audio_test/59082bc2.wav\n"
          ],
          "name": "stdout"
        },
        {
          "output_type": "stream",
          "text": [
            "/usr/local/lib/python3.6/dist-packages/librosa/core/time_frequency.py:1006: RuntimeWarning: divide by zero encountered in log10\n",
            "  - 0.5 * np.log10(f_sq + const[3]))\n"
          ],
          "name": "stderr"
        },
        {
          "output_type": "stream",
          "text": [
            "0431 / 1600 | drive/My Drive/AudioTaggerData/FSDKaggle2018.audio_test/419941be.wav\n"
          ],
          "name": "stdout"
        },
        {
          "output_type": "stream",
          "text": [
            "/usr/local/lib/python3.6/dist-packages/librosa/core/time_frequency.py:1006: RuntimeWarning: divide by zero encountered in log10\n",
            "  - 0.5 * np.log10(f_sq + const[3]))\n"
          ],
          "name": "stderr"
        },
        {
          "output_type": "stream",
          "text": [
            "0432 / 1600 | drive/My Drive/AudioTaggerData/FSDKaggle2018.audio_test/8ff902e9.wav\n"
          ],
          "name": "stdout"
        },
        {
          "output_type": "stream",
          "text": [
            "/usr/local/lib/python3.6/dist-packages/librosa/core/time_frequency.py:1006: RuntimeWarning: divide by zero encountered in log10\n",
            "  - 0.5 * np.log10(f_sq + const[3]))\n"
          ],
          "name": "stderr"
        },
        {
          "output_type": "stream",
          "text": [
            "0433 / 1600 | drive/My Drive/AudioTaggerData/FSDKaggle2018.audio_test/cabee68d.wav\n"
          ],
          "name": "stdout"
        },
        {
          "output_type": "stream",
          "text": [
            "/usr/local/lib/python3.6/dist-packages/librosa/core/time_frequency.py:1006: RuntimeWarning: divide by zero encountered in log10\n",
            "  - 0.5 * np.log10(f_sq + const[3]))\n"
          ],
          "name": "stderr"
        },
        {
          "output_type": "stream",
          "text": [
            "0434 / 1600 | drive/My Drive/AudioTaggerData/FSDKaggle2018.audio_test/b05ac4fc.wav\n"
          ],
          "name": "stdout"
        },
        {
          "output_type": "stream",
          "text": [
            "/usr/local/lib/python3.6/dist-packages/librosa/core/time_frequency.py:1006: RuntimeWarning: divide by zero encountered in log10\n",
            "  - 0.5 * np.log10(f_sq + const[3]))\n"
          ],
          "name": "stderr"
        },
        {
          "output_type": "stream",
          "text": [
            "0435 / 1600 | drive/My Drive/AudioTaggerData/FSDKaggle2018.audio_test/d256e250.wav\n"
          ],
          "name": "stdout"
        },
        {
          "output_type": "stream",
          "text": [
            "/usr/local/lib/python3.6/dist-packages/librosa/core/time_frequency.py:1006: RuntimeWarning: divide by zero encountered in log10\n",
            "  - 0.5 * np.log10(f_sq + const[3]))\n"
          ],
          "name": "stderr"
        },
        {
          "output_type": "stream",
          "text": [
            "0436 / 1600 | drive/My Drive/AudioTaggerData/FSDKaggle2018.audio_test/fb84a793.wav\n"
          ],
          "name": "stdout"
        },
        {
          "output_type": "stream",
          "text": [
            "/usr/local/lib/python3.6/dist-packages/librosa/core/time_frequency.py:1006: RuntimeWarning: divide by zero encountered in log10\n",
            "  - 0.5 * np.log10(f_sq + const[3]))\n"
          ],
          "name": "stderr"
        },
        {
          "output_type": "stream",
          "text": [
            "0437 / 1600 | drive/My Drive/AudioTaggerData/FSDKaggle2018.audio_test/bd772d30.wav\n"
          ],
          "name": "stdout"
        },
        {
          "output_type": "stream",
          "text": [
            "/usr/local/lib/python3.6/dist-packages/librosa/core/time_frequency.py:1006: RuntimeWarning: divide by zero encountered in log10\n",
            "  - 0.5 * np.log10(f_sq + const[3]))\n"
          ],
          "name": "stderr"
        },
        {
          "output_type": "stream",
          "text": [
            "0438 / 1600 | drive/My Drive/AudioTaggerData/FSDKaggle2018.audio_test/583c89f0.wav\n"
          ],
          "name": "stdout"
        },
        {
          "output_type": "stream",
          "text": [
            "/usr/local/lib/python3.6/dist-packages/librosa/core/time_frequency.py:1006: RuntimeWarning: divide by zero encountered in log10\n",
            "  - 0.5 * np.log10(f_sq + const[3]))\n"
          ],
          "name": "stderr"
        },
        {
          "output_type": "stream",
          "text": [
            "0439 / 1600 | drive/My Drive/AudioTaggerData/FSDKaggle2018.audio_test/0b495758.wav\n"
          ],
          "name": "stdout"
        },
        {
          "output_type": "stream",
          "text": [
            "/usr/local/lib/python3.6/dist-packages/librosa/core/time_frequency.py:1006: RuntimeWarning: divide by zero encountered in log10\n",
            "  - 0.5 * np.log10(f_sq + const[3]))\n"
          ],
          "name": "stderr"
        },
        {
          "output_type": "stream",
          "text": [
            "0440 / 1600 | drive/My Drive/AudioTaggerData/FSDKaggle2018.audio_test/bdc3a110.wav\n"
          ],
          "name": "stdout"
        },
        {
          "output_type": "stream",
          "text": [
            "/usr/local/lib/python3.6/dist-packages/librosa/core/time_frequency.py:1006: RuntimeWarning: divide by zero encountered in log10\n",
            "  - 0.5 * np.log10(f_sq + const[3]))\n"
          ],
          "name": "stderr"
        },
        {
          "output_type": "stream",
          "text": [
            "0441 / 1600 | drive/My Drive/AudioTaggerData/FSDKaggle2018.audio_test/04b249bd.wav\n"
          ],
          "name": "stdout"
        },
        {
          "output_type": "stream",
          "text": [
            "/usr/local/lib/python3.6/dist-packages/librosa/core/time_frequency.py:1006: RuntimeWarning: divide by zero encountered in log10\n",
            "  - 0.5 * np.log10(f_sq + const[3]))\n"
          ],
          "name": "stderr"
        },
        {
          "output_type": "stream",
          "text": [
            "0442 / 1600 | drive/My Drive/AudioTaggerData/FSDKaggle2018.audio_test/b18706e8.wav\n"
          ],
          "name": "stdout"
        },
        {
          "output_type": "stream",
          "text": [
            "/usr/local/lib/python3.6/dist-packages/librosa/core/time_frequency.py:1006: RuntimeWarning: divide by zero encountered in log10\n",
            "  - 0.5 * np.log10(f_sq + const[3]))\n"
          ],
          "name": "stderr"
        },
        {
          "output_type": "stream",
          "text": [
            "0443 / 1600 | drive/My Drive/AudioTaggerData/FSDKaggle2018.audio_test/c71d4dca.wav\n"
          ],
          "name": "stdout"
        },
        {
          "output_type": "stream",
          "text": [
            "/usr/local/lib/python3.6/dist-packages/librosa/core/time_frequency.py:1006: RuntimeWarning: divide by zero encountered in log10\n",
            "  - 0.5 * np.log10(f_sq + const[3]))\n"
          ],
          "name": "stderr"
        },
        {
          "output_type": "stream",
          "text": [
            "0444 / 1600 | drive/My Drive/AudioTaggerData/FSDKaggle2018.audio_test/acb33e73.wav\n"
          ],
          "name": "stdout"
        },
        {
          "output_type": "stream",
          "text": [
            "/usr/local/lib/python3.6/dist-packages/librosa/core/time_frequency.py:1006: RuntimeWarning: divide by zero encountered in log10\n",
            "  - 0.5 * np.log10(f_sq + const[3]))\n"
          ],
          "name": "stderr"
        },
        {
          "output_type": "stream",
          "text": [
            "0445 / 1600 | drive/My Drive/AudioTaggerData/FSDKaggle2018.audio_test/c71ffabf.wav\n"
          ],
          "name": "stdout"
        },
        {
          "output_type": "stream",
          "text": [
            "/usr/local/lib/python3.6/dist-packages/librosa/core/time_frequency.py:1006: RuntimeWarning: divide by zero encountered in log10\n",
            "  - 0.5 * np.log10(f_sq + const[3]))\n"
          ],
          "name": "stderr"
        },
        {
          "output_type": "stream",
          "text": [
            "0446 / 1600 | drive/My Drive/AudioTaggerData/FSDKaggle2018.audio_test/b509697d.wav\n"
          ],
          "name": "stdout"
        },
        {
          "output_type": "stream",
          "text": [
            "/usr/local/lib/python3.6/dist-packages/librosa/core/time_frequency.py:1006: RuntimeWarning: divide by zero encountered in log10\n",
            "  - 0.5 * np.log10(f_sq + const[3]))\n"
          ],
          "name": "stderr"
        },
        {
          "output_type": "stream",
          "text": [
            "0447 / 1600 | drive/My Drive/AudioTaggerData/FSDKaggle2018.audio_test/9581aba0.wav\n"
          ],
          "name": "stdout"
        },
        {
          "output_type": "stream",
          "text": [
            "/usr/local/lib/python3.6/dist-packages/librosa/core/time_frequency.py:1006: RuntimeWarning: divide by zero encountered in log10\n",
            "  - 0.5 * np.log10(f_sq + const[3]))\n"
          ],
          "name": "stderr"
        },
        {
          "output_type": "stream",
          "text": [
            "0448 / 1600 | drive/My Drive/AudioTaggerData/FSDKaggle2018.audio_test/80197fba.wav\n"
          ],
          "name": "stdout"
        },
        {
          "output_type": "stream",
          "text": [
            "/usr/local/lib/python3.6/dist-packages/librosa/core/time_frequency.py:1006: RuntimeWarning: divide by zero encountered in log10\n",
            "  - 0.5 * np.log10(f_sq + const[3]))\n"
          ],
          "name": "stderr"
        },
        {
          "output_type": "stream",
          "text": [
            "0449 / 1600 | drive/My Drive/AudioTaggerData/FSDKaggle2018.audio_test/993b8d3b.wav\n"
          ],
          "name": "stdout"
        },
        {
          "output_type": "stream",
          "text": [
            "/usr/local/lib/python3.6/dist-packages/librosa/core/time_frequency.py:1006: RuntimeWarning: divide by zero encountered in log10\n",
            "  - 0.5 * np.log10(f_sq + const[3]))\n"
          ],
          "name": "stderr"
        },
        {
          "output_type": "stream",
          "text": [
            "0450 / 1600 | drive/My Drive/AudioTaggerData/FSDKaggle2018.audio_test/15719ed6.wav\n"
          ],
          "name": "stdout"
        },
        {
          "output_type": "stream",
          "text": [
            "/usr/local/lib/python3.6/dist-packages/librosa/core/time_frequency.py:1006: RuntimeWarning: divide by zero encountered in log10\n",
            "  - 0.5 * np.log10(f_sq + const[3]))\n"
          ],
          "name": "stderr"
        },
        {
          "output_type": "stream",
          "text": [
            "0451 / 1600 | drive/My Drive/AudioTaggerData/FSDKaggle2018.audio_test/e769bae1.wav\n"
          ],
          "name": "stdout"
        },
        {
          "output_type": "stream",
          "text": [
            "/usr/local/lib/python3.6/dist-packages/librosa/core/time_frequency.py:1006: RuntimeWarning: divide by zero encountered in log10\n",
            "  - 0.5 * np.log10(f_sq + const[3]))\n"
          ],
          "name": "stderr"
        },
        {
          "output_type": "stream",
          "text": [
            "0452 / 1600 | drive/My Drive/AudioTaggerData/FSDKaggle2018.audio_test/3cdf8846.wav\n"
          ],
          "name": "stdout"
        },
        {
          "output_type": "stream",
          "text": [
            "/usr/local/lib/python3.6/dist-packages/librosa/core/time_frequency.py:1006: RuntimeWarning: divide by zero encountered in log10\n",
            "  - 0.5 * np.log10(f_sq + const[3]))\n"
          ],
          "name": "stderr"
        },
        {
          "output_type": "stream",
          "text": [
            "0453 / 1600 | drive/My Drive/AudioTaggerData/FSDKaggle2018.audio_test/1c365ceb.wav\n"
          ],
          "name": "stdout"
        },
        {
          "output_type": "stream",
          "text": [
            "/usr/local/lib/python3.6/dist-packages/librosa/core/time_frequency.py:1006: RuntimeWarning: divide by zero encountered in log10\n",
            "  - 0.5 * np.log10(f_sq + const[3]))\n"
          ],
          "name": "stderr"
        },
        {
          "output_type": "stream",
          "text": [
            "0454 / 1600 | drive/My Drive/AudioTaggerData/FSDKaggle2018.audio_test/fc862923.wav\n"
          ],
          "name": "stdout"
        },
        {
          "output_type": "stream",
          "text": [
            "/usr/local/lib/python3.6/dist-packages/librosa/core/time_frequency.py:1006: RuntimeWarning: divide by zero encountered in log10\n",
            "  - 0.5 * np.log10(f_sq + const[3]))\n"
          ],
          "name": "stderr"
        },
        {
          "output_type": "stream",
          "text": [
            "0455 / 1600 | drive/My Drive/AudioTaggerData/FSDKaggle2018.audio_test/41b78889.wav\n"
          ],
          "name": "stdout"
        },
        {
          "output_type": "stream",
          "text": [
            "/usr/local/lib/python3.6/dist-packages/librosa/core/time_frequency.py:1006: RuntimeWarning: divide by zero encountered in log10\n",
            "  - 0.5 * np.log10(f_sq + const[3]))\n"
          ],
          "name": "stderr"
        },
        {
          "output_type": "stream",
          "text": [
            "0456 / 1600 | drive/My Drive/AudioTaggerData/FSDKaggle2018.audio_test/ba0a46b9.wav\n"
          ],
          "name": "stdout"
        },
        {
          "output_type": "stream",
          "text": [
            "/usr/local/lib/python3.6/dist-packages/librosa/core/time_frequency.py:1006: RuntimeWarning: divide by zero encountered in log10\n",
            "  - 0.5 * np.log10(f_sq + const[3]))\n"
          ],
          "name": "stderr"
        },
        {
          "output_type": "stream",
          "text": [
            "0457 / 1600 | drive/My Drive/AudioTaggerData/FSDKaggle2018.audio_test/a82b6e0c.wav\n"
          ],
          "name": "stdout"
        },
        {
          "output_type": "stream",
          "text": [
            "/usr/local/lib/python3.6/dist-packages/librosa/core/time_frequency.py:1006: RuntimeWarning: divide by zero encountered in log10\n",
            "  - 0.5 * np.log10(f_sq + const[3]))\n"
          ],
          "name": "stderr"
        },
        {
          "output_type": "stream",
          "text": [
            "0458 / 1600 | drive/My Drive/AudioTaggerData/FSDKaggle2018.audio_test/e0d96e55.wav\n"
          ],
          "name": "stdout"
        },
        {
          "output_type": "stream",
          "text": [
            "/usr/local/lib/python3.6/dist-packages/librosa/core/time_frequency.py:1006: RuntimeWarning: divide by zero encountered in log10\n",
            "  - 0.5 * np.log10(f_sq + const[3]))\n"
          ],
          "name": "stderr"
        },
        {
          "output_type": "stream",
          "text": [
            "0459 / 1600 | drive/My Drive/AudioTaggerData/FSDKaggle2018.audio_test/a913f607.wav\n"
          ],
          "name": "stdout"
        },
        {
          "output_type": "stream",
          "text": [
            "/usr/local/lib/python3.6/dist-packages/librosa/core/time_frequency.py:1006: RuntimeWarning: divide by zero encountered in log10\n",
            "  - 0.5 * np.log10(f_sq + const[3]))\n"
          ],
          "name": "stderr"
        },
        {
          "output_type": "stream",
          "text": [
            "0460 / 1600 | drive/My Drive/AudioTaggerData/FSDKaggle2018.audio_test/a89e75c2.wav\n"
          ],
          "name": "stdout"
        },
        {
          "output_type": "stream",
          "text": [
            "/usr/local/lib/python3.6/dist-packages/librosa/core/time_frequency.py:1006: RuntimeWarning: divide by zero encountered in log10\n",
            "  - 0.5 * np.log10(f_sq + const[3]))\n"
          ],
          "name": "stderr"
        },
        {
          "output_type": "stream",
          "text": [
            "0461 / 1600 | drive/My Drive/AudioTaggerData/FSDKaggle2018.audio_test/3132a40c.wav\n"
          ],
          "name": "stdout"
        },
        {
          "output_type": "stream",
          "text": [
            "/usr/local/lib/python3.6/dist-packages/librosa/core/time_frequency.py:1006: RuntimeWarning: divide by zero encountered in log10\n",
            "  - 0.5 * np.log10(f_sq + const[3]))\n"
          ],
          "name": "stderr"
        },
        {
          "output_type": "stream",
          "text": [
            "0462 / 1600 | drive/My Drive/AudioTaggerData/FSDKaggle2018.audio_test/c949e9e5.wav\n"
          ],
          "name": "stdout"
        },
        {
          "output_type": "stream",
          "text": [
            "/usr/local/lib/python3.6/dist-packages/librosa/core/time_frequency.py:1006: RuntimeWarning: divide by zero encountered in log10\n",
            "  - 0.5 * np.log10(f_sq + const[3]))\n"
          ],
          "name": "stderr"
        },
        {
          "output_type": "stream",
          "text": [
            "0463 / 1600 | drive/My Drive/AudioTaggerData/FSDKaggle2018.audio_test/18bc6c72.wav\n"
          ],
          "name": "stdout"
        },
        {
          "output_type": "stream",
          "text": [
            "/usr/local/lib/python3.6/dist-packages/librosa/core/time_frequency.py:1006: RuntimeWarning: divide by zero encountered in log10\n",
            "  - 0.5 * np.log10(f_sq + const[3]))\n"
          ],
          "name": "stderr"
        },
        {
          "output_type": "stream",
          "text": [
            "0464 / 1600 | drive/My Drive/AudioTaggerData/FSDKaggle2018.audio_test/62d7d671.wav\n"
          ],
          "name": "stdout"
        },
        {
          "output_type": "stream",
          "text": [
            "/usr/local/lib/python3.6/dist-packages/librosa/core/time_frequency.py:1006: RuntimeWarning: divide by zero encountered in log10\n",
            "  - 0.5 * np.log10(f_sq + const[3]))\n"
          ],
          "name": "stderr"
        },
        {
          "output_type": "stream",
          "text": [
            "0465 / 1600 | drive/My Drive/AudioTaggerData/FSDKaggle2018.audio_test/ff96680f.wav\n"
          ],
          "name": "stdout"
        },
        {
          "output_type": "stream",
          "text": [
            "/usr/local/lib/python3.6/dist-packages/librosa/core/time_frequency.py:1006: RuntimeWarning: divide by zero encountered in log10\n",
            "  - 0.5 * np.log10(f_sq + const[3]))\n"
          ],
          "name": "stderr"
        },
        {
          "output_type": "stream",
          "text": [
            "0466 / 1600 | drive/My Drive/AudioTaggerData/FSDKaggle2018.audio_test/6182f387.wav\n"
          ],
          "name": "stdout"
        },
        {
          "output_type": "stream",
          "text": [
            "/usr/local/lib/python3.6/dist-packages/librosa/core/time_frequency.py:1006: RuntimeWarning: divide by zero encountered in log10\n",
            "  - 0.5 * np.log10(f_sq + const[3]))\n"
          ],
          "name": "stderr"
        },
        {
          "output_type": "stream",
          "text": [
            "0467 / 1600 | drive/My Drive/AudioTaggerData/FSDKaggle2018.audio_test/70b7505d.wav\n"
          ],
          "name": "stdout"
        },
        {
          "output_type": "stream",
          "text": [
            "/usr/local/lib/python3.6/dist-packages/librosa/core/time_frequency.py:1006: RuntimeWarning: divide by zero encountered in log10\n",
            "  - 0.5 * np.log10(f_sq + const[3]))\n"
          ],
          "name": "stderr"
        },
        {
          "output_type": "stream",
          "text": [
            "0468 / 1600 | drive/My Drive/AudioTaggerData/FSDKaggle2018.audio_test/ab0a7aa3.wav\n"
          ],
          "name": "stdout"
        },
        {
          "output_type": "stream",
          "text": [
            "/usr/local/lib/python3.6/dist-packages/librosa/core/time_frequency.py:1006: RuntimeWarning: divide by zero encountered in log10\n",
            "  - 0.5 * np.log10(f_sq + const[3]))\n"
          ],
          "name": "stderr"
        },
        {
          "output_type": "stream",
          "text": [
            "0469 / 1600 | drive/My Drive/AudioTaggerData/FSDKaggle2018.audio_test/bbc360cb.wav\n"
          ],
          "name": "stdout"
        },
        {
          "output_type": "stream",
          "text": [
            "/usr/local/lib/python3.6/dist-packages/librosa/core/time_frequency.py:1006: RuntimeWarning: divide by zero encountered in log10\n",
            "  - 0.5 * np.log10(f_sq + const[3]))\n"
          ],
          "name": "stderr"
        },
        {
          "output_type": "stream",
          "text": [
            "0470 / 1600 | drive/My Drive/AudioTaggerData/FSDKaggle2018.audio_test/030db750.wav\n"
          ],
          "name": "stdout"
        },
        {
          "output_type": "stream",
          "text": [
            "/usr/local/lib/python3.6/dist-packages/librosa/core/time_frequency.py:1006: RuntimeWarning: divide by zero encountered in log10\n",
            "  - 0.5 * np.log10(f_sq + const[3]))\n"
          ],
          "name": "stderr"
        },
        {
          "output_type": "stream",
          "text": [
            "0471 / 1600 | drive/My Drive/AudioTaggerData/FSDKaggle2018.audio_test/84f1e21c.wav\n"
          ],
          "name": "stdout"
        },
        {
          "output_type": "stream",
          "text": [
            "/usr/local/lib/python3.6/dist-packages/librosa/core/time_frequency.py:1006: RuntimeWarning: divide by zero encountered in log10\n",
            "  - 0.5 * np.log10(f_sq + const[3]))\n"
          ],
          "name": "stderr"
        },
        {
          "output_type": "stream",
          "text": [
            "0472 / 1600 | drive/My Drive/AudioTaggerData/FSDKaggle2018.audio_test/5e239e56.wav\n"
          ],
          "name": "stdout"
        },
        {
          "output_type": "stream",
          "text": [
            "/usr/local/lib/python3.6/dist-packages/librosa/core/time_frequency.py:1006: RuntimeWarning: divide by zero encountered in log10\n",
            "  - 0.5 * np.log10(f_sq + const[3]))\n"
          ],
          "name": "stderr"
        },
        {
          "output_type": "stream",
          "text": [
            "0473 / 1600 | drive/My Drive/AudioTaggerData/FSDKaggle2018.audio_test/8bdd4257.wav\n"
          ],
          "name": "stdout"
        },
        {
          "output_type": "stream",
          "text": [
            "/usr/local/lib/python3.6/dist-packages/librosa/core/time_frequency.py:1006: RuntimeWarning: divide by zero encountered in log10\n",
            "  - 0.5 * np.log10(f_sq + const[3]))\n"
          ],
          "name": "stderr"
        },
        {
          "output_type": "stream",
          "text": [
            "0474 / 1600 | drive/My Drive/AudioTaggerData/FSDKaggle2018.audio_test/0fcd2371.wav\n"
          ],
          "name": "stdout"
        },
        {
          "output_type": "stream",
          "text": [
            "/usr/local/lib/python3.6/dist-packages/librosa/core/time_frequency.py:1006: RuntimeWarning: divide by zero encountered in log10\n",
            "  - 0.5 * np.log10(f_sq + const[3]))\n"
          ],
          "name": "stderr"
        },
        {
          "output_type": "stream",
          "text": [
            "0475 / 1600 | drive/My Drive/AudioTaggerData/FSDKaggle2018.audio_test/2bb34f54.wav\n"
          ],
          "name": "stdout"
        },
        {
          "output_type": "stream",
          "text": [
            "/usr/local/lib/python3.6/dist-packages/librosa/core/time_frequency.py:1006: RuntimeWarning: divide by zero encountered in log10\n",
            "  - 0.5 * np.log10(f_sq + const[3]))\n"
          ],
          "name": "stderr"
        },
        {
          "output_type": "stream",
          "text": [
            "0476 / 1600 | drive/My Drive/AudioTaggerData/FSDKaggle2018.audio_test/3d5d1b2b.wav\n"
          ],
          "name": "stdout"
        },
        {
          "output_type": "stream",
          "text": [
            "/usr/local/lib/python3.6/dist-packages/librosa/core/time_frequency.py:1006: RuntimeWarning: divide by zero encountered in log10\n",
            "  - 0.5 * np.log10(f_sq + const[3]))\n"
          ],
          "name": "stderr"
        },
        {
          "output_type": "stream",
          "text": [
            "0477 / 1600 | drive/My Drive/AudioTaggerData/FSDKaggle2018.audio_test/a11c68e9.wav\n"
          ],
          "name": "stdout"
        },
        {
          "output_type": "stream",
          "text": [
            "/usr/local/lib/python3.6/dist-packages/librosa/core/time_frequency.py:1006: RuntimeWarning: divide by zero encountered in log10\n",
            "  - 0.5 * np.log10(f_sq + const[3]))\n"
          ],
          "name": "stderr"
        },
        {
          "output_type": "stream",
          "text": [
            "0478 / 1600 | drive/My Drive/AudioTaggerData/FSDKaggle2018.audio_test/529c08a0.wav\n"
          ],
          "name": "stdout"
        },
        {
          "output_type": "stream",
          "text": [
            "/usr/local/lib/python3.6/dist-packages/librosa/core/time_frequency.py:1006: RuntimeWarning: divide by zero encountered in log10\n",
            "  - 0.5 * np.log10(f_sq + const[3]))\n"
          ],
          "name": "stderr"
        },
        {
          "output_type": "stream",
          "text": [
            "0479 / 1600 | drive/My Drive/AudioTaggerData/FSDKaggle2018.audio_test/bc2cc241.wav\n"
          ],
          "name": "stdout"
        },
        {
          "output_type": "stream",
          "text": [
            "/usr/local/lib/python3.6/dist-packages/librosa/core/time_frequency.py:1006: RuntimeWarning: divide by zero encountered in log10\n",
            "  - 0.5 * np.log10(f_sq + const[3]))\n"
          ],
          "name": "stderr"
        },
        {
          "output_type": "stream",
          "text": [
            "0480 / 1600 | drive/My Drive/AudioTaggerData/FSDKaggle2018.audio_test/17c6a405.wav\n"
          ],
          "name": "stdout"
        },
        {
          "output_type": "stream",
          "text": [
            "/usr/local/lib/python3.6/dist-packages/librosa/core/time_frequency.py:1006: RuntimeWarning: divide by zero encountered in log10\n",
            "  - 0.5 * np.log10(f_sq + const[3]))\n"
          ],
          "name": "stderr"
        },
        {
          "output_type": "stream",
          "text": [
            "0481 / 1600 | drive/My Drive/AudioTaggerData/FSDKaggle2018.audio_test/80e195c8.wav\n"
          ],
          "name": "stdout"
        },
        {
          "output_type": "stream",
          "text": [
            "/usr/local/lib/python3.6/dist-packages/librosa/core/time_frequency.py:1006: RuntimeWarning: divide by zero encountered in log10\n",
            "  - 0.5 * np.log10(f_sq + const[3]))\n"
          ],
          "name": "stderr"
        },
        {
          "output_type": "stream",
          "text": [
            "0482 / 1600 | drive/My Drive/AudioTaggerData/FSDKaggle2018.audio_test/0a23fde2.wav\n"
          ],
          "name": "stdout"
        },
        {
          "output_type": "stream",
          "text": [
            "/usr/local/lib/python3.6/dist-packages/librosa/core/time_frequency.py:1006: RuntimeWarning: divide by zero encountered in log10\n",
            "  - 0.5 * np.log10(f_sq + const[3]))\n"
          ],
          "name": "stderr"
        },
        {
          "output_type": "stream",
          "text": [
            "0483 / 1600 | drive/My Drive/AudioTaggerData/FSDKaggle2018.audio_test/a43df00b.wav\n"
          ],
          "name": "stdout"
        },
        {
          "output_type": "stream",
          "text": [
            "/usr/local/lib/python3.6/dist-packages/librosa/core/time_frequency.py:1006: RuntimeWarning: divide by zero encountered in log10\n",
            "  - 0.5 * np.log10(f_sq + const[3]))\n"
          ],
          "name": "stderr"
        },
        {
          "output_type": "stream",
          "text": [
            "0484 / 1600 | drive/My Drive/AudioTaggerData/FSDKaggle2018.audio_test/712ffdfb.wav\n"
          ],
          "name": "stdout"
        },
        {
          "output_type": "stream",
          "text": [
            "/usr/local/lib/python3.6/dist-packages/librosa/core/time_frequency.py:1006: RuntimeWarning: divide by zero encountered in log10\n",
            "  - 0.5 * np.log10(f_sq + const[3]))\n"
          ],
          "name": "stderr"
        },
        {
          "output_type": "stream",
          "text": [
            "0485 / 1600 | drive/My Drive/AudioTaggerData/FSDKaggle2018.audio_test/02198549.wav\n"
          ],
          "name": "stdout"
        },
        {
          "output_type": "stream",
          "text": [
            "/usr/local/lib/python3.6/dist-packages/librosa/core/time_frequency.py:1006: RuntimeWarning: divide by zero encountered in log10\n",
            "  - 0.5 * np.log10(f_sq + const[3]))\n"
          ],
          "name": "stderr"
        },
        {
          "output_type": "stream",
          "text": [
            "0486 / 1600 | drive/My Drive/AudioTaggerData/FSDKaggle2018.audio_test/f62211dc.wav\n"
          ],
          "name": "stdout"
        },
        {
          "output_type": "stream",
          "text": [
            "/usr/local/lib/python3.6/dist-packages/librosa/core/time_frequency.py:1006: RuntimeWarning: divide by zero encountered in log10\n",
            "  - 0.5 * np.log10(f_sq + const[3]))\n"
          ],
          "name": "stderr"
        },
        {
          "output_type": "stream",
          "text": [
            "0487 / 1600 | drive/My Drive/AudioTaggerData/FSDKaggle2018.audio_test/e52d2253.wav\n"
          ],
          "name": "stdout"
        },
        {
          "output_type": "stream",
          "text": [
            "/usr/local/lib/python3.6/dist-packages/librosa/core/time_frequency.py:1006: RuntimeWarning: divide by zero encountered in log10\n",
            "  - 0.5 * np.log10(f_sq + const[3]))\n"
          ],
          "name": "stderr"
        },
        {
          "output_type": "stream",
          "text": [
            "0488 / 1600 | drive/My Drive/AudioTaggerData/FSDKaggle2018.audio_test/4c00af54.wav\n"
          ],
          "name": "stdout"
        },
        {
          "output_type": "stream",
          "text": [
            "/usr/local/lib/python3.6/dist-packages/librosa/core/time_frequency.py:1006: RuntimeWarning: divide by zero encountered in log10\n",
            "  - 0.5 * np.log10(f_sq + const[3]))\n"
          ],
          "name": "stderr"
        },
        {
          "output_type": "stream",
          "text": [
            "0489 / 1600 | drive/My Drive/AudioTaggerData/FSDKaggle2018.audio_test/e97fbc54.wav\n"
          ],
          "name": "stdout"
        },
        {
          "output_type": "stream",
          "text": [
            "/usr/local/lib/python3.6/dist-packages/librosa/core/time_frequency.py:1006: RuntimeWarning: divide by zero encountered in log10\n",
            "  - 0.5 * np.log10(f_sq + const[3]))\n"
          ],
          "name": "stderr"
        },
        {
          "output_type": "stream",
          "text": [
            "0490 / 1600 | drive/My Drive/AudioTaggerData/FSDKaggle2018.audio_test/907c343d.wav\n"
          ],
          "name": "stdout"
        },
        {
          "output_type": "stream",
          "text": [
            "/usr/local/lib/python3.6/dist-packages/librosa/core/time_frequency.py:1006: RuntimeWarning: divide by zero encountered in log10\n",
            "  - 0.5 * np.log10(f_sq + const[3]))\n"
          ],
          "name": "stderr"
        },
        {
          "output_type": "stream",
          "text": [
            "0491 / 1600 | drive/My Drive/AudioTaggerData/FSDKaggle2018.audio_test/8a23c5d3.wav\n"
          ],
          "name": "stdout"
        },
        {
          "output_type": "stream",
          "text": [
            "/usr/local/lib/python3.6/dist-packages/librosa/core/time_frequency.py:1006: RuntimeWarning: divide by zero encountered in log10\n",
            "  - 0.5 * np.log10(f_sq + const[3]))\n"
          ],
          "name": "stderr"
        },
        {
          "output_type": "stream",
          "text": [
            "0492 / 1600 | drive/My Drive/AudioTaggerData/FSDKaggle2018.audio_test/16d0c74a.wav\n"
          ],
          "name": "stdout"
        },
        {
          "output_type": "stream",
          "text": [
            "/usr/local/lib/python3.6/dist-packages/librosa/core/time_frequency.py:1006: RuntimeWarning: divide by zero encountered in log10\n",
            "  - 0.5 * np.log10(f_sq + const[3]))\n"
          ],
          "name": "stderr"
        },
        {
          "output_type": "stream",
          "text": [
            "0493 / 1600 | drive/My Drive/AudioTaggerData/FSDKaggle2018.audio_test/872be6c6.wav\n"
          ],
          "name": "stdout"
        },
        {
          "output_type": "stream",
          "text": [
            "/usr/local/lib/python3.6/dist-packages/librosa/core/time_frequency.py:1006: RuntimeWarning: divide by zero encountered in log10\n",
            "  - 0.5 * np.log10(f_sq + const[3]))\n"
          ],
          "name": "stderr"
        },
        {
          "output_type": "stream",
          "text": [
            "0494 / 1600 | drive/My Drive/AudioTaggerData/FSDKaggle2018.audio_test/3fa164e1.wav\n"
          ],
          "name": "stdout"
        },
        {
          "output_type": "stream",
          "text": [
            "/usr/local/lib/python3.6/dist-packages/librosa/core/time_frequency.py:1006: RuntimeWarning: divide by zero encountered in log10\n",
            "  - 0.5 * np.log10(f_sq + const[3]))\n"
          ],
          "name": "stderr"
        },
        {
          "output_type": "stream",
          "text": [
            "0495 / 1600 | drive/My Drive/AudioTaggerData/FSDKaggle2018.audio_test/0967cebd.wav\n"
          ],
          "name": "stdout"
        },
        {
          "output_type": "stream",
          "text": [
            "/usr/local/lib/python3.6/dist-packages/librosa/core/time_frequency.py:1006: RuntimeWarning: divide by zero encountered in log10\n",
            "  - 0.5 * np.log10(f_sq + const[3]))\n"
          ],
          "name": "stderr"
        },
        {
          "output_type": "stream",
          "text": [
            "0496 / 1600 | drive/My Drive/AudioTaggerData/FSDKaggle2018.audio_test/7a135d94.wav\n"
          ],
          "name": "stdout"
        },
        {
          "output_type": "stream",
          "text": [
            "/usr/local/lib/python3.6/dist-packages/librosa/core/time_frequency.py:1006: RuntimeWarning: divide by zero encountered in log10\n",
            "  - 0.5 * np.log10(f_sq + const[3]))\n"
          ],
          "name": "stderr"
        },
        {
          "output_type": "stream",
          "text": [
            "0497 / 1600 | drive/My Drive/AudioTaggerData/FSDKaggle2018.audio_test/29031e07.wav\n"
          ],
          "name": "stdout"
        },
        {
          "output_type": "stream",
          "text": [
            "/usr/local/lib/python3.6/dist-packages/librosa/core/time_frequency.py:1006: RuntimeWarning: divide by zero encountered in log10\n",
            "  - 0.5 * np.log10(f_sq + const[3]))\n"
          ],
          "name": "stderr"
        },
        {
          "output_type": "stream",
          "text": [
            "0498 / 1600 | drive/My Drive/AudioTaggerData/FSDKaggle2018.audio_test/d4ad4ca9.wav\n"
          ],
          "name": "stdout"
        },
        {
          "output_type": "stream",
          "text": [
            "/usr/local/lib/python3.6/dist-packages/librosa/core/time_frequency.py:1006: RuntimeWarning: divide by zero encountered in log10\n",
            "  - 0.5 * np.log10(f_sq + const[3]))\n"
          ],
          "name": "stderr"
        },
        {
          "output_type": "stream",
          "text": [
            "0499 / 1600 | drive/My Drive/AudioTaggerData/FSDKaggle2018.audio_test/2e42ccd2.wav\n"
          ],
          "name": "stdout"
        },
        {
          "output_type": "stream",
          "text": [
            "/usr/local/lib/python3.6/dist-packages/librosa/core/time_frequency.py:1006: RuntimeWarning: divide by zero encountered in log10\n",
            "  - 0.5 * np.log10(f_sq + const[3]))\n"
          ],
          "name": "stderr"
        },
        {
          "output_type": "stream",
          "text": [
            "0500 / 1600 | drive/My Drive/AudioTaggerData/FSDKaggle2018.audio_test/39a745ef.wav\n"
          ],
          "name": "stdout"
        },
        {
          "output_type": "stream",
          "text": [
            "/usr/local/lib/python3.6/dist-packages/librosa/core/time_frequency.py:1006: RuntimeWarning: divide by zero encountered in log10\n",
            "  - 0.5 * np.log10(f_sq + const[3]))\n"
          ],
          "name": "stderr"
        },
        {
          "output_type": "stream",
          "text": [
            "0501 / 1600 | drive/My Drive/AudioTaggerData/FSDKaggle2018.audio_test/8907f907.wav\n"
          ],
          "name": "stdout"
        },
        {
          "output_type": "stream",
          "text": [
            "/usr/local/lib/python3.6/dist-packages/librosa/core/time_frequency.py:1006: RuntimeWarning: divide by zero encountered in log10\n",
            "  - 0.5 * np.log10(f_sq + const[3]))\n"
          ],
          "name": "stderr"
        },
        {
          "output_type": "stream",
          "text": [
            "0502 / 1600 | drive/My Drive/AudioTaggerData/FSDKaggle2018.audio_test/0ed387f3.wav\n"
          ],
          "name": "stdout"
        },
        {
          "output_type": "stream",
          "text": [
            "/usr/local/lib/python3.6/dist-packages/librosa/core/time_frequency.py:1006: RuntimeWarning: divide by zero encountered in log10\n",
            "  - 0.5 * np.log10(f_sq + const[3]))\n"
          ],
          "name": "stderr"
        },
        {
          "output_type": "stream",
          "text": [
            "0503 / 1600 | drive/My Drive/AudioTaggerData/FSDKaggle2018.audio_test/9e4e279a.wav\n"
          ],
          "name": "stdout"
        },
        {
          "output_type": "stream",
          "text": [
            "/usr/local/lib/python3.6/dist-packages/librosa/core/time_frequency.py:1006: RuntimeWarning: divide by zero encountered in log10\n",
            "  - 0.5 * np.log10(f_sq + const[3]))\n"
          ],
          "name": "stderr"
        },
        {
          "output_type": "stream",
          "text": [
            "0504 / 1600 | drive/My Drive/AudioTaggerData/FSDKaggle2018.audio_test/ae1e828a.wav\n"
          ],
          "name": "stdout"
        },
        {
          "output_type": "stream",
          "text": [
            "/usr/local/lib/python3.6/dist-packages/librosa/core/time_frequency.py:1006: RuntimeWarning: divide by zero encountered in log10\n",
            "  - 0.5 * np.log10(f_sq + const[3]))\n"
          ],
          "name": "stderr"
        },
        {
          "output_type": "stream",
          "text": [
            "0505 / 1600 | drive/My Drive/AudioTaggerData/FSDKaggle2018.audio_test/61b032bc.wav\n"
          ],
          "name": "stdout"
        },
        {
          "output_type": "stream",
          "text": [
            "/usr/local/lib/python3.6/dist-packages/librosa/core/time_frequency.py:1006: RuntimeWarning: divide by zero encountered in log10\n",
            "  - 0.5 * np.log10(f_sq + const[3]))\n"
          ],
          "name": "stderr"
        },
        {
          "output_type": "stream",
          "text": [
            "0506 / 1600 | drive/My Drive/AudioTaggerData/FSDKaggle2018.audio_test/acdcfb8f.wav\n"
          ],
          "name": "stdout"
        },
        {
          "output_type": "stream",
          "text": [
            "/usr/local/lib/python3.6/dist-packages/librosa/core/time_frequency.py:1006: RuntimeWarning: divide by zero encountered in log10\n",
            "  - 0.5 * np.log10(f_sq + const[3]))\n"
          ],
          "name": "stderr"
        },
        {
          "output_type": "stream",
          "text": [
            "0507 / 1600 | drive/My Drive/AudioTaggerData/FSDKaggle2018.audio_test/e472d18b.wav\n"
          ],
          "name": "stdout"
        },
        {
          "output_type": "stream",
          "text": [
            "/usr/local/lib/python3.6/dist-packages/librosa/core/time_frequency.py:1006: RuntimeWarning: divide by zero encountered in log10\n",
            "  - 0.5 * np.log10(f_sq + const[3]))\n"
          ],
          "name": "stderr"
        },
        {
          "output_type": "stream",
          "text": [
            "0508 / 1600 | drive/My Drive/AudioTaggerData/FSDKaggle2018.audio_test/7358244d.wav\n"
          ],
          "name": "stdout"
        },
        {
          "output_type": "stream",
          "text": [
            "/usr/local/lib/python3.6/dist-packages/librosa/core/time_frequency.py:1006: RuntimeWarning: divide by zero encountered in log10\n",
            "  - 0.5 * np.log10(f_sq + const[3]))\n"
          ],
          "name": "stderr"
        },
        {
          "output_type": "stream",
          "text": [
            "0509 / 1600 | drive/My Drive/AudioTaggerData/FSDKaggle2018.audio_test/46121269.wav\n"
          ],
          "name": "stdout"
        },
        {
          "output_type": "stream",
          "text": [
            "/usr/local/lib/python3.6/dist-packages/librosa/core/time_frequency.py:1006: RuntimeWarning: divide by zero encountered in log10\n",
            "  - 0.5 * np.log10(f_sq + const[3]))\n"
          ],
          "name": "stderr"
        },
        {
          "output_type": "stream",
          "text": [
            "0510 / 1600 | drive/My Drive/AudioTaggerData/FSDKaggle2018.audio_test/266f7023.wav\n"
          ],
          "name": "stdout"
        },
        {
          "output_type": "stream",
          "text": [
            "/usr/local/lib/python3.6/dist-packages/librosa/core/time_frequency.py:1006: RuntimeWarning: divide by zero encountered in log10\n",
            "  - 0.5 * np.log10(f_sq + const[3]))\n"
          ],
          "name": "stderr"
        },
        {
          "output_type": "stream",
          "text": [
            "0511 / 1600 | drive/My Drive/AudioTaggerData/FSDKaggle2018.audio_test/15df8abd.wav\n"
          ],
          "name": "stdout"
        },
        {
          "output_type": "stream",
          "text": [
            "/usr/local/lib/python3.6/dist-packages/librosa/core/time_frequency.py:1006: RuntimeWarning: divide by zero encountered in log10\n",
            "  - 0.5 * np.log10(f_sq + const[3]))\n"
          ],
          "name": "stderr"
        },
        {
          "output_type": "stream",
          "text": [
            "0512 / 1600 | drive/My Drive/AudioTaggerData/FSDKaggle2018.audio_test/e9561a4a.wav\n"
          ],
          "name": "stdout"
        },
        {
          "output_type": "stream",
          "text": [
            "/usr/local/lib/python3.6/dist-packages/librosa/core/time_frequency.py:1006: RuntimeWarning: divide by zero encountered in log10\n",
            "  - 0.5 * np.log10(f_sq + const[3]))\n"
          ],
          "name": "stderr"
        },
        {
          "output_type": "stream",
          "text": [
            "0513 / 1600 | drive/My Drive/AudioTaggerData/FSDKaggle2018.audio_test/008afd93.wav\n"
          ],
          "name": "stdout"
        },
        {
          "output_type": "stream",
          "text": [
            "/usr/local/lib/python3.6/dist-packages/librosa/core/time_frequency.py:1006: RuntimeWarning: divide by zero encountered in log10\n",
            "  - 0.5 * np.log10(f_sq + const[3]))\n"
          ],
          "name": "stderr"
        },
        {
          "output_type": "stream",
          "text": [
            "0514 / 1600 | drive/My Drive/AudioTaggerData/FSDKaggle2018.audio_test/207b5701.wav\n"
          ],
          "name": "stdout"
        },
        {
          "output_type": "stream",
          "text": [
            "/usr/local/lib/python3.6/dist-packages/librosa/core/time_frequency.py:1006: RuntimeWarning: divide by zero encountered in log10\n",
            "  - 0.5 * np.log10(f_sq + const[3]))\n"
          ],
          "name": "stderr"
        },
        {
          "output_type": "stream",
          "text": [
            "0515 / 1600 | drive/My Drive/AudioTaggerData/FSDKaggle2018.audio_test/6a3a9e86.wav\n"
          ],
          "name": "stdout"
        },
        {
          "output_type": "stream",
          "text": [
            "/usr/local/lib/python3.6/dist-packages/librosa/core/time_frequency.py:1006: RuntimeWarning: divide by zero encountered in log10\n",
            "  - 0.5 * np.log10(f_sq + const[3]))\n"
          ],
          "name": "stderr"
        },
        {
          "output_type": "stream",
          "text": [
            "0516 / 1600 | drive/My Drive/AudioTaggerData/FSDKaggle2018.audio_test/af70136f.wav\n"
          ],
          "name": "stdout"
        },
        {
          "output_type": "stream",
          "text": [
            "/usr/local/lib/python3.6/dist-packages/librosa/core/time_frequency.py:1006: RuntimeWarning: divide by zero encountered in log10\n",
            "  - 0.5 * np.log10(f_sq + const[3]))\n"
          ],
          "name": "stderr"
        },
        {
          "output_type": "stream",
          "text": [
            "0517 / 1600 | drive/My Drive/AudioTaggerData/FSDKaggle2018.audio_test/96f7a0c5.wav\n"
          ],
          "name": "stdout"
        },
        {
          "output_type": "stream",
          "text": [
            "/usr/local/lib/python3.6/dist-packages/librosa/core/time_frequency.py:1006: RuntimeWarning: divide by zero encountered in log10\n",
            "  - 0.5 * np.log10(f_sq + const[3]))\n"
          ],
          "name": "stderr"
        },
        {
          "output_type": "stream",
          "text": [
            "0518 / 1600 | drive/My Drive/AudioTaggerData/FSDKaggle2018.audio_test/e752abed.wav\n"
          ],
          "name": "stdout"
        },
        {
          "output_type": "stream",
          "text": [
            "/usr/local/lib/python3.6/dist-packages/librosa/core/time_frequency.py:1006: RuntimeWarning: divide by zero encountered in log10\n",
            "  - 0.5 * np.log10(f_sq + const[3]))\n"
          ],
          "name": "stderr"
        },
        {
          "output_type": "stream",
          "text": [
            "0519 / 1600 | drive/My Drive/AudioTaggerData/FSDKaggle2018.audio_test/f2bf7e84.wav\n"
          ],
          "name": "stdout"
        },
        {
          "output_type": "stream",
          "text": [
            "/usr/local/lib/python3.6/dist-packages/librosa/core/time_frequency.py:1006: RuntimeWarning: divide by zero encountered in log10\n",
            "  - 0.5 * np.log10(f_sq + const[3]))\n"
          ],
          "name": "stderr"
        },
        {
          "output_type": "stream",
          "text": [
            "0520 / 1600 | drive/My Drive/AudioTaggerData/FSDKaggle2018.audio_test/18d8abc6.wav\n"
          ],
          "name": "stdout"
        },
        {
          "output_type": "stream",
          "text": [
            "/usr/local/lib/python3.6/dist-packages/librosa/core/time_frequency.py:1006: RuntimeWarning: divide by zero encountered in log10\n",
            "  - 0.5 * np.log10(f_sq + const[3]))\n"
          ],
          "name": "stderr"
        },
        {
          "output_type": "stream",
          "text": [
            "0521 / 1600 | drive/My Drive/AudioTaggerData/FSDKaggle2018.audio_test/1d49edfa.wav\n"
          ],
          "name": "stdout"
        },
        {
          "output_type": "stream",
          "text": [
            "/usr/local/lib/python3.6/dist-packages/librosa/core/time_frequency.py:1006: RuntimeWarning: divide by zero encountered in log10\n",
            "  - 0.5 * np.log10(f_sq + const[3]))\n"
          ],
          "name": "stderr"
        },
        {
          "output_type": "stream",
          "text": [
            "0522 / 1600 | drive/My Drive/AudioTaggerData/FSDKaggle2018.audio_test/f80f48e8.wav\n"
          ],
          "name": "stdout"
        },
        {
          "output_type": "stream",
          "text": [
            "/usr/local/lib/python3.6/dist-packages/librosa/core/time_frequency.py:1006: RuntimeWarning: divide by zero encountered in log10\n",
            "  - 0.5 * np.log10(f_sq + const[3]))\n"
          ],
          "name": "stderr"
        },
        {
          "output_type": "stream",
          "text": [
            "0523 / 1600 | drive/My Drive/AudioTaggerData/FSDKaggle2018.audio_test/976a40fb.wav\n"
          ],
          "name": "stdout"
        },
        {
          "output_type": "stream",
          "text": [
            "/usr/local/lib/python3.6/dist-packages/librosa/core/time_frequency.py:1006: RuntimeWarning: divide by zero encountered in log10\n",
            "  - 0.5 * np.log10(f_sq + const[3]))\n"
          ],
          "name": "stderr"
        },
        {
          "output_type": "stream",
          "text": [
            "0524 / 1600 | drive/My Drive/AudioTaggerData/FSDKaggle2018.audio_test/f08313da.wav\n"
          ],
          "name": "stdout"
        },
        {
          "output_type": "stream",
          "text": [
            "/usr/local/lib/python3.6/dist-packages/librosa/core/time_frequency.py:1006: RuntimeWarning: divide by zero encountered in log10\n",
            "  - 0.5 * np.log10(f_sq + const[3]))\n"
          ],
          "name": "stderr"
        },
        {
          "output_type": "stream",
          "text": [
            "0525 / 1600 | drive/My Drive/AudioTaggerData/FSDKaggle2018.audio_test/f4deed2a.wav\n"
          ],
          "name": "stdout"
        },
        {
          "output_type": "stream",
          "text": [
            "/usr/local/lib/python3.6/dist-packages/librosa/core/time_frequency.py:1006: RuntimeWarning: divide by zero encountered in log10\n",
            "  - 0.5 * np.log10(f_sq + const[3]))\n"
          ],
          "name": "stderr"
        },
        {
          "output_type": "stream",
          "text": [
            "0526 / 1600 | drive/My Drive/AudioTaggerData/FSDKaggle2018.audio_test/355eeedf.wav\n"
          ],
          "name": "stdout"
        },
        {
          "output_type": "stream",
          "text": [
            "/usr/local/lib/python3.6/dist-packages/librosa/core/time_frequency.py:1006: RuntimeWarning: divide by zero encountered in log10\n",
            "  - 0.5 * np.log10(f_sq + const[3]))\n"
          ],
          "name": "stderr"
        },
        {
          "output_type": "stream",
          "text": [
            "0527 / 1600 | drive/My Drive/AudioTaggerData/FSDKaggle2018.audio_test/7fbc0a0e.wav\n"
          ],
          "name": "stdout"
        },
        {
          "output_type": "stream",
          "text": [
            "/usr/local/lib/python3.6/dist-packages/librosa/core/time_frequency.py:1006: RuntimeWarning: divide by zero encountered in log10\n",
            "  - 0.5 * np.log10(f_sq + const[3]))\n"
          ],
          "name": "stderr"
        },
        {
          "output_type": "stream",
          "text": [
            "0528 / 1600 | drive/My Drive/AudioTaggerData/FSDKaggle2018.audio_test/5bd34855.wav\n"
          ],
          "name": "stdout"
        },
        {
          "output_type": "stream",
          "text": [
            "/usr/local/lib/python3.6/dist-packages/librosa/core/time_frequency.py:1006: RuntimeWarning: divide by zero encountered in log10\n",
            "  - 0.5 * np.log10(f_sq + const[3]))\n"
          ],
          "name": "stderr"
        },
        {
          "output_type": "stream",
          "text": [
            "0529 / 1600 | drive/My Drive/AudioTaggerData/FSDKaggle2018.audio_test/78e6d1e7.wav\n"
          ],
          "name": "stdout"
        },
        {
          "output_type": "stream",
          "text": [
            "/usr/local/lib/python3.6/dist-packages/librosa/core/time_frequency.py:1006: RuntimeWarning: divide by zero encountered in log10\n",
            "  - 0.5 * np.log10(f_sq + const[3]))\n"
          ],
          "name": "stderr"
        },
        {
          "output_type": "stream",
          "text": [
            "0530 / 1600 | drive/My Drive/AudioTaggerData/FSDKaggle2018.audio_test/e71c7193.wav\n"
          ],
          "name": "stdout"
        },
        {
          "output_type": "stream",
          "text": [
            "/usr/local/lib/python3.6/dist-packages/librosa/core/time_frequency.py:1006: RuntimeWarning: divide by zero encountered in log10\n",
            "  - 0.5 * np.log10(f_sq + const[3]))\n"
          ],
          "name": "stderr"
        },
        {
          "output_type": "stream",
          "text": [
            "0531 / 1600 | drive/My Drive/AudioTaggerData/FSDKaggle2018.audio_test/cf3f6594.wav\n"
          ],
          "name": "stdout"
        },
        {
          "output_type": "stream",
          "text": [
            "/usr/local/lib/python3.6/dist-packages/librosa/core/time_frequency.py:1006: RuntimeWarning: divide by zero encountered in log10\n",
            "  - 0.5 * np.log10(f_sq + const[3]))\n"
          ],
          "name": "stderr"
        },
        {
          "output_type": "stream",
          "text": [
            "0532 / 1600 | drive/My Drive/AudioTaggerData/FSDKaggle2018.audio_test/b4aaa0bb.wav\n"
          ],
          "name": "stdout"
        },
        {
          "output_type": "stream",
          "text": [
            "/usr/local/lib/python3.6/dist-packages/librosa/core/time_frequency.py:1006: RuntimeWarning: divide by zero encountered in log10\n",
            "  - 0.5 * np.log10(f_sq + const[3]))\n"
          ],
          "name": "stderr"
        },
        {
          "output_type": "stream",
          "text": [
            "0533 / 1600 | drive/My Drive/AudioTaggerData/FSDKaggle2018.audio_test/3ea8071a.wav\n"
          ],
          "name": "stdout"
        },
        {
          "output_type": "stream",
          "text": [
            "/usr/local/lib/python3.6/dist-packages/librosa/core/time_frequency.py:1006: RuntimeWarning: divide by zero encountered in log10\n",
            "  - 0.5 * np.log10(f_sq + const[3]))\n"
          ],
          "name": "stderr"
        },
        {
          "output_type": "stream",
          "text": [
            "0534 / 1600 | drive/My Drive/AudioTaggerData/FSDKaggle2018.audio_test/2423598a.wav\n"
          ],
          "name": "stdout"
        },
        {
          "output_type": "stream",
          "text": [
            "/usr/local/lib/python3.6/dist-packages/librosa/core/time_frequency.py:1006: RuntimeWarning: divide by zero encountered in log10\n",
            "  - 0.5 * np.log10(f_sq + const[3]))\n"
          ],
          "name": "stderr"
        },
        {
          "output_type": "stream",
          "text": [
            "0535 / 1600 | drive/My Drive/AudioTaggerData/FSDKaggle2018.audio_test/559c21bc.wav\n"
          ],
          "name": "stdout"
        },
        {
          "output_type": "stream",
          "text": [
            "/usr/local/lib/python3.6/dist-packages/librosa/core/time_frequency.py:1006: RuntimeWarning: divide by zero encountered in log10\n",
            "  - 0.5 * np.log10(f_sq + const[3]))\n"
          ],
          "name": "stderr"
        },
        {
          "output_type": "stream",
          "text": [
            "0536 / 1600 | drive/My Drive/AudioTaggerData/FSDKaggle2018.audio_test/75c43c78.wav\n"
          ],
          "name": "stdout"
        },
        {
          "output_type": "stream",
          "text": [
            "/usr/local/lib/python3.6/dist-packages/librosa/core/time_frequency.py:1006: RuntimeWarning: divide by zero encountered in log10\n",
            "  - 0.5 * np.log10(f_sq + const[3]))\n"
          ],
          "name": "stderr"
        },
        {
          "output_type": "stream",
          "text": [
            "0537 / 1600 | drive/My Drive/AudioTaggerData/FSDKaggle2018.audio_test/4f83ce81.wav\n"
          ],
          "name": "stdout"
        },
        {
          "output_type": "stream",
          "text": [
            "/usr/local/lib/python3.6/dist-packages/librosa/core/time_frequency.py:1006: RuntimeWarning: divide by zero encountered in log10\n",
            "  - 0.5 * np.log10(f_sq + const[3]))\n"
          ],
          "name": "stderr"
        },
        {
          "output_type": "stream",
          "text": [
            "0538 / 1600 | drive/My Drive/AudioTaggerData/FSDKaggle2018.audio_test/de949e03.wav\n"
          ],
          "name": "stdout"
        },
        {
          "output_type": "stream",
          "text": [
            "/usr/local/lib/python3.6/dist-packages/librosa/core/time_frequency.py:1006: RuntimeWarning: divide by zero encountered in log10\n",
            "  - 0.5 * np.log10(f_sq + const[3]))\n"
          ],
          "name": "stderr"
        },
        {
          "output_type": "stream",
          "text": [
            "0539 / 1600 | drive/My Drive/AudioTaggerData/FSDKaggle2018.audio_test/cb910861.wav\n"
          ],
          "name": "stdout"
        },
        {
          "output_type": "stream",
          "text": [
            "/usr/local/lib/python3.6/dist-packages/librosa/core/time_frequency.py:1006: RuntimeWarning: divide by zero encountered in log10\n",
            "  - 0.5 * np.log10(f_sq + const[3]))\n"
          ],
          "name": "stderr"
        },
        {
          "output_type": "stream",
          "text": [
            "0540 / 1600 | drive/My Drive/AudioTaggerData/FSDKaggle2018.audio_test/4e395bf5.wav\n"
          ],
          "name": "stdout"
        },
        {
          "output_type": "stream",
          "text": [
            "/usr/local/lib/python3.6/dist-packages/librosa/core/time_frequency.py:1006: RuntimeWarning: divide by zero encountered in log10\n",
            "  - 0.5 * np.log10(f_sq + const[3]))\n"
          ],
          "name": "stderr"
        },
        {
          "output_type": "stream",
          "text": [
            "0541 / 1600 | drive/My Drive/AudioTaggerData/FSDKaggle2018.audio_test/56c828a7.wav\n"
          ],
          "name": "stdout"
        },
        {
          "output_type": "stream",
          "text": [
            "/usr/local/lib/python3.6/dist-packages/librosa/core/time_frequency.py:1006: RuntimeWarning: divide by zero encountered in log10\n",
            "  - 0.5 * np.log10(f_sq + const[3]))\n"
          ],
          "name": "stderr"
        },
        {
          "output_type": "stream",
          "text": [
            "0542 / 1600 | drive/My Drive/AudioTaggerData/FSDKaggle2018.audio_test/7cf717b3.wav\n"
          ],
          "name": "stdout"
        },
        {
          "output_type": "stream",
          "text": [
            "/usr/local/lib/python3.6/dist-packages/librosa/core/time_frequency.py:1006: RuntimeWarning: divide by zero encountered in log10\n",
            "  - 0.5 * np.log10(f_sq + const[3]))\n"
          ],
          "name": "stderr"
        },
        {
          "output_type": "stream",
          "text": [
            "0543 / 1600 | drive/My Drive/AudioTaggerData/FSDKaggle2018.audio_test/5f9c52ba.wav\n"
          ],
          "name": "stdout"
        },
        {
          "output_type": "stream",
          "text": [
            "/usr/local/lib/python3.6/dist-packages/librosa/core/time_frequency.py:1006: RuntimeWarning: divide by zero encountered in log10\n",
            "  - 0.5 * np.log10(f_sq + const[3]))\n"
          ],
          "name": "stderr"
        },
        {
          "output_type": "stream",
          "text": [
            "0544 / 1600 | drive/My Drive/AudioTaggerData/FSDKaggle2018.audio_test/f4ad1785.wav\n"
          ],
          "name": "stdout"
        },
        {
          "output_type": "stream",
          "text": [
            "/usr/local/lib/python3.6/dist-packages/librosa/core/time_frequency.py:1006: RuntimeWarning: divide by zero encountered in log10\n",
            "  - 0.5 * np.log10(f_sq + const[3]))\n"
          ],
          "name": "stderr"
        },
        {
          "output_type": "stream",
          "text": [
            "0545 / 1600 | drive/My Drive/AudioTaggerData/FSDKaggle2018.audio_test/04605af5.wav\n"
          ],
          "name": "stdout"
        },
        {
          "output_type": "stream",
          "text": [
            "/usr/local/lib/python3.6/dist-packages/librosa/core/time_frequency.py:1006: RuntimeWarning: divide by zero encountered in log10\n",
            "  - 0.5 * np.log10(f_sq + const[3]))\n"
          ],
          "name": "stderr"
        },
        {
          "output_type": "stream",
          "text": [
            "0546 / 1600 | drive/My Drive/AudioTaggerData/FSDKaggle2018.audio_test/fba0d044.wav\n"
          ],
          "name": "stdout"
        },
        {
          "output_type": "stream",
          "text": [
            "/usr/local/lib/python3.6/dist-packages/librosa/core/time_frequency.py:1006: RuntimeWarning: divide by zero encountered in log10\n",
            "  - 0.5 * np.log10(f_sq + const[3]))\n"
          ],
          "name": "stderr"
        },
        {
          "output_type": "stream",
          "text": [
            "0547 / 1600 | drive/My Drive/AudioTaggerData/FSDKaggle2018.audio_test/53b5253e.wav\n"
          ],
          "name": "stdout"
        },
        {
          "output_type": "stream",
          "text": [
            "/usr/local/lib/python3.6/dist-packages/librosa/core/time_frequency.py:1006: RuntimeWarning: divide by zero encountered in log10\n",
            "  - 0.5 * np.log10(f_sq + const[3]))\n"
          ],
          "name": "stderr"
        },
        {
          "output_type": "stream",
          "text": [
            "0548 / 1600 | drive/My Drive/AudioTaggerData/FSDKaggle2018.audio_test/87d0f5c2.wav\n"
          ],
          "name": "stdout"
        },
        {
          "output_type": "stream",
          "text": [
            "/usr/local/lib/python3.6/dist-packages/librosa/core/time_frequency.py:1006: RuntimeWarning: divide by zero encountered in log10\n",
            "  - 0.5 * np.log10(f_sq + const[3]))\n"
          ],
          "name": "stderr"
        },
        {
          "output_type": "stream",
          "text": [
            "0549 / 1600 | drive/My Drive/AudioTaggerData/FSDKaggle2018.audio_test/a81e38d2.wav\n"
          ],
          "name": "stdout"
        },
        {
          "output_type": "stream",
          "text": [
            "/usr/local/lib/python3.6/dist-packages/librosa/core/time_frequency.py:1006: RuntimeWarning: divide by zero encountered in log10\n",
            "  - 0.5 * np.log10(f_sq + const[3]))\n"
          ],
          "name": "stderr"
        },
        {
          "output_type": "stream",
          "text": [
            "0550 / 1600 | drive/My Drive/AudioTaggerData/FSDKaggle2018.audio_test/4502efbb.wav\n"
          ],
          "name": "stdout"
        },
        {
          "output_type": "stream",
          "text": [
            "/usr/local/lib/python3.6/dist-packages/librosa/core/time_frequency.py:1006: RuntimeWarning: divide by zero encountered in log10\n",
            "  - 0.5 * np.log10(f_sq + const[3]))\n"
          ],
          "name": "stderr"
        },
        {
          "output_type": "stream",
          "text": [
            "0551 / 1600 | drive/My Drive/AudioTaggerData/FSDKaggle2018.audio_test/8eed6f48.wav\n"
          ],
          "name": "stdout"
        },
        {
          "output_type": "stream",
          "text": [
            "/usr/local/lib/python3.6/dist-packages/librosa/core/time_frequency.py:1006: RuntimeWarning: divide by zero encountered in log10\n",
            "  - 0.5 * np.log10(f_sq + const[3]))\n"
          ],
          "name": "stderr"
        },
        {
          "output_type": "stream",
          "text": [
            "0552 / 1600 | drive/My Drive/AudioTaggerData/FSDKaggle2018.audio_test/28c65e4d.wav\n"
          ],
          "name": "stdout"
        },
        {
          "output_type": "stream",
          "text": [
            "/usr/local/lib/python3.6/dist-packages/librosa/core/time_frequency.py:1006: RuntimeWarning: divide by zero encountered in log10\n",
            "  - 0.5 * np.log10(f_sq + const[3]))\n"
          ],
          "name": "stderr"
        },
        {
          "output_type": "stream",
          "text": [
            "0553 / 1600 | drive/My Drive/AudioTaggerData/FSDKaggle2018.audio_test/850e1d86.wav\n"
          ],
          "name": "stdout"
        },
        {
          "output_type": "stream",
          "text": [
            "/usr/local/lib/python3.6/dist-packages/librosa/core/time_frequency.py:1006: RuntimeWarning: divide by zero encountered in log10\n",
            "  - 0.5 * np.log10(f_sq + const[3]))\n"
          ],
          "name": "stderr"
        },
        {
          "output_type": "stream",
          "text": [
            "0554 / 1600 | drive/My Drive/AudioTaggerData/FSDKaggle2018.audio_test/9e7de1e2.wav\n"
          ],
          "name": "stdout"
        },
        {
          "output_type": "stream",
          "text": [
            "/usr/local/lib/python3.6/dist-packages/librosa/core/time_frequency.py:1006: RuntimeWarning: divide by zero encountered in log10\n",
            "  - 0.5 * np.log10(f_sq + const[3]))\n"
          ],
          "name": "stderr"
        },
        {
          "output_type": "stream",
          "text": [
            "0555 / 1600 | drive/My Drive/AudioTaggerData/FSDKaggle2018.audio_test/1779afe8.wav\n"
          ],
          "name": "stdout"
        },
        {
          "output_type": "stream",
          "text": [
            "/usr/local/lib/python3.6/dist-packages/librosa/core/time_frequency.py:1006: RuntimeWarning: divide by zero encountered in log10\n",
            "  - 0.5 * np.log10(f_sq + const[3]))\n"
          ],
          "name": "stderr"
        },
        {
          "output_type": "stream",
          "text": [
            "0556 / 1600 | drive/My Drive/AudioTaggerData/FSDKaggle2018.audio_test/4698193e.wav\n"
          ],
          "name": "stdout"
        },
        {
          "output_type": "stream",
          "text": [
            "/usr/local/lib/python3.6/dist-packages/librosa/core/time_frequency.py:1006: RuntimeWarning: divide by zero encountered in log10\n",
            "  - 0.5 * np.log10(f_sq + const[3]))\n"
          ],
          "name": "stderr"
        },
        {
          "output_type": "stream",
          "text": [
            "0557 / 1600 | drive/My Drive/AudioTaggerData/FSDKaggle2018.audio_test/b4eb0468.wav\n"
          ],
          "name": "stdout"
        },
        {
          "output_type": "stream",
          "text": [
            "/usr/local/lib/python3.6/dist-packages/librosa/core/time_frequency.py:1006: RuntimeWarning: divide by zero encountered in log10\n",
            "  - 0.5 * np.log10(f_sq + const[3]))\n"
          ],
          "name": "stderr"
        },
        {
          "output_type": "stream",
          "text": [
            "0558 / 1600 | drive/My Drive/AudioTaggerData/FSDKaggle2018.audio_test/978d94c2.wav\n"
          ],
          "name": "stdout"
        },
        {
          "output_type": "stream",
          "text": [
            "/usr/local/lib/python3.6/dist-packages/librosa/core/time_frequency.py:1006: RuntimeWarning: divide by zero encountered in log10\n",
            "  - 0.5 * np.log10(f_sq + const[3]))\n"
          ],
          "name": "stderr"
        },
        {
          "output_type": "stream",
          "text": [
            "0559 / 1600 | drive/My Drive/AudioTaggerData/FSDKaggle2018.audio_test/fa45b631.wav\n"
          ],
          "name": "stdout"
        },
        {
          "output_type": "stream",
          "text": [
            "/usr/local/lib/python3.6/dist-packages/librosa/core/time_frequency.py:1006: RuntimeWarning: divide by zero encountered in log10\n",
            "  - 0.5 * np.log10(f_sq + const[3]))\n"
          ],
          "name": "stderr"
        },
        {
          "output_type": "stream",
          "text": [
            "0560 / 1600 | drive/My Drive/AudioTaggerData/FSDKaggle2018.audio_test/ff720526.wav\n"
          ],
          "name": "stdout"
        },
        {
          "output_type": "stream",
          "text": [
            "/usr/local/lib/python3.6/dist-packages/librosa/core/time_frequency.py:1006: RuntimeWarning: divide by zero encountered in log10\n",
            "  - 0.5 * np.log10(f_sq + const[3]))\n"
          ],
          "name": "stderr"
        },
        {
          "output_type": "stream",
          "text": [
            "0561 / 1600 | drive/My Drive/AudioTaggerData/FSDKaggle2018.audio_test/fad0ea2e.wav\n"
          ],
          "name": "stdout"
        },
        {
          "output_type": "stream",
          "text": [
            "/usr/local/lib/python3.6/dist-packages/librosa/core/time_frequency.py:1006: RuntimeWarning: divide by zero encountered in log10\n",
            "  - 0.5 * np.log10(f_sq + const[3]))\n"
          ],
          "name": "stderr"
        },
        {
          "output_type": "stream",
          "text": [
            "0562 / 1600 | drive/My Drive/AudioTaggerData/FSDKaggle2018.audio_test/10dba05f.wav\n"
          ],
          "name": "stdout"
        },
        {
          "output_type": "stream",
          "text": [
            "/usr/local/lib/python3.6/dist-packages/librosa/core/time_frequency.py:1006: RuntimeWarning: divide by zero encountered in log10\n",
            "  - 0.5 * np.log10(f_sq + const[3]))\n"
          ],
          "name": "stderr"
        },
        {
          "output_type": "stream",
          "text": [
            "0563 / 1600 | drive/My Drive/AudioTaggerData/FSDKaggle2018.audio_test/6ea3d885.wav\n"
          ],
          "name": "stdout"
        },
        {
          "output_type": "stream",
          "text": [
            "/usr/local/lib/python3.6/dist-packages/librosa/core/time_frequency.py:1006: RuntimeWarning: divide by zero encountered in log10\n",
            "  - 0.5 * np.log10(f_sq + const[3]))\n"
          ],
          "name": "stderr"
        },
        {
          "output_type": "stream",
          "text": [
            "0564 / 1600 | drive/My Drive/AudioTaggerData/FSDKaggle2018.audio_test/7427ecfa.wav\n"
          ],
          "name": "stdout"
        },
        {
          "output_type": "stream",
          "text": [
            "/usr/local/lib/python3.6/dist-packages/librosa/core/time_frequency.py:1006: RuntimeWarning: divide by zero encountered in log10\n",
            "  - 0.5 * np.log10(f_sq + const[3]))\n"
          ],
          "name": "stderr"
        },
        {
          "output_type": "stream",
          "text": [
            "0565 / 1600 | drive/My Drive/AudioTaggerData/FSDKaggle2018.audio_test/ee9f51a0.wav\n"
          ],
          "name": "stdout"
        },
        {
          "output_type": "stream",
          "text": [
            "/usr/local/lib/python3.6/dist-packages/librosa/core/time_frequency.py:1006: RuntimeWarning: divide by zero encountered in log10\n",
            "  - 0.5 * np.log10(f_sq + const[3]))\n"
          ],
          "name": "stderr"
        },
        {
          "output_type": "stream",
          "text": [
            "0566 / 1600 | drive/My Drive/AudioTaggerData/FSDKaggle2018.audio_test/a57e36a5.wav\n"
          ],
          "name": "stdout"
        },
        {
          "output_type": "stream",
          "text": [
            "/usr/local/lib/python3.6/dist-packages/librosa/core/time_frequency.py:1006: RuntimeWarning: divide by zero encountered in log10\n",
            "  - 0.5 * np.log10(f_sq + const[3]))\n"
          ],
          "name": "stderr"
        },
        {
          "output_type": "stream",
          "text": [
            "0567 / 1600 | drive/My Drive/AudioTaggerData/FSDKaggle2018.audio_test/43e22dad.wav\n"
          ],
          "name": "stdout"
        },
        {
          "output_type": "stream",
          "text": [
            "/usr/local/lib/python3.6/dist-packages/librosa/core/time_frequency.py:1006: RuntimeWarning: divide by zero encountered in log10\n",
            "  - 0.5 * np.log10(f_sq + const[3]))\n"
          ],
          "name": "stderr"
        },
        {
          "output_type": "stream",
          "text": [
            "0568 / 1600 | drive/My Drive/AudioTaggerData/FSDKaggle2018.audio_test/ca70cef8.wav\n"
          ],
          "name": "stdout"
        },
        {
          "output_type": "stream",
          "text": [
            "/usr/local/lib/python3.6/dist-packages/librosa/core/time_frequency.py:1006: RuntimeWarning: divide by zero encountered in log10\n",
            "  - 0.5 * np.log10(f_sq + const[3]))\n"
          ],
          "name": "stderr"
        },
        {
          "output_type": "stream",
          "text": [
            "0569 / 1600 | drive/My Drive/AudioTaggerData/FSDKaggle2018.audio_test/541f7fd3.wav\n"
          ],
          "name": "stdout"
        },
        {
          "output_type": "stream",
          "text": [
            "/usr/local/lib/python3.6/dist-packages/librosa/core/time_frequency.py:1006: RuntimeWarning: divide by zero encountered in log10\n",
            "  - 0.5 * np.log10(f_sq + const[3]))\n"
          ],
          "name": "stderr"
        },
        {
          "output_type": "stream",
          "text": [
            "0570 / 1600 | drive/My Drive/AudioTaggerData/FSDKaggle2018.audio_test/3f303b25.wav\n"
          ],
          "name": "stdout"
        },
        {
          "output_type": "stream",
          "text": [
            "/usr/local/lib/python3.6/dist-packages/librosa/core/time_frequency.py:1006: RuntimeWarning: divide by zero encountered in log10\n",
            "  - 0.5 * np.log10(f_sq + const[3]))\n"
          ],
          "name": "stderr"
        },
        {
          "output_type": "stream",
          "text": [
            "0571 / 1600 | drive/My Drive/AudioTaggerData/FSDKaggle2018.audio_test/fb117dad.wav\n"
          ],
          "name": "stdout"
        },
        {
          "output_type": "stream",
          "text": [
            "/usr/local/lib/python3.6/dist-packages/librosa/core/time_frequency.py:1006: RuntimeWarning: divide by zero encountered in log10\n",
            "  - 0.5 * np.log10(f_sq + const[3]))\n"
          ],
          "name": "stderr"
        },
        {
          "output_type": "stream",
          "text": [
            "0572 / 1600 | drive/My Drive/AudioTaggerData/FSDKaggle2018.audio_test/11edc852.wav\n"
          ],
          "name": "stdout"
        },
        {
          "output_type": "stream",
          "text": [
            "/usr/local/lib/python3.6/dist-packages/librosa/core/time_frequency.py:1006: RuntimeWarning: divide by zero encountered in log10\n",
            "  - 0.5 * np.log10(f_sq + const[3]))\n"
          ],
          "name": "stderr"
        },
        {
          "output_type": "stream",
          "text": [
            "0573 / 1600 | drive/My Drive/AudioTaggerData/FSDKaggle2018.audio_test/29730e21.wav\n"
          ],
          "name": "stdout"
        },
        {
          "output_type": "stream",
          "text": [
            "/usr/local/lib/python3.6/dist-packages/librosa/core/time_frequency.py:1006: RuntimeWarning: divide by zero encountered in log10\n",
            "  - 0.5 * np.log10(f_sq + const[3]))\n"
          ],
          "name": "stderr"
        },
        {
          "output_type": "stream",
          "text": [
            "0574 / 1600 | drive/My Drive/AudioTaggerData/FSDKaggle2018.audio_test/1bb20333.wav\n"
          ],
          "name": "stdout"
        },
        {
          "output_type": "stream",
          "text": [
            "/usr/local/lib/python3.6/dist-packages/librosa/core/time_frequency.py:1006: RuntimeWarning: divide by zero encountered in log10\n",
            "  - 0.5 * np.log10(f_sq + const[3]))\n"
          ],
          "name": "stderr"
        },
        {
          "output_type": "stream",
          "text": [
            "0575 / 1600 | drive/My Drive/AudioTaggerData/FSDKaggle2018.audio_test/4e5a7022.wav\n"
          ],
          "name": "stdout"
        },
        {
          "output_type": "stream",
          "text": [
            "/usr/local/lib/python3.6/dist-packages/librosa/core/time_frequency.py:1006: RuntimeWarning: divide by zero encountered in log10\n",
            "  - 0.5 * np.log10(f_sq + const[3]))\n"
          ],
          "name": "stderr"
        },
        {
          "output_type": "stream",
          "text": [
            "0576 / 1600 | drive/My Drive/AudioTaggerData/FSDKaggle2018.audio_test/9ec78e79.wav\n"
          ],
          "name": "stdout"
        },
        {
          "output_type": "stream",
          "text": [
            "/usr/local/lib/python3.6/dist-packages/librosa/core/time_frequency.py:1006: RuntimeWarning: divide by zero encountered in log10\n",
            "  - 0.5 * np.log10(f_sq + const[3]))\n"
          ],
          "name": "stderr"
        },
        {
          "output_type": "stream",
          "text": [
            "0577 / 1600 | drive/My Drive/AudioTaggerData/FSDKaggle2018.audio_test/c8fa5db4.wav\n"
          ],
          "name": "stdout"
        },
        {
          "output_type": "stream",
          "text": [
            "/usr/local/lib/python3.6/dist-packages/librosa/core/time_frequency.py:1006: RuntimeWarning: divide by zero encountered in log10\n",
            "  - 0.5 * np.log10(f_sq + const[3]))\n"
          ],
          "name": "stderr"
        },
        {
          "output_type": "stream",
          "text": [
            "0578 / 1600 | drive/My Drive/AudioTaggerData/FSDKaggle2018.audio_test/bc9c55c2.wav\n"
          ],
          "name": "stdout"
        },
        {
          "output_type": "stream",
          "text": [
            "/usr/local/lib/python3.6/dist-packages/librosa/core/time_frequency.py:1006: RuntimeWarning: divide by zero encountered in log10\n",
            "  - 0.5 * np.log10(f_sq + const[3]))\n"
          ],
          "name": "stderr"
        },
        {
          "output_type": "stream",
          "text": [
            "0579 / 1600 | drive/My Drive/AudioTaggerData/FSDKaggle2018.audio_test/f5d2eea4.wav\n"
          ],
          "name": "stdout"
        },
        {
          "output_type": "stream",
          "text": [
            "/usr/local/lib/python3.6/dist-packages/librosa/core/time_frequency.py:1006: RuntimeWarning: divide by zero encountered in log10\n",
            "  - 0.5 * np.log10(f_sq + const[3]))\n"
          ],
          "name": "stderr"
        },
        {
          "output_type": "stream",
          "text": [
            "0580 / 1600 | drive/My Drive/AudioTaggerData/FSDKaggle2018.audio_test/5bc83585.wav\n"
          ],
          "name": "stdout"
        },
        {
          "output_type": "stream",
          "text": [
            "/usr/local/lib/python3.6/dist-packages/librosa/core/time_frequency.py:1006: RuntimeWarning: divide by zero encountered in log10\n",
            "  - 0.5 * np.log10(f_sq + const[3]))\n"
          ],
          "name": "stderr"
        },
        {
          "output_type": "stream",
          "text": [
            "0581 / 1600 | drive/My Drive/AudioTaggerData/FSDKaggle2018.audio_test/32bf60d9.wav\n"
          ],
          "name": "stdout"
        },
        {
          "output_type": "stream",
          "text": [
            "/usr/local/lib/python3.6/dist-packages/librosa/core/time_frequency.py:1006: RuntimeWarning: divide by zero encountered in log10\n",
            "  - 0.5 * np.log10(f_sq + const[3]))\n"
          ],
          "name": "stderr"
        },
        {
          "output_type": "stream",
          "text": [
            "0582 / 1600 | drive/My Drive/AudioTaggerData/FSDKaggle2018.audio_test/8a2793a4.wav\n"
          ],
          "name": "stdout"
        },
        {
          "output_type": "stream",
          "text": [
            "/usr/local/lib/python3.6/dist-packages/librosa/core/time_frequency.py:1006: RuntimeWarning: divide by zero encountered in log10\n",
            "  - 0.5 * np.log10(f_sq + const[3]))\n"
          ],
          "name": "stderr"
        },
        {
          "output_type": "stream",
          "text": [
            "0583 / 1600 | drive/My Drive/AudioTaggerData/FSDKaggle2018.audio_test/c6abd566.wav\n"
          ],
          "name": "stdout"
        },
        {
          "output_type": "stream",
          "text": [
            "/usr/local/lib/python3.6/dist-packages/librosa/core/time_frequency.py:1006: RuntimeWarning: divide by zero encountered in log10\n",
            "  - 0.5 * np.log10(f_sq + const[3]))\n"
          ],
          "name": "stderr"
        },
        {
          "output_type": "stream",
          "text": [
            "0584 / 1600 | drive/My Drive/AudioTaggerData/FSDKaggle2018.audio_test/12fb2e35.wav\n"
          ],
          "name": "stdout"
        },
        {
          "output_type": "stream",
          "text": [
            "/usr/local/lib/python3.6/dist-packages/librosa/core/time_frequency.py:1006: RuntimeWarning: divide by zero encountered in log10\n",
            "  - 0.5 * np.log10(f_sq + const[3]))\n"
          ],
          "name": "stderr"
        },
        {
          "output_type": "stream",
          "text": [
            "0585 / 1600 | drive/My Drive/AudioTaggerData/FSDKaggle2018.audio_test/6116444a.wav\n"
          ],
          "name": "stdout"
        },
        {
          "output_type": "stream",
          "text": [
            "/usr/local/lib/python3.6/dist-packages/librosa/core/time_frequency.py:1006: RuntimeWarning: divide by zero encountered in log10\n",
            "  - 0.5 * np.log10(f_sq + const[3]))\n"
          ],
          "name": "stderr"
        },
        {
          "output_type": "stream",
          "text": [
            "0586 / 1600 | drive/My Drive/AudioTaggerData/FSDKaggle2018.audio_test/3ea7a660.wav\n"
          ],
          "name": "stdout"
        },
        {
          "output_type": "stream",
          "text": [
            "/usr/local/lib/python3.6/dist-packages/librosa/core/time_frequency.py:1006: RuntimeWarning: divide by zero encountered in log10\n",
            "  - 0.5 * np.log10(f_sq + const[3]))\n"
          ],
          "name": "stderr"
        },
        {
          "output_type": "stream",
          "text": [
            "0587 / 1600 | drive/My Drive/AudioTaggerData/FSDKaggle2018.audio_test/5e80e0d9.wav\n"
          ],
          "name": "stdout"
        },
        {
          "output_type": "stream",
          "text": [
            "/usr/local/lib/python3.6/dist-packages/librosa/core/time_frequency.py:1006: RuntimeWarning: divide by zero encountered in log10\n",
            "  - 0.5 * np.log10(f_sq + const[3]))\n"
          ],
          "name": "stderr"
        },
        {
          "output_type": "stream",
          "text": [
            "0588 / 1600 | drive/My Drive/AudioTaggerData/FSDKaggle2018.audio_test/ec012da0.wav\n"
          ],
          "name": "stdout"
        },
        {
          "output_type": "stream",
          "text": [
            "/usr/local/lib/python3.6/dist-packages/librosa/core/time_frequency.py:1006: RuntimeWarning: divide by zero encountered in log10\n",
            "  - 0.5 * np.log10(f_sq + const[3]))\n"
          ],
          "name": "stderr"
        },
        {
          "output_type": "stream",
          "text": [
            "0589 / 1600 | drive/My Drive/AudioTaggerData/FSDKaggle2018.audio_test/69203905.wav\n"
          ],
          "name": "stdout"
        },
        {
          "output_type": "stream",
          "text": [
            "/usr/local/lib/python3.6/dist-packages/librosa/core/time_frequency.py:1006: RuntimeWarning: divide by zero encountered in log10\n",
            "  - 0.5 * np.log10(f_sq + const[3]))\n"
          ],
          "name": "stderr"
        },
        {
          "output_type": "stream",
          "text": [
            "0590 / 1600 | drive/My Drive/AudioTaggerData/FSDKaggle2018.audio_test/7ed98e85.wav\n"
          ],
          "name": "stdout"
        },
        {
          "output_type": "stream",
          "text": [
            "/usr/local/lib/python3.6/dist-packages/librosa/core/time_frequency.py:1006: RuntimeWarning: divide by zero encountered in log10\n",
            "  - 0.5 * np.log10(f_sq + const[3]))\n"
          ],
          "name": "stderr"
        },
        {
          "output_type": "stream",
          "text": [
            "0591 / 1600 | drive/My Drive/AudioTaggerData/FSDKaggle2018.audio_test/c769700d.wav\n"
          ],
          "name": "stdout"
        },
        {
          "output_type": "stream",
          "text": [
            "/usr/local/lib/python3.6/dist-packages/librosa/core/time_frequency.py:1006: RuntimeWarning: divide by zero encountered in log10\n",
            "  - 0.5 * np.log10(f_sq + const[3]))\n"
          ],
          "name": "stderr"
        },
        {
          "output_type": "stream",
          "text": [
            "0592 / 1600 | drive/My Drive/AudioTaggerData/FSDKaggle2018.audio_test/2d860064.wav\n"
          ],
          "name": "stdout"
        },
        {
          "output_type": "stream",
          "text": [
            "/usr/local/lib/python3.6/dist-packages/librosa/core/time_frequency.py:1006: RuntimeWarning: divide by zero encountered in log10\n",
            "  - 0.5 * np.log10(f_sq + const[3]))\n"
          ],
          "name": "stderr"
        },
        {
          "output_type": "stream",
          "text": [
            "0593 / 1600 | drive/My Drive/AudioTaggerData/FSDKaggle2018.audio_test/3a891940.wav\n"
          ],
          "name": "stdout"
        },
        {
          "output_type": "stream",
          "text": [
            "/usr/local/lib/python3.6/dist-packages/librosa/core/time_frequency.py:1006: RuntimeWarning: divide by zero encountered in log10\n",
            "  - 0.5 * np.log10(f_sq + const[3]))\n"
          ],
          "name": "stderr"
        },
        {
          "output_type": "stream",
          "text": [
            "0594 / 1600 | drive/My Drive/AudioTaggerData/FSDKaggle2018.audio_test/e48176ee.wav\n"
          ],
          "name": "stdout"
        },
        {
          "output_type": "stream",
          "text": [
            "/usr/local/lib/python3.6/dist-packages/librosa/core/time_frequency.py:1006: RuntimeWarning: divide by zero encountered in log10\n",
            "  - 0.5 * np.log10(f_sq + const[3]))\n"
          ],
          "name": "stderr"
        },
        {
          "output_type": "stream",
          "text": [
            "0595 / 1600 | drive/My Drive/AudioTaggerData/FSDKaggle2018.audio_test/f6d67e6c.wav\n"
          ],
          "name": "stdout"
        },
        {
          "output_type": "stream",
          "text": [
            "/usr/local/lib/python3.6/dist-packages/librosa/core/time_frequency.py:1006: RuntimeWarning: divide by zero encountered in log10\n",
            "  - 0.5 * np.log10(f_sq + const[3]))\n"
          ],
          "name": "stderr"
        },
        {
          "output_type": "stream",
          "text": [
            "0596 / 1600 | drive/My Drive/AudioTaggerData/FSDKaggle2018.audio_test/f991465b.wav\n"
          ],
          "name": "stdout"
        },
        {
          "output_type": "stream",
          "text": [
            "/usr/local/lib/python3.6/dist-packages/librosa/core/time_frequency.py:1006: RuntimeWarning: divide by zero encountered in log10\n",
            "  - 0.5 * np.log10(f_sq + const[3]))\n"
          ],
          "name": "stderr"
        },
        {
          "output_type": "stream",
          "text": [
            "0597 / 1600 | drive/My Drive/AudioTaggerData/FSDKaggle2018.audio_test/bd0a9017.wav\n"
          ],
          "name": "stdout"
        },
        {
          "output_type": "stream",
          "text": [
            "/usr/local/lib/python3.6/dist-packages/librosa/core/time_frequency.py:1006: RuntimeWarning: divide by zero encountered in log10\n",
            "  - 0.5 * np.log10(f_sq + const[3]))\n"
          ],
          "name": "stderr"
        },
        {
          "output_type": "stream",
          "text": [
            "0598 / 1600 | drive/My Drive/AudioTaggerData/FSDKaggle2018.audio_test/35bb05b0.wav\n"
          ],
          "name": "stdout"
        },
        {
          "output_type": "stream",
          "text": [
            "/usr/local/lib/python3.6/dist-packages/librosa/core/time_frequency.py:1006: RuntimeWarning: divide by zero encountered in log10\n",
            "  - 0.5 * np.log10(f_sq + const[3]))\n"
          ],
          "name": "stderr"
        },
        {
          "output_type": "stream",
          "text": [
            "0599 / 1600 | drive/My Drive/AudioTaggerData/FSDKaggle2018.audio_test/d80e3d8e.wav\n"
          ],
          "name": "stdout"
        },
        {
          "output_type": "stream",
          "text": [
            "/usr/local/lib/python3.6/dist-packages/librosa/core/time_frequency.py:1006: RuntimeWarning: divide by zero encountered in log10\n",
            "  - 0.5 * np.log10(f_sq + const[3]))\n"
          ],
          "name": "stderr"
        },
        {
          "output_type": "stream",
          "text": [
            "0600 / 1600 | drive/My Drive/AudioTaggerData/FSDKaggle2018.audio_test/f777f610.wav\n"
          ],
          "name": "stdout"
        },
        {
          "output_type": "stream",
          "text": [
            "/usr/local/lib/python3.6/dist-packages/librosa/core/time_frequency.py:1006: RuntimeWarning: divide by zero encountered in log10\n",
            "  - 0.5 * np.log10(f_sq + const[3]))\n"
          ],
          "name": "stderr"
        },
        {
          "output_type": "stream",
          "text": [
            "0601 / 1600 | drive/My Drive/AudioTaggerData/FSDKaggle2018.audio_test/432d77c9.wav\n"
          ],
          "name": "stdout"
        },
        {
          "output_type": "stream",
          "text": [
            "/usr/local/lib/python3.6/dist-packages/librosa/core/time_frequency.py:1006: RuntimeWarning: divide by zero encountered in log10\n",
            "  - 0.5 * np.log10(f_sq + const[3]))\n"
          ],
          "name": "stderr"
        },
        {
          "output_type": "stream",
          "text": [
            "0602 / 1600 | drive/My Drive/AudioTaggerData/FSDKaggle2018.audio_test/3919052c.wav\n"
          ],
          "name": "stdout"
        },
        {
          "output_type": "stream",
          "text": [
            "/usr/local/lib/python3.6/dist-packages/librosa/core/time_frequency.py:1006: RuntimeWarning: divide by zero encountered in log10\n",
            "  - 0.5 * np.log10(f_sq + const[3]))\n"
          ],
          "name": "stderr"
        },
        {
          "output_type": "stream",
          "text": [
            "0603 / 1600 | drive/My Drive/AudioTaggerData/FSDKaggle2018.audio_test/a1514dd7.wav\n"
          ],
          "name": "stdout"
        },
        {
          "output_type": "stream",
          "text": [
            "/usr/local/lib/python3.6/dist-packages/librosa/core/time_frequency.py:1006: RuntimeWarning: divide by zero encountered in log10\n",
            "  - 0.5 * np.log10(f_sq + const[3]))\n"
          ],
          "name": "stderr"
        },
        {
          "output_type": "stream",
          "text": [
            "0604 / 1600 | drive/My Drive/AudioTaggerData/FSDKaggle2018.audio_test/04ab46a9.wav\n"
          ],
          "name": "stdout"
        },
        {
          "output_type": "stream",
          "text": [
            "/usr/local/lib/python3.6/dist-packages/librosa/core/time_frequency.py:1006: RuntimeWarning: divide by zero encountered in log10\n",
            "  - 0.5 * np.log10(f_sq + const[3]))\n"
          ],
          "name": "stderr"
        },
        {
          "output_type": "stream",
          "text": [
            "0605 / 1600 | drive/My Drive/AudioTaggerData/FSDKaggle2018.audio_test/4b500664.wav\n"
          ],
          "name": "stdout"
        },
        {
          "output_type": "stream",
          "text": [
            "/usr/local/lib/python3.6/dist-packages/librosa/core/time_frequency.py:1006: RuntimeWarning: divide by zero encountered in log10\n",
            "  - 0.5 * np.log10(f_sq + const[3]))\n"
          ],
          "name": "stderr"
        },
        {
          "output_type": "stream",
          "text": [
            "0606 / 1600 | drive/My Drive/AudioTaggerData/FSDKaggle2018.audio_test/870a15ad.wav\n"
          ],
          "name": "stdout"
        },
        {
          "output_type": "stream",
          "text": [
            "/usr/local/lib/python3.6/dist-packages/librosa/core/time_frequency.py:1006: RuntimeWarning: divide by zero encountered in log10\n",
            "  - 0.5 * np.log10(f_sq + const[3]))\n"
          ],
          "name": "stderr"
        },
        {
          "output_type": "stream",
          "text": [
            "0607 / 1600 | drive/My Drive/AudioTaggerData/FSDKaggle2018.audio_test/a37114c4.wav\n"
          ],
          "name": "stdout"
        },
        {
          "output_type": "stream",
          "text": [
            "/usr/local/lib/python3.6/dist-packages/librosa/core/time_frequency.py:1006: RuntimeWarning: divide by zero encountered in log10\n",
            "  - 0.5 * np.log10(f_sq + const[3]))\n"
          ],
          "name": "stderr"
        },
        {
          "output_type": "stream",
          "text": [
            "0608 / 1600 | drive/My Drive/AudioTaggerData/FSDKaggle2018.audio_test/915fdd3d.wav\n"
          ],
          "name": "stdout"
        },
        {
          "output_type": "stream",
          "text": [
            "/usr/local/lib/python3.6/dist-packages/librosa/core/time_frequency.py:1006: RuntimeWarning: divide by zero encountered in log10\n",
            "  - 0.5 * np.log10(f_sq + const[3]))\n"
          ],
          "name": "stderr"
        },
        {
          "output_type": "stream",
          "text": [
            "0609 / 1600 | drive/My Drive/AudioTaggerData/FSDKaggle2018.audio_test/cf2c1168.wav\n"
          ],
          "name": "stdout"
        },
        {
          "output_type": "stream",
          "text": [
            "/usr/local/lib/python3.6/dist-packages/librosa/core/time_frequency.py:1006: RuntimeWarning: divide by zero encountered in log10\n",
            "  - 0.5 * np.log10(f_sq + const[3]))\n"
          ],
          "name": "stderr"
        },
        {
          "output_type": "stream",
          "text": [
            "0610 / 1600 | drive/My Drive/AudioTaggerData/FSDKaggle2018.audio_test/5b115dac.wav\n"
          ],
          "name": "stdout"
        },
        {
          "output_type": "stream",
          "text": [
            "/usr/local/lib/python3.6/dist-packages/librosa/core/time_frequency.py:1006: RuntimeWarning: divide by zero encountered in log10\n",
            "  - 0.5 * np.log10(f_sq + const[3]))\n"
          ],
          "name": "stderr"
        },
        {
          "output_type": "stream",
          "text": [
            "0611 / 1600 | drive/My Drive/AudioTaggerData/FSDKaggle2018.audio_test/41a968ad.wav\n"
          ],
          "name": "stdout"
        },
        {
          "output_type": "stream",
          "text": [
            "/usr/local/lib/python3.6/dist-packages/librosa/core/time_frequency.py:1006: RuntimeWarning: divide by zero encountered in log10\n",
            "  - 0.5 * np.log10(f_sq + const[3]))\n"
          ],
          "name": "stderr"
        },
        {
          "output_type": "stream",
          "text": [
            "0612 / 1600 | drive/My Drive/AudioTaggerData/FSDKaggle2018.audio_test/91dcf56f.wav\n"
          ],
          "name": "stdout"
        },
        {
          "output_type": "stream",
          "text": [
            "/usr/local/lib/python3.6/dist-packages/librosa/core/time_frequency.py:1006: RuntimeWarning: divide by zero encountered in log10\n",
            "  - 0.5 * np.log10(f_sq + const[3]))\n"
          ],
          "name": "stderr"
        },
        {
          "output_type": "stream",
          "text": [
            "0613 / 1600 | drive/My Drive/AudioTaggerData/FSDKaggle2018.audio_test/cfc16683.wav\n"
          ],
          "name": "stdout"
        },
        {
          "output_type": "stream",
          "text": [
            "/usr/local/lib/python3.6/dist-packages/librosa/core/time_frequency.py:1006: RuntimeWarning: divide by zero encountered in log10\n",
            "  - 0.5 * np.log10(f_sq + const[3]))\n"
          ],
          "name": "stderr"
        },
        {
          "output_type": "stream",
          "text": [
            "0614 / 1600 | drive/My Drive/AudioTaggerData/FSDKaggle2018.audio_test/ba732e45.wav\n"
          ],
          "name": "stdout"
        },
        {
          "output_type": "stream",
          "text": [
            "/usr/local/lib/python3.6/dist-packages/librosa/core/time_frequency.py:1006: RuntimeWarning: divide by zero encountered in log10\n",
            "  - 0.5 * np.log10(f_sq + const[3]))\n"
          ],
          "name": "stderr"
        },
        {
          "output_type": "stream",
          "text": [
            "0615 / 1600 | drive/My Drive/AudioTaggerData/FSDKaggle2018.audio_test/2c403fbe.wav\n"
          ],
          "name": "stdout"
        },
        {
          "output_type": "stream",
          "text": [
            "/usr/local/lib/python3.6/dist-packages/librosa/core/time_frequency.py:1006: RuntimeWarning: divide by zero encountered in log10\n",
            "  - 0.5 * np.log10(f_sq + const[3]))\n"
          ],
          "name": "stderr"
        },
        {
          "output_type": "stream",
          "text": [
            "0616 / 1600 | drive/My Drive/AudioTaggerData/FSDKaggle2018.audio_test/a673acdc.wav\n"
          ],
          "name": "stdout"
        },
        {
          "output_type": "stream",
          "text": [
            "/usr/local/lib/python3.6/dist-packages/librosa/core/time_frequency.py:1006: RuntimeWarning: divide by zero encountered in log10\n",
            "  - 0.5 * np.log10(f_sq + const[3]))\n"
          ],
          "name": "stderr"
        },
        {
          "output_type": "stream",
          "text": [
            "0617 / 1600 | drive/My Drive/AudioTaggerData/FSDKaggle2018.audio_test/9b1825ea.wav\n"
          ],
          "name": "stdout"
        },
        {
          "output_type": "stream",
          "text": [
            "/usr/local/lib/python3.6/dist-packages/librosa/core/time_frequency.py:1006: RuntimeWarning: divide by zero encountered in log10\n",
            "  - 0.5 * np.log10(f_sq + const[3]))\n"
          ],
          "name": "stderr"
        },
        {
          "output_type": "stream",
          "text": [
            "0618 / 1600 | drive/My Drive/AudioTaggerData/FSDKaggle2018.audio_test/ae23366f.wav\n"
          ],
          "name": "stdout"
        },
        {
          "output_type": "stream",
          "text": [
            "/usr/local/lib/python3.6/dist-packages/librosa/core/time_frequency.py:1006: RuntimeWarning: divide by zero encountered in log10\n",
            "  - 0.5 * np.log10(f_sq + const[3]))\n"
          ],
          "name": "stderr"
        },
        {
          "output_type": "stream",
          "text": [
            "0619 / 1600 | drive/My Drive/AudioTaggerData/FSDKaggle2018.audio_test/9fac6408.wav\n"
          ],
          "name": "stdout"
        },
        {
          "output_type": "stream",
          "text": [
            "/usr/local/lib/python3.6/dist-packages/librosa/core/time_frequency.py:1006: RuntimeWarning: divide by zero encountered in log10\n",
            "  - 0.5 * np.log10(f_sq + const[3]))\n"
          ],
          "name": "stderr"
        },
        {
          "output_type": "stream",
          "text": [
            "0620 / 1600 | drive/My Drive/AudioTaggerData/FSDKaggle2018.audio_test/f5311216.wav\n"
          ],
          "name": "stdout"
        },
        {
          "output_type": "stream",
          "text": [
            "/usr/local/lib/python3.6/dist-packages/librosa/core/time_frequency.py:1006: RuntimeWarning: divide by zero encountered in log10\n",
            "  - 0.5 * np.log10(f_sq + const[3]))\n"
          ],
          "name": "stderr"
        },
        {
          "output_type": "stream",
          "text": [
            "0621 / 1600 | drive/My Drive/AudioTaggerData/FSDKaggle2018.audio_test/8bb55062.wav\n"
          ],
          "name": "stdout"
        },
        {
          "output_type": "stream",
          "text": [
            "/usr/local/lib/python3.6/dist-packages/librosa/core/time_frequency.py:1006: RuntimeWarning: divide by zero encountered in log10\n",
            "  - 0.5 * np.log10(f_sq + const[3]))\n"
          ],
          "name": "stderr"
        },
        {
          "output_type": "stream",
          "text": [
            "0622 / 1600 | drive/My Drive/AudioTaggerData/FSDKaggle2018.audio_test/4b835e6e.wav\n"
          ],
          "name": "stdout"
        },
        {
          "output_type": "stream",
          "text": [
            "/usr/local/lib/python3.6/dist-packages/librosa/core/time_frequency.py:1006: RuntimeWarning: divide by zero encountered in log10\n",
            "  - 0.5 * np.log10(f_sq + const[3]))\n"
          ],
          "name": "stderr"
        },
        {
          "output_type": "stream",
          "text": [
            "0623 / 1600 | drive/My Drive/AudioTaggerData/FSDKaggle2018.audio_test/d73f4f11.wav\n"
          ],
          "name": "stdout"
        },
        {
          "output_type": "stream",
          "text": [
            "/usr/local/lib/python3.6/dist-packages/librosa/core/time_frequency.py:1006: RuntimeWarning: divide by zero encountered in log10\n",
            "  - 0.5 * np.log10(f_sq + const[3]))\n"
          ],
          "name": "stderr"
        },
        {
          "output_type": "stream",
          "text": [
            "0624 / 1600 | drive/My Drive/AudioTaggerData/FSDKaggle2018.audio_test/fce8e9f6.wav\n"
          ],
          "name": "stdout"
        },
        {
          "output_type": "stream",
          "text": [
            "/usr/local/lib/python3.6/dist-packages/librosa/core/time_frequency.py:1006: RuntimeWarning: divide by zero encountered in log10\n",
            "  - 0.5 * np.log10(f_sq + const[3]))\n"
          ],
          "name": "stderr"
        },
        {
          "output_type": "stream",
          "text": [
            "0625 / 1600 | drive/My Drive/AudioTaggerData/FSDKaggle2018.audio_test/ad5821b3.wav\n"
          ],
          "name": "stdout"
        },
        {
          "output_type": "stream",
          "text": [
            "/usr/local/lib/python3.6/dist-packages/librosa/core/time_frequency.py:1006: RuntimeWarning: divide by zero encountered in log10\n",
            "  - 0.5 * np.log10(f_sq + const[3]))\n"
          ],
          "name": "stderr"
        },
        {
          "output_type": "stream",
          "text": [
            "0626 / 1600 | drive/My Drive/AudioTaggerData/FSDKaggle2018.audio_test/f2be783d.wav\n"
          ],
          "name": "stdout"
        },
        {
          "output_type": "stream",
          "text": [
            "/usr/local/lib/python3.6/dist-packages/librosa/core/time_frequency.py:1006: RuntimeWarning: divide by zero encountered in log10\n",
            "  - 0.5 * np.log10(f_sq + const[3]))\n"
          ],
          "name": "stderr"
        },
        {
          "output_type": "stream",
          "text": [
            "0627 / 1600 | drive/My Drive/AudioTaggerData/FSDKaggle2018.audio_test/0e23a6f4.wav\n"
          ],
          "name": "stdout"
        },
        {
          "output_type": "stream",
          "text": [
            "/usr/local/lib/python3.6/dist-packages/librosa/core/time_frequency.py:1006: RuntimeWarning: divide by zero encountered in log10\n",
            "  - 0.5 * np.log10(f_sq + const[3]))\n"
          ],
          "name": "stderr"
        },
        {
          "output_type": "stream",
          "text": [
            "0628 / 1600 | drive/My Drive/AudioTaggerData/FSDKaggle2018.audio_test/d3945cfc.wav\n"
          ],
          "name": "stdout"
        },
        {
          "output_type": "stream",
          "text": [
            "/usr/local/lib/python3.6/dist-packages/librosa/core/time_frequency.py:1006: RuntimeWarning: divide by zero encountered in log10\n",
            "  - 0.5 * np.log10(f_sq + const[3]))\n"
          ],
          "name": "stderr"
        },
        {
          "output_type": "stream",
          "text": [
            "0629 / 1600 | drive/My Drive/AudioTaggerData/FSDKaggle2018.audio_test/6b0629d4.wav\n"
          ],
          "name": "stdout"
        },
        {
          "output_type": "stream",
          "text": [
            "/usr/local/lib/python3.6/dist-packages/librosa/core/time_frequency.py:1006: RuntimeWarning: divide by zero encountered in log10\n",
            "  - 0.5 * np.log10(f_sq + const[3]))\n"
          ],
          "name": "stderr"
        },
        {
          "output_type": "stream",
          "text": [
            "0630 / 1600 | drive/My Drive/AudioTaggerData/FSDKaggle2018.audio_test/19c987c6.wav\n"
          ],
          "name": "stdout"
        },
        {
          "output_type": "stream",
          "text": [
            "/usr/local/lib/python3.6/dist-packages/librosa/core/time_frequency.py:1006: RuntimeWarning: divide by zero encountered in log10\n",
            "  - 0.5 * np.log10(f_sq + const[3]))\n"
          ],
          "name": "stderr"
        },
        {
          "output_type": "stream",
          "text": [
            "0631 / 1600 | drive/My Drive/AudioTaggerData/FSDKaggle2018.audio_test/10145c52.wav\n"
          ],
          "name": "stdout"
        },
        {
          "output_type": "stream",
          "text": [
            "/usr/local/lib/python3.6/dist-packages/librosa/core/time_frequency.py:1006: RuntimeWarning: divide by zero encountered in log10\n",
            "  - 0.5 * np.log10(f_sq + const[3]))\n"
          ],
          "name": "stderr"
        },
        {
          "output_type": "stream",
          "text": [
            "0632 / 1600 | drive/My Drive/AudioTaggerData/FSDKaggle2018.audio_test/e35f12f0.wav\n"
          ],
          "name": "stdout"
        },
        {
          "output_type": "stream",
          "text": [
            "/usr/local/lib/python3.6/dist-packages/librosa/core/time_frequency.py:1006: RuntimeWarning: divide by zero encountered in log10\n",
            "  - 0.5 * np.log10(f_sq + const[3]))\n"
          ],
          "name": "stderr"
        },
        {
          "output_type": "stream",
          "text": [
            "0633 / 1600 | drive/My Drive/AudioTaggerData/FSDKaggle2018.audio_test/9b174107.wav\n"
          ],
          "name": "stdout"
        },
        {
          "output_type": "stream",
          "text": [
            "/usr/local/lib/python3.6/dist-packages/librosa/core/time_frequency.py:1006: RuntimeWarning: divide by zero encountered in log10\n",
            "  - 0.5 * np.log10(f_sq + const[3]))\n"
          ],
          "name": "stderr"
        },
        {
          "output_type": "stream",
          "text": [
            "0634 / 1600 | drive/My Drive/AudioTaggerData/FSDKaggle2018.audio_test/f26f9711.wav\n"
          ],
          "name": "stdout"
        },
        {
          "output_type": "stream",
          "text": [
            "/usr/local/lib/python3.6/dist-packages/librosa/core/time_frequency.py:1006: RuntimeWarning: divide by zero encountered in log10\n",
            "  - 0.5 * np.log10(f_sq + const[3]))\n"
          ],
          "name": "stderr"
        },
        {
          "output_type": "stream",
          "text": [
            "0635 / 1600 | drive/My Drive/AudioTaggerData/FSDKaggle2018.audio_test/38284f2a.wav\n"
          ],
          "name": "stdout"
        },
        {
          "output_type": "stream",
          "text": [
            "/usr/local/lib/python3.6/dist-packages/librosa/core/time_frequency.py:1006: RuntimeWarning: divide by zero encountered in log10\n",
            "  - 0.5 * np.log10(f_sq + const[3]))\n"
          ],
          "name": "stderr"
        },
        {
          "output_type": "stream",
          "text": [
            "0636 / 1600 | drive/My Drive/AudioTaggerData/FSDKaggle2018.audio_test/fde27f1f.wav\n"
          ],
          "name": "stdout"
        },
        {
          "output_type": "stream",
          "text": [
            "/usr/local/lib/python3.6/dist-packages/librosa/core/time_frequency.py:1006: RuntimeWarning: divide by zero encountered in log10\n",
            "  - 0.5 * np.log10(f_sq + const[3]))\n"
          ],
          "name": "stderr"
        },
        {
          "output_type": "stream",
          "text": [
            "0637 / 1600 | drive/My Drive/AudioTaggerData/FSDKaggle2018.audio_test/70aa12d6.wav\n"
          ],
          "name": "stdout"
        },
        {
          "output_type": "stream",
          "text": [
            "/usr/local/lib/python3.6/dist-packages/librosa/core/time_frequency.py:1006: RuntimeWarning: divide by zero encountered in log10\n",
            "  - 0.5 * np.log10(f_sq + const[3]))\n"
          ],
          "name": "stderr"
        },
        {
          "output_type": "stream",
          "text": [
            "0638 / 1600 | drive/My Drive/AudioTaggerData/FSDKaggle2018.audio_test/830a902c.wav\n"
          ],
          "name": "stdout"
        },
        {
          "output_type": "stream",
          "text": [
            "/usr/local/lib/python3.6/dist-packages/librosa/core/time_frequency.py:1006: RuntimeWarning: divide by zero encountered in log10\n",
            "  - 0.5 * np.log10(f_sq + const[3]))\n"
          ],
          "name": "stderr"
        },
        {
          "output_type": "stream",
          "text": [
            "0639 / 1600 | drive/My Drive/AudioTaggerData/FSDKaggle2018.audio_test/6fe61dd6.wav\n"
          ],
          "name": "stdout"
        },
        {
          "output_type": "stream",
          "text": [
            "/usr/local/lib/python3.6/dist-packages/librosa/core/time_frequency.py:1006: RuntimeWarning: divide by zero encountered in log10\n",
            "  - 0.5 * np.log10(f_sq + const[3]))\n"
          ],
          "name": "stderr"
        },
        {
          "output_type": "stream",
          "text": [
            "0640 / 1600 | drive/My Drive/AudioTaggerData/FSDKaggle2018.audio_test/d1400cef.wav\n"
          ],
          "name": "stdout"
        },
        {
          "output_type": "stream",
          "text": [
            "/usr/local/lib/python3.6/dist-packages/librosa/core/time_frequency.py:1006: RuntimeWarning: divide by zero encountered in log10\n",
            "  - 0.5 * np.log10(f_sq + const[3]))\n"
          ],
          "name": "stderr"
        },
        {
          "output_type": "stream",
          "text": [
            "0641 / 1600 | drive/My Drive/AudioTaggerData/FSDKaggle2018.audio_test/6dd8ac5b.wav\n"
          ],
          "name": "stdout"
        },
        {
          "output_type": "stream",
          "text": [
            "/usr/local/lib/python3.6/dist-packages/librosa/core/time_frequency.py:1006: RuntimeWarning: divide by zero encountered in log10\n",
            "  - 0.5 * np.log10(f_sq + const[3]))\n"
          ],
          "name": "stderr"
        },
        {
          "output_type": "stream",
          "text": [
            "0642 / 1600 | drive/My Drive/AudioTaggerData/FSDKaggle2018.audio_test/b84ceb6c.wav\n"
          ],
          "name": "stdout"
        },
        {
          "output_type": "stream",
          "text": [
            "/usr/local/lib/python3.6/dist-packages/librosa/core/time_frequency.py:1006: RuntimeWarning: divide by zero encountered in log10\n",
            "  - 0.5 * np.log10(f_sq + const[3]))\n"
          ],
          "name": "stderr"
        },
        {
          "output_type": "stream",
          "text": [
            "0643 / 1600 | drive/My Drive/AudioTaggerData/FSDKaggle2018.audio_test/6487d2ed.wav\n"
          ],
          "name": "stdout"
        },
        {
          "output_type": "stream",
          "text": [
            "/usr/local/lib/python3.6/dist-packages/librosa/core/time_frequency.py:1006: RuntimeWarning: divide by zero encountered in log10\n",
            "  - 0.5 * np.log10(f_sq + const[3]))\n"
          ],
          "name": "stderr"
        },
        {
          "output_type": "stream",
          "text": [
            "0644 / 1600 | drive/My Drive/AudioTaggerData/FSDKaggle2018.audio_test/d89486f1.wav\n"
          ],
          "name": "stdout"
        },
        {
          "output_type": "stream",
          "text": [
            "/usr/local/lib/python3.6/dist-packages/librosa/core/time_frequency.py:1006: RuntimeWarning: divide by zero encountered in log10\n",
            "  - 0.5 * np.log10(f_sq + const[3]))\n"
          ],
          "name": "stderr"
        },
        {
          "output_type": "stream",
          "text": [
            "0645 / 1600 | drive/My Drive/AudioTaggerData/FSDKaggle2018.audio_test/82f34a17.wav\n"
          ],
          "name": "stdout"
        },
        {
          "output_type": "stream",
          "text": [
            "/usr/local/lib/python3.6/dist-packages/librosa/core/time_frequency.py:1006: RuntimeWarning: divide by zero encountered in log10\n",
            "  - 0.5 * np.log10(f_sq + const[3]))\n"
          ],
          "name": "stderr"
        },
        {
          "output_type": "stream",
          "text": [
            "0646 / 1600 | drive/My Drive/AudioTaggerData/FSDKaggle2018.audio_test/3c1629c6.wav\n"
          ],
          "name": "stdout"
        },
        {
          "output_type": "stream",
          "text": [
            "/usr/local/lib/python3.6/dist-packages/librosa/core/time_frequency.py:1006: RuntimeWarning: divide by zero encountered in log10\n",
            "  - 0.5 * np.log10(f_sq + const[3]))\n"
          ],
          "name": "stderr"
        },
        {
          "output_type": "stream",
          "text": [
            "0647 / 1600 | drive/My Drive/AudioTaggerData/FSDKaggle2018.audio_test/0f4edd6e.wav\n"
          ],
          "name": "stdout"
        },
        {
          "output_type": "stream",
          "text": [
            "/usr/local/lib/python3.6/dist-packages/librosa/core/time_frequency.py:1006: RuntimeWarning: divide by zero encountered in log10\n",
            "  - 0.5 * np.log10(f_sq + const[3]))\n"
          ],
          "name": "stderr"
        },
        {
          "output_type": "stream",
          "text": [
            "0648 / 1600 | drive/My Drive/AudioTaggerData/FSDKaggle2018.audio_test/f36cfcb5.wav\n"
          ],
          "name": "stdout"
        },
        {
          "output_type": "stream",
          "text": [
            "/usr/local/lib/python3.6/dist-packages/librosa/core/time_frequency.py:1006: RuntimeWarning: divide by zero encountered in log10\n",
            "  - 0.5 * np.log10(f_sq + const[3]))\n"
          ],
          "name": "stderr"
        },
        {
          "output_type": "stream",
          "text": [
            "0649 / 1600 | drive/My Drive/AudioTaggerData/FSDKaggle2018.audio_test/7811be44.wav\n"
          ],
          "name": "stdout"
        },
        {
          "output_type": "stream",
          "text": [
            "/usr/local/lib/python3.6/dist-packages/librosa/core/time_frequency.py:1006: RuntimeWarning: divide by zero encountered in log10\n",
            "  - 0.5 * np.log10(f_sq + const[3]))\n"
          ],
          "name": "stderr"
        },
        {
          "output_type": "stream",
          "text": [
            "0650 / 1600 | drive/My Drive/AudioTaggerData/FSDKaggle2018.audio_test/4cb7535c.wav\n"
          ],
          "name": "stdout"
        },
        {
          "output_type": "stream",
          "text": [
            "/usr/local/lib/python3.6/dist-packages/librosa/core/time_frequency.py:1006: RuntimeWarning: divide by zero encountered in log10\n",
            "  - 0.5 * np.log10(f_sq + const[3]))\n"
          ],
          "name": "stderr"
        },
        {
          "output_type": "stream",
          "text": [
            "0651 / 1600 | drive/My Drive/AudioTaggerData/FSDKaggle2018.audio_test/433726c5.wav\n"
          ],
          "name": "stdout"
        },
        {
          "output_type": "stream",
          "text": [
            "/usr/local/lib/python3.6/dist-packages/librosa/core/time_frequency.py:1006: RuntimeWarning: divide by zero encountered in log10\n",
            "  - 0.5 * np.log10(f_sq + const[3]))\n"
          ],
          "name": "stderr"
        },
        {
          "output_type": "stream",
          "text": [
            "0652 / 1600 | drive/My Drive/AudioTaggerData/FSDKaggle2018.audio_test/d300a533.wav\n"
          ],
          "name": "stdout"
        },
        {
          "output_type": "stream",
          "text": [
            "/usr/local/lib/python3.6/dist-packages/librosa/core/time_frequency.py:1006: RuntimeWarning: divide by zero encountered in log10\n",
            "  - 0.5 * np.log10(f_sq + const[3]))\n"
          ],
          "name": "stderr"
        },
        {
          "output_type": "stream",
          "text": [
            "0653 / 1600 | drive/My Drive/AudioTaggerData/FSDKaggle2018.audio_test/a7fa1420.wav\n"
          ],
          "name": "stdout"
        },
        {
          "output_type": "stream",
          "text": [
            "/usr/local/lib/python3.6/dist-packages/librosa/core/time_frequency.py:1006: RuntimeWarning: divide by zero encountered in log10\n",
            "  - 0.5 * np.log10(f_sq + const[3]))\n"
          ],
          "name": "stderr"
        },
        {
          "output_type": "stream",
          "text": [
            "0654 / 1600 | drive/My Drive/AudioTaggerData/FSDKaggle2018.audio_test/8c9af8f3.wav\n"
          ],
          "name": "stdout"
        },
        {
          "output_type": "stream",
          "text": [
            "/usr/local/lib/python3.6/dist-packages/librosa/core/time_frequency.py:1006: RuntimeWarning: divide by zero encountered in log10\n",
            "  - 0.5 * np.log10(f_sq + const[3]))\n"
          ],
          "name": "stderr"
        },
        {
          "output_type": "stream",
          "text": [
            "0655 / 1600 | drive/My Drive/AudioTaggerData/FSDKaggle2018.audio_test/1a29b341.wav\n"
          ],
          "name": "stdout"
        },
        {
          "output_type": "stream",
          "text": [
            "/usr/local/lib/python3.6/dist-packages/librosa/core/time_frequency.py:1006: RuntimeWarning: divide by zero encountered in log10\n",
            "  - 0.5 * np.log10(f_sq + const[3]))\n"
          ],
          "name": "stderr"
        },
        {
          "output_type": "stream",
          "text": [
            "0656 / 1600 | drive/My Drive/AudioTaggerData/FSDKaggle2018.audio_test/818be90b.wav\n"
          ],
          "name": "stdout"
        },
        {
          "output_type": "stream",
          "text": [
            "/usr/local/lib/python3.6/dist-packages/librosa/core/time_frequency.py:1006: RuntimeWarning: divide by zero encountered in log10\n",
            "  - 0.5 * np.log10(f_sq + const[3]))\n"
          ],
          "name": "stderr"
        },
        {
          "output_type": "stream",
          "text": [
            "0657 / 1600 | drive/My Drive/AudioTaggerData/FSDKaggle2018.audio_test/139ab603.wav\n"
          ],
          "name": "stdout"
        },
        {
          "output_type": "stream",
          "text": [
            "/usr/local/lib/python3.6/dist-packages/librosa/core/time_frequency.py:1006: RuntimeWarning: divide by zero encountered in log10\n",
            "  - 0.5 * np.log10(f_sq + const[3]))\n"
          ],
          "name": "stderr"
        },
        {
          "output_type": "stream",
          "text": [
            "0658 / 1600 | drive/My Drive/AudioTaggerData/FSDKaggle2018.audio_test/d129bdd6.wav\n"
          ],
          "name": "stdout"
        },
        {
          "output_type": "stream",
          "text": [
            "/usr/local/lib/python3.6/dist-packages/librosa/core/time_frequency.py:1006: RuntimeWarning: divide by zero encountered in log10\n",
            "  - 0.5 * np.log10(f_sq + const[3]))\n"
          ],
          "name": "stderr"
        },
        {
          "output_type": "stream",
          "text": [
            "0659 / 1600 | drive/My Drive/AudioTaggerData/FSDKaggle2018.audio_test/74ebbfd1.wav\n"
          ],
          "name": "stdout"
        },
        {
          "output_type": "stream",
          "text": [
            "/usr/local/lib/python3.6/dist-packages/librosa/core/time_frequency.py:1006: RuntimeWarning: divide by zero encountered in log10\n",
            "  - 0.5 * np.log10(f_sq + const[3]))\n"
          ],
          "name": "stderr"
        },
        {
          "output_type": "stream",
          "text": [
            "0660 / 1600 | drive/My Drive/AudioTaggerData/FSDKaggle2018.audio_test/fd408633.wav\n"
          ],
          "name": "stdout"
        },
        {
          "output_type": "stream",
          "text": [
            "/usr/local/lib/python3.6/dist-packages/librosa/core/time_frequency.py:1006: RuntimeWarning: divide by zero encountered in log10\n",
            "  - 0.5 * np.log10(f_sq + const[3]))\n"
          ],
          "name": "stderr"
        },
        {
          "output_type": "stream",
          "text": [
            "0661 / 1600 | drive/My Drive/AudioTaggerData/FSDKaggle2018.audio_test/06c535eb.wav\n"
          ],
          "name": "stdout"
        },
        {
          "output_type": "stream",
          "text": [
            "/usr/local/lib/python3.6/dist-packages/librosa/core/time_frequency.py:1006: RuntimeWarning: divide by zero encountered in log10\n",
            "  - 0.5 * np.log10(f_sq + const[3]))\n"
          ],
          "name": "stderr"
        },
        {
          "output_type": "stream",
          "text": [
            "0662 / 1600 | drive/My Drive/AudioTaggerData/FSDKaggle2018.audio_test/8cf4e2d4.wav\n"
          ],
          "name": "stdout"
        },
        {
          "output_type": "stream",
          "text": [
            "/usr/local/lib/python3.6/dist-packages/librosa/core/time_frequency.py:1006: RuntimeWarning: divide by zero encountered in log10\n",
            "  - 0.5 * np.log10(f_sq + const[3]))\n"
          ],
          "name": "stderr"
        },
        {
          "output_type": "stream",
          "text": [
            "0663 / 1600 | drive/My Drive/AudioTaggerData/FSDKaggle2018.audio_test/921a541d.wav\n"
          ],
          "name": "stdout"
        },
        {
          "output_type": "stream",
          "text": [
            "/usr/local/lib/python3.6/dist-packages/librosa/core/time_frequency.py:1006: RuntimeWarning: divide by zero encountered in log10\n",
            "  - 0.5 * np.log10(f_sq + const[3]))\n"
          ],
          "name": "stderr"
        },
        {
          "output_type": "stream",
          "text": [
            "0664 / 1600 | drive/My Drive/AudioTaggerData/FSDKaggle2018.audio_test/7ffe5c32.wav\n"
          ],
          "name": "stdout"
        },
        {
          "output_type": "stream",
          "text": [
            "/usr/local/lib/python3.6/dist-packages/librosa/core/time_frequency.py:1006: RuntimeWarning: divide by zero encountered in log10\n",
            "  - 0.5 * np.log10(f_sq + const[3]))\n"
          ],
          "name": "stderr"
        },
        {
          "output_type": "stream",
          "text": [
            "0665 / 1600 | drive/My Drive/AudioTaggerData/FSDKaggle2018.audio_test/7717a15e.wav\n"
          ],
          "name": "stdout"
        },
        {
          "output_type": "stream",
          "text": [
            "/usr/local/lib/python3.6/dist-packages/librosa/core/time_frequency.py:1006: RuntimeWarning: divide by zero encountered in log10\n",
            "  - 0.5 * np.log10(f_sq + const[3]))\n"
          ],
          "name": "stderr"
        },
        {
          "output_type": "stream",
          "text": [
            "0666 / 1600 | drive/My Drive/AudioTaggerData/FSDKaggle2018.audio_test/518f0af2.wav\n"
          ],
          "name": "stdout"
        },
        {
          "output_type": "stream",
          "text": [
            "/usr/local/lib/python3.6/dist-packages/librosa/core/time_frequency.py:1006: RuntimeWarning: divide by zero encountered in log10\n",
            "  - 0.5 * np.log10(f_sq + const[3]))\n"
          ],
          "name": "stderr"
        },
        {
          "output_type": "stream",
          "text": [
            "0667 / 1600 | drive/My Drive/AudioTaggerData/FSDKaggle2018.audio_test/01a5a2a3.wav\n"
          ],
          "name": "stdout"
        },
        {
          "output_type": "stream",
          "text": [
            "/usr/local/lib/python3.6/dist-packages/librosa/core/time_frequency.py:1006: RuntimeWarning: divide by zero encountered in log10\n",
            "  - 0.5 * np.log10(f_sq + const[3]))\n"
          ],
          "name": "stderr"
        },
        {
          "output_type": "stream",
          "text": [
            "0668 / 1600 | drive/My Drive/AudioTaggerData/FSDKaggle2018.audio_test/b558734e.wav\n"
          ],
          "name": "stdout"
        },
        {
          "output_type": "stream",
          "text": [
            "/usr/local/lib/python3.6/dist-packages/librosa/core/time_frequency.py:1006: RuntimeWarning: divide by zero encountered in log10\n",
            "  - 0.5 * np.log10(f_sq + const[3]))\n"
          ],
          "name": "stderr"
        },
        {
          "output_type": "stream",
          "text": [
            "0669 / 1600 | drive/My Drive/AudioTaggerData/FSDKaggle2018.audio_test/456a12f6.wav\n"
          ],
          "name": "stdout"
        },
        {
          "output_type": "stream",
          "text": [
            "/usr/local/lib/python3.6/dist-packages/librosa/core/time_frequency.py:1006: RuntimeWarning: divide by zero encountered in log10\n",
            "  - 0.5 * np.log10(f_sq + const[3]))\n"
          ],
          "name": "stderr"
        },
        {
          "output_type": "stream",
          "text": [
            "0670 / 1600 | drive/My Drive/AudioTaggerData/FSDKaggle2018.audio_test/cb84bad3.wav\n"
          ],
          "name": "stdout"
        },
        {
          "output_type": "stream",
          "text": [
            "/usr/local/lib/python3.6/dist-packages/librosa/core/time_frequency.py:1006: RuntimeWarning: divide by zero encountered in log10\n",
            "  - 0.5 * np.log10(f_sq + const[3]))\n"
          ],
          "name": "stderr"
        },
        {
          "output_type": "stream",
          "text": [
            "0671 / 1600 | drive/My Drive/AudioTaggerData/FSDKaggle2018.audio_test/539c0118.wav\n"
          ],
          "name": "stdout"
        },
        {
          "output_type": "stream",
          "text": [
            "/usr/local/lib/python3.6/dist-packages/librosa/core/time_frequency.py:1006: RuntimeWarning: divide by zero encountered in log10\n",
            "  - 0.5 * np.log10(f_sq + const[3]))\n"
          ],
          "name": "stderr"
        },
        {
          "output_type": "stream",
          "text": [
            "0672 / 1600 | drive/My Drive/AudioTaggerData/FSDKaggle2018.audio_test/5e78e494.wav\n"
          ],
          "name": "stdout"
        },
        {
          "output_type": "stream",
          "text": [
            "/usr/local/lib/python3.6/dist-packages/librosa/core/time_frequency.py:1006: RuntimeWarning: divide by zero encountered in log10\n",
            "  - 0.5 * np.log10(f_sq + const[3]))\n"
          ],
          "name": "stderr"
        },
        {
          "output_type": "stream",
          "text": [
            "0673 / 1600 | drive/My Drive/AudioTaggerData/FSDKaggle2018.audio_test/a38b310f.wav\n"
          ],
          "name": "stdout"
        },
        {
          "output_type": "stream",
          "text": [
            "/usr/local/lib/python3.6/dist-packages/librosa/core/time_frequency.py:1006: RuntimeWarning: divide by zero encountered in log10\n",
            "  - 0.5 * np.log10(f_sq + const[3]))\n"
          ],
          "name": "stderr"
        },
        {
          "output_type": "stream",
          "text": [
            "0674 / 1600 | drive/My Drive/AudioTaggerData/FSDKaggle2018.audio_test/9cb91ac4.wav\n"
          ],
          "name": "stdout"
        },
        {
          "output_type": "stream",
          "text": [
            "/usr/local/lib/python3.6/dist-packages/librosa/core/time_frequency.py:1006: RuntimeWarning: divide by zero encountered in log10\n",
            "  - 0.5 * np.log10(f_sq + const[3]))\n"
          ],
          "name": "stderr"
        },
        {
          "output_type": "stream",
          "text": [
            "0675 / 1600 | drive/My Drive/AudioTaggerData/FSDKaggle2018.audio_test/9291c4b5.wav\n"
          ],
          "name": "stdout"
        },
        {
          "output_type": "stream",
          "text": [
            "/usr/local/lib/python3.6/dist-packages/librosa/core/time_frequency.py:1006: RuntimeWarning: divide by zero encountered in log10\n",
            "  - 0.5 * np.log10(f_sq + const[3]))\n"
          ],
          "name": "stderr"
        },
        {
          "output_type": "stream",
          "text": [
            "0676 / 1600 | drive/My Drive/AudioTaggerData/FSDKaggle2018.audio_test/ff8cfb2d.wav\n"
          ],
          "name": "stdout"
        },
        {
          "output_type": "stream",
          "text": [
            "/usr/local/lib/python3.6/dist-packages/librosa/core/time_frequency.py:1006: RuntimeWarning: divide by zero encountered in log10\n",
            "  - 0.5 * np.log10(f_sq + const[3]))\n"
          ],
          "name": "stderr"
        },
        {
          "output_type": "stream",
          "text": [
            "0677 / 1600 | drive/My Drive/AudioTaggerData/FSDKaggle2018.audio_test/1e446435.wav\n"
          ],
          "name": "stdout"
        },
        {
          "output_type": "stream",
          "text": [
            "/usr/local/lib/python3.6/dist-packages/librosa/core/time_frequency.py:1006: RuntimeWarning: divide by zero encountered in log10\n",
            "  - 0.5 * np.log10(f_sq + const[3]))\n"
          ],
          "name": "stderr"
        },
        {
          "output_type": "stream",
          "text": [
            "0678 / 1600 | drive/My Drive/AudioTaggerData/FSDKaggle2018.audio_test/52f1a01d.wav\n"
          ],
          "name": "stdout"
        },
        {
          "output_type": "stream",
          "text": [
            "/usr/local/lib/python3.6/dist-packages/librosa/core/time_frequency.py:1006: RuntimeWarning: divide by zero encountered in log10\n",
            "  - 0.5 * np.log10(f_sq + const[3]))\n"
          ],
          "name": "stderr"
        },
        {
          "output_type": "stream",
          "text": [
            "0679 / 1600 | drive/My Drive/AudioTaggerData/FSDKaggle2018.audio_test/d02c2598.wav\n"
          ],
          "name": "stdout"
        },
        {
          "output_type": "stream",
          "text": [
            "/usr/local/lib/python3.6/dist-packages/librosa/core/time_frequency.py:1006: RuntimeWarning: divide by zero encountered in log10\n",
            "  - 0.5 * np.log10(f_sq + const[3]))\n"
          ],
          "name": "stderr"
        },
        {
          "output_type": "stream",
          "text": [
            "0680 / 1600 | drive/My Drive/AudioTaggerData/FSDKaggle2018.audio_test/ae331164.wav\n"
          ],
          "name": "stdout"
        },
        {
          "output_type": "stream",
          "text": [
            "/usr/local/lib/python3.6/dist-packages/librosa/core/time_frequency.py:1006: RuntimeWarning: divide by zero encountered in log10\n",
            "  - 0.5 * np.log10(f_sq + const[3]))\n"
          ],
          "name": "stderr"
        },
        {
          "output_type": "stream",
          "text": [
            "0681 / 1600 | drive/My Drive/AudioTaggerData/FSDKaggle2018.audio_test/b6622ae5.wav\n"
          ],
          "name": "stdout"
        },
        {
          "output_type": "stream",
          "text": [
            "/usr/local/lib/python3.6/dist-packages/librosa/core/time_frequency.py:1006: RuntimeWarning: divide by zero encountered in log10\n",
            "  - 0.5 * np.log10(f_sq + const[3]))\n"
          ],
          "name": "stderr"
        },
        {
          "output_type": "stream",
          "text": [
            "0682 / 1600 | drive/My Drive/AudioTaggerData/FSDKaggle2018.audio_test/92982e3c.wav\n"
          ],
          "name": "stdout"
        },
        {
          "output_type": "stream",
          "text": [
            "/usr/local/lib/python3.6/dist-packages/librosa/core/time_frequency.py:1006: RuntimeWarning: divide by zero encountered in log10\n",
            "  - 0.5 * np.log10(f_sq + const[3]))\n"
          ],
          "name": "stderr"
        },
        {
          "output_type": "stream",
          "text": [
            "0683 / 1600 | drive/My Drive/AudioTaggerData/FSDKaggle2018.audio_test/a36642b4.wav\n"
          ],
          "name": "stdout"
        },
        {
          "output_type": "stream",
          "text": [
            "/usr/local/lib/python3.6/dist-packages/librosa/core/time_frequency.py:1006: RuntimeWarning: divide by zero encountered in log10\n",
            "  - 0.5 * np.log10(f_sq + const[3]))\n"
          ],
          "name": "stderr"
        },
        {
          "output_type": "stream",
          "text": [
            "0684 / 1600 | drive/My Drive/AudioTaggerData/FSDKaggle2018.audio_test/e1611806.wav\n"
          ],
          "name": "stdout"
        },
        {
          "output_type": "stream",
          "text": [
            "/usr/local/lib/python3.6/dist-packages/librosa/core/time_frequency.py:1006: RuntimeWarning: divide by zero encountered in log10\n",
            "  - 0.5 * np.log10(f_sq + const[3]))\n"
          ],
          "name": "stderr"
        },
        {
          "output_type": "stream",
          "text": [
            "0685 / 1600 | drive/My Drive/AudioTaggerData/FSDKaggle2018.audio_test/d4363c06.wav\n"
          ],
          "name": "stdout"
        },
        {
          "output_type": "stream",
          "text": [
            "/usr/local/lib/python3.6/dist-packages/librosa/core/time_frequency.py:1006: RuntimeWarning: divide by zero encountered in log10\n",
            "  - 0.5 * np.log10(f_sq + const[3]))\n"
          ],
          "name": "stderr"
        },
        {
          "output_type": "stream",
          "text": [
            "0686 / 1600 | drive/My Drive/AudioTaggerData/FSDKaggle2018.audio_test/92929652.wav\n"
          ],
          "name": "stdout"
        },
        {
          "output_type": "stream",
          "text": [
            "/usr/local/lib/python3.6/dist-packages/librosa/core/time_frequency.py:1006: RuntimeWarning: divide by zero encountered in log10\n",
            "  - 0.5 * np.log10(f_sq + const[3]))\n"
          ],
          "name": "stderr"
        },
        {
          "output_type": "stream",
          "text": [
            "0687 / 1600 | drive/My Drive/AudioTaggerData/FSDKaggle2018.audio_test/766d0eb4.wav\n"
          ],
          "name": "stdout"
        },
        {
          "output_type": "stream",
          "text": [
            "/usr/local/lib/python3.6/dist-packages/librosa/core/time_frequency.py:1006: RuntimeWarning: divide by zero encountered in log10\n",
            "  - 0.5 * np.log10(f_sq + const[3]))\n"
          ],
          "name": "stderr"
        },
        {
          "output_type": "stream",
          "text": [
            "0688 / 1600 | drive/My Drive/AudioTaggerData/FSDKaggle2018.audio_test/c8adbde3.wav\n"
          ],
          "name": "stdout"
        },
        {
          "output_type": "stream",
          "text": [
            "/usr/local/lib/python3.6/dist-packages/librosa/core/time_frequency.py:1006: RuntimeWarning: divide by zero encountered in log10\n",
            "  - 0.5 * np.log10(f_sq + const[3]))\n"
          ],
          "name": "stderr"
        },
        {
          "output_type": "stream",
          "text": [
            "0689 / 1600 | drive/My Drive/AudioTaggerData/FSDKaggle2018.audio_test/bf0dc1b9.wav\n"
          ],
          "name": "stdout"
        },
        {
          "output_type": "stream",
          "text": [
            "/usr/local/lib/python3.6/dist-packages/librosa/core/time_frequency.py:1006: RuntimeWarning: divide by zero encountered in log10\n",
            "  - 0.5 * np.log10(f_sq + const[3]))\n"
          ],
          "name": "stderr"
        },
        {
          "output_type": "stream",
          "text": [
            "0690 / 1600 | drive/My Drive/AudioTaggerData/FSDKaggle2018.audio_test/531c52d1.wav\n"
          ],
          "name": "stdout"
        },
        {
          "output_type": "stream",
          "text": [
            "/usr/local/lib/python3.6/dist-packages/librosa/core/time_frequency.py:1006: RuntimeWarning: divide by zero encountered in log10\n",
            "  - 0.5 * np.log10(f_sq + const[3]))\n"
          ],
          "name": "stderr"
        },
        {
          "output_type": "stream",
          "text": [
            "0691 / 1600 | drive/My Drive/AudioTaggerData/FSDKaggle2018.audio_test/faa76917.wav\n"
          ],
          "name": "stdout"
        },
        {
          "output_type": "stream",
          "text": [
            "/usr/local/lib/python3.6/dist-packages/librosa/core/time_frequency.py:1006: RuntimeWarning: divide by zero encountered in log10\n",
            "  - 0.5 * np.log10(f_sq + const[3]))\n"
          ],
          "name": "stderr"
        },
        {
          "output_type": "stream",
          "text": [
            "0692 / 1600 | drive/My Drive/AudioTaggerData/FSDKaggle2018.audio_test/360e9c8e.wav\n"
          ],
          "name": "stdout"
        },
        {
          "output_type": "stream",
          "text": [
            "/usr/local/lib/python3.6/dist-packages/librosa/core/time_frequency.py:1006: RuntimeWarning: divide by zero encountered in log10\n",
            "  - 0.5 * np.log10(f_sq + const[3]))\n"
          ],
          "name": "stderr"
        },
        {
          "output_type": "stream",
          "text": [
            "0693 / 1600 | drive/My Drive/AudioTaggerData/FSDKaggle2018.audio_test/91575ef7.wav\n"
          ],
          "name": "stdout"
        },
        {
          "output_type": "stream",
          "text": [
            "/usr/local/lib/python3.6/dist-packages/librosa/core/time_frequency.py:1006: RuntimeWarning: divide by zero encountered in log10\n",
            "  - 0.5 * np.log10(f_sq + const[3]))\n"
          ],
          "name": "stderr"
        },
        {
          "output_type": "stream",
          "text": [
            "0694 / 1600 | drive/My Drive/AudioTaggerData/FSDKaggle2018.audio_test/42a32da8.wav\n"
          ],
          "name": "stdout"
        },
        {
          "output_type": "stream",
          "text": [
            "/usr/local/lib/python3.6/dist-packages/librosa/core/time_frequency.py:1006: RuntimeWarning: divide by zero encountered in log10\n",
            "  - 0.5 * np.log10(f_sq + const[3]))\n"
          ],
          "name": "stderr"
        },
        {
          "output_type": "stream",
          "text": [
            "0695 / 1600 | drive/My Drive/AudioTaggerData/FSDKaggle2018.audio_test/a5d692a3.wav\n"
          ],
          "name": "stdout"
        },
        {
          "output_type": "stream",
          "text": [
            "/usr/local/lib/python3.6/dist-packages/librosa/core/time_frequency.py:1006: RuntimeWarning: divide by zero encountered in log10\n",
            "  - 0.5 * np.log10(f_sq + const[3]))\n"
          ],
          "name": "stderr"
        },
        {
          "output_type": "stream",
          "text": [
            "0696 / 1600 | drive/My Drive/AudioTaggerData/FSDKaggle2018.audio_test/d593ed57.wav\n"
          ],
          "name": "stdout"
        },
        {
          "output_type": "stream",
          "text": [
            "/usr/local/lib/python3.6/dist-packages/librosa/core/time_frequency.py:1006: RuntimeWarning: divide by zero encountered in log10\n",
            "  - 0.5 * np.log10(f_sq + const[3]))\n"
          ],
          "name": "stderr"
        },
        {
          "output_type": "stream",
          "text": [
            "0697 / 1600 | drive/My Drive/AudioTaggerData/FSDKaggle2018.audio_test/046486df.wav\n"
          ],
          "name": "stdout"
        },
        {
          "output_type": "stream",
          "text": [
            "/usr/local/lib/python3.6/dist-packages/librosa/core/time_frequency.py:1006: RuntimeWarning: divide by zero encountered in log10\n",
            "  - 0.5 * np.log10(f_sq + const[3]))\n"
          ],
          "name": "stderr"
        },
        {
          "output_type": "stream",
          "text": [
            "0698 / 1600 | drive/My Drive/AudioTaggerData/FSDKaggle2018.audio_test/b8ae388a.wav\n"
          ],
          "name": "stdout"
        },
        {
          "output_type": "stream",
          "text": [
            "/usr/local/lib/python3.6/dist-packages/librosa/core/time_frequency.py:1006: RuntimeWarning: divide by zero encountered in log10\n",
            "  - 0.5 * np.log10(f_sq + const[3]))\n"
          ],
          "name": "stderr"
        },
        {
          "output_type": "stream",
          "text": [
            "0699 / 1600 | drive/My Drive/AudioTaggerData/FSDKaggle2018.audio_test/b9f3e65d.wav\n"
          ],
          "name": "stdout"
        },
        {
          "output_type": "stream",
          "text": [
            "/usr/local/lib/python3.6/dist-packages/librosa/core/time_frequency.py:1006: RuntimeWarning: divide by zero encountered in log10\n",
            "  - 0.5 * np.log10(f_sq + const[3]))\n"
          ],
          "name": "stderr"
        },
        {
          "output_type": "stream",
          "text": [
            "0700 / 1600 | drive/My Drive/AudioTaggerData/FSDKaggle2018.audio_test/b862ed8b.wav\n"
          ],
          "name": "stdout"
        },
        {
          "output_type": "stream",
          "text": [
            "/usr/local/lib/python3.6/dist-packages/librosa/core/time_frequency.py:1006: RuntimeWarning: divide by zero encountered in log10\n",
            "  - 0.5 * np.log10(f_sq + const[3]))\n"
          ],
          "name": "stderr"
        },
        {
          "output_type": "stream",
          "text": [
            "0701 / 1600 | drive/My Drive/AudioTaggerData/FSDKaggle2018.audio_test/e3f34b81.wav\n"
          ],
          "name": "stdout"
        },
        {
          "output_type": "stream",
          "text": [
            "/usr/local/lib/python3.6/dist-packages/librosa/core/time_frequency.py:1006: RuntimeWarning: divide by zero encountered in log10\n",
            "  - 0.5 * np.log10(f_sq + const[3]))\n"
          ],
          "name": "stderr"
        },
        {
          "output_type": "stream",
          "text": [
            "0702 / 1600 | drive/My Drive/AudioTaggerData/FSDKaggle2018.audio_test/f330bf67.wav\n"
          ],
          "name": "stdout"
        },
        {
          "output_type": "stream",
          "text": [
            "/usr/local/lib/python3.6/dist-packages/librosa/core/time_frequency.py:1006: RuntimeWarning: divide by zero encountered in log10\n",
            "  - 0.5 * np.log10(f_sq + const[3]))\n"
          ],
          "name": "stderr"
        },
        {
          "output_type": "stream",
          "text": [
            "0703 / 1600 | drive/My Drive/AudioTaggerData/FSDKaggle2018.audio_test/d8f8c95d.wav\n"
          ],
          "name": "stdout"
        },
        {
          "output_type": "stream",
          "text": [
            "/usr/local/lib/python3.6/dist-packages/librosa/core/time_frequency.py:1006: RuntimeWarning: divide by zero encountered in log10\n",
            "  - 0.5 * np.log10(f_sq + const[3]))\n"
          ],
          "name": "stderr"
        },
        {
          "output_type": "stream",
          "text": [
            "0704 / 1600 | drive/My Drive/AudioTaggerData/FSDKaggle2018.audio_test/78c53e09.wav\n"
          ],
          "name": "stdout"
        },
        {
          "output_type": "stream",
          "text": [
            "/usr/local/lib/python3.6/dist-packages/librosa/core/time_frequency.py:1006: RuntimeWarning: divide by zero encountered in log10\n",
            "  - 0.5 * np.log10(f_sq + const[3]))\n"
          ],
          "name": "stderr"
        },
        {
          "output_type": "stream",
          "text": [
            "0705 / 1600 | drive/My Drive/AudioTaggerData/FSDKaggle2018.audio_test/0a5cbf90.wav\n"
          ],
          "name": "stdout"
        },
        {
          "output_type": "stream",
          "text": [
            "/usr/local/lib/python3.6/dist-packages/librosa/core/time_frequency.py:1006: RuntimeWarning: divide by zero encountered in log10\n",
            "  - 0.5 * np.log10(f_sq + const[3]))\n"
          ],
          "name": "stderr"
        },
        {
          "output_type": "stream",
          "text": [
            "0706 / 1600 | drive/My Drive/AudioTaggerData/FSDKaggle2018.audio_test/c6c86c7e.wav\n"
          ],
          "name": "stdout"
        },
        {
          "output_type": "stream",
          "text": [
            "/usr/local/lib/python3.6/dist-packages/librosa/core/time_frequency.py:1006: RuntimeWarning: divide by zero encountered in log10\n",
            "  - 0.5 * np.log10(f_sq + const[3]))\n"
          ],
          "name": "stderr"
        },
        {
          "output_type": "stream",
          "text": [
            "0707 / 1600 | drive/My Drive/AudioTaggerData/FSDKaggle2018.audio_test/b1fc874b.wav\n"
          ],
          "name": "stdout"
        },
        {
          "output_type": "stream",
          "text": [
            "/usr/local/lib/python3.6/dist-packages/librosa/core/time_frequency.py:1006: RuntimeWarning: divide by zero encountered in log10\n",
            "  - 0.5 * np.log10(f_sq + const[3]))\n"
          ],
          "name": "stderr"
        },
        {
          "output_type": "stream",
          "text": [
            "0708 / 1600 | drive/My Drive/AudioTaggerData/FSDKaggle2018.audio_test/cbd6fa7c.wav\n"
          ],
          "name": "stdout"
        },
        {
          "output_type": "stream",
          "text": [
            "/usr/local/lib/python3.6/dist-packages/librosa/core/time_frequency.py:1006: RuntimeWarning: divide by zero encountered in log10\n",
            "  - 0.5 * np.log10(f_sq + const[3]))\n"
          ],
          "name": "stderr"
        },
        {
          "output_type": "stream",
          "text": [
            "0709 / 1600 | drive/My Drive/AudioTaggerData/FSDKaggle2018.audio_test/bc0d54b5.wav\n"
          ],
          "name": "stdout"
        },
        {
          "output_type": "stream",
          "text": [
            "/usr/local/lib/python3.6/dist-packages/librosa/core/time_frequency.py:1006: RuntimeWarning: divide by zero encountered in log10\n",
            "  - 0.5 * np.log10(f_sq + const[3]))\n"
          ],
          "name": "stderr"
        },
        {
          "output_type": "stream",
          "text": [
            "0710 / 1600 | drive/My Drive/AudioTaggerData/FSDKaggle2018.audio_test/c5ee7298.wav\n"
          ],
          "name": "stdout"
        },
        {
          "output_type": "stream",
          "text": [
            "/usr/local/lib/python3.6/dist-packages/librosa/core/time_frequency.py:1006: RuntimeWarning: divide by zero encountered in log10\n",
            "  - 0.5 * np.log10(f_sq + const[3]))\n"
          ],
          "name": "stderr"
        },
        {
          "output_type": "stream",
          "text": [
            "0711 / 1600 | drive/My Drive/AudioTaggerData/FSDKaggle2018.audio_test/0b430780.wav\n"
          ],
          "name": "stdout"
        },
        {
          "output_type": "stream",
          "text": [
            "/usr/local/lib/python3.6/dist-packages/librosa/core/time_frequency.py:1006: RuntimeWarning: divide by zero encountered in log10\n",
            "  - 0.5 * np.log10(f_sq + const[3]))\n"
          ],
          "name": "stderr"
        },
        {
          "output_type": "stream",
          "text": [
            "0712 / 1600 | drive/My Drive/AudioTaggerData/FSDKaggle2018.audio_test/0b79fdea.wav\n"
          ],
          "name": "stdout"
        },
        {
          "output_type": "stream",
          "text": [
            "/usr/local/lib/python3.6/dist-packages/librosa/core/time_frequency.py:1006: RuntimeWarning: divide by zero encountered in log10\n",
            "  - 0.5 * np.log10(f_sq + const[3]))\n"
          ],
          "name": "stderr"
        },
        {
          "output_type": "stream",
          "text": [
            "0713 / 1600 | drive/My Drive/AudioTaggerData/FSDKaggle2018.audio_test/c194eded.wav\n"
          ],
          "name": "stdout"
        },
        {
          "output_type": "stream",
          "text": [
            "/usr/local/lib/python3.6/dist-packages/librosa/core/time_frequency.py:1006: RuntimeWarning: divide by zero encountered in log10\n",
            "  - 0.5 * np.log10(f_sq + const[3]))\n"
          ],
          "name": "stderr"
        },
        {
          "output_type": "stream",
          "text": [
            "0714 / 1600 | drive/My Drive/AudioTaggerData/FSDKaggle2018.audio_test/7a1461f6.wav\n"
          ],
          "name": "stdout"
        },
        {
          "output_type": "stream",
          "text": [
            "/usr/local/lib/python3.6/dist-packages/librosa/core/time_frequency.py:1006: RuntimeWarning: divide by zero encountered in log10\n",
            "  - 0.5 * np.log10(f_sq + const[3]))\n"
          ],
          "name": "stderr"
        },
        {
          "output_type": "stream",
          "text": [
            "0715 / 1600 | drive/My Drive/AudioTaggerData/FSDKaggle2018.audio_test/276f8f90.wav\n"
          ],
          "name": "stdout"
        },
        {
          "output_type": "stream",
          "text": [
            "/usr/local/lib/python3.6/dist-packages/librosa/core/time_frequency.py:1006: RuntimeWarning: divide by zero encountered in log10\n",
            "  - 0.5 * np.log10(f_sq + const[3]))\n"
          ],
          "name": "stderr"
        },
        {
          "output_type": "stream",
          "text": [
            "0716 / 1600 | drive/My Drive/AudioTaggerData/FSDKaggle2018.audio_test/b212832d.wav\n"
          ],
          "name": "stdout"
        },
        {
          "output_type": "stream",
          "text": [
            "/usr/local/lib/python3.6/dist-packages/librosa/core/time_frequency.py:1006: RuntimeWarning: divide by zero encountered in log10\n",
            "  - 0.5 * np.log10(f_sq + const[3]))\n"
          ],
          "name": "stderr"
        },
        {
          "output_type": "stream",
          "text": [
            "0717 / 1600 | drive/My Drive/AudioTaggerData/FSDKaggle2018.audio_test/7e769882.wav\n"
          ],
          "name": "stdout"
        },
        {
          "output_type": "stream",
          "text": [
            "/usr/local/lib/python3.6/dist-packages/librosa/core/time_frequency.py:1006: RuntimeWarning: divide by zero encountered in log10\n",
            "  - 0.5 * np.log10(f_sq + const[3]))\n"
          ],
          "name": "stderr"
        },
        {
          "output_type": "stream",
          "text": [
            "0718 / 1600 | drive/My Drive/AudioTaggerData/FSDKaggle2018.audio_test/94351b30.wav\n"
          ],
          "name": "stdout"
        },
        {
          "output_type": "stream",
          "text": [
            "/usr/local/lib/python3.6/dist-packages/librosa/core/time_frequency.py:1006: RuntimeWarning: divide by zero encountered in log10\n",
            "  - 0.5 * np.log10(f_sq + const[3]))\n"
          ],
          "name": "stderr"
        },
        {
          "output_type": "stream",
          "text": [
            "0719 / 1600 | drive/My Drive/AudioTaggerData/FSDKaggle2018.audio_test/6c05607a.wav\n"
          ],
          "name": "stdout"
        },
        {
          "output_type": "stream",
          "text": [
            "/usr/local/lib/python3.6/dist-packages/librosa/core/time_frequency.py:1006: RuntimeWarning: divide by zero encountered in log10\n",
            "  - 0.5 * np.log10(f_sq + const[3]))\n"
          ],
          "name": "stderr"
        },
        {
          "output_type": "stream",
          "text": [
            "0720 / 1600 | drive/My Drive/AudioTaggerData/FSDKaggle2018.audio_test/be92929b.wav\n"
          ],
          "name": "stdout"
        },
        {
          "output_type": "stream",
          "text": [
            "/usr/local/lib/python3.6/dist-packages/librosa/core/time_frequency.py:1006: RuntimeWarning: divide by zero encountered in log10\n",
            "  - 0.5 * np.log10(f_sq + const[3]))\n"
          ],
          "name": "stderr"
        },
        {
          "output_type": "stream",
          "text": [
            "0721 / 1600 | drive/My Drive/AudioTaggerData/FSDKaggle2018.audio_test/743ab59b.wav\n"
          ],
          "name": "stdout"
        },
        {
          "output_type": "stream",
          "text": [
            "/usr/local/lib/python3.6/dist-packages/librosa/core/time_frequency.py:1006: RuntimeWarning: divide by zero encountered in log10\n",
            "  - 0.5 * np.log10(f_sq + const[3]))\n"
          ],
          "name": "stderr"
        },
        {
          "output_type": "stream",
          "text": [
            "0722 / 1600 | drive/My Drive/AudioTaggerData/FSDKaggle2018.audio_test/47eba90e.wav\n"
          ],
          "name": "stdout"
        },
        {
          "output_type": "stream",
          "text": [
            "/usr/local/lib/python3.6/dist-packages/librosa/core/time_frequency.py:1006: RuntimeWarning: divide by zero encountered in log10\n",
            "  - 0.5 * np.log10(f_sq + const[3]))\n"
          ],
          "name": "stderr"
        },
        {
          "output_type": "stream",
          "text": [
            "0723 / 1600 | drive/My Drive/AudioTaggerData/FSDKaggle2018.audio_test/ba4aef44.wav\n"
          ],
          "name": "stdout"
        },
        {
          "output_type": "stream",
          "text": [
            "/usr/local/lib/python3.6/dist-packages/librosa/core/time_frequency.py:1006: RuntimeWarning: divide by zero encountered in log10\n",
            "  - 0.5 * np.log10(f_sq + const[3]))\n"
          ],
          "name": "stderr"
        },
        {
          "output_type": "stream",
          "text": [
            "0724 / 1600 | drive/My Drive/AudioTaggerData/FSDKaggle2018.audio_test/352c769d.wav\n"
          ],
          "name": "stdout"
        },
        {
          "output_type": "stream",
          "text": [
            "/usr/local/lib/python3.6/dist-packages/librosa/core/time_frequency.py:1006: RuntimeWarning: divide by zero encountered in log10\n",
            "  - 0.5 * np.log10(f_sq + const[3]))\n"
          ],
          "name": "stderr"
        },
        {
          "output_type": "stream",
          "text": [
            "0725 / 1600 | drive/My Drive/AudioTaggerData/FSDKaggle2018.audio_test/72418c07.wav\n"
          ],
          "name": "stdout"
        },
        {
          "output_type": "stream",
          "text": [
            "/usr/local/lib/python3.6/dist-packages/librosa/core/time_frequency.py:1006: RuntimeWarning: divide by zero encountered in log10\n",
            "  - 0.5 * np.log10(f_sq + const[3]))\n"
          ],
          "name": "stderr"
        },
        {
          "output_type": "stream",
          "text": [
            "0726 / 1600 | drive/My Drive/AudioTaggerData/FSDKaggle2018.audio_test/9980da68.wav\n"
          ],
          "name": "stdout"
        },
        {
          "output_type": "stream",
          "text": [
            "/usr/local/lib/python3.6/dist-packages/librosa/core/time_frequency.py:1006: RuntimeWarning: divide by zero encountered in log10\n",
            "  - 0.5 * np.log10(f_sq + const[3]))\n"
          ],
          "name": "stderr"
        },
        {
          "output_type": "stream",
          "text": [
            "0727 / 1600 | drive/My Drive/AudioTaggerData/FSDKaggle2018.audio_test/06e4c394.wav\n"
          ],
          "name": "stdout"
        },
        {
          "output_type": "stream",
          "text": [
            "/usr/local/lib/python3.6/dist-packages/librosa/core/time_frequency.py:1006: RuntimeWarning: divide by zero encountered in log10\n",
            "  - 0.5 * np.log10(f_sq + const[3]))\n"
          ],
          "name": "stderr"
        },
        {
          "output_type": "stream",
          "text": [
            "0728 / 1600 | drive/My Drive/AudioTaggerData/FSDKaggle2018.audio_test/fbe0bc84.wav\n"
          ],
          "name": "stdout"
        },
        {
          "output_type": "stream",
          "text": [
            "/usr/local/lib/python3.6/dist-packages/librosa/core/time_frequency.py:1006: RuntimeWarning: divide by zero encountered in log10\n",
            "  - 0.5 * np.log10(f_sq + const[3]))\n"
          ],
          "name": "stderr"
        },
        {
          "output_type": "stream",
          "text": [
            "0729 / 1600 | drive/My Drive/AudioTaggerData/FSDKaggle2018.audio_test/f45176ff.wav\n"
          ],
          "name": "stdout"
        },
        {
          "output_type": "stream",
          "text": [
            "/usr/local/lib/python3.6/dist-packages/librosa/core/time_frequency.py:1006: RuntimeWarning: divide by zero encountered in log10\n",
            "  - 0.5 * np.log10(f_sq + const[3]))\n"
          ],
          "name": "stderr"
        },
        {
          "output_type": "stream",
          "text": [
            "0730 / 1600 | drive/My Drive/AudioTaggerData/FSDKaggle2018.audio_test/0d99cfde.wav\n"
          ],
          "name": "stdout"
        },
        {
          "output_type": "stream",
          "text": [
            "/usr/local/lib/python3.6/dist-packages/librosa/core/time_frequency.py:1006: RuntimeWarning: divide by zero encountered in log10\n",
            "  - 0.5 * np.log10(f_sq + const[3]))\n"
          ],
          "name": "stderr"
        },
        {
          "output_type": "stream",
          "text": [
            "0731 / 1600 | drive/My Drive/AudioTaggerData/FSDKaggle2018.audio_test/c029b799.wav\n"
          ],
          "name": "stdout"
        },
        {
          "output_type": "stream",
          "text": [
            "/usr/local/lib/python3.6/dist-packages/librosa/core/time_frequency.py:1006: RuntimeWarning: divide by zero encountered in log10\n",
            "  - 0.5 * np.log10(f_sq + const[3]))\n"
          ],
          "name": "stderr"
        },
        {
          "output_type": "stream",
          "text": [
            "0732 / 1600 | drive/My Drive/AudioTaggerData/FSDKaggle2018.audio_test/15389a70.wav\n"
          ],
          "name": "stdout"
        },
        {
          "output_type": "stream",
          "text": [
            "/usr/local/lib/python3.6/dist-packages/librosa/core/time_frequency.py:1006: RuntimeWarning: divide by zero encountered in log10\n",
            "  - 0.5 * np.log10(f_sq + const[3]))\n"
          ],
          "name": "stderr"
        },
        {
          "output_type": "stream",
          "text": [
            "0733 / 1600 | drive/My Drive/AudioTaggerData/FSDKaggle2018.audio_test/38f2e0c4.wav\n"
          ],
          "name": "stdout"
        },
        {
          "output_type": "stream",
          "text": [
            "/usr/local/lib/python3.6/dist-packages/librosa/core/time_frequency.py:1006: RuntimeWarning: divide by zero encountered in log10\n",
            "  - 0.5 * np.log10(f_sq + const[3]))\n"
          ],
          "name": "stderr"
        },
        {
          "output_type": "stream",
          "text": [
            "0734 / 1600 | drive/My Drive/AudioTaggerData/FSDKaggle2018.audio_test/0fe4e425.wav\n"
          ],
          "name": "stdout"
        },
        {
          "output_type": "stream",
          "text": [
            "/usr/local/lib/python3.6/dist-packages/librosa/core/time_frequency.py:1006: RuntimeWarning: divide by zero encountered in log10\n",
            "  - 0.5 * np.log10(f_sq + const[3]))\n"
          ],
          "name": "stderr"
        },
        {
          "output_type": "stream",
          "text": [
            "0735 / 1600 | drive/My Drive/AudioTaggerData/FSDKaggle2018.audio_test/535b5dcd.wav\n"
          ],
          "name": "stdout"
        },
        {
          "output_type": "stream",
          "text": [
            "/usr/local/lib/python3.6/dist-packages/librosa/core/time_frequency.py:1006: RuntimeWarning: divide by zero encountered in log10\n",
            "  - 0.5 * np.log10(f_sq + const[3]))\n"
          ],
          "name": "stderr"
        },
        {
          "output_type": "stream",
          "text": [
            "0736 / 1600 | drive/My Drive/AudioTaggerData/FSDKaggle2018.audio_test/9d4f422d.wav\n"
          ],
          "name": "stdout"
        },
        {
          "output_type": "stream",
          "text": [
            "/usr/local/lib/python3.6/dist-packages/librosa/core/time_frequency.py:1006: RuntimeWarning: divide by zero encountered in log10\n",
            "  - 0.5 * np.log10(f_sq + const[3]))\n"
          ],
          "name": "stderr"
        },
        {
          "output_type": "stream",
          "text": [
            "0737 / 1600 | drive/My Drive/AudioTaggerData/FSDKaggle2018.audio_test/91d58d6a.wav\n"
          ],
          "name": "stdout"
        },
        {
          "output_type": "stream",
          "text": [
            "/usr/local/lib/python3.6/dist-packages/librosa/core/time_frequency.py:1006: RuntimeWarning: divide by zero encountered in log10\n",
            "  - 0.5 * np.log10(f_sq + const[3]))\n"
          ],
          "name": "stderr"
        },
        {
          "output_type": "stream",
          "text": [
            "0738 / 1600 | drive/My Drive/AudioTaggerData/FSDKaggle2018.audio_test/eea2fb52.wav\n"
          ],
          "name": "stdout"
        },
        {
          "output_type": "stream",
          "text": [
            "/usr/local/lib/python3.6/dist-packages/librosa/core/time_frequency.py:1006: RuntimeWarning: divide by zero encountered in log10\n",
            "  - 0.5 * np.log10(f_sq + const[3]))\n"
          ],
          "name": "stderr"
        },
        {
          "output_type": "stream",
          "text": [
            "0739 / 1600 | drive/My Drive/AudioTaggerData/FSDKaggle2018.audio_test/509dd8b8.wav\n"
          ],
          "name": "stdout"
        },
        {
          "output_type": "stream",
          "text": [
            "/usr/local/lib/python3.6/dist-packages/librosa/core/time_frequency.py:1006: RuntimeWarning: divide by zero encountered in log10\n",
            "  - 0.5 * np.log10(f_sq + const[3]))\n"
          ],
          "name": "stderr"
        },
        {
          "output_type": "stream",
          "text": [
            "0740 / 1600 | drive/My Drive/AudioTaggerData/FSDKaggle2018.audio_test/95adeda9.wav\n"
          ],
          "name": "stdout"
        },
        {
          "output_type": "stream",
          "text": [
            "/usr/local/lib/python3.6/dist-packages/librosa/core/time_frequency.py:1006: RuntimeWarning: divide by zero encountered in log10\n",
            "  - 0.5 * np.log10(f_sq + const[3]))\n"
          ],
          "name": "stderr"
        },
        {
          "output_type": "stream",
          "text": [
            "0741 / 1600 | drive/My Drive/AudioTaggerData/FSDKaggle2018.audio_test/e89089ee.wav\n"
          ],
          "name": "stdout"
        },
        {
          "output_type": "stream",
          "text": [
            "/usr/local/lib/python3.6/dist-packages/librosa/core/time_frequency.py:1006: RuntimeWarning: divide by zero encountered in log10\n",
            "  - 0.5 * np.log10(f_sq + const[3]))\n"
          ],
          "name": "stderr"
        },
        {
          "output_type": "stream",
          "text": [
            "0742 / 1600 | drive/My Drive/AudioTaggerData/FSDKaggle2018.audio_test/e269cdb6.wav\n"
          ],
          "name": "stdout"
        },
        {
          "output_type": "stream",
          "text": [
            "/usr/local/lib/python3.6/dist-packages/librosa/core/time_frequency.py:1006: RuntimeWarning: divide by zero encountered in log10\n",
            "  - 0.5 * np.log10(f_sq + const[3]))\n"
          ],
          "name": "stderr"
        },
        {
          "output_type": "stream",
          "text": [
            "0743 / 1600 | drive/My Drive/AudioTaggerData/FSDKaggle2018.audio_test/f9e73570.wav\n"
          ],
          "name": "stdout"
        },
        {
          "output_type": "stream",
          "text": [
            "/usr/local/lib/python3.6/dist-packages/librosa/core/time_frequency.py:1006: RuntimeWarning: divide by zero encountered in log10\n",
            "  - 0.5 * np.log10(f_sq + const[3]))\n"
          ],
          "name": "stderr"
        },
        {
          "output_type": "stream",
          "text": [
            "0744 / 1600 | drive/My Drive/AudioTaggerData/FSDKaggle2018.audio_test/cb64bba5.wav\n"
          ],
          "name": "stdout"
        },
        {
          "output_type": "stream",
          "text": [
            "/usr/local/lib/python3.6/dist-packages/librosa/core/time_frequency.py:1006: RuntimeWarning: divide by zero encountered in log10\n",
            "  - 0.5 * np.log10(f_sq + const[3]))\n"
          ],
          "name": "stderr"
        },
        {
          "output_type": "stream",
          "text": [
            "0745 / 1600 | drive/My Drive/AudioTaggerData/FSDKaggle2018.audio_test/35e1140b.wav\n"
          ],
          "name": "stdout"
        },
        {
          "output_type": "stream",
          "text": [
            "/usr/local/lib/python3.6/dist-packages/librosa/core/time_frequency.py:1006: RuntimeWarning: divide by zero encountered in log10\n",
            "  - 0.5 * np.log10(f_sq + const[3]))\n"
          ],
          "name": "stderr"
        },
        {
          "output_type": "stream",
          "text": [
            "0746 / 1600 | drive/My Drive/AudioTaggerData/FSDKaggle2018.audio_test/6a8317a5.wav\n"
          ],
          "name": "stdout"
        },
        {
          "output_type": "stream",
          "text": [
            "/usr/local/lib/python3.6/dist-packages/librosa/core/time_frequency.py:1006: RuntimeWarning: divide by zero encountered in log10\n",
            "  - 0.5 * np.log10(f_sq + const[3]))\n"
          ],
          "name": "stderr"
        },
        {
          "output_type": "stream",
          "text": [
            "0747 / 1600 | drive/My Drive/AudioTaggerData/FSDKaggle2018.audio_test/b2e8642e.wav\n"
          ],
          "name": "stdout"
        },
        {
          "output_type": "stream",
          "text": [
            "/usr/local/lib/python3.6/dist-packages/librosa/core/time_frequency.py:1006: RuntimeWarning: divide by zero encountered in log10\n",
            "  - 0.5 * np.log10(f_sq + const[3]))\n"
          ],
          "name": "stderr"
        },
        {
          "output_type": "stream",
          "text": [
            "0748 / 1600 | drive/My Drive/AudioTaggerData/FSDKaggle2018.audio_test/52b5fae8.wav\n"
          ],
          "name": "stdout"
        },
        {
          "output_type": "stream",
          "text": [
            "/usr/local/lib/python3.6/dist-packages/librosa/core/time_frequency.py:1006: RuntimeWarning: divide by zero encountered in log10\n",
            "  - 0.5 * np.log10(f_sq + const[3]))\n"
          ],
          "name": "stderr"
        },
        {
          "output_type": "stream",
          "text": [
            "0749 / 1600 | drive/My Drive/AudioTaggerData/FSDKaggle2018.audio_test/af44663e.wav\n"
          ],
          "name": "stdout"
        },
        {
          "output_type": "stream",
          "text": [
            "/usr/local/lib/python3.6/dist-packages/librosa/core/time_frequency.py:1006: RuntimeWarning: divide by zero encountered in log10\n",
            "  - 0.5 * np.log10(f_sq + const[3]))\n"
          ],
          "name": "stderr"
        },
        {
          "output_type": "stream",
          "text": [
            "0750 / 1600 | drive/My Drive/AudioTaggerData/FSDKaggle2018.audio_test/47ebd5f5.wav\n"
          ],
          "name": "stdout"
        },
        {
          "output_type": "stream",
          "text": [
            "/usr/local/lib/python3.6/dist-packages/librosa/core/time_frequency.py:1006: RuntimeWarning: divide by zero encountered in log10\n",
            "  - 0.5 * np.log10(f_sq + const[3]))\n"
          ],
          "name": "stderr"
        },
        {
          "output_type": "stream",
          "text": [
            "0751 / 1600 | drive/My Drive/AudioTaggerData/FSDKaggle2018.audio_test/e481fcef.wav\n"
          ],
          "name": "stdout"
        },
        {
          "output_type": "stream",
          "text": [
            "/usr/local/lib/python3.6/dist-packages/librosa/core/time_frequency.py:1006: RuntimeWarning: divide by zero encountered in log10\n",
            "  - 0.5 * np.log10(f_sq + const[3]))\n"
          ],
          "name": "stderr"
        },
        {
          "output_type": "stream",
          "text": [
            "0752 / 1600 | drive/My Drive/AudioTaggerData/FSDKaggle2018.audio_test/c2de2233.wav\n"
          ],
          "name": "stdout"
        },
        {
          "output_type": "stream",
          "text": [
            "/usr/local/lib/python3.6/dist-packages/librosa/core/time_frequency.py:1006: RuntimeWarning: divide by zero encountered in log10\n",
            "  - 0.5 * np.log10(f_sq + const[3]))\n"
          ],
          "name": "stderr"
        },
        {
          "output_type": "stream",
          "text": [
            "0753 / 1600 | drive/My Drive/AudioTaggerData/FSDKaggle2018.audio_test/aaaa667f.wav\n"
          ],
          "name": "stdout"
        },
        {
          "output_type": "stream",
          "text": [
            "/usr/local/lib/python3.6/dist-packages/librosa/core/time_frequency.py:1006: RuntimeWarning: divide by zero encountered in log10\n",
            "  - 0.5 * np.log10(f_sq + const[3]))\n"
          ],
          "name": "stderr"
        },
        {
          "output_type": "stream",
          "text": [
            "0754 / 1600 | drive/My Drive/AudioTaggerData/FSDKaggle2018.audio_test/9a51bee8.wav\n"
          ],
          "name": "stdout"
        },
        {
          "output_type": "stream",
          "text": [
            "/usr/local/lib/python3.6/dist-packages/librosa/core/time_frequency.py:1006: RuntimeWarning: divide by zero encountered in log10\n",
            "  - 0.5 * np.log10(f_sq + const[3]))\n"
          ],
          "name": "stderr"
        },
        {
          "output_type": "stream",
          "text": [
            "0755 / 1600 | drive/My Drive/AudioTaggerData/FSDKaggle2018.audio_test/d8fcc6a7.wav\n"
          ],
          "name": "stdout"
        },
        {
          "output_type": "stream",
          "text": [
            "/usr/local/lib/python3.6/dist-packages/librosa/core/time_frequency.py:1006: RuntimeWarning: divide by zero encountered in log10\n",
            "  - 0.5 * np.log10(f_sq + const[3]))\n"
          ],
          "name": "stderr"
        },
        {
          "output_type": "stream",
          "text": [
            "0756 / 1600 | drive/My Drive/AudioTaggerData/FSDKaggle2018.audio_test/7b7dd15e.wav\n"
          ],
          "name": "stdout"
        },
        {
          "output_type": "stream",
          "text": [
            "/usr/local/lib/python3.6/dist-packages/librosa/core/time_frequency.py:1006: RuntimeWarning: divide by zero encountered in log10\n",
            "  - 0.5 * np.log10(f_sq + const[3]))\n"
          ],
          "name": "stderr"
        },
        {
          "output_type": "stream",
          "text": [
            "0757 / 1600 | drive/My Drive/AudioTaggerData/FSDKaggle2018.audio_test/6837f3bb.wav\n"
          ],
          "name": "stdout"
        },
        {
          "output_type": "stream",
          "text": [
            "/usr/local/lib/python3.6/dist-packages/librosa/core/time_frequency.py:1006: RuntimeWarning: divide by zero encountered in log10\n",
            "  - 0.5 * np.log10(f_sq + const[3]))\n"
          ],
          "name": "stderr"
        },
        {
          "output_type": "stream",
          "text": [
            "0758 / 1600 | drive/My Drive/AudioTaggerData/FSDKaggle2018.audio_test/1a35ff8a.wav\n"
          ],
          "name": "stdout"
        },
        {
          "output_type": "stream",
          "text": [
            "/usr/local/lib/python3.6/dist-packages/librosa/core/time_frequency.py:1006: RuntimeWarning: divide by zero encountered in log10\n",
            "  - 0.5 * np.log10(f_sq + const[3]))\n"
          ],
          "name": "stderr"
        },
        {
          "output_type": "stream",
          "text": [
            "0759 / 1600 | drive/My Drive/AudioTaggerData/FSDKaggle2018.audio_test/daf97535.wav\n"
          ],
          "name": "stdout"
        },
        {
          "output_type": "stream",
          "text": [
            "/usr/local/lib/python3.6/dist-packages/librosa/core/time_frequency.py:1006: RuntimeWarning: divide by zero encountered in log10\n",
            "  - 0.5 * np.log10(f_sq + const[3]))\n"
          ],
          "name": "stderr"
        },
        {
          "output_type": "stream",
          "text": [
            "0760 / 1600 | drive/My Drive/AudioTaggerData/FSDKaggle2018.audio_test/9ced683f.wav\n"
          ],
          "name": "stdout"
        },
        {
          "output_type": "stream",
          "text": [
            "/usr/local/lib/python3.6/dist-packages/librosa/core/time_frequency.py:1006: RuntimeWarning: divide by zero encountered in log10\n",
            "  - 0.5 * np.log10(f_sq + const[3]))\n"
          ],
          "name": "stderr"
        },
        {
          "output_type": "stream",
          "text": [
            "0761 / 1600 | drive/My Drive/AudioTaggerData/FSDKaggle2018.audio_test/a6188eae.wav\n"
          ],
          "name": "stdout"
        },
        {
          "output_type": "stream",
          "text": [
            "/usr/local/lib/python3.6/dist-packages/librosa/core/time_frequency.py:1006: RuntimeWarning: divide by zero encountered in log10\n",
            "  - 0.5 * np.log10(f_sq + const[3]))\n"
          ],
          "name": "stderr"
        },
        {
          "output_type": "stream",
          "text": [
            "0762 / 1600 | drive/My Drive/AudioTaggerData/FSDKaggle2018.audio_test/a2f6c38c.wav\n"
          ],
          "name": "stdout"
        },
        {
          "output_type": "stream",
          "text": [
            "/usr/local/lib/python3.6/dist-packages/librosa/core/time_frequency.py:1006: RuntimeWarning: divide by zero encountered in log10\n",
            "  - 0.5 * np.log10(f_sq + const[3]))\n"
          ],
          "name": "stderr"
        },
        {
          "output_type": "stream",
          "text": [
            "0763 / 1600 | drive/My Drive/AudioTaggerData/FSDKaggle2018.audio_test/19e6ef89.wav\n"
          ],
          "name": "stdout"
        },
        {
          "output_type": "stream",
          "text": [
            "/usr/local/lib/python3.6/dist-packages/librosa/core/time_frequency.py:1006: RuntimeWarning: divide by zero encountered in log10\n",
            "  - 0.5 * np.log10(f_sq + const[3]))\n"
          ],
          "name": "stderr"
        },
        {
          "output_type": "stream",
          "text": [
            "0764 / 1600 | drive/My Drive/AudioTaggerData/FSDKaggle2018.audio_test/41703f1f.wav\n"
          ],
          "name": "stdout"
        },
        {
          "output_type": "stream",
          "text": [
            "/usr/local/lib/python3.6/dist-packages/librosa/core/time_frequency.py:1006: RuntimeWarning: divide by zero encountered in log10\n",
            "  - 0.5 * np.log10(f_sq + const[3]))\n"
          ],
          "name": "stderr"
        },
        {
          "output_type": "stream",
          "text": [
            "0765 / 1600 | drive/My Drive/AudioTaggerData/FSDKaggle2018.audio_test/1e5863c9.wav\n"
          ],
          "name": "stdout"
        },
        {
          "output_type": "stream",
          "text": [
            "/usr/local/lib/python3.6/dist-packages/librosa/core/time_frequency.py:1006: RuntimeWarning: divide by zero encountered in log10\n",
            "  - 0.5 * np.log10(f_sq + const[3]))\n"
          ],
          "name": "stderr"
        },
        {
          "output_type": "stream",
          "text": [
            "0766 / 1600 | drive/My Drive/AudioTaggerData/FSDKaggle2018.audio_test/fac25bd4.wav\n"
          ],
          "name": "stdout"
        },
        {
          "output_type": "stream",
          "text": [
            "/usr/local/lib/python3.6/dist-packages/librosa/core/time_frequency.py:1006: RuntimeWarning: divide by zero encountered in log10\n",
            "  - 0.5 * np.log10(f_sq + const[3]))\n"
          ],
          "name": "stderr"
        },
        {
          "output_type": "stream",
          "text": [
            "0767 / 1600 | drive/My Drive/AudioTaggerData/FSDKaggle2018.audio_test/426189f7.wav\n"
          ],
          "name": "stdout"
        },
        {
          "output_type": "stream",
          "text": [
            "/usr/local/lib/python3.6/dist-packages/librosa/core/time_frequency.py:1006: RuntimeWarning: divide by zero encountered in log10\n",
            "  - 0.5 * np.log10(f_sq + const[3]))\n"
          ],
          "name": "stderr"
        },
        {
          "output_type": "stream",
          "text": [
            "0768 / 1600 | drive/My Drive/AudioTaggerData/FSDKaggle2018.audio_test/0cb0d029.wav\n"
          ],
          "name": "stdout"
        },
        {
          "output_type": "stream",
          "text": [
            "/usr/local/lib/python3.6/dist-packages/librosa/core/time_frequency.py:1006: RuntimeWarning: divide by zero encountered in log10\n",
            "  - 0.5 * np.log10(f_sq + const[3]))\n"
          ],
          "name": "stderr"
        },
        {
          "output_type": "stream",
          "text": [
            "0769 / 1600 | drive/My Drive/AudioTaggerData/FSDKaggle2018.audio_test/f1c27002.wav\n"
          ],
          "name": "stdout"
        },
        {
          "output_type": "stream",
          "text": [
            "/usr/local/lib/python3.6/dist-packages/librosa/core/time_frequency.py:1006: RuntimeWarning: divide by zero encountered in log10\n",
            "  - 0.5 * np.log10(f_sq + const[3]))\n"
          ],
          "name": "stderr"
        },
        {
          "output_type": "stream",
          "text": [
            "0770 / 1600 | drive/My Drive/AudioTaggerData/FSDKaggle2018.audio_test/bee6c09a.wav\n"
          ],
          "name": "stdout"
        },
        {
          "output_type": "stream",
          "text": [
            "/usr/local/lib/python3.6/dist-packages/librosa/core/time_frequency.py:1006: RuntimeWarning: divide by zero encountered in log10\n",
            "  - 0.5 * np.log10(f_sq + const[3]))\n"
          ],
          "name": "stderr"
        },
        {
          "output_type": "stream",
          "text": [
            "0771 / 1600 | drive/My Drive/AudioTaggerData/FSDKaggle2018.audio_test/71893c70.wav\n"
          ],
          "name": "stdout"
        },
        {
          "output_type": "stream",
          "text": [
            "/usr/local/lib/python3.6/dist-packages/librosa/core/time_frequency.py:1006: RuntimeWarning: divide by zero encountered in log10\n",
            "  - 0.5 * np.log10(f_sq + const[3]))\n"
          ],
          "name": "stderr"
        },
        {
          "output_type": "stream",
          "text": [
            "0772 / 1600 | drive/My Drive/AudioTaggerData/FSDKaggle2018.audio_test/d3fe26a1.wav\n"
          ],
          "name": "stdout"
        },
        {
          "output_type": "stream",
          "text": [
            "/usr/local/lib/python3.6/dist-packages/librosa/core/time_frequency.py:1006: RuntimeWarning: divide by zero encountered in log10\n",
            "  - 0.5 * np.log10(f_sq + const[3]))\n"
          ],
          "name": "stderr"
        },
        {
          "output_type": "stream",
          "text": [
            "0773 / 1600 | drive/My Drive/AudioTaggerData/FSDKaggle2018.audio_test/e8854b0e.wav\n"
          ],
          "name": "stdout"
        },
        {
          "output_type": "stream",
          "text": [
            "/usr/local/lib/python3.6/dist-packages/librosa/core/time_frequency.py:1006: RuntimeWarning: divide by zero encountered in log10\n",
            "  - 0.5 * np.log10(f_sq + const[3]))\n"
          ],
          "name": "stderr"
        },
        {
          "output_type": "stream",
          "text": [
            "0774 / 1600 | drive/My Drive/AudioTaggerData/FSDKaggle2018.audio_test/7a774e4f.wav\n"
          ],
          "name": "stdout"
        },
        {
          "output_type": "stream",
          "text": [
            "/usr/local/lib/python3.6/dist-packages/librosa/core/time_frequency.py:1006: RuntimeWarning: divide by zero encountered in log10\n",
            "  - 0.5 * np.log10(f_sq + const[3]))\n"
          ],
          "name": "stderr"
        },
        {
          "output_type": "stream",
          "text": [
            "0775 / 1600 | drive/My Drive/AudioTaggerData/FSDKaggle2018.audio_test/39b23710.wav\n"
          ],
          "name": "stdout"
        },
        {
          "output_type": "stream",
          "text": [
            "/usr/local/lib/python3.6/dist-packages/librosa/core/time_frequency.py:1006: RuntimeWarning: divide by zero encountered in log10\n",
            "  - 0.5 * np.log10(f_sq + const[3]))\n"
          ],
          "name": "stderr"
        },
        {
          "output_type": "stream",
          "text": [
            "0776 / 1600 | drive/My Drive/AudioTaggerData/FSDKaggle2018.audio_test/a8dbfd4d.wav\n"
          ],
          "name": "stdout"
        },
        {
          "output_type": "stream",
          "text": [
            "/usr/local/lib/python3.6/dist-packages/librosa/core/time_frequency.py:1006: RuntimeWarning: divide by zero encountered in log10\n",
            "  - 0.5 * np.log10(f_sq + const[3]))\n"
          ],
          "name": "stderr"
        },
        {
          "output_type": "stream",
          "text": [
            "0777 / 1600 | drive/My Drive/AudioTaggerData/FSDKaggle2018.audio_test/06123abf.wav\n"
          ],
          "name": "stdout"
        },
        {
          "output_type": "stream",
          "text": [
            "/usr/local/lib/python3.6/dist-packages/librosa/core/time_frequency.py:1006: RuntimeWarning: divide by zero encountered in log10\n",
            "  - 0.5 * np.log10(f_sq + const[3]))\n"
          ],
          "name": "stderr"
        },
        {
          "output_type": "stream",
          "text": [
            "0778 / 1600 | drive/My Drive/AudioTaggerData/FSDKaggle2018.audio_test/5e0f8a17.wav\n"
          ],
          "name": "stdout"
        },
        {
          "output_type": "stream",
          "text": [
            "/usr/local/lib/python3.6/dist-packages/librosa/core/time_frequency.py:1006: RuntimeWarning: divide by zero encountered in log10\n",
            "  - 0.5 * np.log10(f_sq + const[3]))\n"
          ],
          "name": "stderr"
        },
        {
          "output_type": "stream",
          "text": [
            "0779 / 1600 | drive/My Drive/AudioTaggerData/FSDKaggle2018.audio_test/a03e3cdd.wav\n"
          ],
          "name": "stdout"
        },
        {
          "output_type": "stream",
          "text": [
            "/usr/local/lib/python3.6/dist-packages/librosa/core/time_frequency.py:1006: RuntimeWarning: divide by zero encountered in log10\n",
            "  - 0.5 * np.log10(f_sq + const[3]))\n"
          ],
          "name": "stderr"
        },
        {
          "output_type": "stream",
          "text": [
            "0780 / 1600 | drive/My Drive/AudioTaggerData/FSDKaggle2018.audio_test/820e3ccc.wav\n"
          ],
          "name": "stdout"
        },
        {
          "output_type": "stream",
          "text": [
            "/usr/local/lib/python3.6/dist-packages/librosa/core/time_frequency.py:1006: RuntimeWarning: divide by zero encountered in log10\n",
            "  - 0.5 * np.log10(f_sq + const[3]))\n"
          ],
          "name": "stderr"
        },
        {
          "output_type": "stream",
          "text": [
            "0781 / 1600 | drive/My Drive/AudioTaggerData/FSDKaggle2018.audio_test/f8080b32.wav\n"
          ],
          "name": "stdout"
        },
        {
          "output_type": "stream",
          "text": [
            "/usr/local/lib/python3.6/dist-packages/librosa/core/time_frequency.py:1006: RuntimeWarning: divide by zero encountered in log10\n",
            "  - 0.5 * np.log10(f_sq + const[3]))\n"
          ],
          "name": "stderr"
        },
        {
          "output_type": "stream",
          "text": [
            "0782 / 1600 | drive/My Drive/AudioTaggerData/FSDKaggle2018.audio_test/997199bf.wav\n"
          ],
          "name": "stdout"
        },
        {
          "output_type": "stream",
          "text": [
            "/usr/local/lib/python3.6/dist-packages/librosa/core/time_frequency.py:1006: RuntimeWarning: divide by zero encountered in log10\n",
            "  - 0.5 * np.log10(f_sq + const[3]))\n"
          ],
          "name": "stderr"
        },
        {
          "output_type": "stream",
          "text": [
            "0783 / 1600 | drive/My Drive/AudioTaggerData/FSDKaggle2018.audio_test/31bf625c.wav\n"
          ],
          "name": "stdout"
        },
        {
          "output_type": "stream",
          "text": [
            "/usr/local/lib/python3.6/dist-packages/librosa/core/time_frequency.py:1006: RuntimeWarning: divide by zero encountered in log10\n",
            "  - 0.5 * np.log10(f_sq + const[3]))\n"
          ],
          "name": "stderr"
        },
        {
          "output_type": "stream",
          "text": [
            "0784 / 1600 | drive/My Drive/AudioTaggerData/FSDKaggle2018.audio_test/c295a81b.wav\n"
          ],
          "name": "stdout"
        },
        {
          "output_type": "stream",
          "text": [
            "/usr/local/lib/python3.6/dist-packages/librosa/core/time_frequency.py:1006: RuntimeWarning: divide by zero encountered in log10\n",
            "  - 0.5 * np.log10(f_sq + const[3]))\n"
          ],
          "name": "stderr"
        },
        {
          "output_type": "stream",
          "text": [
            "0785 / 1600 | drive/My Drive/AudioTaggerData/FSDKaggle2018.audio_test/5997bbc5.wav\n"
          ],
          "name": "stdout"
        },
        {
          "output_type": "stream",
          "text": [
            "/usr/local/lib/python3.6/dist-packages/librosa/core/time_frequency.py:1006: RuntimeWarning: divide by zero encountered in log10\n",
            "  - 0.5 * np.log10(f_sq + const[3]))\n"
          ],
          "name": "stderr"
        },
        {
          "output_type": "stream",
          "text": [
            "0786 / 1600 | drive/My Drive/AudioTaggerData/FSDKaggle2018.audio_test/c3bc8ef9.wav\n"
          ],
          "name": "stdout"
        },
        {
          "output_type": "stream",
          "text": [
            "/usr/local/lib/python3.6/dist-packages/librosa/core/time_frequency.py:1006: RuntimeWarning: divide by zero encountered in log10\n",
            "  - 0.5 * np.log10(f_sq + const[3]))\n"
          ],
          "name": "stderr"
        },
        {
          "output_type": "stream",
          "text": [
            "0787 / 1600 | drive/My Drive/AudioTaggerData/FSDKaggle2018.audio_test/31c1e915.wav\n"
          ],
          "name": "stdout"
        },
        {
          "output_type": "stream",
          "text": [
            "/usr/local/lib/python3.6/dist-packages/librosa/core/time_frequency.py:1006: RuntimeWarning: divide by zero encountered in log10\n",
            "  - 0.5 * np.log10(f_sq + const[3]))\n"
          ],
          "name": "stderr"
        },
        {
          "output_type": "stream",
          "text": [
            "0788 / 1600 | drive/My Drive/AudioTaggerData/FSDKaggle2018.audio_test/9edc7957.wav\n"
          ],
          "name": "stdout"
        },
        {
          "output_type": "stream",
          "text": [
            "/usr/local/lib/python3.6/dist-packages/librosa/core/time_frequency.py:1006: RuntimeWarning: divide by zero encountered in log10\n",
            "  - 0.5 * np.log10(f_sq + const[3]))\n"
          ],
          "name": "stderr"
        },
        {
          "output_type": "stream",
          "text": [
            "0789 / 1600 | drive/My Drive/AudioTaggerData/FSDKaggle2018.audio_test/536199a4.wav\n"
          ],
          "name": "stdout"
        },
        {
          "output_type": "stream",
          "text": [
            "/usr/local/lib/python3.6/dist-packages/librosa/core/time_frequency.py:1006: RuntimeWarning: divide by zero encountered in log10\n",
            "  - 0.5 * np.log10(f_sq + const[3]))\n"
          ],
          "name": "stderr"
        },
        {
          "output_type": "stream",
          "text": [
            "0790 / 1600 | drive/My Drive/AudioTaggerData/FSDKaggle2018.audio_test/c28b7984.wav\n"
          ],
          "name": "stdout"
        },
        {
          "output_type": "stream",
          "text": [
            "/usr/local/lib/python3.6/dist-packages/librosa/core/time_frequency.py:1006: RuntimeWarning: divide by zero encountered in log10\n",
            "  - 0.5 * np.log10(f_sq + const[3]))\n"
          ],
          "name": "stderr"
        },
        {
          "output_type": "stream",
          "text": [
            "0791 / 1600 | drive/My Drive/AudioTaggerData/FSDKaggle2018.audio_test/9e209e1a.wav\n"
          ],
          "name": "stdout"
        },
        {
          "output_type": "stream",
          "text": [
            "/usr/local/lib/python3.6/dist-packages/librosa/core/time_frequency.py:1006: RuntimeWarning: divide by zero encountered in log10\n",
            "  - 0.5 * np.log10(f_sq + const[3]))\n"
          ],
          "name": "stderr"
        },
        {
          "output_type": "stream",
          "text": [
            "0792 / 1600 | drive/My Drive/AudioTaggerData/FSDKaggle2018.audio_test/7759b661.wav\n"
          ],
          "name": "stdout"
        },
        {
          "output_type": "stream",
          "text": [
            "/usr/local/lib/python3.6/dist-packages/librosa/core/time_frequency.py:1006: RuntimeWarning: divide by zero encountered in log10\n",
            "  - 0.5 * np.log10(f_sq + const[3]))\n"
          ],
          "name": "stderr"
        },
        {
          "output_type": "stream",
          "text": [
            "0793 / 1600 | drive/My Drive/AudioTaggerData/FSDKaggle2018.audio_test/73050965.wav\n"
          ],
          "name": "stdout"
        },
        {
          "output_type": "stream",
          "text": [
            "/usr/local/lib/python3.6/dist-packages/librosa/core/time_frequency.py:1006: RuntimeWarning: divide by zero encountered in log10\n",
            "  - 0.5 * np.log10(f_sq + const[3]))\n"
          ],
          "name": "stderr"
        },
        {
          "output_type": "stream",
          "text": [
            "0794 / 1600 | drive/My Drive/AudioTaggerData/FSDKaggle2018.audio_test/a7e2c92c.wav\n"
          ],
          "name": "stdout"
        },
        {
          "output_type": "stream",
          "text": [
            "/usr/local/lib/python3.6/dist-packages/librosa/core/time_frequency.py:1006: RuntimeWarning: divide by zero encountered in log10\n",
            "  - 0.5 * np.log10(f_sq + const[3]))\n"
          ],
          "name": "stderr"
        },
        {
          "output_type": "stream",
          "text": [
            "0795 / 1600 | drive/My Drive/AudioTaggerData/FSDKaggle2018.audio_test/38cc6c04.wav\n"
          ],
          "name": "stdout"
        },
        {
          "output_type": "stream",
          "text": [
            "/usr/local/lib/python3.6/dist-packages/librosa/core/time_frequency.py:1006: RuntimeWarning: divide by zero encountered in log10\n",
            "  - 0.5 * np.log10(f_sq + const[3]))\n"
          ],
          "name": "stderr"
        },
        {
          "output_type": "stream",
          "text": [
            "0796 / 1600 | drive/My Drive/AudioTaggerData/FSDKaggle2018.audio_test/28815c9a.wav\n"
          ],
          "name": "stdout"
        },
        {
          "output_type": "stream",
          "text": [
            "/usr/local/lib/python3.6/dist-packages/librosa/core/time_frequency.py:1006: RuntimeWarning: divide by zero encountered in log10\n",
            "  - 0.5 * np.log10(f_sq + const[3]))\n"
          ],
          "name": "stderr"
        },
        {
          "output_type": "stream",
          "text": [
            "0797 / 1600 | drive/My Drive/AudioTaggerData/FSDKaggle2018.audio_test/81739d68.wav\n"
          ],
          "name": "stdout"
        },
        {
          "output_type": "stream",
          "text": [
            "/usr/local/lib/python3.6/dist-packages/librosa/core/time_frequency.py:1006: RuntimeWarning: divide by zero encountered in log10\n",
            "  - 0.5 * np.log10(f_sq + const[3]))\n"
          ],
          "name": "stderr"
        },
        {
          "output_type": "stream",
          "text": [
            "0798 / 1600 | drive/My Drive/AudioTaggerData/FSDKaggle2018.audio_test/81654370.wav\n"
          ],
          "name": "stdout"
        },
        {
          "output_type": "stream",
          "text": [
            "/usr/local/lib/python3.6/dist-packages/librosa/core/time_frequency.py:1006: RuntimeWarning: divide by zero encountered in log10\n",
            "  - 0.5 * np.log10(f_sq + const[3]))\n"
          ],
          "name": "stderr"
        },
        {
          "output_type": "stream",
          "text": [
            "0799 / 1600 | drive/My Drive/AudioTaggerData/FSDKaggle2018.audio_test/1810cd33.wav\n"
          ],
          "name": "stdout"
        },
        {
          "output_type": "stream",
          "text": [
            "/usr/local/lib/python3.6/dist-packages/librosa/core/time_frequency.py:1006: RuntimeWarning: divide by zero encountered in log10\n",
            "  - 0.5 * np.log10(f_sq + const[3]))\n"
          ],
          "name": "stderr"
        },
        {
          "output_type": "stream",
          "text": [
            "0800 / 1600 | drive/My Drive/AudioTaggerData/FSDKaggle2018.audio_test/bf05bec8.wav\n"
          ],
          "name": "stdout"
        },
        {
          "output_type": "stream",
          "text": [
            "/usr/local/lib/python3.6/dist-packages/librosa/core/time_frequency.py:1006: RuntimeWarning: divide by zero encountered in log10\n",
            "  - 0.5 * np.log10(f_sq + const[3]))\n"
          ],
          "name": "stderr"
        },
        {
          "output_type": "stream",
          "text": [
            "0801 / 1600 | drive/My Drive/AudioTaggerData/FSDKaggle2018.audio_test/2c14ed19.wav\n"
          ],
          "name": "stdout"
        },
        {
          "output_type": "stream",
          "text": [
            "/usr/local/lib/python3.6/dist-packages/librosa/core/time_frequency.py:1006: RuntimeWarning: divide by zero encountered in log10\n",
            "  - 0.5 * np.log10(f_sq + const[3]))\n"
          ],
          "name": "stderr"
        },
        {
          "output_type": "stream",
          "text": [
            "0802 / 1600 | drive/My Drive/AudioTaggerData/FSDKaggle2018.audio_test/71441b4c.wav\n"
          ],
          "name": "stdout"
        },
        {
          "output_type": "stream",
          "text": [
            "/usr/local/lib/python3.6/dist-packages/librosa/core/time_frequency.py:1006: RuntimeWarning: divide by zero encountered in log10\n",
            "  - 0.5 * np.log10(f_sq + const[3]))\n"
          ],
          "name": "stderr"
        },
        {
          "output_type": "stream",
          "text": [
            "0803 / 1600 | drive/My Drive/AudioTaggerData/FSDKaggle2018.audio_test/327bdcaa.wav\n"
          ],
          "name": "stdout"
        },
        {
          "output_type": "stream",
          "text": [
            "/usr/local/lib/python3.6/dist-packages/librosa/core/time_frequency.py:1006: RuntimeWarning: divide by zero encountered in log10\n",
            "  - 0.5 * np.log10(f_sq + const[3]))\n"
          ],
          "name": "stderr"
        },
        {
          "output_type": "stream",
          "text": [
            "0804 / 1600 | drive/My Drive/AudioTaggerData/FSDKaggle2018.audio_test/3c0e6e53.wav\n"
          ],
          "name": "stdout"
        },
        {
          "output_type": "stream",
          "text": [
            "/usr/local/lib/python3.6/dist-packages/librosa/core/time_frequency.py:1006: RuntimeWarning: divide by zero encountered in log10\n",
            "  - 0.5 * np.log10(f_sq + const[3]))\n"
          ],
          "name": "stderr"
        },
        {
          "output_type": "stream",
          "text": [
            "0805 / 1600 | drive/My Drive/AudioTaggerData/FSDKaggle2018.audio_test/230ce5d5.wav\n"
          ],
          "name": "stdout"
        },
        {
          "output_type": "stream",
          "text": [
            "/usr/local/lib/python3.6/dist-packages/librosa/core/time_frequency.py:1006: RuntimeWarning: divide by zero encountered in log10\n",
            "  - 0.5 * np.log10(f_sq + const[3]))\n"
          ],
          "name": "stderr"
        },
        {
          "output_type": "stream",
          "text": [
            "0806 / 1600 | drive/My Drive/AudioTaggerData/FSDKaggle2018.audio_test/b8e5173e.wav\n"
          ],
          "name": "stdout"
        },
        {
          "output_type": "stream",
          "text": [
            "/usr/local/lib/python3.6/dist-packages/librosa/core/time_frequency.py:1006: RuntimeWarning: divide by zero encountered in log10\n",
            "  - 0.5 * np.log10(f_sq + const[3]))\n"
          ],
          "name": "stderr"
        },
        {
          "output_type": "stream",
          "text": [
            "0807 / 1600 | drive/My Drive/AudioTaggerData/FSDKaggle2018.audio_test/45fc6c9b.wav\n"
          ],
          "name": "stdout"
        },
        {
          "output_type": "stream",
          "text": [
            "/usr/local/lib/python3.6/dist-packages/librosa/core/time_frequency.py:1006: RuntimeWarning: divide by zero encountered in log10\n",
            "  - 0.5 * np.log10(f_sq + const[3]))\n"
          ],
          "name": "stderr"
        },
        {
          "output_type": "stream",
          "text": [
            "0808 / 1600 | drive/My Drive/AudioTaggerData/FSDKaggle2018.audio_test/479ab3cf.wav\n"
          ],
          "name": "stdout"
        },
        {
          "output_type": "stream",
          "text": [
            "/usr/local/lib/python3.6/dist-packages/librosa/core/time_frequency.py:1006: RuntimeWarning: divide by zero encountered in log10\n",
            "  - 0.5 * np.log10(f_sq + const[3]))\n"
          ],
          "name": "stderr"
        },
        {
          "output_type": "stream",
          "text": [
            "0809 / 1600 | drive/My Drive/AudioTaggerData/FSDKaggle2018.audio_test/52aaf874.wav\n"
          ],
          "name": "stdout"
        },
        {
          "output_type": "stream",
          "text": [
            "/usr/local/lib/python3.6/dist-packages/librosa/core/time_frequency.py:1006: RuntimeWarning: divide by zero encountered in log10\n",
            "  - 0.5 * np.log10(f_sq + const[3]))\n"
          ],
          "name": "stderr"
        },
        {
          "output_type": "stream",
          "text": [
            "0810 / 1600 | drive/My Drive/AudioTaggerData/FSDKaggle2018.audio_test/d202bb43.wav\n"
          ],
          "name": "stdout"
        },
        {
          "output_type": "stream",
          "text": [
            "/usr/local/lib/python3.6/dist-packages/librosa/core/time_frequency.py:1006: RuntimeWarning: divide by zero encountered in log10\n",
            "  - 0.5 * np.log10(f_sq + const[3]))\n"
          ],
          "name": "stderr"
        },
        {
          "output_type": "stream",
          "text": [
            "0811 / 1600 | drive/My Drive/AudioTaggerData/FSDKaggle2018.audio_test/8b81813e.wav\n"
          ],
          "name": "stdout"
        },
        {
          "output_type": "stream",
          "text": [
            "/usr/local/lib/python3.6/dist-packages/librosa/core/time_frequency.py:1006: RuntimeWarning: divide by zero encountered in log10\n",
            "  - 0.5 * np.log10(f_sq + const[3]))\n"
          ],
          "name": "stderr"
        },
        {
          "output_type": "stream",
          "text": [
            "0812 / 1600 | drive/My Drive/AudioTaggerData/FSDKaggle2018.audio_test/a8c4273f.wav\n"
          ],
          "name": "stdout"
        },
        {
          "output_type": "stream",
          "text": [
            "/usr/local/lib/python3.6/dist-packages/librosa/core/time_frequency.py:1006: RuntimeWarning: divide by zero encountered in log10\n",
            "  - 0.5 * np.log10(f_sq + const[3]))\n"
          ],
          "name": "stderr"
        },
        {
          "output_type": "stream",
          "text": [
            "0813 / 1600 | drive/My Drive/AudioTaggerData/FSDKaggle2018.audio_test/bfb8d9eb.wav\n"
          ],
          "name": "stdout"
        },
        {
          "output_type": "stream",
          "text": [
            "/usr/local/lib/python3.6/dist-packages/librosa/core/time_frequency.py:1006: RuntimeWarning: divide by zero encountered in log10\n",
            "  - 0.5 * np.log10(f_sq + const[3]))\n"
          ],
          "name": "stderr"
        },
        {
          "output_type": "stream",
          "text": [
            "0814 / 1600 | drive/My Drive/AudioTaggerData/FSDKaggle2018.audio_test/4e268ce9.wav\n"
          ],
          "name": "stdout"
        },
        {
          "output_type": "stream",
          "text": [
            "/usr/local/lib/python3.6/dist-packages/librosa/core/time_frequency.py:1006: RuntimeWarning: divide by zero encountered in log10\n",
            "  - 0.5 * np.log10(f_sq + const[3]))\n"
          ],
          "name": "stderr"
        },
        {
          "output_type": "stream",
          "text": [
            "0815 / 1600 | drive/My Drive/AudioTaggerData/FSDKaggle2018.audio_test/775b0759.wav\n"
          ],
          "name": "stdout"
        },
        {
          "output_type": "stream",
          "text": [
            "/usr/local/lib/python3.6/dist-packages/librosa/core/time_frequency.py:1006: RuntimeWarning: divide by zero encountered in log10\n",
            "  - 0.5 * np.log10(f_sq + const[3]))\n"
          ],
          "name": "stderr"
        },
        {
          "output_type": "stream",
          "text": [
            "0816 / 1600 | drive/My Drive/AudioTaggerData/FSDKaggle2018.audio_test/19416771.wav\n"
          ],
          "name": "stdout"
        },
        {
          "output_type": "stream",
          "text": [
            "/usr/local/lib/python3.6/dist-packages/librosa/core/time_frequency.py:1006: RuntimeWarning: divide by zero encountered in log10\n",
            "  - 0.5 * np.log10(f_sq + const[3]))\n"
          ],
          "name": "stderr"
        },
        {
          "output_type": "stream",
          "text": [
            "0817 / 1600 | drive/My Drive/AudioTaggerData/FSDKaggle2018.audio_test/1e16cb1d.wav\n"
          ],
          "name": "stdout"
        },
        {
          "output_type": "stream",
          "text": [
            "/usr/local/lib/python3.6/dist-packages/librosa/core/time_frequency.py:1006: RuntimeWarning: divide by zero encountered in log10\n",
            "  - 0.5 * np.log10(f_sq + const[3]))\n"
          ],
          "name": "stderr"
        },
        {
          "output_type": "stream",
          "text": [
            "0818 / 1600 | drive/My Drive/AudioTaggerData/FSDKaggle2018.audio_test/15bfb7ad.wav\n"
          ],
          "name": "stdout"
        },
        {
          "output_type": "stream",
          "text": [
            "/usr/local/lib/python3.6/dist-packages/librosa/core/time_frequency.py:1006: RuntimeWarning: divide by zero encountered in log10\n",
            "  - 0.5 * np.log10(f_sq + const[3]))\n"
          ],
          "name": "stderr"
        },
        {
          "output_type": "stream",
          "text": [
            "0819 / 1600 | drive/My Drive/AudioTaggerData/FSDKaggle2018.audio_test/92740d41.wav\n"
          ],
          "name": "stdout"
        },
        {
          "output_type": "stream",
          "text": [
            "/usr/local/lib/python3.6/dist-packages/librosa/core/time_frequency.py:1006: RuntimeWarning: divide by zero encountered in log10\n",
            "  - 0.5 * np.log10(f_sq + const[3]))\n"
          ],
          "name": "stderr"
        },
        {
          "output_type": "stream",
          "text": [
            "0820 / 1600 | drive/My Drive/AudioTaggerData/FSDKaggle2018.audio_test/2976b7eb.wav\n"
          ],
          "name": "stdout"
        },
        {
          "output_type": "stream",
          "text": [
            "/usr/local/lib/python3.6/dist-packages/librosa/core/time_frequency.py:1006: RuntimeWarning: divide by zero encountered in log10\n",
            "  - 0.5 * np.log10(f_sq + const[3]))\n"
          ],
          "name": "stderr"
        },
        {
          "output_type": "stream",
          "text": [
            "0821 / 1600 | drive/My Drive/AudioTaggerData/FSDKaggle2018.audio_test/c14b528c.wav\n"
          ],
          "name": "stdout"
        },
        {
          "output_type": "stream",
          "text": [
            "/usr/local/lib/python3.6/dist-packages/librosa/core/time_frequency.py:1006: RuntimeWarning: divide by zero encountered in log10\n",
            "  - 0.5 * np.log10(f_sq + const[3]))\n"
          ],
          "name": "stderr"
        },
        {
          "output_type": "stream",
          "text": [
            "0822 / 1600 | drive/My Drive/AudioTaggerData/FSDKaggle2018.audio_test/d5a90c14.wav\n"
          ],
          "name": "stdout"
        },
        {
          "output_type": "stream",
          "text": [
            "/usr/local/lib/python3.6/dist-packages/librosa/core/time_frequency.py:1006: RuntimeWarning: divide by zero encountered in log10\n",
            "  - 0.5 * np.log10(f_sq + const[3]))\n"
          ],
          "name": "stderr"
        },
        {
          "output_type": "stream",
          "text": [
            "0823 / 1600 | drive/My Drive/AudioTaggerData/FSDKaggle2018.audio_test/92602a1b.wav\n"
          ],
          "name": "stdout"
        },
        {
          "output_type": "stream",
          "text": [
            "/usr/local/lib/python3.6/dist-packages/librosa/core/time_frequency.py:1006: RuntimeWarning: divide by zero encountered in log10\n",
            "  - 0.5 * np.log10(f_sq + const[3]))\n"
          ],
          "name": "stderr"
        },
        {
          "output_type": "stream",
          "text": [
            "0824 / 1600 | drive/My Drive/AudioTaggerData/FSDKaggle2018.audio_test/7b3c2236.wav\n"
          ],
          "name": "stdout"
        },
        {
          "output_type": "stream",
          "text": [
            "/usr/local/lib/python3.6/dist-packages/librosa/core/time_frequency.py:1006: RuntimeWarning: divide by zero encountered in log10\n",
            "  - 0.5 * np.log10(f_sq + const[3]))\n"
          ],
          "name": "stderr"
        },
        {
          "output_type": "stream",
          "text": [
            "0825 / 1600 | drive/My Drive/AudioTaggerData/FSDKaggle2018.audio_test/b3f95242.wav\n"
          ],
          "name": "stdout"
        },
        {
          "output_type": "stream",
          "text": [
            "/usr/local/lib/python3.6/dist-packages/librosa/core/time_frequency.py:1006: RuntimeWarning: divide by zero encountered in log10\n",
            "  - 0.5 * np.log10(f_sq + const[3]))\n"
          ],
          "name": "stderr"
        },
        {
          "output_type": "stream",
          "text": [
            "0826 / 1600 | drive/My Drive/AudioTaggerData/FSDKaggle2018.audio_test/0b32ee85.wav\n"
          ],
          "name": "stdout"
        },
        {
          "output_type": "stream",
          "text": [
            "/usr/local/lib/python3.6/dist-packages/librosa/core/time_frequency.py:1006: RuntimeWarning: divide by zero encountered in log10\n",
            "  - 0.5 * np.log10(f_sq + const[3]))\n"
          ],
          "name": "stderr"
        },
        {
          "output_type": "stream",
          "text": [
            "0827 / 1600 | drive/My Drive/AudioTaggerData/FSDKaggle2018.audio_test/433d59e7.wav\n"
          ],
          "name": "stdout"
        },
        {
          "output_type": "stream",
          "text": [
            "/usr/local/lib/python3.6/dist-packages/librosa/core/time_frequency.py:1006: RuntimeWarning: divide by zero encountered in log10\n",
            "  - 0.5 * np.log10(f_sq + const[3]))\n"
          ],
          "name": "stderr"
        },
        {
          "output_type": "stream",
          "text": [
            "0828 / 1600 | drive/My Drive/AudioTaggerData/FSDKaggle2018.audio_test/6374810b.wav\n"
          ],
          "name": "stdout"
        },
        {
          "output_type": "stream",
          "text": [
            "/usr/local/lib/python3.6/dist-packages/librosa/core/time_frequency.py:1006: RuntimeWarning: divide by zero encountered in log10\n",
            "  - 0.5 * np.log10(f_sq + const[3]))\n"
          ],
          "name": "stderr"
        },
        {
          "output_type": "stream",
          "text": [
            "0829 / 1600 | drive/My Drive/AudioTaggerData/FSDKaggle2018.audio_test/7e444cea.wav\n"
          ],
          "name": "stdout"
        },
        {
          "output_type": "stream",
          "text": [
            "/usr/local/lib/python3.6/dist-packages/librosa/core/time_frequency.py:1006: RuntimeWarning: divide by zero encountered in log10\n",
            "  - 0.5 * np.log10(f_sq + const[3]))\n"
          ],
          "name": "stderr"
        },
        {
          "output_type": "stream",
          "text": [
            "0830 / 1600 | drive/My Drive/AudioTaggerData/FSDKaggle2018.audio_test/1b12b1e4.wav\n"
          ],
          "name": "stdout"
        },
        {
          "output_type": "stream",
          "text": [
            "/usr/local/lib/python3.6/dist-packages/librosa/core/time_frequency.py:1006: RuntimeWarning: divide by zero encountered in log10\n",
            "  - 0.5 * np.log10(f_sq + const[3]))\n"
          ],
          "name": "stderr"
        },
        {
          "output_type": "stream",
          "text": [
            "0831 / 1600 | drive/My Drive/AudioTaggerData/FSDKaggle2018.audio_test/b4719dc1.wav\n"
          ],
          "name": "stdout"
        },
        {
          "output_type": "stream",
          "text": [
            "/usr/local/lib/python3.6/dist-packages/librosa/core/time_frequency.py:1006: RuntimeWarning: divide by zero encountered in log10\n",
            "  - 0.5 * np.log10(f_sq + const[3]))\n"
          ],
          "name": "stderr"
        },
        {
          "output_type": "stream",
          "text": [
            "0832 / 1600 | drive/My Drive/AudioTaggerData/FSDKaggle2018.audio_test/76bbb226.wav\n"
          ],
          "name": "stdout"
        },
        {
          "output_type": "stream",
          "text": [
            "/usr/local/lib/python3.6/dist-packages/librosa/core/time_frequency.py:1006: RuntimeWarning: divide by zero encountered in log10\n",
            "  - 0.5 * np.log10(f_sq + const[3]))\n"
          ],
          "name": "stderr"
        },
        {
          "output_type": "stream",
          "text": [
            "0833 / 1600 | drive/My Drive/AudioTaggerData/FSDKaggle2018.audio_test/98b3bf67.wav\n"
          ],
          "name": "stdout"
        },
        {
          "output_type": "stream",
          "text": [
            "/usr/local/lib/python3.6/dist-packages/librosa/core/time_frequency.py:1006: RuntimeWarning: divide by zero encountered in log10\n",
            "  - 0.5 * np.log10(f_sq + const[3]))\n"
          ],
          "name": "stderr"
        },
        {
          "output_type": "stream",
          "text": [
            "0834 / 1600 | drive/My Drive/AudioTaggerData/FSDKaggle2018.audio_test/97e724da.wav\n"
          ],
          "name": "stdout"
        },
        {
          "output_type": "stream",
          "text": [
            "/usr/local/lib/python3.6/dist-packages/librosa/core/time_frequency.py:1006: RuntimeWarning: divide by zero encountered in log10\n",
            "  - 0.5 * np.log10(f_sq + const[3]))\n"
          ],
          "name": "stderr"
        },
        {
          "output_type": "stream",
          "text": [
            "0835 / 1600 | drive/My Drive/AudioTaggerData/FSDKaggle2018.audio_test/840e825d.wav\n"
          ],
          "name": "stdout"
        },
        {
          "output_type": "stream",
          "text": [
            "/usr/local/lib/python3.6/dist-packages/librosa/core/time_frequency.py:1006: RuntimeWarning: divide by zero encountered in log10\n",
            "  - 0.5 * np.log10(f_sq + const[3]))\n"
          ],
          "name": "stderr"
        },
        {
          "output_type": "stream",
          "text": [
            "0836 / 1600 | drive/My Drive/AudioTaggerData/FSDKaggle2018.audio_test/df0ea972.wav\n"
          ],
          "name": "stdout"
        },
        {
          "output_type": "stream",
          "text": [
            "/usr/local/lib/python3.6/dist-packages/librosa/core/time_frequency.py:1006: RuntimeWarning: divide by zero encountered in log10\n",
            "  - 0.5 * np.log10(f_sq + const[3]))\n"
          ],
          "name": "stderr"
        },
        {
          "output_type": "stream",
          "text": [
            "0837 / 1600 | drive/My Drive/AudioTaggerData/FSDKaggle2018.audio_test/6f99603c.wav\n"
          ],
          "name": "stdout"
        },
        {
          "output_type": "stream",
          "text": [
            "/usr/local/lib/python3.6/dist-packages/librosa/core/time_frequency.py:1006: RuntimeWarning: divide by zero encountered in log10\n",
            "  - 0.5 * np.log10(f_sq + const[3]))\n"
          ],
          "name": "stderr"
        },
        {
          "output_type": "stream",
          "text": [
            "0838 / 1600 | drive/My Drive/AudioTaggerData/FSDKaggle2018.audio_test/09553ca1.wav\n"
          ],
          "name": "stdout"
        },
        {
          "output_type": "stream",
          "text": [
            "/usr/local/lib/python3.6/dist-packages/librosa/core/time_frequency.py:1006: RuntimeWarning: divide by zero encountered in log10\n",
            "  - 0.5 * np.log10(f_sq + const[3]))\n"
          ],
          "name": "stderr"
        },
        {
          "output_type": "stream",
          "text": [
            "0839 / 1600 | drive/My Drive/AudioTaggerData/FSDKaggle2018.audio_test/03319789.wav\n"
          ],
          "name": "stdout"
        },
        {
          "output_type": "stream",
          "text": [
            "/usr/local/lib/python3.6/dist-packages/librosa/core/time_frequency.py:1006: RuntimeWarning: divide by zero encountered in log10\n",
            "  - 0.5 * np.log10(f_sq + const[3]))\n"
          ],
          "name": "stderr"
        },
        {
          "output_type": "stream",
          "text": [
            "0840 / 1600 | drive/My Drive/AudioTaggerData/FSDKaggle2018.audio_test/d91a7905.wav\n"
          ],
          "name": "stdout"
        },
        {
          "output_type": "stream",
          "text": [
            "/usr/local/lib/python3.6/dist-packages/librosa/core/time_frequency.py:1006: RuntimeWarning: divide by zero encountered in log10\n",
            "  - 0.5 * np.log10(f_sq + const[3]))\n"
          ],
          "name": "stderr"
        },
        {
          "output_type": "stream",
          "text": [
            "0841 / 1600 | drive/My Drive/AudioTaggerData/FSDKaggle2018.audio_test/25988d89.wav\n"
          ],
          "name": "stdout"
        },
        {
          "output_type": "stream",
          "text": [
            "/usr/local/lib/python3.6/dist-packages/librosa/core/time_frequency.py:1006: RuntimeWarning: divide by zero encountered in log10\n",
            "  - 0.5 * np.log10(f_sq + const[3]))\n"
          ],
          "name": "stderr"
        },
        {
          "output_type": "stream",
          "text": [
            "0842 / 1600 | drive/My Drive/AudioTaggerData/FSDKaggle2018.audio_test/96eb705a.wav\n"
          ],
          "name": "stdout"
        },
        {
          "output_type": "stream",
          "text": [
            "/usr/local/lib/python3.6/dist-packages/librosa/core/time_frequency.py:1006: RuntimeWarning: divide by zero encountered in log10\n",
            "  - 0.5 * np.log10(f_sq + const[3]))\n"
          ],
          "name": "stderr"
        },
        {
          "output_type": "stream",
          "text": [
            "0843 / 1600 | drive/My Drive/AudioTaggerData/FSDKaggle2018.audio_test/288c4290.wav\n"
          ],
          "name": "stdout"
        },
        {
          "output_type": "stream",
          "text": [
            "/usr/local/lib/python3.6/dist-packages/librosa/core/time_frequency.py:1006: RuntimeWarning: divide by zero encountered in log10\n",
            "  - 0.5 * np.log10(f_sq + const[3]))\n"
          ],
          "name": "stderr"
        },
        {
          "output_type": "stream",
          "text": [
            "0844 / 1600 | drive/My Drive/AudioTaggerData/FSDKaggle2018.audio_test/86305008.wav\n"
          ],
          "name": "stdout"
        },
        {
          "output_type": "stream",
          "text": [
            "/usr/local/lib/python3.6/dist-packages/librosa/core/time_frequency.py:1006: RuntimeWarning: divide by zero encountered in log10\n",
            "  - 0.5 * np.log10(f_sq + const[3]))\n"
          ],
          "name": "stderr"
        },
        {
          "output_type": "stream",
          "text": [
            "0845 / 1600 | drive/My Drive/AudioTaggerData/FSDKaggle2018.audio_test/536c4991.wav\n"
          ],
          "name": "stdout"
        },
        {
          "output_type": "stream",
          "text": [
            "/usr/local/lib/python3.6/dist-packages/librosa/core/time_frequency.py:1006: RuntimeWarning: divide by zero encountered in log10\n",
            "  - 0.5 * np.log10(f_sq + const[3]))\n"
          ],
          "name": "stderr"
        },
        {
          "output_type": "stream",
          "text": [
            "0846 / 1600 | drive/My Drive/AudioTaggerData/FSDKaggle2018.audio_test/9d2d9c56.wav\n"
          ],
          "name": "stdout"
        },
        {
          "output_type": "stream",
          "text": [
            "/usr/local/lib/python3.6/dist-packages/librosa/core/time_frequency.py:1006: RuntimeWarning: divide by zero encountered in log10\n",
            "  - 0.5 * np.log10(f_sq + const[3]))\n"
          ],
          "name": "stderr"
        },
        {
          "output_type": "stream",
          "text": [
            "0847 / 1600 | drive/My Drive/AudioTaggerData/FSDKaggle2018.audio_test/938e7cbe.wav\n"
          ],
          "name": "stdout"
        },
        {
          "output_type": "stream",
          "text": [
            "/usr/local/lib/python3.6/dist-packages/librosa/core/time_frequency.py:1006: RuntimeWarning: divide by zero encountered in log10\n",
            "  - 0.5 * np.log10(f_sq + const[3]))\n"
          ],
          "name": "stderr"
        },
        {
          "output_type": "stream",
          "text": [
            "0848 / 1600 | drive/My Drive/AudioTaggerData/FSDKaggle2018.audio_test/a2652019.wav\n"
          ],
          "name": "stdout"
        },
        {
          "output_type": "stream",
          "text": [
            "/usr/local/lib/python3.6/dist-packages/librosa/core/time_frequency.py:1006: RuntimeWarning: divide by zero encountered in log10\n",
            "  - 0.5 * np.log10(f_sq + const[3]))\n"
          ],
          "name": "stderr"
        },
        {
          "output_type": "stream",
          "text": [
            "0849 / 1600 | drive/My Drive/AudioTaggerData/FSDKaggle2018.audio_test/d2ad2076.wav\n"
          ],
          "name": "stdout"
        },
        {
          "output_type": "stream",
          "text": [
            "/usr/local/lib/python3.6/dist-packages/librosa/core/time_frequency.py:1006: RuntimeWarning: divide by zero encountered in log10\n",
            "  - 0.5 * np.log10(f_sq + const[3]))\n"
          ],
          "name": "stderr"
        },
        {
          "output_type": "stream",
          "text": [
            "0850 / 1600 | drive/My Drive/AudioTaggerData/FSDKaggle2018.audio_test/4c4c7af0.wav\n"
          ],
          "name": "stdout"
        },
        {
          "output_type": "stream",
          "text": [
            "/usr/local/lib/python3.6/dist-packages/librosa/core/time_frequency.py:1006: RuntimeWarning: divide by zero encountered in log10\n",
            "  - 0.5 * np.log10(f_sq + const[3]))\n"
          ],
          "name": "stderr"
        },
        {
          "output_type": "stream",
          "text": [
            "0851 / 1600 | drive/My Drive/AudioTaggerData/FSDKaggle2018.audio_test/715905f4.wav\n"
          ],
          "name": "stdout"
        },
        {
          "output_type": "stream",
          "text": [
            "/usr/local/lib/python3.6/dist-packages/librosa/core/time_frequency.py:1006: RuntimeWarning: divide by zero encountered in log10\n",
            "  - 0.5 * np.log10(f_sq + const[3]))\n"
          ],
          "name": "stderr"
        },
        {
          "output_type": "stream",
          "text": [
            "0852 / 1600 | drive/My Drive/AudioTaggerData/FSDKaggle2018.audio_test/17cb084e.wav\n"
          ],
          "name": "stdout"
        },
        {
          "output_type": "stream",
          "text": [
            "/usr/local/lib/python3.6/dist-packages/librosa/core/time_frequency.py:1006: RuntimeWarning: divide by zero encountered in log10\n",
            "  - 0.5 * np.log10(f_sq + const[3]))\n"
          ],
          "name": "stderr"
        },
        {
          "output_type": "stream",
          "text": [
            "0853 / 1600 | drive/My Drive/AudioTaggerData/FSDKaggle2018.audio_test/8128fdb4.wav\n"
          ],
          "name": "stdout"
        },
        {
          "output_type": "stream",
          "text": [
            "/usr/local/lib/python3.6/dist-packages/librosa/core/time_frequency.py:1006: RuntimeWarning: divide by zero encountered in log10\n",
            "  - 0.5 * np.log10(f_sq + const[3]))\n"
          ],
          "name": "stderr"
        },
        {
          "output_type": "stream",
          "text": [
            "0854 / 1600 | drive/My Drive/AudioTaggerData/FSDKaggle2018.audio_test/38a944f7.wav\n"
          ],
          "name": "stdout"
        },
        {
          "output_type": "stream",
          "text": [
            "/usr/local/lib/python3.6/dist-packages/librosa/core/time_frequency.py:1006: RuntimeWarning: divide by zero encountered in log10\n",
            "  - 0.5 * np.log10(f_sq + const[3]))\n"
          ],
          "name": "stderr"
        },
        {
          "output_type": "stream",
          "text": [
            "0855 / 1600 | drive/My Drive/AudioTaggerData/FSDKaggle2018.audio_test/a911ed29.wav\n"
          ],
          "name": "stdout"
        },
        {
          "output_type": "stream",
          "text": [
            "/usr/local/lib/python3.6/dist-packages/librosa/core/time_frequency.py:1006: RuntimeWarning: divide by zero encountered in log10\n",
            "  - 0.5 * np.log10(f_sq + const[3]))\n"
          ],
          "name": "stderr"
        },
        {
          "output_type": "stream",
          "text": [
            "0856 / 1600 | drive/My Drive/AudioTaggerData/FSDKaggle2018.audio_test/c20aac7f.wav\n"
          ],
          "name": "stdout"
        },
        {
          "output_type": "stream",
          "text": [
            "/usr/local/lib/python3.6/dist-packages/librosa/core/time_frequency.py:1006: RuntimeWarning: divide by zero encountered in log10\n",
            "  - 0.5 * np.log10(f_sq + const[3]))\n"
          ],
          "name": "stderr"
        },
        {
          "output_type": "stream",
          "text": [
            "0857 / 1600 | drive/My Drive/AudioTaggerData/FSDKaggle2018.audio_test/d1ee15b3.wav\n"
          ],
          "name": "stdout"
        },
        {
          "output_type": "stream",
          "text": [
            "/usr/local/lib/python3.6/dist-packages/librosa/core/time_frequency.py:1006: RuntimeWarning: divide by zero encountered in log10\n",
            "  - 0.5 * np.log10(f_sq + const[3]))\n"
          ],
          "name": "stderr"
        },
        {
          "output_type": "stream",
          "text": [
            "0858 / 1600 | drive/My Drive/AudioTaggerData/FSDKaggle2018.audio_test/6c439697.wav\n"
          ],
          "name": "stdout"
        },
        {
          "output_type": "stream",
          "text": [
            "/usr/local/lib/python3.6/dist-packages/librosa/core/time_frequency.py:1006: RuntimeWarning: divide by zero encountered in log10\n",
            "  - 0.5 * np.log10(f_sq + const[3]))\n"
          ],
          "name": "stderr"
        },
        {
          "output_type": "stream",
          "text": [
            "0859 / 1600 | drive/My Drive/AudioTaggerData/FSDKaggle2018.audio_test/c7cc4642.wav\n"
          ],
          "name": "stdout"
        },
        {
          "output_type": "stream",
          "text": [
            "/usr/local/lib/python3.6/dist-packages/librosa/core/time_frequency.py:1006: RuntimeWarning: divide by zero encountered in log10\n",
            "  - 0.5 * np.log10(f_sq + const[3]))\n"
          ],
          "name": "stderr"
        },
        {
          "output_type": "stream",
          "text": [
            "0860 / 1600 | drive/My Drive/AudioTaggerData/FSDKaggle2018.audio_test/61f9e879.wav\n"
          ],
          "name": "stdout"
        },
        {
          "output_type": "stream",
          "text": [
            "/usr/local/lib/python3.6/dist-packages/librosa/core/time_frequency.py:1006: RuntimeWarning: divide by zero encountered in log10\n",
            "  - 0.5 * np.log10(f_sq + const[3]))\n"
          ],
          "name": "stderr"
        },
        {
          "output_type": "stream",
          "text": [
            "0861 / 1600 | drive/My Drive/AudioTaggerData/FSDKaggle2018.audio_test/c74581f9.wav\n"
          ],
          "name": "stdout"
        },
        {
          "output_type": "stream",
          "text": [
            "/usr/local/lib/python3.6/dist-packages/librosa/core/time_frequency.py:1006: RuntimeWarning: divide by zero encountered in log10\n",
            "  - 0.5 * np.log10(f_sq + const[3]))\n"
          ],
          "name": "stderr"
        },
        {
          "output_type": "stream",
          "text": [
            "0862 / 1600 | drive/My Drive/AudioTaggerData/FSDKaggle2018.audio_test/2d0c1839.wav\n"
          ],
          "name": "stdout"
        },
        {
          "output_type": "stream",
          "text": [
            "/usr/local/lib/python3.6/dist-packages/librosa/core/time_frequency.py:1006: RuntimeWarning: divide by zero encountered in log10\n",
            "  - 0.5 * np.log10(f_sq + const[3]))\n"
          ],
          "name": "stderr"
        },
        {
          "output_type": "stream",
          "text": [
            "0863 / 1600 | drive/My Drive/AudioTaggerData/FSDKaggle2018.audio_test/91b8d1f5.wav\n"
          ],
          "name": "stdout"
        },
        {
          "output_type": "stream",
          "text": [
            "/usr/local/lib/python3.6/dist-packages/librosa/core/time_frequency.py:1006: RuntimeWarning: divide by zero encountered in log10\n",
            "  - 0.5 * np.log10(f_sq + const[3]))\n"
          ],
          "name": "stderr"
        },
        {
          "output_type": "stream",
          "text": [
            "0864 / 1600 | drive/My Drive/AudioTaggerData/FSDKaggle2018.audio_test/bf8375fc.wav\n"
          ],
          "name": "stdout"
        },
        {
          "output_type": "stream",
          "text": [
            "/usr/local/lib/python3.6/dist-packages/librosa/core/time_frequency.py:1006: RuntimeWarning: divide by zero encountered in log10\n",
            "  - 0.5 * np.log10(f_sq + const[3]))\n"
          ],
          "name": "stderr"
        },
        {
          "output_type": "stream",
          "text": [
            "0865 / 1600 | drive/My Drive/AudioTaggerData/FSDKaggle2018.audio_test/cf655c72.wav\n"
          ],
          "name": "stdout"
        },
        {
          "output_type": "stream",
          "text": [
            "/usr/local/lib/python3.6/dist-packages/librosa/core/time_frequency.py:1006: RuntimeWarning: divide by zero encountered in log10\n",
            "  - 0.5 * np.log10(f_sq + const[3]))\n"
          ],
          "name": "stderr"
        },
        {
          "output_type": "stream",
          "text": [
            "0866 / 1600 | drive/My Drive/AudioTaggerData/FSDKaggle2018.audio_test/17fc511c.wav\n"
          ],
          "name": "stdout"
        },
        {
          "output_type": "stream",
          "text": [
            "/usr/local/lib/python3.6/dist-packages/librosa/core/time_frequency.py:1006: RuntimeWarning: divide by zero encountered in log10\n",
            "  - 0.5 * np.log10(f_sq + const[3]))\n"
          ],
          "name": "stderr"
        },
        {
          "output_type": "stream",
          "text": [
            "0867 / 1600 | drive/My Drive/AudioTaggerData/FSDKaggle2018.audio_test/778670a2.wav\n"
          ],
          "name": "stdout"
        },
        {
          "output_type": "stream",
          "text": [
            "/usr/local/lib/python3.6/dist-packages/librosa/core/time_frequency.py:1006: RuntimeWarning: divide by zero encountered in log10\n",
            "  - 0.5 * np.log10(f_sq + const[3]))\n"
          ],
          "name": "stderr"
        },
        {
          "output_type": "stream",
          "text": [
            "0868 / 1600 | drive/My Drive/AudioTaggerData/FSDKaggle2018.audio_test/786eb056.wav\n"
          ],
          "name": "stdout"
        },
        {
          "output_type": "stream",
          "text": [
            "/usr/local/lib/python3.6/dist-packages/librosa/core/time_frequency.py:1006: RuntimeWarning: divide by zero encountered in log10\n",
            "  - 0.5 * np.log10(f_sq + const[3]))\n"
          ],
          "name": "stderr"
        },
        {
          "output_type": "stream",
          "text": [
            "0869 / 1600 | drive/My Drive/AudioTaggerData/FSDKaggle2018.audio_test/a71b3c94.wav\n"
          ],
          "name": "stdout"
        },
        {
          "output_type": "stream",
          "text": [
            "/usr/local/lib/python3.6/dist-packages/librosa/core/time_frequency.py:1006: RuntimeWarning: divide by zero encountered in log10\n",
            "  - 0.5 * np.log10(f_sq + const[3]))\n"
          ],
          "name": "stderr"
        },
        {
          "output_type": "stream",
          "text": [
            "0870 / 1600 | drive/My Drive/AudioTaggerData/FSDKaggle2018.audio_test/09c9b50b.wav\n"
          ],
          "name": "stdout"
        },
        {
          "output_type": "stream",
          "text": [
            "/usr/local/lib/python3.6/dist-packages/librosa/core/time_frequency.py:1006: RuntimeWarning: divide by zero encountered in log10\n",
            "  - 0.5 * np.log10(f_sq + const[3]))\n"
          ],
          "name": "stderr"
        },
        {
          "output_type": "stream",
          "text": [
            "0871 / 1600 | drive/My Drive/AudioTaggerData/FSDKaggle2018.audio_test/059d5420.wav\n"
          ],
          "name": "stdout"
        },
        {
          "output_type": "stream",
          "text": [
            "/usr/local/lib/python3.6/dist-packages/librosa/core/time_frequency.py:1006: RuntimeWarning: divide by zero encountered in log10\n",
            "  - 0.5 * np.log10(f_sq + const[3]))\n"
          ],
          "name": "stderr"
        },
        {
          "output_type": "stream",
          "text": [
            "0872 / 1600 | drive/My Drive/AudioTaggerData/FSDKaggle2018.audio_test/45acd2f0.wav\n"
          ],
          "name": "stdout"
        },
        {
          "output_type": "stream",
          "text": [
            "/usr/local/lib/python3.6/dist-packages/librosa/core/time_frequency.py:1006: RuntimeWarning: divide by zero encountered in log10\n",
            "  - 0.5 * np.log10(f_sq + const[3]))\n"
          ],
          "name": "stderr"
        },
        {
          "output_type": "stream",
          "text": [
            "0873 / 1600 | drive/My Drive/AudioTaggerData/FSDKaggle2018.audio_test/90b5bdfa.wav\n"
          ],
          "name": "stdout"
        },
        {
          "output_type": "stream",
          "text": [
            "/usr/local/lib/python3.6/dist-packages/librosa/core/time_frequency.py:1006: RuntimeWarning: divide by zero encountered in log10\n",
            "  - 0.5 * np.log10(f_sq + const[3]))\n"
          ],
          "name": "stderr"
        },
        {
          "output_type": "stream",
          "text": [
            "0874 / 1600 | drive/My Drive/AudioTaggerData/FSDKaggle2018.audio_test/0d6e2584.wav\n"
          ],
          "name": "stdout"
        },
        {
          "output_type": "stream",
          "text": [
            "/usr/local/lib/python3.6/dist-packages/librosa/core/time_frequency.py:1006: RuntimeWarning: divide by zero encountered in log10\n",
            "  - 0.5 * np.log10(f_sq + const[3]))\n"
          ],
          "name": "stderr"
        },
        {
          "output_type": "stream",
          "text": [
            "0875 / 1600 | drive/My Drive/AudioTaggerData/FSDKaggle2018.audio_test/37d02372.wav\n"
          ],
          "name": "stdout"
        },
        {
          "output_type": "stream",
          "text": [
            "/usr/local/lib/python3.6/dist-packages/librosa/core/time_frequency.py:1006: RuntimeWarning: divide by zero encountered in log10\n",
            "  - 0.5 * np.log10(f_sq + const[3]))\n"
          ],
          "name": "stderr"
        },
        {
          "output_type": "stream",
          "text": [
            "0876 / 1600 | drive/My Drive/AudioTaggerData/FSDKaggle2018.audio_test/70b64b2b.wav\n"
          ],
          "name": "stdout"
        },
        {
          "output_type": "stream",
          "text": [
            "/usr/local/lib/python3.6/dist-packages/librosa/core/time_frequency.py:1006: RuntimeWarning: divide by zero encountered in log10\n",
            "  - 0.5 * np.log10(f_sq + const[3]))\n"
          ],
          "name": "stderr"
        },
        {
          "output_type": "stream",
          "text": [
            "0877 / 1600 | drive/My Drive/AudioTaggerData/FSDKaggle2018.audio_test/762fec32.wav\n"
          ],
          "name": "stdout"
        },
        {
          "output_type": "stream",
          "text": [
            "/usr/local/lib/python3.6/dist-packages/librosa/core/time_frequency.py:1006: RuntimeWarning: divide by zero encountered in log10\n",
            "  - 0.5 * np.log10(f_sq + const[3]))\n"
          ],
          "name": "stderr"
        },
        {
          "output_type": "stream",
          "text": [
            "0878 / 1600 | drive/My Drive/AudioTaggerData/FSDKaggle2018.audio_test/a0cfc875.wav\n"
          ],
          "name": "stdout"
        },
        {
          "output_type": "stream",
          "text": [
            "/usr/local/lib/python3.6/dist-packages/librosa/core/time_frequency.py:1006: RuntimeWarning: divide by zero encountered in log10\n",
            "  - 0.5 * np.log10(f_sq + const[3]))\n"
          ],
          "name": "stderr"
        },
        {
          "output_type": "stream",
          "text": [
            "0879 / 1600 | drive/My Drive/AudioTaggerData/FSDKaggle2018.audio_test/6a720a79.wav\n"
          ],
          "name": "stdout"
        },
        {
          "output_type": "stream",
          "text": [
            "/usr/local/lib/python3.6/dist-packages/librosa/core/time_frequency.py:1006: RuntimeWarning: divide by zero encountered in log10\n",
            "  - 0.5 * np.log10(f_sq + const[3]))\n"
          ],
          "name": "stderr"
        },
        {
          "output_type": "stream",
          "text": [
            "0880 / 1600 | drive/My Drive/AudioTaggerData/FSDKaggle2018.audio_test/09d0535a.wav\n"
          ],
          "name": "stdout"
        },
        {
          "output_type": "stream",
          "text": [
            "/usr/local/lib/python3.6/dist-packages/librosa/core/time_frequency.py:1006: RuntimeWarning: divide by zero encountered in log10\n",
            "  - 0.5 * np.log10(f_sq + const[3]))\n"
          ],
          "name": "stderr"
        },
        {
          "output_type": "stream",
          "text": [
            "0881 / 1600 | drive/My Drive/AudioTaggerData/FSDKaggle2018.audio_test/e94a8dd2.wav\n"
          ],
          "name": "stdout"
        },
        {
          "output_type": "stream",
          "text": [
            "/usr/local/lib/python3.6/dist-packages/librosa/core/time_frequency.py:1006: RuntimeWarning: divide by zero encountered in log10\n",
            "  - 0.5 * np.log10(f_sq + const[3]))\n"
          ],
          "name": "stderr"
        },
        {
          "output_type": "stream",
          "text": [
            "0882 / 1600 | drive/My Drive/AudioTaggerData/FSDKaggle2018.audio_test/b6f5b9d4.wav\n"
          ],
          "name": "stdout"
        },
        {
          "output_type": "stream",
          "text": [
            "/usr/local/lib/python3.6/dist-packages/librosa/core/time_frequency.py:1006: RuntimeWarning: divide by zero encountered in log10\n",
            "  - 0.5 * np.log10(f_sq + const[3]))\n"
          ],
          "name": "stderr"
        },
        {
          "output_type": "stream",
          "text": [
            "0883 / 1600 | drive/My Drive/AudioTaggerData/FSDKaggle2018.audio_test/1ace26c4.wav\n"
          ],
          "name": "stdout"
        },
        {
          "output_type": "stream",
          "text": [
            "/usr/local/lib/python3.6/dist-packages/librosa/core/time_frequency.py:1006: RuntimeWarning: divide by zero encountered in log10\n",
            "  - 0.5 * np.log10(f_sq + const[3]))\n"
          ],
          "name": "stderr"
        },
        {
          "output_type": "stream",
          "text": [
            "0884 / 1600 | drive/My Drive/AudioTaggerData/FSDKaggle2018.audio_test/6f6177e3.wav\n"
          ],
          "name": "stdout"
        },
        {
          "output_type": "stream",
          "text": [
            "/usr/local/lib/python3.6/dist-packages/librosa/core/time_frequency.py:1006: RuntimeWarning: divide by zero encountered in log10\n",
            "  - 0.5 * np.log10(f_sq + const[3]))\n"
          ],
          "name": "stderr"
        },
        {
          "output_type": "stream",
          "text": [
            "0885 / 1600 | drive/My Drive/AudioTaggerData/FSDKaggle2018.audio_test/f87ab566.wav\n"
          ],
          "name": "stdout"
        },
        {
          "output_type": "stream",
          "text": [
            "/usr/local/lib/python3.6/dist-packages/librosa/core/time_frequency.py:1006: RuntimeWarning: divide by zero encountered in log10\n",
            "  - 0.5 * np.log10(f_sq + const[3]))\n"
          ],
          "name": "stderr"
        },
        {
          "output_type": "stream",
          "text": [
            "0886 / 1600 | drive/My Drive/AudioTaggerData/FSDKaggle2018.audio_test/116b77d5.wav\n"
          ],
          "name": "stdout"
        },
        {
          "output_type": "stream",
          "text": [
            "/usr/local/lib/python3.6/dist-packages/librosa/core/time_frequency.py:1006: RuntimeWarning: divide by zero encountered in log10\n",
            "  - 0.5 * np.log10(f_sq + const[3]))\n"
          ],
          "name": "stderr"
        },
        {
          "output_type": "stream",
          "text": [
            "0887 / 1600 | drive/My Drive/AudioTaggerData/FSDKaggle2018.audio_test/cf9fa471.wav\n"
          ],
          "name": "stdout"
        },
        {
          "output_type": "stream",
          "text": [
            "/usr/local/lib/python3.6/dist-packages/librosa/core/time_frequency.py:1006: RuntimeWarning: divide by zero encountered in log10\n",
            "  - 0.5 * np.log10(f_sq + const[3]))\n"
          ],
          "name": "stderr"
        },
        {
          "output_type": "stream",
          "text": [
            "0888 / 1600 | drive/My Drive/AudioTaggerData/FSDKaggle2018.audio_test/49ef9965.wav\n"
          ],
          "name": "stdout"
        },
        {
          "output_type": "stream",
          "text": [
            "/usr/local/lib/python3.6/dist-packages/librosa/core/time_frequency.py:1006: RuntimeWarning: divide by zero encountered in log10\n",
            "  - 0.5 * np.log10(f_sq + const[3]))\n"
          ],
          "name": "stderr"
        },
        {
          "output_type": "stream",
          "text": [
            "0889 / 1600 | drive/My Drive/AudioTaggerData/FSDKaggle2018.audio_test/38ae005d.wav\n"
          ],
          "name": "stdout"
        },
        {
          "output_type": "stream",
          "text": [
            "/usr/local/lib/python3.6/dist-packages/librosa/core/time_frequency.py:1006: RuntimeWarning: divide by zero encountered in log10\n",
            "  - 0.5 * np.log10(f_sq + const[3]))\n"
          ],
          "name": "stderr"
        },
        {
          "output_type": "stream",
          "text": [
            "0890 / 1600 | drive/My Drive/AudioTaggerData/FSDKaggle2018.audio_test/f54da152.wav\n"
          ],
          "name": "stdout"
        },
        {
          "output_type": "stream",
          "text": [
            "/usr/local/lib/python3.6/dist-packages/librosa/core/time_frequency.py:1006: RuntimeWarning: divide by zero encountered in log10\n",
            "  - 0.5 * np.log10(f_sq + const[3]))\n"
          ],
          "name": "stderr"
        },
        {
          "output_type": "stream",
          "text": [
            "0891 / 1600 | drive/My Drive/AudioTaggerData/FSDKaggle2018.audio_test/b416d2a7.wav\n"
          ],
          "name": "stdout"
        },
        {
          "output_type": "stream",
          "text": [
            "/usr/local/lib/python3.6/dist-packages/librosa/core/time_frequency.py:1006: RuntimeWarning: divide by zero encountered in log10\n",
            "  - 0.5 * np.log10(f_sq + const[3]))\n"
          ],
          "name": "stderr"
        },
        {
          "output_type": "stream",
          "text": [
            "0892 / 1600 | drive/My Drive/AudioTaggerData/FSDKaggle2018.audio_test/66660ca1.wav\n"
          ],
          "name": "stdout"
        },
        {
          "output_type": "stream",
          "text": [
            "/usr/local/lib/python3.6/dist-packages/librosa/core/time_frequency.py:1006: RuntimeWarning: divide by zero encountered in log10\n",
            "  - 0.5 * np.log10(f_sq + const[3]))\n"
          ],
          "name": "stderr"
        },
        {
          "output_type": "stream",
          "text": [
            "0893 / 1600 | drive/My Drive/AudioTaggerData/FSDKaggle2018.audio_test/07c8463e.wav\n"
          ],
          "name": "stdout"
        },
        {
          "output_type": "stream",
          "text": [
            "/usr/local/lib/python3.6/dist-packages/librosa/core/time_frequency.py:1006: RuntimeWarning: divide by zero encountered in log10\n",
            "  - 0.5 * np.log10(f_sq + const[3]))\n"
          ],
          "name": "stderr"
        },
        {
          "output_type": "stream",
          "text": [
            "0894 / 1600 | drive/My Drive/AudioTaggerData/FSDKaggle2018.audio_test/9eba82c2.wav\n"
          ],
          "name": "stdout"
        },
        {
          "output_type": "stream",
          "text": [
            "/usr/local/lib/python3.6/dist-packages/librosa/core/time_frequency.py:1006: RuntimeWarning: divide by zero encountered in log10\n",
            "  - 0.5 * np.log10(f_sq + const[3]))\n"
          ],
          "name": "stderr"
        },
        {
          "output_type": "stream",
          "text": [
            "0895 / 1600 | drive/My Drive/AudioTaggerData/FSDKaggle2018.audio_test/a2d6d734.wav\n"
          ],
          "name": "stdout"
        },
        {
          "output_type": "stream",
          "text": [
            "/usr/local/lib/python3.6/dist-packages/librosa/core/time_frequency.py:1006: RuntimeWarning: divide by zero encountered in log10\n",
            "  - 0.5 * np.log10(f_sq + const[3]))\n"
          ],
          "name": "stderr"
        },
        {
          "output_type": "stream",
          "text": [
            "0896 / 1600 | drive/My Drive/AudioTaggerData/FSDKaggle2018.audio_test/693994bb.wav\n"
          ],
          "name": "stdout"
        },
        {
          "output_type": "stream",
          "text": [
            "/usr/local/lib/python3.6/dist-packages/librosa/core/time_frequency.py:1006: RuntimeWarning: divide by zero encountered in log10\n",
            "  - 0.5 * np.log10(f_sq + const[3]))\n"
          ],
          "name": "stderr"
        },
        {
          "output_type": "stream",
          "text": [
            "0897 / 1600 | drive/My Drive/AudioTaggerData/FSDKaggle2018.audio_test/945d6e10.wav\n"
          ],
          "name": "stdout"
        },
        {
          "output_type": "stream",
          "text": [
            "/usr/local/lib/python3.6/dist-packages/librosa/core/time_frequency.py:1006: RuntimeWarning: divide by zero encountered in log10\n",
            "  - 0.5 * np.log10(f_sq + const[3]))\n"
          ],
          "name": "stderr"
        },
        {
          "output_type": "stream",
          "text": [
            "0898 / 1600 | drive/My Drive/AudioTaggerData/FSDKaggle2018.audio_test/47f7b3fa.wav\n"
          ],
          "name": "stdout"
        },
        {
          "output_type": "stream",
          "text": [
            "/usr/local/lib/python3.6/dist-packages/librosa/core/time_frequency.py:1006: RuntimeWarning: divide by zero encountered in log10\n",
            "  - 0.5 * np.log10(f_sq + const[3]))\n"
          ],
          "name": "stderr"
        },
        {
          "output_type": "stream",
          "text": [
            "0899 / 1600 | drive/My Drive/AudioTaggerData/FSDKaggle2018.audio_test/dc5896a3.wav\n"
          ],
          "name": "stdout"
        },
        {
          "output_type": "stream",
          "text": [
            "/usr/local/lib/python3.6/dist-packages/librosa/core/time_frequency.py:1006: RuntimeWarning: divide by zero encountered in log10\n",
            "  - 0.5 * np.log10(f_sq + const[3]))\n"
          ],
          "name": "stderr"
        },
        {
          "output_type": "stream",
          "text": [
            "0900 / 1600 | drive/My Drive/AudioTaggerData/FSDKaggle2018.audio_test/364d2e90.wav\n"
          ],
          "name": "stdout"
        },
        {
          "output_type": "stream",
          "text": [
            "/usr/local/lib/python3.6/dist-packages/librosa/core/time_frequency.py:1006: RuntimeWarning: divide by zero encountered in log10\n",
            "  - 0.5 * np.log10(f_sq + const[3]))\n"
          ],
          "name": "stderr"
        },
        {
          "output_type": "stream",
          "text": [
            "0901 / 1600 | drive/My Drive/AudioTaggerData/FSDKaggle2018.audio_test/a756054c.wav\n"
          ],
          "name": "stdout"
        },
        {
          "output_type": "stream",
          "text": [
            "/usr/local/lib/python3.6/dist-packages/librosa/core/time_frequency.py:1006: RuntimeWarning: divide by zero encountered in log10\n",
            "  - 0.5 * np.log10(f_sq + const[3]))\n"
          ],
          "name": "stderr"
        },
        {
          "output_type": "stream",
          "text": [
            "0902 / 1600 | drive/My Drive/AudioTaggerData/FSDKaggle2018.audio_test/b3eaac5a.wav\n"
          ],
          "name": "stdout"
        },
        {
          "output_type": "stream",
          "text": [
            "/usr/local/lib/python3.6/dist-packages/librosa/core/time_frequency.py:1006: RuntimeWarning: divide by zero encountered in log10\n",
            "  - 0.5 * np.log10(f_sq + const[3]))\n"
          ],
          "name": "stderr"
        },
        {
          "output_type": "stream",
          "text": [
            "0903 / 1600 | drive/My Drive/AudioTaggerData/FSDKaggle2018.audio_test/163b9ad7.wav\n"
          ],
          "name": "stdout"
        },
        {
          "output_type": "stream",
          "text": [
            "/usr/local/lib/python3.6/dist-packages/librosa/core/time_frequency.py:1006: RuntimeWarning: divide by zero encountered in log10\n",
            "  - 0.5 * np.log10(f_sq + const[3]))\n"
          ],
          "name": "stderr"
        },
        {
          "output_type": "stream",
          "text": [
            "0904 / 1600 | drive/My Drive/AudioTaggerData/FSDKaggle2018.audio_test/f1906c3d.wav\n"
          ],
          "name": "stdout"
        },
        {
          "output_type": "stream",
          "text": [
            "/usr/local/lib/python3.6/dist-packages/librosa/core/time_frequency.py:1006: RuntimeWarning: divide by zero encountered in log10\n",
            "  - 0.5 * np.log10(f_sq + const[3]))\n"
          ],
          "name": "stderr"
        },
        {
          "output_type": "stream",
          "text": [
            "0905 / 1600 | drive/My Drive/AudioTaggerData/FSDKaggle2018.audio_test/6747e1dd.wav\n"
          ],
          "name": "stdout"
        },
        {
          "output_type": "stream",
          "text": [
            "/usr/local/lib/python3.6/dist-packages/librosa/core/time_frequency.py:1006: RuntimeWarning: divide by zero encountered in log10\n",
            "  - 0.5 * np.log10(f_sq + const[3]))\n"
          ],
          "name": "stderr"
        },
        {
          "output_type": "stream",
          "text": [
            "0906 / 1600 | drive/My Drive/AudioTaggerData/FSDKaggle2018.audio_test/9ec4b37a.wav\n"
          ],
          "name": "stdout"
        },
        {
          "output_type": "stream",
          "text": [
            "/usr/local/lib/python3.6/dist-packages/librosa/core/time_frequency.py:1006: RuntimeWarning: divide by zero encountered in log10\n",
            "  - 0.5 * np.log10(f_sq + const[3]))\n"
          ],
          "name": "stderr"
        },
        {
          "output_type": "stream",
          "text": [
            "0907 / 1600 | drive/My Drive/AudioTaggerData/FSDKaggle2018.audio_test/2487cd7b.wav\n"
          ],
          "name": "stdout"
        },
        {
          "output_type": "stream",
          "text": [
            "/usr/local/lib/python3.6/dist-packages/librosa/core/time_frequency.py:1006: RuntimeWarning: divide by zero encountered in log10\n",
            "  - 0.5 * np.log10(f_sq + const[3]))\n"
          ],
          "name": "stderr"
        },
        {
          "output_type": "stream",
          "text": [
            "0908 / 1600 | drive/My Drive/AudioTaggerData/FSDKaggle2018.audio_test/ff8c555d.wav\n"
          ],
          "name": "stdout"
        },
        {
          "output_type": "stream",
          "text": [
            "/usr/local/lib/python3.6/dist-packages/librosa/core/time_frequency.py:1006: RuntimeWarning: divide by zero encountered in log10\n",
            "  - 0.5 * np.log10(f_sq + const[3]))\n"
          ],
          "name": "stderr"
        },
        {
          "output_type": "stream",
          "text": [
            "0909 / 1600 | drive/My Drive/AudioTaggerData/FSDKaggle2018.audio_test/cfc20796.wav\n"
          ],
          "name": "stdout"
        },
        {
          "output_type": "stream",
          "text": [
            "/usr/local/lib/python3.6/dist-packages/librosa/core/time_frequency.py:1006: RuntimeWarning: divide by zero encountered in log10\n",
            "  - 0.5 * np.log10(f_sq + const[3]))\n"
          ],
          "name": "stderr"
        },
        {
          "output_type": "stream",
          "text": [
            "0910 / 1600 | drive/My Drive/AudioTaggerData/FSDKaggle2018.audio_test/dc64686e.wav\n"
          ],
          "name": "stdout"
        },
        {
          "output_type": "stream",
          "text": [
            "/usr/local/lib/python3.6/dist-packages/librosa/core/time_frequency.py:1006: RuntimeWarning: divide by zero encountered in log10\n",
            "  - 0.5 * np.log10(f_sq + const[3]))\n"
          ],
          "name": "stderr"
        },
        {
          "output_type": "stream",
          "text": [
            "0911 / 1600 | drive/My Drive/AudioTaggerData/FSDKaggle2018.audio_test/850f5980.wav\n"
          ],
          "name": "stdout"
        },
        {
          "output_type": "stream",
          "text": [
            "/usr/local/lib/python3.6/dist-packages/librosa/core/time_frequency.py:1006: RuntimeWarning: divide by zero encountered in log10\n",
            "  - 0.5 * np.log10(f_sq + const[3]))\n"
          ],
          "name": "stderr"
        },
        {
          "output_type": "stream",
          "text": [
            "0912 / 1600 | drive/My Drive/AudioTaggerData/FSDKaggle2018.audio_test/30eb5385.wav\n"
          ],
          "name": "stdout"
        },
        {
          "output_type": "stream",
          "text": [
            "/usr/local/lib/python3.6/dist-packages/librosa/core/time_frequency.py:1006: RuntimeWarning: divide by zero encountered in log10\n",
            "  - 0.5 * np.log10(f_sq + const[3]))\n"
          ],
          "name": "stderr"
        },
        {
          "output_type": "stream",
          "text": [
            "0913 / 1600 | drive/My Drive/AudioTaggerData/FSDKaggle2018.audio_test/af588819.wav\n"
          ],
          "name": "stdout"
        },
        {
          "output_type": "stream",
          "text": [
            "/usr/local/lib/python3.6/dist-packages/librosa/core/time_frequency.py:1006: RuntimeWarning: divide by zero encountered in log10\n",
            "  - 0.5 * np.log10(f_sq + const[3]))\n"
          ],
          "name": "stderr"
        },
        {
          "output_type": "stream",
          "text": [
            "0914 / 1600 | drive/My Drive/AudioTaggerData/FSDKaggle2018.audio_test/1e92e05a.wav\n"
          ],
          "name": "stdout"
        },
        {
          "output_type": "stream",
          "text": [
            "/usr/local/lib/python3.6/dist-packages/librosa/core/time_frequency.py:1006: RuntimeWarning: divide by zero encountered in log10\n",
            "  - 0.5 * np.log10(f_sq + const[3]))\n"
          ],
          "name": "stderr"
        },
        {
          "output_type": "stream",
          "text": [
            "0915 / 1600 | drive/My Drive/AudioTaggerData/FSDKaggle2018.audio_test/d7e886f9.wav\n"
          ],
          "name": "stdout"
        },
        {
          "output_type": "stream",
          "text": [
            "/usr/local/lib/python3.6/dist-packages/librosa/core/time_frequency.py:1006: RuntimeWarning: divide by zero encountered in log10\n",
            "  - 0.5 * np.log10(f_sq + const[3]))\n"
          ],
          "name": "stderr"
        },
        {
          "output_type": "stream",
          "text": [
            "0916 / 1600 | drive/My Drive/AudioTaggerData/FSDKaggle2018.audio_test/af894f32.wav\n"
          ],
          "name": "stdout"
        },
        {
          "output_type": "stream",
          "text": [
            "/usr/local/lib/python3.6/dist-packages/librosa/core/time_frequency.py:1006: RuntimeWarning: divide by zero encountered in log10\n",
            "  - 0.5 * np.log10(f_sq + const[3]))\n"
          ],
          "name": "stderr"
        },
        {
          "output_type": "stream",
          "text": [
            "0917 / 1600 | drive/My Drive/AudioTaggerData/FSDKaggle2018.audio_test/c7cb0756.wav\n"
          ],
          "name": "stdout"
        },
        {
          "output_type": "stream",
          "text": [
            "/usr/local/lib/python3.6/dist-packages/librosa/core/time_frequency.py:1006: RuntimeWarning: divide by zero encountered in log10\n",
            "  - 0.5 * np.log10(f_sq + const[3]))\n"
          ],
          "name": "stderr"
        },
        {
          "output_type": "stream",
          "text": [
            "0918 / 1600 | drive/My Drive/AudioTaggerData/FSDKaggle2018.audio_test/93631fdd.wav\n"
          ],
          "name": "stdout"
        },
        {
          "output_type": "stream",
          "text": [
            "/usr/local/lib/python3.6/dist-packages/librosa/core/time_frequency.py:1006: RuntimeWarning: divide by zero encountered in log10\n",
            "  - 0.5 * np.log10(f_sq + const[3]))\n"
          ],
          "name": "stderr"
        },
        {
          "output_type": "stream",
          "text": [
            "0919 / 1600 | drive/My Drive/AudioTaggerData/FSDKaggle2018.audio_test/ca087c9a.wav\n"
          ],
          "name": "stdout"
        },
        {
          "output_type": "stream",
          "text": [
            "/usr/local/lib/python3.6/dist-packages/librosa/core/time_frequency.py:1006: RuntimeWarning: divide by zero encountered in log10\n",
            "  - 0.5 * np.log10(f_sq + const[3]))\n"
          ],
          "name": "stderr"
        },
        {
          "output_type": "stream",
          "text": [
            "0920 / 1600 | drive/My Drive/AudioTaggerData/FSDKaggle2018.audio_test/443a5ad9.wav\n"
          ],
          "name": "stdout"
        },
        {
          "output_type": "stream",
          "text": [
            "/usr/local/lib/python3.6/dist-packages/librosa/core/time_frequency.py:1006: RuntimeWarning: divide by zero encountered in log10\n",
            "  - 0.5 * np.log10(f_sq + const[3]))\n"
          ],
          "name": "stderr"
        },
        {
          "output_type": "stream",
          "text": [
            "0921 / 1600 | drive/My Drive/AudioTaggerData/FSDKaggle2018.audio_test/07063bc9.wav\n"
          ],
          "name": "stdout"
        },
        {
          "output_type": "stream",
          "text": [
            "/usr/local/lib/python3.6/dist-packages/librosa/core/time_frequency.py:1006: RuntimeWarning: divide by zero encountered in log10\n",
            "  - 0.5 * np.log10(f_sq + const[3]))\n"
          ],
          "name": "stderr"
        },
        {
          "output_type": "stream",
          "text": [
            "0922 / 1600 | drive/My Drive/AudioTaggerData/FSDKaggle2018.audio_test/c1b721a1.wav\n"
          ],
          "name": "stdout"
        },
        {
          "output_type": "stream",
          "text": [
            "/usr/local/lib/python3.6/dist-packages/librosa/core/time_frequency.py:1006: RuntimeWarning: divide by zero encountered in log10\n",
            "  - 0.5 * np.log10(f_sq + const[3]))\n"
          ],
          "name": "stderr"
        },
        {
          "output_type": "stream",
          "text": [
            "0923 / 1600 | drive/My Drive/AudioTaggerData/FSDKaggle2018.audio_test/7336a65e.wav\n"
          ],
          "name": "stdout"
        },
        {
          "output_type": "stream",
          "text": [
            "/usr/local/lib/python3.6/dist-packages/librosa/core/time_frequency.py:1006: RuntimeWarning: divide by zero encountered in log10\n",
            "  - 0.5 * np.log10(f_sq + const[3]))\n"
          ],
          "name": "stderr"
        },
        {
          "output_type": "stream",
          "text": [
            "0924 / 1600 | drive/My Drive/AudioTaggerData/FSDKaggle2018.audio_test/553f8a35.wav\n"
          ],
          "name": "stdout"
        },
        {
          "output_type": "stream",
          "text": [
            "/usr/local/lib/python3.6/dist-packages/librosa/core/time_frequency.py:1006: RuntimeWarning: divide by zero encountered in log10\n",
            "  - 0.5 * np.log10(f_sq + const[3]))\n"
          ],
          "name": "stderr"
        },
        {
          "output_type": "stream",
          "text": [
            "0925 / 1600 | drive/My Drive/AudioTaggerData/FSDKaggle2018.audio_test/5cdfe908.wav\n"
          ],
          "name": "stdout"
        },
        {
          "output_type": "stream",
          "text": [
            "/usr/local/lib/python3.6/dist-packages/librosa/core/time_frequency.py:1006: RuntimeWarning: divide by zero encountered in log10\n",
            "  - 0.5 * np.log10(f_sq + const[3]))\n"
          ],
          "name": "stderr"
        },
        {
          "output_type": "stream",
          "text": [
            "0926 / 1600 | drive/My Drive/AudioTaggerData/FSDKaggle2018.audio_test/c159bdbb.wav\n"
          ],
          "name": "stdout"
        },
        {
          "output_type": "stream",
          "text": [
            "/usr/local/lib/python3.6/dist-packages/librosa/core/time_frequency.py:1006: RuntimeWarning: divide by zero encountered in log10\n",
            "  - 0.5 * np.log10(f_sq + const[3]))\n"
          ],
          "name": "stderr"
        },
        {
          "output_type": "stream",
          "text": [
            "0927 / 1600 | drive/My Drive/AudioTaggerData/FSDKaggle2018.audio_test/e7b5ee52.wav\n"
          ],
          "name": "stdout"
        },
        {
          "output_type": "stream",
          "text": [
            "/usr/local/lib/python3.6/dist-packages/librosa/core/time_frequency.py:1006: RuntimeWarning: divide by zero encountered in log10\n",
            "  - 0.5 * np.log10(f_sq + const[3]))\n"
          ],
          "name": "stderr"
        },
        {
          "output_type": "stream",
          "text": [
            "0928 / 1600 | drive/My Drive/AudioTaggerData/FSDKaggle2018.audio_test/0fba4394.wav\n"
          ],
          "name": "stdout"
        },
        {
          "output_type": "stream",
          "text": [
            "/usr/local/lib/python3.6/dist-packages/librosa/core/time_frequency.py:1006: RuntimeWarning: divide by zero encountered in log10\n",
            "  - 0.5 * np.log10(f_sq + const[3]))\n"
          ],
          "name": "stderr"
        },
        {
          "output_type": "stream",
          "text": [
            "0929 / 1600 | drive/My Drive/AudioTaggerData/FSDKaggle2018.audio_test/6e32975d.wav\n"
          ],
          "name": "stdout"
        },
        {
          "output_type": "stream",
          "text": [
            "/usr/local/lib/python3.6/dist-packages/librosa/core/time_frequency.py:1006: RuntimeWarning: divide by zero encountered in log10\n",
            "  - 0.5 * np.log10(f_sq + const[3]))\n"
          ],
          "name": "stderr"
        },
        {
          "output_type": "stream",
          "text": [
            "0930 / 1600 | drive/My Drive/AudioTaggerData/FSDKaggle2018.audio_test/fbf1ed93.wav\n"
          ],
          "name": "stdout"
        },
        {
          "output_type": "stream",
          "text": [
            "/usr/local/lib/python3.6/dist-packages/librosa/core/time_frequency.py:1006: RuntimeWarning: divide by zero encountered in log10\n",
            "  - 0.5 * np.log10(f_sq + const[3]))\n"
          ],
          "name": "stderr"
        },
        {
          "output_type": "stream",
          "text": [
            "0931 / 1600 | drive/My Drive/AudioTaggerData/FSDKaggle2018.audio_test/14dcf709.wav\n"
          ],
          "name": "stdout"
        },
        {
          "output_type": "stream",
          "text": [
            "/usr/local/lib/python3.6/dist-packages/librosa/core/time_frequency.py:1006: RuntimeWarning: divide by zero encountered in log10\n",
            "  - 0.5 * np.log10(f_sq + const[3]))\n"
          ],
          "name": "stderr"
        },
        {
          "output_type": "stream",
          "text": [
            "0932 / 1600 | drive/My Drive/AudioTaggerData/FSDKaggle2018.audio_test/70afb5f8.wav\n"
          ],
          "name": "stdout"
        },
        {
          "output_type": "stream",
          "text": [
            "/usr/local/lib/python3.6/dist-packages/librosa/core/time_frequency.py:1006: RuntimeWarning: divide by zero encountered in log10\n",
            "  - 0.5 * np.log10(f_sq + const[3]))\n"
          ],
          "name": "stderr"
        },
        {
          "output_type": "stream",
          "text": [
            "0933 / 1600 | drive/My Drive/AudioTaggerData/FSDKaggle2018.audio_test/a39640a6.wav\n"
          ],
          "name": "stdout"
        },
        {
          "output_type": "stream",
          "text": [
            "/usr/local/lib/python3.6/dist-packages/librosa/core/time_frequency.py:1006: RuntimeWarning: divide by zero encountered in log10\n",
            "  - 0.5 * np.log10(f_sq + const[3]))\n"
          ],
          "name": "stderr"
        },
        {
          "output_type": "stream",
          "text": [
            "0934 / 1600 | drive/My Drive/AudioTaggerData/FSDKaggle2018.audio_test/41ee0c63.wav\n"
          ],
          "name": "stdout"
        },
        {
          "output_type": "stream",
          "text": [
            "/usr/local/lib/python3.6/dist-packages/librosa/core/time_frequency.py:1006: RuntimeWarning: divide by zero encountered in log10\n",
            "  - 0.5 * np.log10(f_sq + const[3]))\n"
          ],
          "name": "stderr"
        },
        {
          "output_type": "stream",
          "text": [
            "0935 / 1600 | drive/My Drive/AudioTaggerData/FSDKaggle2018.audio_test/1d2feaeb.wav\n"
          ],
          "name": "stdout"
        },
        {
          "output_type": "stream",
          "text": [
            "/usr/local/lib/python3.6/dist-packages/librosa/core/time_frequency.py:1006: RuntimeWarning: divide by zero encountered in log10\n",
            "  - 0.5 * np.log10(f_sq + const[3]))\n"
          ],
          "name": "stderr"
        },
        {
          "output_type": "stream",
          "text": [
            "0936 / 1600 | drive/My Drive/AudioTaggerData/FSDKaggle2018.audio_test/1f41ab46.wav\n"
          ],
          "name": "stdout"
        },
        {
          "output_type": "stream",
          "text": [
            "/usr/local/lib/python3.6/dist-packages/librosa/core/time_frequency.py:1006: RuntimeWarning: divide by zero encountered in log10\n",
            "  - 0.5 * np.log10(f_sq + const[3]))\n"
          ],
          "name": "stderr"
        },
        {
          "output_type": "stream",
          "text": [
            "0937 / 1600 | drive/My Drive/AudioTaggerData/FSDKaggle2018.audio_test/cea165f8.wav\n"
          ],
          "name": "stdout"
        },
        {
          "output_type": "stream",
          "text": [
            "/usr/local/lib/python3.6/dist-packages/librosa/core/time_frequency.py:1006: RuntimeWarning: divide by zero encountered in log10\n",
            "  - 0.5 * np.log10(f_sq + const[3]))\n"
          ],
          "name": "stderr"
        },
        {
          "output_type": "stream",
          "text": [
            "0938 / 1600 | drive/My Drive/AudioTaggerData/FSDKaggle2018.audio_test/1fd0397d.wav\n"
          ],
          "name": "stdout"
        },
        {
          "output_type": "stream",
          "text": [
            "/usr/local/lib/python3.6/dist-packages/librosa/core/time_frequency.py:1006: RuntimeWarning: divide by zero encountered in log10\n",
            "  - 0.5 * np.log10(f_sq + const[3]))\n"
          ],
          "name": "stderr"
        },
        {
          "output_type": "stream",
          "text": [
            "0939 / 1600 | drive/My Drive/AudioTaggerData/FSDKaggle2018.audio_test/12d71e7f.wav\n"
          ],
          "name": "stdout"
        },
        {
          "output_type": "stream",
          "text": [
            "/usr/local/lib/python3.6/dist-packages/librosa/core/time_frequency.py:1006: RuntimeWarning: divide by zero encountered in log10\n",
            "  - 0.5 * np.log10(f_sq + const[3]))\n"
          ],
          "name": "stderr"
        },
        {
          "output_type": "stream",
          "text": [
            "0940 / 1600 | drive/My Drive/AudioTaggerData/FSDKaggle2018.audio_test/96431b4e.wav\n"
          ],
          "name": "stdout"
        },
        {
          "output_type": "stream",
          "text": [
            "/usr/local/lib/python3.6/dist-packages/librosa/core/time_frequency.py:1006: RuntimeWarning: divide by zero encountered in log10\n",
            "  - 0.5 * np.log10(f_sq + const[3]))\n"
          ],
          "name": "stderr"
        },
        {
          "output_type": "stream",
          "text": [
            "0941 / 1600 | drive/My Drive/AudioTaggerData/FSDKaggle2018.audio_test/6a4cac8d.wav\n"
          ],
          "name": "stdout"
        },
        {
          "output_type": "stream",
          "text": [
            "/usr/local/lib/python3.6/dist-packages/librosa/core/time_frequency.py:1006: RuntimeWarning: divide by zero encountered in log10\n",
            "  - 0.5 * np.log10(f_sq + const[3]))\n"
          ],
          "name": "stderr"
        },
        {
          "output_type": "stream",
          "text": [
            "0942 / 1600 | drive/My Drive/AudioTaggerData/FSDKaggle2018.audio_test/b3d4dd33.wav\n"
          ],
          "name": "stdout"
        },
        {
          "output_type": "stream",
          "text": [
            "/usr/local/lib/python3.6/dist-packages/librosa/core/time_frequency.py:1006: RuntimeWarning: divide by zero encountered in log10\n",
            "  - 0.5 * np.log10(f_sq + const[3]))\n"
          ],
          "name": "stderr"
        },
        {
          "output_type": "stream",
          "text": [
            "0943 / 1600 | drive/My Drive/AudioTaggerData/FSDKaggle2018.audio_test/d0be1421.wav\n"
          ],
          "name": "stdout"
        },
        {
          "output_type": "stream",
          "text": [
            "/usr/local/lib/python3.6/dist-packages/librosa/core/time_frequency.py:1006: RuntimeWarning: divide by zero encountered in log10\n",
            "  - 0.5 * np.log10(f_sq + const[3]))\n"
          ],
          "name": "stderr"
        },
        {
          "output_type": "stream",
          "text": [
            "0944 / 1600 | drive/My Drive/AudioTaggerData/FSDKaggle2018.audio_test/d290f44f.wav\n"
          ],
          "name": "stdout"
        },
        {
          "output_type": "stream",
          "text": [
            "/usr/local/lib/python3.6/dist-packages/librosa/core/time_frequency.py:1006: RuntimeWarning: divide by zero encountered in log10\n",
            "  - 0.5 * np.log10(f_sq + const[3]))\n"
          ],
          "name": "stderr"
        },
        {
          "output_type": "stream",
          "text": [
            "0945 / 1600 | drive/My Drive/AudioTaggerData/FSDKaggle2018.audio_test/cc88d96e.wav\n"
          ],
          "name": "stdout"
        },
        {
          "output_type": "stream",
          "text": [
            "/usr/local/lib/python3.6/dist-packages/librosa/core/time_frequency.py:1006: RuntimeWarning: divide by zero encountered in log10\n",
            "  - 0.5 * np.log10(f_sq + const[3]))\n"
          ],
          "name": "stderr"
        },
        {
          "output_type": "stream",
          "text": [
            "0946 / 1600 | drive/My Drive/AudioTaggerData/FSDKaggle2018.audio_test/375d2777.wav\n"
          ],
          "name": "stdout"
        },
        {
          "output_type": "stream",
          "text": [
            "/usr/local/lib/python3.6/dist-packages/librosa/core/time_frequency.py:1006: RuntimeWarning: divide by zero encountered in log10\n",
            "  - 0.5 * np.log10(f_sq + const[3]))\n"
          ],
          "name": "stderr"
        },
        {
          "output_type": "stream",
          "text": [
            "0947 / 1600 | drive/My Drive/AudioTaggerData/FSDKaggle2018.audio_test/e7c9bcc6.wav\n"
          ],
          "name": "stdout"
        },
        {
          "output_type": "stream",
          "text": [
            "/usr/local/lib/python3.6/dist-packages/librosa/core/time_frequency.py:1006: RuntimeWarning: divide by zero encountered in log10\n",
            "  - 0.5 * np.log10(f_sq + const[3]))\n"
          ],
          "name": "stderr"
        },
        {
          "output_type": "stream",
          "text": [
            "0948 / 1600 | drive/My Drive/AudioTaggerData/FSDKaggle2018.audio_test/70b64fdc.wav\n"
          ],
          "name": "stdout"
        },
        {
          "output_type": "stream",
          "text": [
            "/usr/local/lib/python3.6/dist-packages/librosa/core/time_frequency.py:1006: RuntimeWarning: divide by zero encountered in log10\n",
            "  - 0.5 * np.log10(f_sq + const[3]))\n"
          ],
          "name": "stderr"
        },
        {
          "output_type": "stream",
          "text": [
            "0949 / 1600 | drive/My Drive/AudioTaggerData/FSDKaggle2018.audio_test/44e4f598.wav\n"
          ],
          "name": "stdout"
        },
        {
          "output_type": "stream",
          "text": [
            "/usr/local/lib/python3.6/dist-packages/librosa/core/time_frequency.py:1006: RuntimeWarning: divide by zero encountered in log10\n",
            "  - 0.5 * np.log10(f_sq + const[3]))\n"
          ],
          "name": "stderr"
        },
        {
          "output_type": "stream",
          "text": [
            "0950 / 1600 | drive/My Drive/AudioTaggerData/FSDKaggle2018.audio_test/76fbffde.wav\n"
          ],
          "name": "stdout"
        },
        {
          "output_type": "stream",
          "text": [
            "/usr/local/lib/python3.6/dist-packages/librosa/core/time_frequency.py:1006: RuntimeWarning: divide by zero encountered in log10\n",
            "  - 0.5 * np.log10(f_sq + const[3]))\n"
          ],
          "name": "stderr"
        },
        {
          "output_type": "stream",
          "text": [
            "0951 / 1600 | drive/My Drive/AudioTaggerData/FSDKaggle2018.audio_test/93c686a3.wav\n"
          ],
          "name": "stdout"
        },
        {
          "output_type": "stream",
          "text": [
            "/usr/local/lib/python3.6/dist-packages/librosa/core/time_frequency.py:1006: RuntimeWarning: divide by zero encountered in log10\n",
            "  - 0.5 * np.log10(f_sq + const[3]))\n"
          ],
          "name": "stderr"
        },
        {
          "output_type": "stream",
          "text": [
            "0952 / 1600 | drive/My Drive/AudioTaggerData/FSDKaggle2018.audio_test/4a6014e0.wav\n"
          ],
          "name": "stdout"
        },
        {
          "output_type": "stream",
          "text": [
            "/usr/local/lib/python3.6/dist-packages/librosa/core/time_frequency.py:1006: RuntimeWarning: divide by zero encountered in log10\n",
            "  - 0.5 * np.log10(f_sq + const[3]))\n"
          ],
          "name": "stderr"
        },
        {
          "output_type": "stream",
          "text": [
            "0953 / 1600 | drive/My Drive/AudioTaggerData/FSDKaggle2018.audio_test/fcd8fe9e.wav\n"
          ],
          "name": "stdout"
        },
        {
          "output_type": "stream",
          "text": [
            "/usr/local/lib/python3.6/dist-packages/librosa/core/time_frequency.py:1006: RuntimeWarning: divide by zero encountered in log10\n",
            "  - 0.5 * np.log10(f_sq + const[3]))\n"
          ],
          "name": "stderr"
        },
        {
          "output_type": "stream",
          "text": [
            "0954 / 1600 | drive/My Drive/AudioTaggerData/FSDKaggle2018.audio_test/9256c7f4.wav\n"
          ],
          "name": "stdout"
        },
        {
          "output_type": "stream",
          "text": [
            "/usr/local/lib/python3.6/dist-packages/librosa/core/time_frequency.py:1006: RuntimeWarning: divide by zero encountered in log10\n",
            "  - 0.5 * np.log10(f_sq + const[3]))\n"
          ],
          "name": "stderr"
        },
        {
          "output_type": "stream",
          "text": [
            "0955 / 1600 | drive/My Drive/AudioTaggerData/FSDKaggle2018.audio_test/6ffaaf83.wav\n"
          ],
          "name": "stdout"
        },
        {
          "output_type": "stream",
          "text": [
            "/usr/local/lib/python3.6/dist-packages/librosa/core/time_frequency.py:1006: RuntimeWarning: divide by zero encountered in log10\n",
            "  - 0.5 * np.log10(f_sq + const[3]))\n"
          ],
          "name": "stderr"
        },
        {
          "output_type": "stream",
          "text": [
            "0956 / 1600 | drive/My Drive/AudioTaggerData/FSDKaggle2018.audio_test/bc58fae1.wav\n"
          ],
          "name": "stdout"
        },
        {
          "output_type": "stream",
          "text": [
            "/usr/local/lib/python3.6/dist-packages/librosa/core/time_frequency.py:1006: RuntimeWarning: divide by zero encountered in log10\n",
            "  - 0.5 * np.log10(f_sq + const[3]))\n"
          ],
          "name": "stderr"
        },
        {
          "output_type": "stream",
          "text": [
            "0957 / 1600 | drive/My Drive/AudioTaggerData/FSDKaggle2018.audio_test/cae702e8.wav\n"
          ],
          "name": "stdout"
        },
        {
          "output_type": "stream",
          "text": [
            "/usr/local/lib/python3.6/dist-packages/librosa/core/time_frequency.py:1006: RuntimeWarning: divide by zero encountered in log10\n",
            "  - 0.5 * np.log10(f_sq + const[3]))\n"
          ],
          "name": "stderr"
        },
        {
          "output_type": "stream",
          "text": [
            "0958 / 1600 | drive/My Drive/AudioTaggerData/FSDKaggle2018.audio_test/f35775ce.wav\n"
          ],
          "name": "stdout"
        },
        {
          "output_type": "stream",
          "text": [
            "/usr/local/lib/python3.6/dist-packages/librosa/core/time_frequency.py:1006: RuntimeWarning: divide by zero encountered in log10\n",
            "  - 0.5 * np.log10(f_sq + const[3]))\n"
          ],
          "name": "stderr"
        },
        {
          "output_type": "stream",
          "text": [
            "0959 / 1600 | drive/My Drive/AudioTaggerData/FSDKaggle2018.audio_test/f18790fe.wav\n"
          ],
          "name": "stdout"
        },
        {
          "output_type": "stream",
          "text": [
            "/usr/local/lib/python3.6/dist-packages/librosa/core/time_frequency.py:1006: RuntimeWarning: divide by zero encountered in log10\n",
            "  - 0.5 * np.log10(f_sq + const[3]))\n"
          ],
          "name": "stderr"
        },
        {
          "output_type": "stream",
          "text": [
            "0960 / 1600 | drive/My Drive/AudioTaggerData/FSDKaggle2018.audio_test/335d009e.wav\n"
          ],
          "name": "stdout"
        },
        {
          "output_type": "stream",
          "text": [
            "/usr/local/lib/python3.6/dist-packages/librosa/core/time_frequency.py:1006: RuntimeWarning: divide by zero encountered in log10\n",
            "  - 0.5 * np.log10(f_sq + const[3]))\n"
          ],
          "name": "stderr"
        },
        {
          "output_type": "stream",
          "text": [
            "0961 / 1600 | drive/My Drive/AudioTaggerData/FSDKaggle2018.audio_test/1796f9cb.wav\n"
          ],
          "name": "stdout"
        },
        {
          "output_type": "stream",
          "text": [
            "/usr/local/lib/python3.6/dist-packages/librosa/core/time_frequency.py:1006: RuntimeWarning: divide by zero encountered in log10\n",
            "  - 0.5 * np.log10(f_sq + const[3]))\n"
          ],
          "name": "stderr"
        },
        {
          "output_type": "stream",
          "text": [
            "0962 / 1600 | drive/My Drive/AudioTaggerData/FSDKaggle2018.audio_test/affa1b00.wav\n"
          ],
          "name": "stdout"
        },
        {
          "output_type": "stream",
          "text": [
            "/usr/local/lib/python3.6/dist-packages/librosa/core/time_frequency.py:1006: RuntimeWarning: divide by zero encountered in log10\n",
            "  - 0.5 * np.log10(f_sq + const[3]))\n"
          ],
          "name": "stderr"
        },
        {
          "output_type": "stream",
          "text": [
            "0963 / 1600 | drive/My Drive/AudioTaggerData/FSDKaggle2018.audio_test/cfc2388d.wav\n"
          ],
          "name": "stdout"
        },
        {
          "output_type": "stream",
          "text": [
            "/usr/local/lib/python3.6/dist-packages/librosa/core/time_frequency.py:1006: RuntimeWarning: divide by zero encountered in log10\n",
            "  - 0.5 * np.log10(f_sq + const[3]))\n"
          ],
          "name": "stderr"
        },
        {
          "output_type": "stream",
          "text": [
            "0964 / 1600 | drive/My Drive/AudioTaggerData/FSDKaggle2018.audio_test/0716b51d.wav\n"
          ],
          "name": "stdout"
        },
        {
          "output_type": "stream",
          "text": [
            "/usr/local/lib/python3.6/dist-packages/librosa/core/time_frequency.py:1006: RuntimeWarning: divide by zero encountered in log10\n",
            "  - 0.5 * np.log10(f_sq + const[3]))\n"
          ],
          "name": "stderr"
        },
        {
          "output_type": "stream",
          "text": [
            "0965 / 1600 | drive/My Drive/AudioTaggerData/FSDKaggle2018.audio_test/d97de818.wav\n"
          ],
          "name": "stdout"
        },
        {
          "output_type": "stream",
          "text": [
            "/usr/local/lib/python3.6/dist-packages/librosa/core/time_frequency.py:1006: RuntimeWarning: divide by zero encountered in log10\n",
            "  - 0.5 * np.log10(f_sq + const[3]))\n"
          ],
          "name": "stderr"
        },
        {
          "output_type": "stream",
          "text": [
            "0966 / 1600 | drive/My Drive/AudioTaggerData/FSDKaggle2018.audio_test/5014dfcc.wav\n"
          ],
          "name": "stdout"
        },
        {
          "output_type": "stream",
          "text": [
            "/usr/local/lib/python3.6/dist-packages/librosa/core/time_frequency.py:1006: RuntimeWarning: divide by zero encountered in log10\n",
            "  - 0.5 * np.log10(f_sq + const[3]))\n"
          ],
          "name": "stderr"
        },
        {
          "output_type": "stream",
          "text": [
            "0967 / 1600 | drive/My Drive/AudioTaggerData/FSDKaggle2018.audio_test/ff5285a5.wav\n"
          ],
          "name": "stdout"
        },
        {
          "output_type": "stream",
          "text": [
            "/usr/local/lib/python3.6/dist-packages/librosa/core/time_frequency.py:1006: RuntimeWarning: divide by zero encountered in log10\n",
            "  - 0.5 * np.log10(f_sq + const[3]))\n"
          ],
          "name": "stderr"
        },
        {
          "output_type": "stream",
          "text": [
            "0968 / 1600 | drive/My Drive/AudioTaggerData/FSDKaggle2018.audio_test/8a8f86ec.wav\n"
          ],
          "name": "stdout"
        },
        {
          "output_type": "stream",
          "text": [
            "/usr/local/lib/python3.6/dist-packages/librosa/core/time_frequency.py:1006: RuntimeWarning: divide by zero encountered in log10\n",
            "  - 0.5 * np.log10(f_sq + const[3]))\n"
          ],
          "name": "stderr"
        },
        {
          "output_type": "stream",
          "text": [
            "0969 / 1600 | drive/My Drive/AudioTaggerData/FSDKaggle2018.audio_test/4f8dc3e1.wav\n"
          ],
          "name": "stdout"
        },
        {
          "output_type": "stream",
          "text": [
            "/usr/local/lib/python3.6/dist-packages/librosa/core/time_frequency.py:1006: RuntimeWarning: divide by zero encountered in log10\n",
            "  - 0.5 * np.log10(f_sq + const[3]))\n"
          ],
          "name": "stderr"
        },
        {
          "output_type": "stream",
          "text": [
            "0970 / 1600 | drive/My Drive/AudioTaggerData/FSDKaggle2018.audio_test/0e3b99ce.wav\n"
          ],
          "name": "stdout"
        },
        {
          "output_type": "stream",
          "text": [
            "/usr/local/lib/python3.6/dist-packages/librosa/core/time_frequency.py:1006: RuntimeWarning: divide by zero encountered in log10\n",
            "  - 0.5 * np.log10(f_sq + const[3]))\n"
          ],
          "name": "stderr"
        },
        {
          "output_type": "stream",
          "text": [
            "0971 / 1600 | drive/My Drive/AudioTaggerData/FSDKaggle2018.audio_test/08e27974.wav\n"
          ],
          "name": "stdout"
        },
        {
          "output_type": "stream",
          "text": [
            "/usr/local/lib/python3.6/dist-packages/librosa/core/time_frequency.py:1006: RuntimeWarning: divide by zero encountered in log10\n",
            "  - 0.5 * np.log10(f_sq + const[3]))\n"
          ],
          "name": "stderr"
        },
        {
          "output_type": "stream",
          "text": [
            "0972 / 1600 | drive/My Drive/AudioTaggerData/FSDKaggle2018.audio_test/71055509.wav\n"
          ],
          "name": "stdout"
        },
        {
          "output_type": "stream",
          "text": [
            "/usr/local/lib/python3.6/dist-packages/librosa/core/time_frequency.py:1006: RuntimeWarning: divide by zero encountered in log10\n",
            "  - 0.5 * np.log10(f_sq + const[3]))\n"
          ],
          "name": "stderr"
        },
        {
          "output_type": "stream",
          "text": [
            "0973 / 1600 | drive/My Drive/AudioTaggerData/FSDKaggle2018.audio_test/fbc83b12.wav\n"
          ],
          "name": "stdout"
        },
        {
          "output_type": "stream",
          "text": [
            "/usr/local/lib/python3.6/dist-packages/librosa/core/time_frequency.py:1006: RuntimeWarning: divide by zero encountered in log10\n",
            "  - 0.5 * np.log10(f_sq + const[3]))\n"
          ],
          "name": "stderr"
        },
        {
          "output_type": "stream",
          "text": [
            "0974 / 1600 | drive/My Drive/AudioTaggerData/FSDKaggle2018.audio_test/88d8e3e7.wav\n"
          ],
          "name": "stdout"
        },
        {
          "output_type": "stream",
          "text": [
            "/usr/local/lib/python3.6/dist-packages/librosa/core/time_frequency.py:1006: RuntimeWarning: divide by zero encountered in log10\n",
            "  - 0.5 * np.log10(f_sq + const[3]))\n"
          ],
          "name": "stderr"
        },
        {
          "output_type": "stream",
          "text": [
            "0975 / 1600 | drive/My Drive/AudioTaggerData/FSDKaggle2018.audio_test/8f8e82d1.wav\n"
          ],
          "name": "stdout"
        },
        {
          "output_type": "stream",
          "text": [
            "/usr/local/lib/python3.6/dist-packages/librosa/core/time_frequency.py:1006: RuntimeWarning: divide by zero encountered in log10\n",
            "  - 0.5 * np.log10(f_sq + const[3]))\n"
          ],
          "name": "stderr"
        },
        {
          "output_type": "stream",
          "text": [
            "0976 / 1600 | drive/My Drive/AudioTaggerData/FSDKaggle2018.audio_test/0ef36ea1.wav\n"
          ],
          "name": "stdout"
        },
        {
          "output_type": "stream",
          "text": [
            "/usr/local/lib/python3.6/dist-packages/librosa/core/time_frequency.py:1006: RuntimeWarning: divide by zero encountered in log10\n",
            "  - 0.5 * np.log10(f_sq + const[3]))\n"
          ],
          "name": "stderr"
        },
        {
          "output_type": "stream",
          "text": [
            "0977 / 1600 | drive/My Drive/AudioTaggerData/FSDKaggle2018.audio_test/2187cb81.wav\n"
          ],
          "name": "stdout"
        },
        {
          "output_type": "stream",
          "text": [
            "/usr/local/lib/python3.6/dist-packages/librosa/core/time_frequency.py:1006: RuntimeWarning: divide by zero encountered in log10\n",
            "  - 0.5 * np.log10(f_sq + const[3]))\n"
          ],
          "name": "stderr"
        },
        {
          "output_type": "stream",
          "text": [
            "0978 / 1600 | drive/My Drive/AudioTaggerData/FSDKaggle2018.audio_test/8d6b786d.wav\n"
          ],
          "name": "stdout"
        },
        {
          "output_type": "stream",
          "text": [
            "/usr/local/lib/python3.6/dist-packages/librosa/core/time_frequency.py:1006: RuntimeWarning: divide by zero encountered in log10\n",
            "  - 0.5 * np.log10(f_sq + const[3]))\n"
          ],
          "name": "stderr"
        },
        {
          "output_type": "stream",
          "text": [
            "0979 / 1600 | drive/My Drive/AudioTaggerData/FSDKaggle2018.audio_test/e19618a0.wav\n"
          ],
          "name": "stdout"
        },
        {
          "output_type": "stream",
          "text": [
            "/usr/local/lib/python3.6/dist-packages/librosa/core/time_frequency.py:1006: RuntimeWarning: divide by zero encountered in log10\n",
            "  - 0.5 * np.log10(f_sq + const[3]))\n"
          ],
          "name": "stderr"
        },
        {
          "output_type": "stream",
          "text": [
            "0980 / 1600 | drive/My Drive/AudioTaggerData/FSDKaggle2018.audio_test/1f389629.wav\n"
          ],
          "name": "stdout"
        },
        {
          "output_type": "stream",
          "text": [
            "/usr/local/lib/python3.6/dist-packages/librosa/core/time_frequency.py:1006: RuntimeWarning: divide by zero encountered in log10\n",
            "  - 0.5 * np.log10(f_sq + const[3]))\n"
          ],
          "name": "stderr"
        },
        {
          "output_type": "stream",
          "text": [
            "0981 / 1600 | drive/My Drive/AudioTaggerData/FSDKaggle2018.audio_test/0422b811.wav\n"
          ],
          "name": "stdout"
        },
        {
          "output_type": "stream",
          "text": [
            "/usr/local/lib/python3.6/dist-packages/librosa/core/time_frequency.py:1006: RuntimeWarning: divide by zero encountered in log10\n",
            "  - 0.5 * np.log10(f_sq + const[3]))\n"
          ],
          "name": "stderr"
        },
        {
          "output_type": "stream",
          "text": [
            "0982 / 1600 | drive/My Drive/AudioTaggerData/FSDKaggle2018.audio_test/76306f8b.wav\n"
          ],
          "name": "stdout"
        },
        {
          "output_type": "stream",
          "text": [
            "/usr/local/lib/python3.6/dist-packages/librosa/core/time_frequency.py:1006: RuntimeWarning: divide by zero encountered in log10\n",
            "  - 0.5 * np.log10(f_sq + const[3]))\n"
          ],
          "name": "stderr"
        },
        {
          "output_type": "stream",
          "text": [
            "0983 / 1600 | drive/My Drive/AudioTaggerData/FSDKaggle2018.audio_test/3263223e.wav\n"
          ],
          "name": "stdout"
        },
        {
          "output_type": "stream",
          "text": [
            "/usr/local/lib/python3.6/dist-packages/librosa/core/time_frequency.py:1006: RuntimeWarning: divide by zero encountered in log10\n",
            "  - 0.5 * np.log10(f_sq + const[3]))\n"
          ],
          "name": "stderr"
        },
        {
          "output_type": "stream",
          "text": [
            "0984 / 1600 | drive/My Drive/AudioTaggerData/FSDKaggle2018.audio_test/a4265282.wav\n"
          ],
          "name": "stdout"
        },
        {
          "output_type": "stream",
          "text": [
            "/usr/local/lib/python3.6/dist-packages/librosa/core/time_frequency.py:1006: RuntimeWarning: divide by zero encountered in log10\n",
            "  - 0.5 * np.log10(f_sq + const[3]))\n"
          ],
          "name": "stderr"
        },
        {
          "output_type": "stream",
          "text": [
            "0985 / 1600 | drive/My Drive/AudioTaggerData/FSDKaggle2018.audio_test/c2dbf201.wav\n"
          ],
          "name": "stdout"
        },
        {
          "output_type": "stream",
          "text": [
            "/usr/local/lib/python3.6/dist-packages/librosa/core/time_frequency.py:1006: RuntimeWarning: divide by zero encountered in log10\n",
            "  - 0.5 * np.log10(f_sq + const[3]))\n"
          ],
          "name": "stderr"
        },
        {
          "output_type": "stream",
          "text": [
            "0986 / 1600 | drive/My Drive/AudioTaggerData/FSDKaggle2018.audio_test/34a3bc46.wav\n"
          ],
          "name": "stdout"
        },
        {
          "output_type": "stream",
          "text": [
            "/usr/local/lib/python3.6/dist-packages/librosa/core/time_frequency.py:1006: RuntimeWarning: divide by zero encountered in log10\n",
            "  - 0.5 * np.log10(f_sq + const[3]))\n"
          ],
          "name": "stderr"
        },
        {
          "output_type": "stream",
          "text": [
            "0987 / 1600 | drive/My Drive/AudioTaggerData/FSDKaggle2018.audio_test/392819ad.wav\n"
          ],
          "name": "stdout"
        },
        {
          "output_type": "stream",
          "text": [
            "/usr/local/lib/python3.6/dist-packages/librosa/core/time_frequency.py:1006: RuntimeWarning: divide by zero encountered in log10\n",
            "  - 0.5 * np.log10(f_sq + const[3]))\n"
          ],
          "name": "stderr"
        },
        {
          "output_type": "stream",
          "text": [
            "0988 / 1600 | drive/My Drive/AudioTaggerData/FSDKaggle2018.audio_test/8ffab712.wav\n"
          ],
          "name": "stdout"
        },
        {
          "output_type": "stream",
          "text": [
            "/usr/local/lib/python3.6/dist-packages/librosa/core/time_frequency.py:1006: RuntimeWarning: divide by zero encountered in log10\n",
            "  - 0.5 * np.log10(f_sq + const[3]))\n"
          ],
          "name": "stderr"
        },
        {
          "output_type": "stream",
          "text": [
            "0989 / 1600 | drive/My Drive/AudioTaggerData/FSDKaggle2018.audio_test/5b7ab76d.wav\n"
          ],
          "name": "stdout"
        },
        {
          "output_type": "stream",
          "text": [
            "/usr/local/lib/python3.6/dist-packages/librosa/core/time_frequency.py:1006: RuntimeWarning: divide by zero encountered in log10\n",
            "  - 0.5 * np.log10(f_sq + const[3]))\n"
          ],
          "name": "stderr"
        },
        {
          "output_type": "stream",
          "text": [
            "0990 / 1600 | drive/My Drive/AudioTaggerData/FSDKaggle2018.audio_test/60f3194b.wav\n"
          ],
          "name": "stdout"
        },
        {
          "output_type": "stream",
          "text": [
            "/usr/local/lib/python3.6/dist-packages/librosa/core/time_frequency.py:1006: RuntimeWarning: divide by zero encountered in log10\n",
            "  - 0.5 * np.log10(f_sq + const[3]))\n"
          ],
          "name": "stderr"
        },
        {
          "output_type": "stream",
          "text": [
            "0991 / 1600 | drive/My Drive/AudioTaggerData/FSDKaggle2018.audio_test/acd9adb9.wav\n"
          ],
          "name": "stdout"
        },
        {
          "output_type": "stream",
          "text": [
            "/usr/local/lib/python3.6/dist-packages/librosa/core/time_frequency.py:1006: RuntimeWarning: divide by zero encountered in log10\n",
            "  - 0.5 * np.log10(f_sq + const[3]))\n"
          ],
          "name": "stderr"
        },
        {
          "output_type": "stream",
          "text": [
            "0992 / 1600 | drive/My Drive/AudioTaggerData/FSDKaggle2018.audio_test/92459670.wav\n"
          ],
          "name": "stdout"
        },
        {
          "output_type": "stream",
          "text": [
            "/usr/local/lib/python3.6/dist-packages/librosa/core/time_frequency.py:1006: RuntimeWarning: divide by zero encountered in log10\n",
            "  - 0.5 * np.log10(f_sq + const[3]))\n"
          ],
          "name": "stderr"
        },
        {
          "output_type": "stream",
          "text": [
            "0993 / 1600 | drive/My Drive/AudioTaggerData/FSDKaggle2018.audio_test/bfd90a5f.wav\n"
          ],
          "name": "stdout"
        },
        {
          "output_type": "stream",
          "text": [
            "/usr/local/lib/python3.6/dist-packages/librosa/core/time_frequency.py:1006: RuntimeWarning: divide by zero encountered in log10\n",
            "  - 0.5 * np.log10(f_sq + const[3]))\n"
          ],
          "name": "stderr"
        },
        {
          "output_type": "stream",
          "text": [
            "0994 / 1600 | drive/My Drive/AudioTaggerData/FSDKaggle2018.audio_test/7806316e.wav\n"
          ],
          "name": "stdout"
        },
        {
          "output_type": "stream",
          "text": [
            "/usr/local/lib/python3.6/dist-packages/librosa/core/time_frequency.py:1006: RuntimeWarning: divide by zero encountered in log10\n",
            "  - 0.5 * np.log10(f_sq + const[3]))\n"
          ],
          "name": "stderr"
        },
        {
          "output_type": "stream",
          "text": [
            "0995 / 1600 | drive/My Drive/AudioTaggerData/FSDKaggle2018.audio_test/0038a046.wav\n"
          ],
          "name": "stdout"
        },
        {
          "output_type": "stream",
          "text": [
            "/usr/local/lib/python3.6/dist-packages/librosa/core/time_frequency.py:1006: RuntimeWarning: divide by zero encountered in log10\n",
            "  - 0.5 * np.log10(f_sq + const[3]))\n"
          ],
          "name": "stderr"
        },
        {
          "output_type": "stream",
          "text": [
            "0996 / 1600 | drive/My Drive/AudioTaggerData/FSDKaggle2018.audio_test/c9e9eda5.wav\n"
          ],
          "name": "stdout"
        },
        {
          "output_type": "stream",
          "text": [
            "/usr/local/lib/python3.6/dist-packages/librosa/core/time_frequency.py:1006: RuntimeWarning: divide by zero encountered in log10\n",
            "  - 0.5 * np.log10(f_sq + const[3]))\n"
          ],
          "name": "stderr"
        },
        {
          "output_type": "stream",
          "text": [
            "0997 / 1600 | drive/My Drive/AudioTaggerData/FSDKaggle2018.audio_test/36a2202d.wav\n"
          ],
          "name": "stdout"
        },
        {
          "output_type": "stream",
          "text": [
            "/usr/local/lib/python3.6/dist-packages/librosa/core/time_frequency.py:1006: RuntimeWarning: divide by zero encountered in log10\n",
            "  - 0.5 * np.log10(f_sq + const[3]))\n"
          ],
          "name": "stderr"
        },
        {
          "output_type": "stream",
          "text": [
            "0998 / 1600 | drive/My Drive/AudioTaggerData/FSDKaggle2018.audio_test/f0f06c4b.wav\n"
          ],
          "name": "stdout"
        },
        {
          "output_type": "stream",
          "text": [
            "/usr/local/lib/python3.6/dist-packages/librosa/core/time_frequency.py:1006: RuntimeWarning: divide by zero encountered in log10\n",
            "  - 0.5 * np.log10(f_sq + const[3]))\n"
          ],
          "name": "stderr"
        },
        {
          "output_type": "stream",
          "text": [
            "0999 / 1600 | drive/My Drive/AudioTaggerData/FSDKaggle2018.audio_test/2174fe5c.wav\n"
          ],
          "name": "stdout"
        },
        {
          "output_type": "stream",
          "text": [
            "/usr/local/lib/python3.6/dist-packages/librosa/core/time_frequency.py:1006: RuntimeWarning: divide by zero encountered in log10\n",
            "  - 0.5 * np.log10(f_sq + const[3]))\n"
          ],
          "name": "stderr"
        },
        {
          "output_type": "stream",
          "text": [
            "1000 / 1600 | drive/My Drive/AudioTaggerData/FSDKaggle2018.audio_test/5515cd5d.wav\n"
          ],
          "name": "stdout"
        },
        {
          "output_type": "stream",
          "text": [
            "/usr/local/lib/python3.6/dist-packages/librosa/core/time_frequency.py:1006: RuntimeWarning: divide by zero encountered in log10\n",
            "  - 0.5 * np.log10(f_sq + const[3]))\n"
          ],
          "name": "stderr"
        },
        {
          "output_type": "stream",
          "text": [
            "1001 / 1600 | drive/My Drive/AudioTaggerData/FSDKaggle2018.audio_test/d7dbe619.wav\n"
          ],
          "name": "stdout"
        },
        {
          "output_type": "stream",
          "text": [
            "/usr/local/lib/python3.6/dist-packages/librosa/core/time_frequency.py:1006: RuntimeWarning: divide by zero encountered in log10\n",
            "  - 0.5 * np.log10(f_sq + const[3]))\n"
          ],
          "name": "stderr"
        },
        {
          "output_type": "stream",
          "text": [
            "1002 / 1600 | drive/My Drive/AudioTaggerData/FSDKaggle2018.audio_test/c996ca4c.wav\n"
          ],
          "name": "stdout"
        },
        {
          "output_type": "stream",
          "text": [
            "/usr/local/lib/python3.6/dist-packages/librosa/core/time_frequency.py:1006: RuntimeWarning: divide by zero encountered in log10\n",
            "  - 0.5 * np.log10(f_sq + const[3]))\n"
          ],
          "name": "stderr"
        },
        {
          "output_type": "stream",
          "text": [
            "1003 / 1600 | drive/My Drive/AudioTaggerData/FSDKaggle2018.audio_test/51d2ac05.wav\n"
          ],
          "name": "stdout"
        },
        {
          "output_type": "stream",
          "text": [
            "/usr/local/lib/python3.6/dist-packages/librosa/core/time_frequency.py:1006: RuntimeWarning: divide by zero encountered in log10\n",
            "  - 0.5 * np.log10(f_sq + const[3]))\n"
          ],
          "name": "stderr"
        },
        {
          "output_type": "stream",
          "text": [
            "1004 / 1600 | drive/My Drive/AudioTaggerData/FSDKaggle2018.audio_test/c7b3c09e.wav\n"
          ],
          "name": "stdout"
        },
        {
          "output_type": "stream",
          "text": [
            "/usr/local/lib/python3.6/dist-packages/librosa/core/time_frequency.py:1006: RuntimeWarning: divide by zero encountered in log10\n",
            "  - 0.5 * np.log10(f_sq + const[3]))\n"
          ],
          "name": "stderr"
        },
        {
          "output_type": "stream",
          "text": [
            "1005 / 1600 | drive/My Drive/AudioTaggerData/FSDKaggle2018.audio_test/0bb807c0.wav\n"
          ],
          "name": "stdout"
        },
        {
          "output_type": "stream",
          "text": [
            "/usr/local/lib/python3.6/dist-packages/librosa/core/time_frequency.py:1006: RuntimeWarning: divide by zero encountered in log10\n",
            "  - 0.5 * np.log10(f_sq + const[3]))\n"
          ],
          "name": "stderr"
        },
        {
          "output_type": "stream",
          "text": [
            "1006 / 1600 | drive/My Drive/AudioTaggerData/FSDKaggle2018.audio_test/77393d30.wav\n"
          ],
          "name": "stdout"
        },
        {
          "output_type": "stream",
          "text": [
            "/usr/local/lib/python3.6/dist-packages/librosa/core/time_frequency.py:1006: RuntimeWarning: divide by zero encountered in log10\n",
            "  - 0.5 * np.log10(f_sq + const[3]))\n"
          ],
          "name": "stderr"
        },
        {
          "output_type": "stream",
          "text": [
            "1007 / 1600 | drive/My Drive/AudioTaggerData/FSDKaggle2018.audio_test/315e2cf1.wav\n"
          ],
          "name": "stdout"
        },
        {
          "output_type": "stream",
          "text": [
            "/usr/local/lib/python3.6/dist-packages/librosa/core/time_frequency.py:1006: RuntimeWarning: divide by zero encountered in log10\n",
            "  - 0.5 * np.log10(f_sq + const[3]))\n"
          ],
          "name": "stderr"
        },
        {
          "output_type": "stream",
          "text": [
            "1008 / 1600 | drive/My Drive/AudioTaggerData/FSDKaggle2018.audio_test/6115040b.wav\n"
          ],
          "name": "stdout"
        },
        {
          "output_type": "stream",
          "text": [
            "/usr/local/lib/python3.6/dist-packages/librosa/core/time_frequency.py:1006: RuntimeWarning: divide by zero encountered in log10\n",
            "  - 0.5 * np.log10(f_sq + const[3]))\n"
          ],
          "name": "stderr"
        },
        {
          "output_type": "stream",
          "text": [
            "1009 / 1600 | drive/My Drive/AudioTaggerData/FSDKaggle2018.audio_test/f6129f6b.wav\n"
          ],
          "name": "stdout"
        },
        {
          "output_type": "stream",
          "text": [
            "/usr/local/lib/python3.6/dist-packages/librosa/core/time_frequency.py:1006: RuntimeWarning: divide by zero encountered in log10\n",
            "  - 0.5 * np.log10(f_sq + const[3]))\n"
          ],
          "name": "stderr"
        },
        {
          "output_type": "stream",
          "text": [
            "1010 / 1600 | drive/My Drive/AudioTaggerData/FSDKaggle2018.audio_test/117dcac8.wav\n"
          ],
          "name": "stdout"
        },
        {
          "output_type": "stream",
          "text": [
            "/usr/local/lib/python3.6/dist-packages/librosa/core/time_frequency.py:1006: RuntimeWarning: divide by zero encountered in log10\n",
            "  - 0.5 * np.log10(f_sq + const[3]))\n"
          ],
          "name": "stderr"
        },
        {
          "output_type": "stream",
          "text": [
            "1011 / 1600 | drive/My Drive/AudioTaggerData/FSDKaggle2018.audio_test/efe4ee16.wav\n"
          ],
          "name": "stdout"
        },
        {
          "output_type": "stream",
          "text": [
            "/usr/local/lib/python3.6/dist-packages/librosa/core/time_frequency.py:1006: RuntimeWarning: divide by zero encountered in log10\n",
            "  - 0.5 * np.log10(f_sq + const[3]))\n"
          ],
          "name": "stderr"
        },
        {
          "output_type": "stream",
          "text": [
            "1012 / 1600 | drive/My Drive/AudioTaggerData/FSDKaggle2018.audio_test/f17ce543.wav\n"
          ],
          "name": "stdout"
        },
        {
          "output_type": "stream",
          "text": [
            "/usr/local/lib/python3.6/dist-packages/librosa/core/time_frequency.py:1006: RuntimeWarning: divide by zero encountered in log10\n",
            "  - 0.5 * np.log10(f_sq + const[3]))\n"
          ],
          "name": "stderr"
        },
        {
          "output_type": "stream",
          "text": [
            "1013 / 1600 | drive/My Drive/AudioTaggerData/FSDKaggle2018.audio_test/9b2b21bb.wav\n"
          ],
          "name": "stdout"
        },
        {
          "output_type": "stream",
          "text": [
            "/usr/local/lib/python3.6/dist-packages/librosa/core/time_frequency.py:1006: RuntimeWarning: divide by zero encountered in log10\n",
            "  - 0.5 * np.log10(f_sq + const[3]))\n"
          ],
          "name": "stderr"
        },
        {
          "output_type": "stream",
          "text": [
            "1014 / 1600 | drive/My Drive/AudioTaggerData/FSDKaggle2018.audio_test/448757e5.wav\n"
          ],
          "name": "stdout"
        },
        {
          "output_type": "stream",
          "text": [
            "/usr/local/lib/python3.6/dist-packages/librosa/core/time_frequency.py:1006: RuntimeWarning: divide by zero encountered in log10\n",
            "  - 0.5 * np.log10(f_sq + const[3]))\n"
          ],
          "name": "stderr"
        },
        {
          "output_type": "stream",
          "text": [
            "1015 / 1600 | drive/My Drive/AudioTaggerData/FSDKaggle2018.audio_test/6dfc8cf2.wav\n"
          ],
          "name": "stdout"
        },
        {
          "output_type": "stream",
          "text": [
            "/usr/local/lib/python3.6/dist-packages/librosa/core/time_frequency.py:1006: RuntimeWarning: divide by zero encountered in log10\n",
            "  - 0.5 * np.log10(f_sq + const[3]))\n"
          ],
          "name": "stderr"
        },
        {
          "output_type": "stream",
          "text": [
            "1016 / 1600 | drive/My Drive/AudioTaggerData/FSDKaggle2018.audio_test/9bb6e17e.wav\n"
          ],
          "name": "stdout"
        },
        {
          "output_type": "stream",
          "text": [
            "/usr/local/lib/python3.6/dist-packages/librosa/core/time_frequency.py:1006: RuntimeWarning: divide by zero encountered in log10\n",
            "  - 0.5 * np.log10(f_sq + const[3]))\n"
          ],
          "name": "stderr"
        },
        {
          "output_type": "stream",
          "text": [
            "1017 / 1600 | drive/My Drive/AudioTaggerData/FSDKaggle2018.audio_test/d5486a44.wav\n"
          ],
          "name": "stdout"
        },
        {
          "output_type": "stream",
          "text": [
            "/usr/local/lib/python3.6/dist-packages/librosa/core/time_frequency.py:1006: RuntimeWarning: divide by zero encountered in log10\n",
            "  - 0.5 * np.log10(f_sq + const[3]))\n"
          ],
          "name": "stderr"
        },
        {
          "output_type": "stream",
          "text": [
            "1018 / 1600 | drive/My Drive/AudioTaggerData/FSDKaggle2018.audio_test/7b2f865c.wav\n"
          ],
          "name": "stdout"
        },
        {
          "output_type": "stream",
          "text": [
            "/usr/local/lib/python3.6/dist-packages/librosa/core/time_frequency.py:1006: RuntimeWarning: divide by zero encountered in log10\n",
            "  - 0.5 * np.log10(f_sq + const[3]))\n"
          ],
          "name": "stderr"
        },
        {
          "output_type": "stream",
          "text": [
            "1019 / 1600 | drive/My Drive/AudioTaggerData/FSDKaggle2018.audio_test/a84333c6.wav\n"
          ],
          "name": "stdout"
        },
        {
          "output_type": "stream",
          "text": [
            "/usr/local/lib/python3.6/dist-packages/librosa/core/time_frequency.py:1006: RuntimeWarning: divide by zero encountered in log10\n",
            "  - 0.5 * np.log10(f_sq + const[3]))\n"
          ],
          "name": "stderr"
        },
        {
          "output_type": "stream",
          "text": [
            "1020 / 1600 | drive/My Drive/AudioTaggerData/FSDKaggle2018.audio_test/8464084e.wav\n"
          ],
          "name": "stdout"
        },
        {
          "output_type": "stream",
          "text": [
            "/usr/local/lib/python3.6/dist-packages/librosa/core/time_frequency.py:1006: RuntimeWarning: divide by zero encountered in log10\n",
            "  - 0.5 * np.log10(f_sq + const[3]))\n"
          ],
          "name": "stderr"
        },
        {
          "output_type": "stream",
          "text": [
            "1021 / 1600 | drive/My Drive/AudioTaggerData/FSDKaggle2018.audio_test/58663e0d.wav\n"
          ],
          "name": "stdout"
        },
        {
          "output_type": "stream",
          "text": [
            "/usr/local/lib/python3.6/dist-packages/librosa/core/time_frequency.py:1006: RuntimeWarning: divide by zero encountered in log10\n",
            "  - 0.5 * np.log10(f_sq + const[3]))\n"
          ],
          "name": "stderr"
        },
        {
          "output_type": "stream",
          "text": [
            "1022 / 1600 | drive/My Drive/AudioTaggerData/FSDKaggle2018.audio_test/da543326.wav\n"
          ],
          "name": "stdout"
        },
        {
          "output_type": "stream",
          "text": [
            "/usr/local/lib/python3.6/dist-packages/librosa/core/time_frequency.py:1006: RuntimeWarning: divide by zero encountered in log10\n",
            "  - 0.5 * np.log10(f_sq + const[3]))\n"
          ],
          "name": "stderr"
        },
        {
          "output_type": "stream",
          "text": [
            "1023 / 1600 | drive/My Drive/AudioTaggerData/FSDKaggle2018.audio_test/cbc6e28a.wav\n"
          ],
          "name": "stdout"
        },
        {
          "output_type": "stream",
          "text": [
            "/usr/local/lib/python3.6/dist-packages/librosa/core/time_frequency.py:1006: RuntimeWarning: divide by zero encountered in log10\n",
            "  - 0.5 * np.log10(f_sq + const[3]))\n"
          ],
          "name": "stderr"
        },
        {
          "output_type": "stream",
          "text": [
            "1024 / 1600 | drive/My Drive/AudioTaggerData/FSDKaggle2018.audio_test/71107f1c.wav\n"
          ],
          "name": "stdout"
        },
        {
          "output_type": "stream",
          "text": [
            "/usr/local/lib/python3.6/dist-packages/librosa/core/time_frequency.py:1006: RuntimeWarning: divide by zero encountered in log10\n",
            "  - 0.5 * np.log10(f_sq + const[3]))\n"
          ],
          "name": "stderr"
        },
        {
          "output_type": "stream",
          "text": [
            "1025 / 1600 | drive/My Drive/AudioTaggerData/FSDKaggle2018.audio_test/39559fac.wav\n"
          ],
          "name": "stdout"
        },
        {
          "output_type": "stream",
          "text": [
            "/usr/local/lib/python3.6/dist-packages/librosa/core/time_frequency.py:1006: RuntimeWarning: divide by zero encountered in log10\n",
            "  - 0.5 * np.log10(f_sq + const[3]))\n"
          ],
          "name": "stderr"
        },
        {
          "output_type": "stream",
          "text": [
            "1026 / 1600 | drive/My Drive/AudioTaggerData/FSDKaggle2018.audio_test/ad142ed0.wav\n"
          ],
          "name": "stdout"
        },
        {
          "output_type": "stream",
          "text": [
            "/usr/local/lib/python3.6/dist-packages/librosa/core/time_frequency.py:1006: RuntimeWarning: divide by zero encountered in log10\n",
            "  - 0.5 * np.log10(f_sq + const[3]))\n"
          ],
          "name": "stderr"
        },
        {
          "output_type": "stream",
          "text": [
            "1027 / 1600 | drive/My Drive/AudioTaggerData/FSDKaggle2018.audio_test/19536d06.wav\n"
          ],
          "name": "stdout"
        },
        {
          "output_type": "stream",
          "text": [
            "/usr/local/lib/python3.6/dist-packages/librosa/core/time_frequency.py:1006: RuntimeWarning: divide by zero encountered in log10\n",
            "  - 0.5 * np.log10(f_sq + const[3]))\n"
          ],
          "name": "stderr"
        },
        {
          "output_type": "stream",
          "text": [
            "1028 / 1600 | drive/My Drive/AudioTaggerData/FSDKaggle2018.audio_test/9f195714.wav\n"
          ],
          "name": "stdout"
        },
        {
          "output_type": "stream",
          "text": [
            "/usr/local/lib/python3.6/dist-packages/librosa/core/time_frequency.py:1006: RuntimeWarning: divide by zero encountered in log10\n",
            "  - 0.5 * np.log10(f_sq + const[3]))\n"
          ],
          "name": "stderr"
        },
        {
          "output_type": "stream",
          "text": [
            "1029 / 1600 | drive/My Drive/AudioTaggerData/FSDKaggle2018.audio_test/be977e89.wav\n"
          ],
          "name": "stdout"
        },
        {
          "output_type": "stream",
          "text": [
            "/usr/local/lib/python3.6/dist-packages/librosa/core/time_frequency.py:1006: RuntimeWarning: divide by zero encountered in log10\n",
            "  - 0.5 * np.log10(f_sq + const[3]))\n"
          ],
          "name": "stderr"
        },
        {
          "output_type": "stream",
          "text": [
            "1030 / 1600 | drive/My Drive/AudioTaggerData/FSDKaggle2018.audio_test/567d7ee2.wav\n"
          ],
          "name": "stdout"
        },
        {
          "output_type": "stream",
          "text": [
            "/usr/local/lib/python3.6/dist-packages/librosa/core/time_frequency.py:1006: RuntimeWarning: divide by zero encountered in log10\n",
            "  - 0.5 * np.log10(f_sq + const[3]))\n"
          ],
          "name": "stderr"
        },
        {
          "output_type": "stream",
          "text": [
            "1031 / 1600 | drive/My Drive/AudioTaggerData/FSDKaggle2018.audio_test/b8456dd4.wav\n"
          ],
          "name": "stdout"
        },
        {
          "output_type": "stream",
          "text": [
            "/usr/local/lib/python3.6/dist-packages/librosa/core/time_frequency.py:1006: RuntimeWarning: divide by zero encountered in log10\n",
            "  - 0.5 * np.log10(f_sq + const[3]))\n"
          ],
          "name": "stderr"
        },
        {
          "output_type": "stream",
          "text": [
            "1032 / 1600 | drive/My Drive/AudioTaggerData/FSDKaggle2018.audio_test/580cf7d2.wav\n"
          ],
          "name": "stdout"
        },
        {
          "output_type": "stream",
          "text": [
            "/usr/local/lib/python3.6/dist-packages/librosa/core/time_frequency.py:1006: RuntimeWarning: divide by zero encountered in log10\n",
            "  - 0.5 * np.log10(f_sq + const[3]))\n"
          ],
          "name": "stderr"
        },
        {
          "output_type": "stream",
          "text": [
            "1033 / 1600 | drive/My Drive/AudioTaggerData/FSDKaggle2018.audio_test/ee15464b.wav\n"
          ],
          "name": "stdout"
        },
        {
          "output_type": "stream",
          "text": [
            "/usr/local/lib/python3.6/dist-packages/librosa/core/time_frequency.py:1006: RuntimeWarning: divide by zero encountered in log10\n",
            "  - 0.5 * np.log10(f_sq + const[3]))\n"
          ],
          "name": "stderr"
        },
        {
          "output_type": "stream",
          "text": [
            "1034 / 1600 | drive/My Drive/AudioTaggerData/FSDKaggle2018.audio_test/7d106d05.wav\n"
          ],
          "name": "stdout"
        },
        {
          "output_type": "stream",
          "text": [
            "/usr/local/lib/python3.6/dist-packages/librosa/core/time_frequency.py:1006: RuntimeWarning: divide by zero encountered in log10\n",
            "  - 0.5 * np.log10(f_sq + const[3]))\n"
          ],
          "name": "stderr"
        },
        {
          "output_type": "stream",
          "text": [
            "1035 / 1600 | drive/My Drive/AudioTaggerData/FSDKaggle2018.audio_test/ec683036.wav\n"
          ],
          "name": "stdout"
        },
        {
          "output_type": "stream",
          "text": [
            "/usr/local/lib/python3.6/dist-packages/librosa/core/time_frequency.py:1006: RuntimeWarning: divide by zero encountered in log10\n",
            "  - 0.5 * np.log10(f_sq + const[3]))\n"
          ],
          "name": "stderr"
        },
        {
          "output_type": "stream",
          "text": [
            "1036 / 1600 | drive/My Drive/AudioTaggerData/FSDKaggle2018.audio_test/28b6ff25.wav\n"
          ],
          "name": "stdout"
        },
        {
          "output_type": "stream",
          "text": [
            "/usr/local/lib/python3.6/dist-packages/librosa/core/time_frequency.py:1006: RuntimeWarning: divide by zero encountered in log10\n",
            "  - 0.5 * np.log10(f_sq + const[3]))\n"
          ],
          "name": "stderr"
        },
        {
          "output_type": "stream",
          "text": [
            "1037 / 1600 | drive/My Drive/AudioTaggerData/FSDKaggle2018.audio_test/352f143a.wav\n"
          ],
          "name": "stdout"
        },
        {
          "output_type": "stream",
          "text": [
            "/usr/local/lib/python3.6/dist-packages/librosa/core/time_frequency.py:1006: RuntimeWarning: divide by zero encountered in log10\n",
            "  - 0.5 * np.log10(f_sq + const[3]))\n"
          ],
          "name": "stderr"
        },
        {
          "output_type": "stream",
          "text": [
            "1038 / 1600 | drive/My Drive/AudioTaggerData/FSDKaggle2018.audio_test/02fb6c5b.wav\n"
          ],
          "name": "stdout"
        },
        {
          "output_type": "stream",
          "text": [
            "/usr/local/lib/python3.6/dist-packages/librosa/core/time_frequency.py:1006: RuntimeWarning: divide by zero encountered in log10\n",
            "  - 0.5 * np.log10(f_sq + const[3]))\n"
          ],
          "name": "stderr"
        },
        {
          "output_type": "stream",
          "text": [
            "1039 / 1600 | drive/My Drive/AudioTaggerData/FSDKaggle2018.audio_test/f3dc4e70.wav\n"
          ],
          "name": "stdout"
        },
        {
          "output_type": "stream",
          "text": [
            "/usr/local/lib/python3.6/dist-packages/librosa/core/time_frequency.py:1006: RuntimeWarning: divide by zero encountered in log10\n",
            "  - 0.5 * np.log10(f_sq + const[3]))\n"
          ],
          "name": "stderr"
        },
        {
          "output_type": "stream",
          "text": [
            "1040 / 1600 | drive/My Drive/AudioTaggerData/FSDKaggle2018.audio_test/07d5cca9.wav\n"
          ],
          "name": "stdout"
        },
        {
          "output_type": "stream",
          "text": [
            "/usr/local/lib/python3.6/dist-packages/librosa/core/time_frequency.py:1006: RuntimeWarning: divide by zero encountered in log10\n",
            "  - 0.5 * np.log10(f_sq + const[3]))\n"
          ],
          "name": "stderr"
        },
        {
          "output_type": "stream",
          "text": [
            "1041 / 1600 | drive/My Drive/AudioTaggerData/FSDKaggle2018.audio_test/52264aa1.wav\n"
          ],
          "name": "stdout"
        },
        {
          "output_type": "stream",
          "text": [
            "/usr/local/lib/python3.6/dist-packages/librosa/core/time_frequency.py:1006: RuntimeWarning: divide by zero encountered in log10\n",
            "  - 0.5 * np.log10(f_sq + const[3]))\n"
          ],
          "name": "stderr"
        },
        {
          "output_type": "stream",
          "text": [
            "1042 / 1600 | drive/My Drive/AudioTaggerData/FSDKaggle2018.audio_test/b292cc33.wav\n"
          ],
          "name": "stdout"
        },
        {
          "output_type": "stream",
          "text": [
            "/usr/local/lib/python3.6/dist-packages/librosa/core/time_frequency.py:1006: RuntimeWarning: divide by zero encountered in log10\n",
            "  - 0.5 * np.log10(f_sq + const[3]))\n"
          ],
          "name": "stderr"
        },
        {
          "output_type": "stream",
          "text": [
            "1043 / 1600 | drive/My Drive/AudioTaggerData/FSDKaggle2018.audio_test/11704d14.wav\n"
          ],
          "name": "stdout"
        },
        {
          "output_type": "stream",
          "text": [
            "/usr/local/lib/python3.6/dist-packages/librosa/core/time_frequency.py:1006: RuntimeWarning: divide by zero encountered in log10\n",
            "  - 0.5 * np.log10(f_sq + const[3]))\n"
          ],
          "name": "stderr"
        },
        {
          "output_type": "stream",
          "text": [
            "1044 / 1600 | drive/My Drive/AudioTaggerData/FSDKaggle2018.audio_test/1cb49809.wav\n"
          ],
          "name": "stdout"
        },
        {
          "output_type": "stream",
          "text": [
            "/usr/local/lib/python3.6/dist-packages/librosa/core/time_frequency.py:1006: RuntimeWarning: divide by zero encountered in log10\n",
            "  - 0.5 * np.log10(f_sq + const[3]))\n"
          ],
          "name": "stderr"
        },
        {
          "output_type": "stream",
          "text": [
            "1045 / 1600 | drive/My Drive/AudioTaggerData/FSDKaggle2018.audio_test/1a7618a1.wav\n"
          ],
          "name": "stdout"
        },
        {
          "output_type": "stream",
          "text": [
            "/usr/local/lib/python3.6/dist-packages/librosa/core/time_frequency.py:1006: RuntimeWarning: divide by zero encountered in log10\n",
            "  - 0.5 * np.log10(f_sq + const[3]))\n"
          ],
          "name": "stderr"
        },
        {
          "output_type": "stream",
          "text": [
            "1046 / 1600 | drive/My Drive/AudioTaggerData/FSDKaggle2018.audio_test/6b65befd.wav\n"
          ],
          "name": "stdout"
        },
        {
          "output_type": "stream",
          "text": [
            "/usr/local/lib/python3.6/dist-packages/librosa/core/time_frequency.py:1006: RuntimeWarning: divide by zero encountered in log10\n",
            "  - 0.5 * np.log10(f_sq + const[3]))\n"
          ],
          "name": "stderr"
        },
        {
          "output_type": "stream",
          "text": [
            "1047 / 1600 | drive/My Drive/AudioTaggerData/FSDKaggle2018.audio_test/57456bf8.wav\n"
          ],
          "name": "stdout"
        },
        {
          "output_type": "stream",
          "text": [
            "/usr/local/lib/python3.6/dist-packages/librosa/core/time_frequency.py:1006: RuntimeWarning: divide by zero encountered in log10\n",
            "  - 0.5 * np.log10(f_sq + const[3]))\n"
          ],
          "name": "stderr"
        },
        {
          "output_type": "stream",
          "text": [
            "1048 / 1600 | drive/My Drive/AudioTaggerData/FSDKaggle2018.audio_test/1837f058.wav\n"
          ],
          "name": "stdout"
        },
        {
          "output_type": "stream",
          "text": [
            "/usr/local/lib/python3.6/dist-packages/librosa/core/time_frequency.py:1006: RuntimeWarning: divide by zero encountered in log10\n",
            "  - 0.5 * np.log10(f_sq + const[3]))\n"
          ],
          "name": "stderr"
        },
        {
          "output_type": "stream",
          "text": [
            "1049 / 1600 | drive/My Drive/AudioTaggerData/FSDKaggle2018.audio_test/16aaa6b7.wav\n"
          ],
          "name": "stdout"
        },
        {
          "output_type": "stream",
          "text": [
            "/usr/local/lib/python3.6/dist-packages/librosa/core/time_frequency.py:1006: RuntimeWarning: divide by zero encountered in log10\n",
            "  - 0.5 * np.log10(f_sq + const[3]))\n"
          ],
          "name": "stderr"
        },
        {
          "output_type": "stream",
          "text": [
            "1050 / 1600 | drive/My Drive/AudioTaggerData/FSDKaggle2018.audio_test/f8e1e10f.wav\n"
          ],
          "name": "stdout"
        },
        {
          "output_type": "stream",
          "text": [
            "/usr/local/lib/python3.6/dist-packages/librosa/core/time_frequency.py:1006: RuntimeWarning: divide by zero encountered in log10\n",
            "  - 0.5 * np.log10(f_sq + const[3]))\n"
          ],
          "name": "stderr"
        },
        {
          "output_type": "stream",
          "text": [
            "1051 / 1600 | drive/My Drive/AudioTaggerData/FSDKaggle2018.audio_test/14a40516.wav\n"
          ],
          "name": "stdout"
        },
        {
          "output_type": "stream",
          "text": [
            "/usr/local/lib/python3.6/dist-packages/librosa/core/time_frequency.py:1006: RuntimeWarning: divide by zero encountered in log10\n",
            "  - 0.5 * np.log10(f_sq + const[3]))\n"
          ],
          "name": "stderr"
        },
        {
          "output_type": "stream",
          "text": [
            "1052 / 1600 | drive/My Drive/AudioTaggerData/FSDKaggle2018.audio_test/4110cbce.wav\n"
          ],
          "name": "stdout"
        },
        {
          "output_type": "stream",
          "text": [
            "/usr/local/lib/python3.6/dist-packages/librosa/core/time_frequency.py:1006: RuntimeWarning: divide by zero encountered in log10\n",
            "  - 0.5 * np.log10(f_sq + const[3]))\n"
          ],
          "name": "stderr"
        },
        {
          "output_type": "stream",
          "text": [
            "1053 / 1600 | drive/My Drive/AudioTaggerData/FSDKaggle2018.audio_test/a5989d06.wav\n"
          ],
          "name": "stdout"
        },
        {
          "output_type": "stream",
          "text": [
            "/usr/local/lib/python3.6/dist-packages/librosa/core/time_frequency.py:1006: RuntimeWarning: divide by zero encountered in log10\n",
            "  - 0.5 * np.log10(f_sq + const[3]))\n"
          ],
          "name": "stderr"
        },
        {
          "output_type": "stream",
          "text": [
            "1054 / 1600 | drive/My Drive/AudioTaggerData/FSDKaggle2018.audio_test/98c4a766.wav\n"
          ],
          "name": "stdout"
        },
        {
          "output_type": "stream",
          "text": [
            "/usr/local/lib/python3.6/dist-packages/librosa/core/time_frequency.py:1006: RuntimeWarning: divide by zero encountered in log10\n",
            "  - 0.5 * np.log10(f_sq + const[3]))\n"
          ],
          "name": "stderr"
        },
        {
          "output_type": "stream",
          "text": [
            "1055 / 1600 | drive/My Drive/AudioTaggerData/FSDKaggle2018.audio_test/d4e15f25.wav\n"
          ],
          "name": "stdout"
        },
        {
          "output_type": "stream",
          "text": [
            "/usr/local/lib/python3.6/dist-packages/librosa/core/time_frequency.py:1006: RuntimeWarning: divide by zero encountered in log10\n",
            "  - 0.5 * np.log10(f_sq + const[3]))\n"
          ],
          "name": "stderr"
        },
        {
          "output_type": "stream",
          "text": [
            "1056 / 1600 | drive/My Drive/AudioTaggerData/FSDKaggle2018.audio_test/4ed15aa6.wav\n"
          ],
          "name": "stdout"
        },
        {
          "output_type": "stream",
          "text": [
            "/usr/local/lib/python3.6/dist-packages/librosa/core/time_frequency.py:1006: RuntimeWarning: divide by zero encountered in log10\n",
            "  - 0.5 * np.log10(f_sq + const[3]))\n"
          ],
          "name": "stderr"
        },
        {
          "output_type": "stream",
          "text": [
            "1057 / 1600 | drive/My Drive/AudioTaggerData/FSDKaggle2018.audio_test/2103391b.wav\n"
          ],
          "name": "stdout"
        },
        {
          "output_type": "stream",
          "text": [
            "/usr/local/lib/python3.6/dist-packages/librosa/core/time_frequency.py:1006: RuntimeWarning: divide by zero encountered in log10\n",
            "  - 0.5 * np.log10(f_sq + const[3]))\n"
          ],
          "name": "stderr"
        },
        {
          "output_type": "stream",
          "text": [
            "1058 / 1600 | drive/My Drive/AudioTaggerData/FSDKaggle2018.audio_test/803b5f25.wav\n"
          ],
          "name": "stdout"
        },
        {
          "output_type": "stream",
          "text": [
            "/usr/local/lib/python3.6/dist-packages/librosa/core/time_frequency.py:1006: RuntimeWarning: divide by zero encountered in log10\n",
            "  - 0.5 * np.log10(f_sq + const[3]))\n"
          ],
          "name": "stderr"
        },
        {
          "output_type": "stream",
          "text": [
            "1059 / 1600 | drive/My Drive/AudioTaggerData/FSDKaggle2018.audio_test/98e5081d.wav\n"
          ],
          "name": "stdout"
        },
        {
          "output_type": "stream",
          "text": [
            "/usr/local/lib/python3.6/dist-packages/librosa/core/time_frequency.py:1006: RuntimeWarning: divide by zero encountered in log10\n",
            "  - 0.5 * np.log10(f_sq + const[3]))\n"
          ],
          "name": "stderr"
        },
        {
          "output_type": "stream",
          "text": [
            "1060 / 1600 | drive/My Drive/AudioTaggerData/FSDKaggle2018.audio_test/bc9ecaac.wav\n"
          ],
          "name": "stdout"
        },
        {
          "output_type": "stream",
          "text": [
            "/usr/local/lib/python3.6/dist-packages/librosa/core/time_frequency.py:1006: RuntimeWarning: divide by zero encountered in log10\n",
            "  - 0.5 * np.log10(f_sq + const[3]))\n"
          ],
          "name": "stderr"
        },
        {
          "output_type": "stream",
          "text": [
            "1061 / 1600 | drive/My Drive/AudioTaggerData/FSDKaggle2018.audio_test/966a55fa.wav\n"
          ],
          "name": "stdout"
        },
        {
          "output_type": "stream",
          "text": [
            "/usr/local/lib/python3.6/dist-packages/librosa/core/time_frequency.py:1006: RuntimeWarning: divide by zero encountered in log10\n",
            "  - 0.5 * np.log10(f_sq + const[3]))\n"
          ],
          "name": "stderr"
        },
        {
          "output_type": "stream",
          "text": [
            "1062 / 1600 | drive/My Drive/AudioTaggerData/FSDKaggle2018.audio_test/cbd6b37c.wav\n"
          ],
          "name": "stdout"
        },
        {
          "output_type": "stream",
          "text": [
            "/usr/local/lib/python3.6/dist-packages/librosa/core/time_frequency.py:1006: RuntimeWarning: divide by zero encountered in log10\n",
            "  - 0.5 * np.log10(f_sq + const[3]))\n"
          ],
          "name": "stderr"
        },
        {
          "output_type": "stream",
          "text": [
            "1063 / 1600 | drive/My Drive/AudioTaggerData/FSDKaggle2018.audio_test/751a5a36.wav\n"
          ],
          "name": "stdout"
        },
        {
          "output_type": "stream",
          "text": [
            "/usr/local/lib/python3.6/dist-packages/librosa/core/time_frequency.py:1006: RuntimeWarning: divide by zero encountered in log10\n",
            "  - 0.5 * np.log10(f_sq + const[3]))\n"
          ],
          "name": "stderr"
        },
        {
          "output_type": "stream",
          "text": [
            "1064 / 1600 | drive/My Drive/AudioTaggerData/FSDKaggle2018.audio_test/678cc7e1.wav\n"
          ],
          "name": "stdout"
        },
        {
          "output_type": "stream",
          "text": [
            "/usr/local/lib/python3.6/dist-packages/librosa/core/time_frequency.py:1006: RuntimeWarning: divide by zero encountered in log10\n",
            "  - 0.5 * np.log10(f_sq + const[3]))\n"
          ],
          "name": "stderr"
        },
        {
          "output_type": "stream",
          "text": [
            "1065 / 1600 | drive/My Drive/AudioTaggerData/FSDKaggle2018.audio_test/ed2802db.wav\n"
          ],
          "name": "stdout"
        },
        {
          "output_type": "stream",
          "text": [
            "/usr/local/lib/python3.6/dist-packages/librosa/core/time_frequency.py:1006: RuntimeWarning: divide by zero encountered in log10\n",
            "  - 0.5 * np.log10(f_sq + const[3]))\n"
          ],
          "name": "stderr"
        },
        {
          "output_type": "stream",
          "text": [
            "1066 / 1600 | drive/My Drive/AudioTaggerData/FSDKaggle2018.audio_test/ea14cf6b.wav\n"
          ],
          "name": "stdout"
        },
        {
          "output_type": "stream",
          "text": [
            "/usr/local/lib/python3.6/dist-packages/librosa/core/time_frequency.py:1006: RuntimeWarning: divide by zero encountered in log10\n",
            "  - 0.5 * np.log10(f_sq + const[3]))\n"
          ],
          "name": "stderr"
        },
        {
          "output_type": "stream",
          "text": [
            "1067 / 1600 | drive/My Drive/AudioTaggerData/FSDKaggle2018.audio_test/00ae03f6.wav\n"
          ],
          "name": "stdout"
        },
        {
          "output_type": "stream",
          "text": [
            "/usr/local/lib/python3.6/dist-packages/librosa/core/time_frequency.py:1006: RuntimeWarning: divide by zero encountered in log10\n",
            "  - 0.5 * np.log10(f_sq + const[3]))\n"
          ],
          "name": "stderr"
        },
        {
          "output_type": "stream",
          "text": [
            "1068 / 1600 | drive/My Drive/AudioTaggerData/FSDKaggle2018.audio_test/d906c3e1.wav\n"
          ],
          "name": "stdout"
        },
        {
          "output_type": "stream",
          "text": [
            "/usr/local/lib/python3.6/dist-packages/librosa/core/time_frequency.py:1006: RuntimeWarning: divide by zero encountered in log10\n",
            "  - 0.5 * np.log10(f_sq + const[3]))\n"
          ],
          "name": "stderr"
        },
        {
          "output_type": "stream",
          "text": [
            "1069 / 1600 | drive/My Drive/AudioTaggerData/FSDKaggle2018.audio_test/2fd2722a.wav\n"
          ],
          "name": "stdout"
        },
        {
          "output_type": "stream",
          "text": [
            "/usr/local/lib/python3.6/dist-packages/librosa/core/time_frequency.py:1006: RuntimeWarning: divide by zero encountered in log10\n",
            "  - 0.5 * np.log10(f_sq + const[3]))\n"
          ],
          "name": "stderr"
        },
        {
          "output_type": "stream",
          "text": [
            "1070 / 1600 | drive/My Drive/AudioTaggerData/FSDKaggle2018.audio_test/7abe967a.wav\n"
          ],
          "name": "stdout"
        },
        {
          "output_type": "stream",
          "text": [
            "/usr/local/lib/python3.6/dist-packages/librosa/core/time_frequency.py:1006: RuntimeWarning: divide by zero encountered in log10\n",
            "  - 0.5 * np.log10(f_sq + const[3]))\n"
          ],
          "name": "stderr"
        },
        {
          "output_type": "stream",
          "text": [
            "1071 / 1600 | drive/My Drive/AudioTaggerData/FSDKaggle2018.audio_test/0f6b702d.wav\n"
          ],
          "name": "stdout"
        },
        {
          "output_type": "stream",
          "text": [
            "/usr/local/lib/python3.6/dist-packages/librosa/core/time_frequency.py:1006: RuntimeWarning: divide by zero encountered in log10\n",
            "  - 0.5 * np.log10(f_sq + const[3]))\n"
          ],
          "name": "stderr"
        },
        {
          "output_type": "stream",
          "text": [
            "1072 / 1600 | drive/My Drive/AudioTaggerData/FSDKaggle2018.audio_test/8aa3ebc6.wav\n"
          ],
          "name": "stdout"
        },
        {
          "output_type": "stream",
          "text": [
            "/usr/local/lib/python3.6/dist-packages/librosa/core/time_frequency.py:1006: RuntimeWarning: divide by zero encountered in log10\n",
            "  - 0.5 * np.log10(f_sq + const[3]))\n"
          ],
          "name": "stderr"
        },
        {
          "output_type": "stream",
          "text": [
            "1073 / 1600 | drive/My Drive/AudioTaggerData/FSDKaggle2018.audio_test/4bf41551.wav\n"
          ],
          "name": "stdout"
        },
        {
          "output_type": "stream",
          "text": [
            "/usr/local/lib/python3.6/dist-packages/librosa/core/time_frequency.py:1006: RuntimeWarning: divide by zero encountered in log10\n",
            "  - 0.5 * np.log10(f_sq + const[3]))\n"
          ],
          "name": "stderr"
        },
        {
          "output_type": "stream",
          "text": [
            "1074 / 1600 | drive/My Drive/AudioTaggerData/FSDKaggle2018.audio_test/39409d9a.wav\n"
          ],
          "name": "stdout"
        },
        {
          "output_type": "stream",
          "text": [
            "/usr/local/lib/python3.6/dist-packages/librosa/core/time_frequency.py:1006: RuntimeWarning: divide by zero encountered in log10\n",
            "  - 0.5 * np.log10(f_sq + const[3]))\n"
          ],
          "name": "stderr"
        },
        {
          "output_type": "stream",
          "text": [
            "1075 / 1600 | drive/My Drive/AudioTaggerData/FSDKaggle2018.audio_test/c2c5c966.wav\n"
          ],
          "name": "stdout"
        },
        {
          "output_type": "stream",
          "text": [
            "/usr/local/lib/python3.6/dist-packages/librosa/core/time_frequency.py:1006: RuntimeWarning: divide by zero encountered in log10\n",
            "  - 0.5 * np.log10(f_sq + const[3]))\n"
          ],
          "name": "stderr"
        },
        {
          "output_type": "stream",
          "text": [
            "1076 / 1600 | drive/My Drive/AudioTaggerData/FSDKaggle2018.audio_test/d8308d44.wav\n"
          ],
          "name": "stdout"
        },
        {
          "output_type": "stream",
          "text": [
            "/usr/local/lib/python3.6/dist-packages/librosa/core/time_frequency.py:1006: RuntimeWarning: divide by zero encountered in log10\n",
            "  - 0.5 * np.log10(f_sq + const[3]))\n"
          ],
          "name": "stderr"
        },
        {
          "output_type": "stream",
          "text": [
            "1077 / 1600 | drive/My Drive/AudioTaggerData/FSDKaggle2018.audio_test/ec3a44f8.wav\n"
          ],
          "name": "stdout"
        },
        {
          "output_type": "stream",
          "text": [
            "/usr/local/lib/python3.6/dist-packages/librosa/core/time_frequency.py:1006: RuntimeWarning: divide by zero encountered in log10\n",
            "  - 0.5 * np.log10(f_sq + const[3]))\n"
          ],
          "name": "stderr"
        },
        {
          "output_type": "stream",
          "text": [
            "1078 / 1600 | drive/My Drive/AudioTaggerData/FSDKaggle2018.audio_test/32e67c5c.wav\n"
          ],
          "name": "stdout"
        },
        {
          "output_type": "stream",
          "text": [
            "/usr/local/lib/python3.6/dist-packages/librosa/core/time_frequency.py:1006: RuntimeWarning: divide by zero encountered in log10\n",
            "  - 0.5 * np.log10(f_sq + const[3]))\n"
          ],
          "name": "stderr"
        },
        {
          "output_type": "stream",
          "text": [
            "1079 / 1600 | drive/My Drive/AudioTaggerData/FSDKaggle2018.audio_test/69cca687.wav\n"
          ],
          "name": "stdout"
        },
        {
          "output_type": "stream",
          "text": [
            "/usr/local/lib/python3.6/dist-packages/librosa/core/time_frequency.py:1006: RuntimeWarning: divide by zero encountered in log10\n",
            "  - 0.5 * np.log10(f_sq + const[3]))\n"
          ],
          "name": "stderr"
        },
        {
          "output_type": "stream",
          "text": [
            "1080 / 1600 | drive/My Drive/AudioTaggerData/FSDKaggle2018.audio_test/bdee019c.wav\n"
          ],
          "name": "stdout"
        },
        {
          "output_type": "stream",
          "text": [
            "/usr/local/lib/python3.6/dist-packages/librosa/core/time_frequency.py:1006: RuntimeWarning: divide by zero encountered in log10\n",
            "  - 0.5 * np.log10(f_sq + const[3]))\n"
          ],
          "name": "stderr"
        },
        {
          "output_type": "stream",
          "text": [
            "1081 / 1600 | drive/My Drive/AudioTaggerData/FSDKaggle2018.audio_test/5a8c58cf.wav\n"
          ],
          "name": "stdout"
        },
        {
          "output_type": "stream",
          "text": [
            "/usr/local/lib/python3.6/dist-packages/librosa/core/time_frequency.py:1006: RuntimeWarning: divide by zero encountered in log10\n",
            "  - 0.5 * np.log10(f_sq + const[3]))\n"
          ],
          "name": "stderr"
        },
        {
          "output_type": "stream",
          "text": [
            "1082 / 1600 | drive/My Drive/AudioTaggerData/FSDKaggle2018.audio_test/dfa20dc8.wav\n"
          ],
          "name": "stdout"
        },
        {
          "output_type": "stream",
          "text": [
            "/usr/local/lib/python3.6/dist-packages/librosa/core/time_frequency.py:1006: RuntimeWarning: divide by zero encountered in log10\n",
            "  - 0.5 * np.log10(f_sq + const[3]))\n"
          ],
          "name": "stderr"
        },
        {
          "output_type": "stream",
          "text": [
            "1083 / 1600 | drive/My Drive/AudioTaggerData/FSDKaggle2018.audio_test/7d99fba9.wav\n"
          ],
          "name": "stdout"
        },
        {
          "output_type": "stream",
          "text": [
            "/usr/local/lib/python3.6/dist-packages/librosa/core/time_frequency.py:1006: RuntimeWarning: divide by zero encountered in log10\n",
            "  - 0.5 * np.log10(f_sq + const[3]))\n"
          ],
          "name": "stderr"
        },
        {
          "output_type": "stream",
          "text": [
            "1084 / 1600 | drive/My Drive/AudioTaggerData/FSDKaggle2018.audio_test/9f12eb4e.wav\n"
          ],
          "name": "stdout"
        },
        {
          "output_type": "stream",
          "text": [
            "/usr/local/lib/python3.6/dist-packages/librosa/core/time_frequency.py:1006: RuntimeWarning: divide by zero encountered in log10\n",
            "  - 0.5 * np.log10(f_sq + const[3]))\n"
          ],
          "name": "stderr"
        },
        {
          "output_type": "stream",
          "text": [
            "1085 / 1600 | drive/My Drive/AudioTaggerData/FSDKaggle2018.audio_test/a8b3a314.wav\n"
          ],
          "name": "stdout"
        },
        {
          "output_type": "stream",
          "text": [
            "/usr/local/lib/python3.6/dist-packages/librosa/core/time_frequency.py:1006: RuntimeWarning: divide by zero encountered in log10\n",
            "  - 0.5 * np.log10(f_sq + const[3]))\n"
          ],
          "name": "stderr"
        },
        {
          "output_type": "stream",
          "text": [
            "1086 / 1600 | drive/My Drive/AudioTaggerData/FSDKaggle2018.audio_test/37398fcb.wav\n"
          ],
          "name": "stdout"
        },
        {
          "output_type": "stream",
          "text": [
            "/usr/local/lib/python3.6/dist-packages/librosa/core/time_frequency.py:1006: RuntimeWarning: divide by zero encountered in log10\n",
            "  - 0.5 * np.log10(f_sq + const[3]))\n"
          ],
          "name": "stderr"
        },
        {
          "output_type": "stream",
          "text": [
            "1087 / 1600 | drive/My Drive/AudioTaggerData/FSDKaggle2018.audio_test/16a2e687.wav\n"
          ],
          "name": "stdout"
        },
        {
          "output_type": "stream",
          "text": [
            "/usr/local/lib/python3.6/dist-packages/librosa/core/time_frequency.py:1006: RuntimeWarning: divide by zero encountered in log10\n",
            "  - 0.5 * np.log10(f_sq + const[3]))\n"
          ],
          "name": "stderr"
        },
        {
          "output_type": "stream",
          "text": [
            "1088 / 1600 | drive/My Drive/AudioTaggerData/FSDKaggle2018.audio_test/57f200ec.wav\n"
          ],
          "name": "stdout"
        },
        {
          "output_type": "stream",
          "text": [
            "/usr/local/lib/python3.6/dist-packages/librosa/core/time_frequency.py:1006: RuntimeWarning: divide by zero encountered in log10\n",
            "  - 0.5 * np.log10(f_sq + const[3]))\n"
          ],
          "name": "stderr"
        },
        {
          "output_type": "stream",
          "text": [
            "1089 / 1600 | drive/My Drive/AudioTaggerData/FSDKaggle2018.audio_test/9c7cee6e.wav\n"
          ],
          "name": "stdout"
        },
        {
          "output_type": "stream",
          "text": [
            "/usr/local/lib/python3.6/dist-packages/librosa/core/time_frequency.py:1006: RuntimeWarning: divide by zero encountered in log10\n",
            "  - 0.5 * np.log10(f_sq + const[3]))\n"
          ],
          "name": "stderr"
        },
        {
          "output_type": "stream",
          "text": [
            "1090 / 1600 | drive/My Drive/AudioTaggerData/FSDKaggle2018.audio_test/e92a2aa1.wav\n"
          ],
          "name": "stdout"
        },
        {
          "output_type": "stream",
          "text": [
            "/usr/local/lib/python3.6/dist-packages/librosa/core/time_frequency.py:1006: RuntimeWarning: divide by zero encountered in log10\n",
            "  - 0.5 * np.log10(f_sq + const[3]))\n"
          ],
          "name": "stderr"
        },
        {
          "output_type": "stream",
          "text": [
            "1091 / 1600 | drive/My Drive/AudioTaggerData/FSDKaggle2018.audio_test/fcb11f8f.wav\n"
          ],
          "name": "stdout"
        },
        {
          "output_type": "stream",
          "text": [
            "/usr/local/lib/python3.6/dist-packages/librosa/core/time_frequency.py:1006: RuntimeWarning: divide by zero encountered in log10\n",
            "  - 0.5 * np.log10(f_sq + const[3]))\n"
          ],
          "name": "stderr"
        },
        {
          "output_type": "stream",
          "text": [
            "1092 / 1600 | drive/My Drive/AudioTaggerData/FSDKaggle2018.audio_test/d4b11bd7.wav\n"
          ],
          "name": "stdout"
        },
        {
          "output_type": "stream",
          "text": [
            "/usr/local/lib/python3.6/dist-packages/librosa/core/time_frequency.py:1006: RuntimeWarning: divide by zero encountered in log10\n",
            "  - 0.5 * np.log10(f_sq + const[3]))\n"
          ],
          "name": "stderr"
        },
        {
          "output_type": "stream",
          "text": [
            "1093 / 1600 | drive/My Drive/AudioTaggerData/FSDKaggle2018.audio_test/d09374f6.wav\n"
          ],
          "name": "stdout"
        },
        {
          "output_type": "stream",
          "text": [
            "/usr/local/lib/python3.6/dist-packages/librosa/core/time_frequency.py:1006: RuntimeWarning: divide by zero encountered in log10\n",
            "  - 0.5 * np.log10(f_sq + const[3]))\n"
          ],
          "name": "stderr"
        },
        {
          "output_type": "stream",
          "text": [
            "1094 / 1600 | drive/My Drive/AudioTaggerData/FSDKaggle2018.audio_test/7708ebd8.wav\n"
          ],
          "name": "stdout"
        },
        {
          "output_type": "stream",
          "text": [
            "/usr/local/lib/python3.6/dist-packages/librosa/core/time_frequency.py:1006: RuntimeWarning: divide by zero encountered in log10\n",
            "  - 0.5 * np.log10(f_sq + const[3]))\n"
          ],
          "name": "stderr"
        },
        {
          "output_type": "stream",
          "text": [
            "1095 / 1600 | drive/My Drive/AudioTaggerData/FSDKaggle2018.audio_test/bfb167e0.wav\n"
          ],
          "name": "stdout"
        },
        {
          "output_type": "stream",
          "text": [
            "/usr/local/lib/python3.6/dist-packages/librosa/core/time_frequency.py:1006: RuntimeWarning: divide by zero encountered in log10\n",
            "  - 0.5 * np.log10(f_sq + const[3]))\n"
          ],
          "name": "stderr"
        },
        {
          "output_type": "stream",
          "text": [
            "1096 / 1600 | drive/My Drive/AudioTaggerData/FSDKaggle2018.audio_test/24adc8ef.wav\n"
          ],
          "name": "stdout"
        },
        {
          "output_type": "stream",
          "text": [
            "/usr/local/lib/python3.6/dist-packages/librosa/core/time_frequency.py:1006: RuntimeWarning: divide by zero encountered in log10\n",
            "  - 0.5 * np.log10(f_sq + const[3]))\n"
          ],
          "name": "stderr"
        },
        {
          "output_type": "stream",
          "text": [
            "1097 / 1600 | drive/My Drive/AudioTaggerData/FSDKaggle2018.audio_test/ed376cdc.wav\n"
          ],
          "name": "stdout"
        },
        {
          "output_type": "stream",
          "text": [
            "/usr/local/lib/python3.6/dist-packages/librosa/core/time_frequency.py:1006: RuntimeWarning: divide by zero encountered in log10\n",
            "  - 0.5 * np.log10(f_sq + const[3]))\n"
          ],
          "name": "stderr"
        },
        {
          "output_type": "stream",
          "text": [
            "1098 / 1600 | drive/My Drive/AudioTaggerData/FSDKaggle2018.audio_test/5b42d271.wav\n"
          ],
          "name": "stdout"
        },
        {
          "output_type": "stream",
          "text": [
            "/usr/local/lib/python3.6/dist-packages/librosa/core/time_frequency.py:1006: RuntimeWarning: divide by zero encountered in log10\n",
            "  - 0.5 * np.log10(f_sq + const[3]))\n"
          ],
          "name": "stderr"
        },
        {
          "output_type": "stream",
          "text": [
            "1099 / 1600 | drive/My Drive/AudioTaggerData/FSDKaggle2018.audio_test/fa43fdd8.wav\n"
          ],
          "name": "stdout"
        },
        {
          "output_type": "stream",
          "text": [
            "/usr/local/lib/python3.6/dist-packages/librosa/core/time_frequency.py:1006: RuntimeWarning: divide by zero encountered in log10\n",
            "  - 0.5 * np.log10(f_sq + const[3]))\n"
          ],
          "name": "stderr"
        },
        {
          "output_type": "stream",
          "text": [
            "1100 / 1600 | drive/My Drive/AudioTaggerData/FSDKaggle2018.audio_test/845f8d7e.wav\n"
          ],
          "name": "stdout"
        },
        {
          "output_type": "stream",
          "text": [
            "/usr/local/lib/python3.6/dist-packages/librosa/core/time_frequency.py:1006: RuntimeWarning: divide by zero encountered in log10\n",
            "  - 0.5 * np.log10(f_sq + const[3]))\n"
          ],
          "name": "stderr"
        },
        {
          "output_type": "stream",
          "text": [
            "1101 / 1600 | drive/My Drive/AudioTaggerData/FSDKaggle2018.audio_test/224de930.wav\n"
          ],
          "name": "stdout"
        },
        {
          "output_type": "stream",
          "text": [
            "/usr/local/lib/python3.6/dist-packages/librosa/core/time_frequency.py:1006: RuntimeWarning: divide by zero encountered in log10\n",
            "  - 0.5 * np.log10(f_sq + const[3]))\n"
          ],
          "name": "stderr"
        },
        {
          "output_type": "stream",
          "text": [
            "1102 / 1600 | drive/My Drive/AudioTaggerData/FSDKaggle2018.audio_test/d38d7ebf.wav\n"
          ],
          "name": "stdout"
        },
        {
          "output_type": "stream",
          "text": [
            "/usr/local/lib/python3.6/dist-packages/librosa/core/time_frequency.py:1006: RuntimeWarning: divide by zero encountered in log10\n",
            "  - 0.5 * np.log10(f_sq + const[3]))\n"
          ],
          "name": "stderr"
        },
        {
          "output_type": "stream",
          "text": [
            "1103 / 1600 | drive/My Drive/AudioTaggerData/FSDKaggle2018.audio_test/897a1c21.wav\n"
          ],
          "name": "stdout"
        },
        {
          "output_type": "stream",
          "text": [
            "/usr/local/lib/python3.6/dist-packages/librosa/core/time_frequency.py:1006: RuntimeWarning: divide by zero encountered in log10\n",
            "  - 0.5 * np.log10(f_sq + const[3]))\n"
          ],
          "name": "stderr"
        },
        {
          "output_type": "stream",
          "text": [
            "1104 / 1600 | drive/My Drive/AudioTaggerData/FSDKaggle2018.audio_test/1c35850e.wav\n"
          ],
          "name": "stdout"
        },
        {
          "output_type": "stream",
          "text": [
            "/usr/local/lib/python3.6/dist-packages/librosa/core/time_frequency.py:1006: RuntimeWarning: divide by zero encountered in log10\n",
            "  - 0.5 * np.log10(f_sq + const[3]))\n"
          ],
          "name": "stderr"
        },
        {
          "output_type": "stream",
          "text": [
            "1105 / 1600 | drive/My Drive/AudioTaggerData/FSDKaggle2018.audio_test/aa4e07a4.wav\n"
          ],
          "name": "stdout"
        },
        {
          "output_type": "stream",
          "text": [
            "/usr/local/lib/python3.6/dist-packages/librosa/core/time_frequency.py:1006: RuntimeWarning: divide by zero encountered in log10\n",
            "  - 0.5 * np.log10(f_sq + const[3]))\n"
          ],
          "name": "stderr"
        },
        {
          "output_type": "stream",
          "text": [
            "1106 / 1600 | drive/My Drive/AudioTaggerData/FSDKaggle2018.audio_test/728c27f1.wav\n"
          ],
          "name": "stdout"
        },
        {
          "output_type": "stream",
          "text": [
            "/usr/local/lib/python3.6/dist-packages/librosa/core/time_frequency.py:1006: RuntimeWarning: divide by zero encountered in log10\n",
            "  - 0.5 * np.log10(f_sq + const[3]))\n"
          ],
          "name": "stderr"
        },
        {
          "output_type": "stream",
          "text": [
            "1107 / 1600 | drive/My Drive/AudioTaggerData/FSDKaggle2018.audio_test/f05791ca.wav\n"
          ],
          "name": "stdout"
        },
        {
          "output_type": "stream",
          "text": [
            "/usr/local/lib/python3.6/dist-packages/librosa/core/time_frequency.py:1006: RuntimeWarning: divide by zero encountered in log10\n",
            "  - 0.5 * np.log10(f_sq + const[3]))\n"
          ],
          "name": "stderr"
        },
        {
          "output_type": "stream",
          "text": [
            "1108 / 1600 | drive/My Drive/AudioTaggerData/FSDKaggle2018.audio_test/da33f9e9.wav\n"
          ],
          "name": "stdout"
        },
        {
          "output_type": "stream",
          "text": [
            "/usr/local/lib/python3.6/dist-packages/librosa/core/time_frequency.py:1006: RuntimeWarning: divide by zero encountered in log10\n",
            "  - 0.5 * np.log10(f_sq + const[3]))\n"
          ],
          "name": "stderr"
        },
        {
          "output_type": "stream",
          "text": [
            "1109 / 1600 | drive/My Drive/AudioTaggerData/FSDKaggle2018.audio_test/669e70f6.wav\n"
          ],
          "name": "stdout"
        },
        {
          "output_type": "stream",
          "text": [
            "/usr/local/lib/python3.6/dist-packages/librosa/core/time_frequency.py:1006: RuntimeWarning: divide by zero encountered in log10\n",
            "  - 0.5 * np.log10(f_sq + const[3]))\n"
          ],
          "name": "stderr"
        },
        {
          "output_type": "stream",
          "text": [
            "1110 / 1600 | drive/My Drive/AudioTaggerData/FSDKaggle2018.audio_test/00eac343.wav\n"
          ],
          "name": "stdout"
        },
        {
          "output_type": "stream",
          "text": [
            "/usr/local/lib/python3.6/dist-packages/librosa/core/time_frequency.py:1006: RuntimeWarning: divide by zero encountered in log10\n",
            "  - 0.5 * np.log10(f_sq + const[3]))\n"
          ],
          "name": "stderr"
        },
        {
          "output_type": "stream",
          "text": [
            "1111 / 1600 | drive/My Drive/AudioTaggerData/FSDKaggle2018.audio_test/26e34006.wav\n"
          ],
          "name": "stdout"
        },
        {
          "output_type": "stream",
          "text": [
            "/usr/local/lib/python3.6/dist-packages/librosa/core/time_frequency.py:1006: RuntimeWarning: divide by zero encountered in log10\n",
            "  - 0.5 * np.log10(f_sq + const[3]))\n"
          ],
          "name": "stderr"
        },
        {
          "output_type": "stream",
          "text": [
            "1112 / 1600 | drive/My Drive/AudioTaggerData/FSDKaggle2018.audio_test/98699863.wav\n"
          ],
          "name": "stdout"
        },
        {
          "output_type": "stream",
          "text": [
            "/usr/local/lib/python3.6/dist-packages/librosa/core/time_frequency.py:1006: RuntimeWarning: divide by zero encountered in log10\n",
            "  - 0.5 * np.log10(f_sq + const[3]))\n"
          ],
          "name": "stderr"
        },
        {
          "output_type": "stream",
          "text": [
            "1113 / 1600 | drive/My Drive/AudioTaggerData/FSDKaggle2018.audio_test/73414bd0.wav\n"
          ],
          "name": "stdout"
        },
        {
          "output_type": "stream",
          "text": [
            "/usr/local/lib/python3.6/dist-packages/librosa/core/time_frequency.py:1006: RuntimeWarning: divide by zero encountered in log10\n",
            "  - 0.5 * np.log10(f_sq + const[3]))\n"
          ],
          "name": "stderr"
        },
        {
          "output_type": "stream",
          "text": [
            "1114 / 1600 | drive/My Drive/AudioTaggerData/FSDKaggle2018.audio_test/a1c8ce98.wav\n"
          ],
          "name": "stdout"
        },
        {
          "output_type": "stream",
          "text": [
            "/usr/local/lib/python3.6/dist-packages/librosa/core/time_frequency.py:1006: RuntimeWarning: divide by zero encountered in log10\n",
            "  - 0.5 * np.log10(f_sq + const[3]))\n"
          ],
          "name": "stderr"
        },
        {
          "output_type": "stream",
          "text": [
            "1115 / 1600 | drive/My Drive/AudioTaggerData/FSDKaggle2018.audio_test/b374f39a.wav\n"
          ],
          "name": "stdout"
        },
        {
          "output_type": "stream",
          "text": [
            "/usr/local/lib/python3.6/dist-packages/librosa/core/time_frequency.py:1006: RuntimeWarning: divide by zero encountered in log10\n",
            "  - 0.5 * np.log10(f_sq + const[3]))\n"
          ],
          "name": "stderr"
        },
        {
          "output_type": "stream",
          "text": [
            "1116 / 1600 | drive/My Drive/AudioTaggerData/FSDKaggle2018.audio_test/99c5bef4.wav\n"
          ],
          "name": "stdout"
        },
        {
          "output_type": "stream",
          "text": [
            "/usr/local/lib/python3.6/dist-packages/librosa/core/time_frequency.py:1006: RuntimeWarning: divide by zero encountered in log10\n",
            "  - 0.5 * np.log10(f_sq + const[3]))\n"
          ],
          "name": "stderr"
        },
        {
          "output_type": "stream",
          "text": [
            "1117 / 1600 | drive/My Drive/AudioTaggerData/FSDKaggle2018.audio_test/57d6baac.wav\n"
          ],
          "name": "stdout"
        },
        {
          "output_type": "stream",
          "text": [
            "/usr/local/lib/python3.6/dist-packages/librosa/core/time_frequency.py:1006: RuntimeWarning: divide by zero encountered in log10\n",
            "  - 0.5 * np.log10(f_sq + const[3]))\n"
          ],
          "name": "stderr"
        },
        {
          "output_type": "stream",
          "text": [
            "1118 / 1600 | drive/My Drive/AudioTaggerData/FSDKaggle2018.audio_test/89b36fe8.wav\n"
          ],
          "name": "stdout"
        },
        {
          "output_type": "stream",
          "text": [
            "/usr/local/lib/python3.6/dist-packages/librosa/core/time_frequency.py:1006: RuntimeWarning: divide by zero encountered in log10\n",
            "  - 0.5 * np.log10(f_sq + const[3]))\n"
          ],
          "name": "stderr"
        },
        {
          "output_type": "stream",
          "text": [
            "1119 / 1600 | drive/My Drive/AudioTaggerData/FSDKaggle2018.audio_test/9ed0545a.wav\n"
          ],
          "name": "stdout"
        },
        {
          "output_type": "stream",
          "text": [
            "/usr/local/lib/python3.6/dist-packages/librosa/core/time_frequency.py:1006: RuntimeWarning: divide by zero encountered in log10\n",
            "  - 0.5 * np.log10(f_sq + const[3]))\n"
          ],
          "name": "stderr"
        },
        {
          "output_type": "stream",
          "text": [
            "1120 / 1600 | drive/My Drive/AudioTaggerData/FSDKaggle2018.audio_test/3bb0dc97.wav\n"
          ],
          "name": "stdout"
        },
        {
          "output_type": "stream",
          "text": [
            "/usr/local/lib/python3.6/dist-packages/librosa/core/time_frequency.py:1006: RuntimeWarning: divide by zero encountered in log10\n",
            "  - 0.5 * np.log10(f_sq + const[3]))\n"
          ],
          "name": "stderr"
        },
        {
          "output_type": "stream",
          "text": [
            "1121 / 1600 | drive/My Drive/AudioTaggerData/FSDKaggle2018.audio_test/bbf97aa9.wav\n"
          ],
          "name": "stdout"
        },
        {
          "output_type": "stream",
          "text": [
            "/usr/local/lib/python3.6/dist-packages/librosa/core/time_frequency.py:1006: RuntimeWarning: divide by zero encountered in log10\n",
            "  - 0.5 * np.log10(f_sq + const[3]))\n"
          ],
          "name": "stderr"
        },
        {
          "output_type": "stream",
          "text": [
            "1122 / 1600 | drive/My Drive/AudioTaggerData/FSDKaggle2018.audio_test/9e68a6ce.wav\n"
          ],
          "name": "stdout"
        },
        {
          "output_type": "stream",
          "text": [
            "/usr/local/lib/python3.6/dist-packages/librosa/core/time_frequency.py:1006: RuntimeWarning: divide by zero encountered in log10\n",
            "  - 0.5 * np.log10(f_sq + const[3]))\n"
          ],
          "name": "stderr"
        },
        {
          "output_type": "stream",
          "text": [
            "1123 / 1600 | drive/My Drive/AudioTaggerData/FSDKaggle2018.audio_test/ab63bd75.wav\n"
          ],
          "name": "stdout"
        },
        {
          "output_type": "stream",
          "text": [
            "/usr/local/lib/python3.6/dist-packages/librosa/core/time_frequency.py:1006: RuntimeWarning: divide by zero encountered in log10\n",
            "  - 0.5 * np.log10(f_sq + const[3]))\n"
          ],
          "name": "stderr"
        },
        {
          "output_type": "stream",
          "text": [
            "1124 / 1600 | drive/My Drive/AudioTaggerData/FSDKaggle2018.audio_test/747203e4.wav\n"
          ],
          "name": "stdout"
        },
        {
          "output_type": "stream",
          "text": [
            "/usr/local/lib/python3.6/dist-packages/librosa/core/time_frequency.py:1006: RuntimeWarning: divide by zero encountered in log10\n",
            "  - 0.5 * np.log10(f_sq + const[3]))\n"
          ],
          "name": "stderr"
        },
        {
          "output_type": "stream",
          "text": [
            "1125 / 1600 | drive/My Drive/AudioTaggerData/FSDKaggle2018.audio_test/b1b41c63.wav\n"
          ],
          "name": "stdout"
        },
        {
          "output_type": "stream",
          "text": [
            "/usr/local/lib/python3.6/dist-packages/librosa/core/time_frequency.py:1006: RuntimeWarning: divide by zero encountered in log10\n",
            "  - 0.5 * np.log10(f_sq + const[3]))\n"
          ],
          "name": "stderr"
        },
        {
          "output_type": "stream",
          "text": [
            "1126 / 1600 | drive/My Drive/AudioTaggerData/FSDKaggle2018.audio_test/b8083654.wav\n"
          ],
          "name": "stdout"
        },
        {
          "output_type": "stream",
          "text": [
            "/usr/local/lib/python3.6/dist-packages/librosa/core/time_frequency.py:1006: RuntimeWarning: divide by zero encountered in log10\n",
            "  - 0.5 * np.log10(f_sq + const[3]))\n"
          ],
          "name": "stderr"
        },
        {
          "output_type": "stream",
          "text": [
            "1127 / 1600 | drive/My Drive/AudioTaggerData/FSDKaggle2018.audio_test/c161f5a7.wav\n"
          ],
          "name": "stdout"
        },
        {
          "output_type": "stream",
          "text": [
            "/usr/local/lib/python3.6/dist-packages/librosa/core/time_frequency.py:1006: RuntimeWarning: divide by zero encountered in log10\n",
            "  - 0.5 * np.log10(f_sq + const[3]))\n"
          ],
          "name": "stderr"
        },
        {
          "output_type": "stream",
          "text": [
            "1128 / 1600 | drive/My Drive/AudioTaggerData/FSDKaggle2018.audio_test/04ab4e22.wav\n"
          ],
          "name": "stdout"
        },
        {
          "output_type": "stream",
          "text": [
            "/usr/local/lib/python3.6/dist-packages/librosa/core/time_frequency.py:1006: RuntimeWarning: divide by zero encountered in log10\n",
            "  - 0.5 * np.log10(f_sq + const[3]))\n"
          ],
          "name": "stderr"
        },
        {
          "output_type": "stream",
          "text": [
            "1129 / 1600 | drive/My Drive/AudioTaggerData/FSDKaggle2018.audio_test/fbd280bc.wav\n"
          ],
          "name": "stdout"
        },
        {
          "output_type": "stream",
          "text": [
            "/usr/local/lib/python3.6/dist-packages/librosa/core/time_frequency.py:1006: RuntimeWarning: divide by zero encountered in log10\n",
            "  - 0.5 * np.log10(f_sq + const[3]))\n"
          ],
          "name": "stderr"
        },
        {
          "output_type": "stream",
          "text": [
            "1130 / 1600 | drive/My Drive/AudioTaggerData/FSDKaggle2018.audio_test/8fd226a2.wav\n"
          ],
          "name": "stdout"
        },
        {
          "output_type": "stream",
          "text": [
            "/usr/local/lib/python3.6/dist-packages/librosa/core/time_frequency.py:1006: RuntimeWarning: divide by zero encountered in log10\n",
            "  - 0.5 * np.log10(f_sq + const[3]))\n"
          ],
          "name": "stderr"
        },
        {
          "output_type": "stream",
          "text": [
            "1131 / 1600 | drive/My Drive/AudioTaggerData/FSDKaggle2018.audio_test/e26962f7.wav\n"
          ],
          "name": "stdout"
        },
        {
          "output_type": "stream",
          "text": [
            "/usr/local/lib/python3.6/dist-packages/librosa/core/time_frequency.py:1006: RuntimeWarning: divide by zero encountered in log10\n",
            "  - 0.5 * np.log10(f_sq + const[3]))\n"
          ],
          "name": "stderr"
        },
        {
          "output_type": "stream",
          "text": [
            "1132 / 1600 | drive/My Drive/AudioTaggerData/FSDKaggle2018.audio_test/05ad10fb.wav\n"
          ],
          "name": "stdout"
        },
        {
          "output_type": "stream",
          "text": [
            "/usr/local/lib/python3.6/dist-packages/librosa/core/time_frequency.py:1006: RuntimeWarning: divide by zero encountered in log10\n",
            "  - 0.5 * np.log10(f_sq + const[3]))\n"
          ],
          "name": "stderr"
        },
        {
          "output_type": "stream",
          "text": [
            "1133 / 1600 | drive/My Drive/AudioTaggerData/FSDKaggle2018.audio_test/741fba2b.wav\n"
          ],
          "name": "stdout"
        },
        {
          "output_type": "stream",
          "text": [
            "/usr/local/lib/python3.6/dist-packages/librosa/core/time_frequency.py:1006: RuntimeWarning: divide by zero encountered in log10\n",
            "  - 0.5 * np.log10(f_sq + const[3]))\n"
          ],
          "name": "stderr"
        },
        {
          "output_type": "stream",
          "text": [
            "1134 / 1600 | drive/My Drive/AudioTaggerData/FSDKaggle2018.audio_test/dc16466b.wav\n"
          ],
          "name": "stdout"
        },
        {
          "output_type": "stream",
          "text": [
            "/usr/local/lib/python3.6/dist-packages/librosa/core/time_frequency.py:1006: RuntimeWarning: divide by zero encountered in log10\n",
            "  - 0.5 * np.log10(f_sq + const[3]))\n"
          ],
          "name": "stderr"
        },
        {
          "output_type": "stream",
          "text": [
            "1135 / 1600 | drive/My Drive/AudioTaggerData/FSDKaggle2018.audio_test/627f0769.wav\n"
          ],
          "name": "stdout"
        },
        {
          "output_type": "stream",
          "text": [
            "/usr/local/lib/python3.6/dist-packages/librosa/core/time_frequency.py:1006: RuntimeWarning: divide by zero encountered in log10\n",
            "  - 0.5 * np.log10(f_sq + const[3]))\n"
          ],
          "name": "stderr"
        },
        {
          "output_type": "stream",
          "text": [
            "1136 / 1600 | drive/My Drive/AudioTaggerData/FSDKaggle2018.audio_test/a704c559.wav\n"
          ],
          "name": "stdout"
        },
        {
          "output_type": "stream",
          "text": [
            "/usr/local/lib/python3.6/dist-packages/librosa/core/time_frequency.py:1006: RuntimeWarning: divide by zero encountered in log10\n",
            "  - 0.5 * np.log10(f_sq + const[3]))\n"
          ],
          "name": "stderr"
        },
        {
          "output_type": "stream",
          "text": [
            "1137 / 1600 | drive/My Drive/AudioTaggerData/FSDKaggle2018.audio_test/f5c51456.wav\n"
          ],
          "name": "stdout"
        },
        {
          "output_type": "stream",
          "text": [
            "/usr/local/lib/python3.6/dist-packages/librosa/core/time_frequency.py:1006: RuntimeWarning: divide by zero encountered in log10\n",
            "  - 0.5 * np.log10(f_sq + const[3]))\n"
          ],
          "name": "stderr"
        },
        {
          "output_type": "stream",
          "text": [
            "1138 / 1600 | drive/My Drive/AudioTaggerData/FSDKaggle2018.audio_test/94127c15.wav\n"
          ],
          "name": "stdout"
        },
        {
          "output_type": "stream",
          "text": [
            "/usr/local/lib/python3.6/dist-packages/librosa/core/time_frequency.py:1006: RuntimeWarning: divide by zero encountered in log10\n",
            "  - 0.5 * np.log10(f_sq + const[3]))\n"
          ],
          "name": "stderr"
        },
        {
          "output_type": "stream",
          "text": [
            "1139 / 1600 | drive/My Drive/AudioTaggerData/FSDKaggle2018.audio_test/40d3c212.wav\n"
          ],
          "name": "stdout"
        },
        {
          "output_type": "stream",
          "text": [
            "/usr/local/lib/python3.6/dist-packages/librosa/core/time_frequency.py:1006: RuntimeWarning: divide by zero encountered in log10\n",
            "  - 0.5 * np.log10(f_sq + const[3]))\n"
          ],
          "name": "stderr"
        },
        {
          "output_type": "stream",
          "text": [
            "1140 / 1600 | drive/My Drive/AudioTaggerData/FSDKaggle2018.audio_test/c68fa34a.wav\n"
          ],
          "name": "stdout"
        },
        {
          "output_type": "stream",
          "text": [
            "/usr/local/lib/python3.6/dist-packages/librosa/core/time_frequency.py:1006: RuntimeWarning: divide by zero encountered in log10\n",
            "  - 0.5 * np.log10(f_sq + const[3]))\n"
          ],
          "name": "stderr"
        },
        {
          "output_type": "stream",
          "text": [
            "1141 / 1600 | drive/My Drive/AudioTaggerData/FSDKaggle2018.audio_test/a81240e1.wav\n"
          ],
          "name": "stdout"
        },
        {
          "output_type": "stream",
          "text": [
            "/usr/local/lib/python3.6/dist-packages/librosa/core/time_frequency.py:1006: RuntimeWarning: divide by zero encountered in log10\n",
            "  - 0.5 * np.log10(f_sq + const[3]))\n"
          ],
          "name": "stderr"
        },
        {
          "output_type": "stream",
          "text": [
            "1142 / 1600 | drive/My Drive/AudioTaggerData/FSDKaggle2018.audio_test/0f712cb7.wav\n"
          ],
          "name": "stdout"
        },
        {
          "output_type": "stream",
          "text": [
            "/usr/local/lib/python3.6/dist-packages/librosa/core/time_frequency.py:1006: RuntimeWarning: divide by zero encountered in log10\n",
            "  - 0.5 * np.log10(f_sq + const[3]))\n"
          ],
          "name": "stderr"
        },
        {
          "output_type": "stream",
          "text": [
            "1143 / 1600 | drive/My Drive/AudioTaggerData/FSDKaggle2018.audio_test/b63d2dd9.wav\n"
          ],
          "name": "stdout"
        },
        {
          "output_type": "stream",
          "text": [
            "/usr/local/lib/python3.6/dist-packages/librosa/core/time_frequency.py:1006: RuntimeWarning: divide by zero encountered in log10\n",
            "  - 0.5 * np.log10(f_sq + const[3]))\n"
          ],
          "name": "stderr"
        },
        {
          "output_type": "stream",
          "text": [
            "1144 / 1600 | drive/My Drive/AudioTaggerData/FSDKaggle2018.audio_test/f93b467d.wav\n"
          ],
          "name": "stdout"
        },
        {
          "output_type": "stream",
          "text": [
            "/usr/local/lib/python3.6/dist-packages/librosa/core/time_frequency.py:1006: RuntimeWarning: divide by zero encountered in log10\n",
            "  - 0.5 * np.log10(f_sq + const[3]))\n"
          ],
          "name": "stderr"
        },
        {
          "output_type": "stream",
          "text": [
            "1145 / 1600 | drive/My Drive/AudioTaggerData/FSDKaggle2018.audio_test/f8fb3da3.wav\n"
          ],
          "name": "stdout"
        },
        {
          "output_type": "stream",
          "text": [
            "/usr/local/lib/python3.6/dist-packages/librosa/core/time_frequency.py:1006: RuntimeWarning: divide by zero encountered in log10\n",
            "  - 0.5 * np.log10(f_sq + const[3]))\n"
          ],
          "name": "stderr"
        },
        {
          "output_type": "stream",
          "text": [
            "1146 / 1600 | drive/My Drive/AudioTaggerData/FSDKaggle2018.audio_test/6ba93bc4.wav\n"
          ],
          "name": "stdout"
        },
        {
          "output_type": "stream",
          "text": [
            "/usr/local/lib/python3.6/dist-packages/librosa/core/time_frequency.py:1006: RuntimeWarning: divide by zero encountered in log10\n",
            "  - 0.5 * np.log10(f_sq + const[3]))\n"
          ],
          "name": "stderr"
        },
        {
          "output_type": "stream",
          "text": [
            "1147 / 1600 | drive/My Drive/AudioTaggerData/FSDKaggle2018.audio_test/e51d02bc.wav\n"
          ],
          "name": "stdout"
        },
        {
          "output_type": "stream",
          "text": [
            "/usr/local/lib/python3.6/dist-packages/librosa/core/time_frequency.py:1006: RuntimeWarning: divide by zero encountered in log10\n",
            "  - 0.5 * np.log10(f_sq + const[3]))\n"
          ],
          "name": "stderr"
        },
        {
          "output_type": "stream",
          "text": [
            "1148 / 1600 | drive/My Drive/AudioTaggerData/FSDKaggle2018.audio_test/e77f8846.wav\n"
          ],
          "name": "stdout"
        },
        {
          "output_type": "stream",
          "text": [
            "/usr/local/lib/python3.6/dist-packages/librosa/core/time_frequency.py:1006: RuntimeWarning: divide by zero encountered in log10\n",
            "  - 0.5 * np.log10(f_sq + const[3]))\n"
          ],
          "name": "stderr"
        },
        {
          "output_type": "stream",
          "text": [
            "1149 / 1600 | drive/My Drive/AudioTaggerData/FSDKaggle2018.audio_test/51755110.wav\n"
          ],
          "name": "stdout"
        },
        {
          "output_type": "stream",
          "text": [
            "/usr/local/lib/python3.6/dist-packages/librosa/core/time_frequency.py:1006: RuntimeWarning: divide by zero encountered in log10\n",
            "  - 0.5 * np.log10(f_sq + const[3]))\n"
          ],
          "name": "stderr"
        },
        {
          "output_type": "stream",
          "text": [
            "1150 / 1600 | drive/My Drive/AudioTaggerData/FSDKaggle2018.audio_test/d8a5405f.wav\n"
          ],
          "name": "stdout"
        },
        {
          "output_type": "stream",
          "text": [
            "/usr/local/lib/python3.6/dist-packages/librosa/core/time_frequency.py:1006: RuntimeWarning: divide by zero encountered in log10\n",
            "  - 0.5 * np.log10(f_sq + const[3]))\n"
          ],
          "name": "stderr"
        },
        {
          "output_type": "stream",
          "text": [
            "1151 / 1600 | drive/My Drive/AudioTaggerData/FSDKaggle2018.audio_test/06775f3c.wav\n"
          ],
          "name": "stdout"
        },
        {
          "output_type": "stream",
          "text": [
            "/usr/local/lib/python3.6/dist-packages/librosa/core/time_frequency.py:1006: RuntimeWarning: divide by zero encountered in log10\n",
            "  - 0.5 * np.log10(f_sq + const[3]))\n"
          ],
          "name": "stderr"
        },
        {
          "output_type": "stream",
          "text": [
            "1152 / 1600 | drive/My Drive/AudioTaggerData/FSDKaggle2018.audio_test/ffaca82d.wav\n"
          ],
          "name": "stdout"
        },
        {
          "output_type": "stream",
          "text": [
            "/usr/local/lib/python3.6/dist-packages/librosa/core/time_frequency.py:1006: RuntimeWarning: divide by zero encountered in log10\n",
            "  - 0.5 * np.log10(f_sq + const[3]))\n"
          ],
          "name": "stderr"
        },
        {
          "output_type": "stream",
          "text": [
            "1153 / 1600 | drive/My Drive/AudioTaggerData/FSDKaggle2018.audio_test/cc60615b.wav\n"
          ],
          "name": "stdout"
        },
        {
          "output_type": "stream",
          "text": [
            "/usr/local/lib/python3.6/dist-packages/librosa/core/time_frequency.py:1006: RuntimeWarning: divide by zero encountered in log10\n",
            "  - 0.5 * np.log10(f_sq + const[3]))\n"
          ],
          "name": "stderr"
        },
        {
          "output_type": "stream",
          "text": [
            "1154 / 1600 | drive/My Drive/AudioTaggerData/FSDKaggle2018.audio_test/47538a81.wav\n"
          ],
          "name": "stdout"
        },
        {
          "output_type": "stream",
          "text": [
            "/usr/local/lib/python3.6/dist-packages/librosa/core/time_frequency.py:1006: RuntimeWarning: divide by zero encountered in log10\n",
            "  - 0.5 * np.log10(f_sq + const[3]))\n"
          ],
          "name": "stderr"
        },
        {
          "output_type": "stream",
          "text": [
            "1155 / 1600 | drive/My Drive/AudioTaggerData/FSDKaggle2018.audio_test/6e3e08b6.wav\n"
          ],
          "name": "stdout"
        },
        {
          "output_type": "stream",
          "text": [
            "/usr/local/lib/python3.6/dist-packages/librosa/core/time_frequency.py:1006: RuntimeWarning: divide by zero encountered in log10\n",
            "  - 0.5 * np.log10(f_sq + const[3]))\n"
          ],
          "name": "stderr"
        },
        {
          "output_type": "stream",
          "text": [
            "1156 / 1600 | drive/My Drive/AudioTaggerData/FSDKaggle2018.audio_test/60621005.wav\n"
          ],
          "name": "stdout"
        },
        {
          "output_type": "stream",
          "text": [
            "/usr/local/lib/python3.6/dist-packages/librosa/core/time_frequency.py:1006: RuntimeWarning: divide by zero encountered in log10\n",
            "  - 0.5 * np.log10(f_sq + const[3]))\n"
          ],
          "name": "stderr"
        },
        {
          "output_type": "stream",
          "text": [
            "1157 / 1600 | drive/My Drive/AudioTaggerData/FSDKaggle2018.audio_test/91df997e.wav\n"
          ],
          "name": "stdout"
        },
        {
          "output_type": "stream",
          "text": [
            "/usr/local/lib/python3.6/dist-packages/librosa/core/time_frequency.py:1006: RuntimeWarning: divide by zero encountered in log10\n",
            "  - 0.5 * np.log10(f_sq + const[3]))\n"
          ],
          "name": "stderr"
        },
        {
          "output_type": "stream",
          "text": [
            "1158 / 1600 | drive/My Drive/AudioTaggerData/FSDKaggle2018.audio_test/0d34cc5a.wav\n"
          ],
          "name": "stdout"
        },
        {
          "output_type": "stream",
          "text": [
            "/usr/local/lib/python3.6/dist-packages/librosa/core/time_frequency.py:1006: RuntimeWarning: divide by zero encountered in log10\n",
            "  - 0.5 * np.log10(f_sq + const[3]))\n"
          ],
          "name": "stderr"
        },
        {
          "output_type": "stream",
          "text": [
            "1159 / 1600 | drive/My Drive/AudioTaggerData/FSDKaggle2018.audio_test/696cc865.wav\n"
          ],
          "name": "stdout"
        },
        {
          "output_type": "stream",
          "text": [
            "/usr/local/lib/python3.6/dist-packages/librosa/core/time_frequency.py:1006: RuntimeWarning: divide by zero encountered in log10\n",
            "  - 0.5 * np.log10(f_sq + const[3]))\n"
          ],
          "name": "stderr"
        },
        {
          "output_type": "stream",
          "text": [
            "1160 / 1600 | drive/My Drive/AudioTaggerData/FSDKaggle2018.audio_test/ba3afdb2.wav\n"
          ],
          "name": "stdout"
        },
        {
          "output_type": "stream",
          "text": [
            "/usr/local/lib/python3.6/dist-packages/librosa/core/time_frequency.py:1006: RuntimeWarning: divide by zero encountered in log10\n",
            "  - 0.5 * np.log10(f_sq + const[3]))\n"
          ],
          "name": "stderr"
        },
        {
          "output_type": "stream",
          "text": [
            "1161 / 1600 | drive/My Drive/AudioTaggerData/FSDKaggle2018.audio_test/a676aec7.wav\n"
          ],
          "name": "stdout"
        },
        {
          "output_type": "stream",
          "text": [
            "/usr/local/lib/python3.6/dist-packages/librosa/core/time_frequency.py:1006: RuntimeWarning: divide by zero encountered in log10\n",
            "  - 0.5 * np.log10(f_sq + const[3]))\n"
          ],
          "name": "stderr"
        },
        {
          "output_type": "stream",
          "text": [
            "1162 / 1600 | drive/My Drive/AudioTaggerData/FSDKaggle2018.audio_test/af1a32e1.wav\n"
          ],
          "name": "stdout"
        },
        {
          "output_type": "stream",
          "text": [
            "/usr/local/lib/python3.6/dist-packages/librosa/core/time_frequency.py:1006: RuntimeWarning: divide by zero encountered in log10\n",
            "  - 0.5 * np.log10(f_sq + const[3]))\n"
          ],
          "name": "stderr"
        },
        {
          "output_type": "stream",
          "text": [
            "1163 / 1600 | drive/My Drive/AudioTaggerData/FSDKaggle2018.audio_test/20a9b42d.wav\n"
          ],
          "name": "stdout"
        },
        {
          "output_type": "stream",
          "text": [
            "/usr/local/lib/python3.6/dist-packages/librosa/core/time_frequency.py:1006: RuntimeWarning: divide by zero encountered in log10\n",
            "  - 0.5 * np.log10(f_sq + const[3]))\n"
          ],
          "name": "stderr"
        },
        {
          "output_type": "stream",
          "text": [
            "1164 / 1600 | drive/My Drive/AudioTaggerData/FSDKaggle2018.audio_test/4c7201d9.wav\n"
          ],
          "name": "stdout"
        },
        {
          "output_type": "stream",
          "text": [
            "/usr/local/lib/python3.6/dist-packages/librosa/core/time_frequency.py:1006: RuntimeWarning: divide by zero encountered in log10\n",
            "  - 0.5 * np.log10(f_sq + const[3]))\n"
          ],
          "name": "stderr"
        },
        {
          "output_type": "stream",
          "text": [
            "1165 / 1600 | drive/My Drive/AudioTaggerData/FSDKaggle2018.audio_test/9fd682a3.wav\n"
          ],
          "name": "stdout"
        },
        {
          "output_type": "stream",
          "text": [
            "/usr/local/lib/python3.6/dist-packages/librosa/core/time_frequency.py:1006: RuntimeWarning: divide by zero encountered in log10\n",
            "  - 0.5 * np.log10(f_sq + const[3]))\n"
          ],
          "name": "stderr"
        },
        {
          "output_type": "stream",
          "text": [
            "1166 / 1600 | drive/My Drive/AudioTaggerData/FSDKaggle2018.audio_test/885dd347.wav\n"
          ],
          "name": "stdout"
        },
        {
          "output_type": "stream",
          "text": [
            "/usr/local/lib/python3.6/dist-packages/librosa/core/time_frequency.py:1006: RuntimeWarning: divide by zero encountered in log10\n",
            "  - 0.5 * np.log10(f_sq + const[3]))\n"
          ],
          "name": "stderr"
        },
        {
          "output_type": "stream",
          "text": [
            "1167 / 1600 | drive/My Drive/AudioTaggerData/FSDKaggle2018.audio_test/ac909b62.wav\n"
          ],
          "name": "stdout"
        },
        {
          "output_type": "stream",
          "text": [
            "/usr/local/lib/python3.6/dist-packages/librosa/core/time_frequency.py:1006: RuntimeWarning: divide by zero encountered in log10\n",
            "  - 0.5 * np.log10(f_sq + const[3]))\n"
          ],
          "name": "stderr"
        },
        {
          "output_type": "stream",
          "text": [
            "1168 / 1600 | drive/My Drive/AudioTaggerData/FSDKaggle2018.audio_test/1f312f80.wav\n"
          ],
          "name": "stdout"
        },
        {
          "output_type": "stream",
          "text": [
            "/usr/local/lib/python3.6/dist-packages/librosa/core/time_frequency.py:1006: RuntimeWarning: divide by zero encountered in log10\n",
            "  - 0.5 * np.log10(f_sq + const[3]))\n"
          ],
          "name": "stderr"
        },
        {
          "output_type": "stream",
          "text": [
            "1169 / 1600 | drive/My Drive/AudioTaggerData/FSDKaggle2018.audio_test/b113ef5c.wav\n"
          ],
          "name": "stdout"
        },
        {
          "output_type": "stream",
          "text": [
            "/usr/local/lib/python3.6/dist-packages/librosa/core/time_frequency.py:1006: RuntimeWarning: divide by zero encountered in log10\n",
            "  - 0.5 * np.log10(f_sq + const[3]))\n"
          ],
          "name": "stderr"
        },
        {
          "output_type": "stream",
          "text": [
            "1170 / 1600 | drive/My Drive/AudioTaggerData/FSDKaggle2018.audio_test/9505e4f7.wav\n"
          ],
          "name": "stdout"
        },
        {
          "output_type": "stream",
          "text": [
            "/usr/local/lib/python3.6/dist-packages/librosa/core/time_frequency.py:1006: RuntimeWarning: divide by zero encountered in log10\n",
            "  - 0.5 * np.log10(f_sq + const[3]))\n"
          ],
          "name": "stderr"
        },
        {
          "output_type": "stream",
          "text": [
            "1171 / 1600 | drive/My Drive/AudioTaggerData/FSDKaggle2018.audio_test/4e0759b2.wav\n"
          ],
          "name": "stdout"
        },
        {
          "output_type": "stream",
          "text": [
            "/usr/local/lib/python3.6/dist-packages/librosa/core/time_frequency.py:1006: RuntimeWarning: divide by zero encountered in log10\n",
            "  - 0.5 * np.log10(f_sq + const[3]))\n"
          ],
          "name": "stderr"
        },
        {
          "output_type": "stream",
          "text": [
            "1172 / 1600 | drive/My Drive/AudioTaggerData/FSDKaggle2018.audio_test/5be55652.wav\n"
          ],
          "name": "stdout"
        },
        {
          "output_type": "stream",
          "text": [
            "/usr/local/lib/python3.6/dist-packages/librosa/core/time_frequency.py:1006: RuntimeWarning: divide by zero encountered in log10\n",
            "  - 0.5 * np.log10(f_sq + const[3]))\n"
          ],
          "name": "stderr"
        },
        {
          "output_type": "stream",
          "text": [
            "1173 / 1600 | drive/My Drive/AudioTaggerData/FSDKaggle2018.audio_test/8348477e.wav\n"
          ],
          "name": "stdout"
        },
        {
          "output_type": "stream",
          "text": [
            "/usr/local/lib/python3.6/dist-packages/librosa/core/time_frequency.py:1006: RuntimeWarning: divide by zero encountered in log10\n",
            "  - 0.5 * np.log10(f_sq + const[3]))\n"
          ],
          "name": "stderr"
        },
        {
          "output_type": "stream",
          "text": [
            "1174 / 1600 | drive/My Drive/AudioTaggerData/FSDKaggle2018.audio_test/0db65bf4.wav\n"
          ],
          "name": "stdout"
        },
        {
          "output_type": "stream",
          "text": [
            "/usr/local/lib/python3.6/dist-packages/librosa/core/time_frequency.py:1006: RuntimeWarning: divide by zero encountered in log10\n",
            "  - 0.5 * np.log10(f_sq + const[3]))\n"
          ],
          "name": "stderr"
        },
        {
          "output_type": "stream",
          "text": [
            "1175 / 1600 | drive/My Drive/AudioTaggerData/FSDKaggle2018.audio_test/8cbc79b2.wav\n"
          ],
          "name": "stdout"
        },
        {
          "output_type": "stream",
          "text": [
            "/usr/local/lib/python3.6/dist-packages/librosa/core/time_frequency.py:1006: RuntimeWarning: divide by zero encountered in log10\n",
            "  - 0.5 * np.log10(f_sq + const[3]))\n"
          ],
          "name": "stderr"
        },
        {
          "output_type": "stream",
          "text": [
            "1176 / 1600 | drive/My Drive/AudioTaggerData/FSDKaggle2018.audio_test/da0a9d6d.wav\n"
          ],
          "name": "stdout"
        },
        {
          "output_type": "stream",
          "text": [
            "/usr/local/lib/python3.6/dist-packages/librosa/core/time_frequency.py:1006: RuntimeWarning: divide by zero encountered in log10\n",
            "  - 0.5 * np.log10(f_sq + const[3]))\n"
          ],
          "name": "stderr"
        },
        {
          "output_type": "stream",
          "text": [
            "1177 / 1600 | drive/My Drive/AudioTaggerData/FSDKaggle2018.audio_test/55b4939f.wav\n"
          ],
          "name": "stdout"
        },
        {
          "output_type": "stream",
          "text": [
            "/usr/local/lib/python3.6/dist-packages/librosa/core/time_frequency.py:1006: RuntimeWarning: divide by zero encountered in log10\n",
            "  - 0.5 * np.log10(f_sq + const[3]))\n"
          ],
          "name": "stderr"
        },
        {
          "output_type": "stream",
          "text": [
            "1178 / 1600 | drive/My Drive/AudioTaggerData/FSDKaggle2018.audio_test/079faac8.wav\n"
          ],
          "name": "stdout"
        },
        {
          "output_type": "stream",
          "text": [
            "/usr/local/lib/python3.6/dist-packages/librosa/core/time_frequency.py:1006: RuntimeWarning: divide by zero encountered in log10\n",
            "  - 0.5 * np.log10(f_sq + const[3]))\n"
          ],
          "name": "stderr"
        },
        {
          "output_type": "stream",
          "text": [
            "1179 / 1600 | drive/My Drive/AudioTaggerData/FSDKaggle2018.audio_test/feca9a9e.wav\n"
          ],
          "name": "stdout"
        },
        {
          "output_type": "stream",
          "text": [
            "/usr/local/lib/python3.6/dist-packages/librosa/core/time_frequency.py:1006: RuntimeWarning: divide by zero encountered in log10\n",
            "  - 0.5 * np.log10(f_sq + const[3]))\n"
          ],
          "name": "stderr"
        },
        {
          "output_type": "stream",
          "text": [
            "1180 / 1600 | drive/My Drive/AudioTaggerData/FSDKaggle2018.audio_test/13489639.wav\n"
          ],
          "name": "stdout"
        },
        {
          "output_type": "stream",
          "text": [
            "/usr/local/lib/python3.6/dist-packages/librosa/core/time_frequency.py:1006: RuntimeWarning: divide by zero encountered in log10\n",
            "  - 0.5 * np.log10(f_sq + const[3]))\n"
          ],
          "name": "stderr"
        },
        {
          "output_type": "stream",
          "text": [
            "1181 / 1600 | drive/My Drive/AudioTaggerData/FSDKaggle2018.audio_test/93c1d8d1.wav\n"
          ],
          "name": "stdout"
        },
        {
          "output_type": "stream",
          "text": [
            "/usr/local/lib/python3.6/dist-packages/librosa/core/time_frequency.py:1006: RuntimeWarning: divide by zero encountered in log10\n",
            "  - 0.5 * np.log10(f_sq + const[3]))\n"
          ],
          "name": "stderr"
        },
        {
          "output_type": "stream",
          "text": [
            "1182 / 1600 | drive/My Drive/AudioTaggerData/FSDKaggle2018.audio_test/df645d4a.wav\n"
          ],
          "name": "stdout"
        },
        {
          "output_type": "stream",
          "text": [
            "/usr/local/lib/python3.6/dist-packages/librosa/core/time_frequency.py:1006: RuntimeWarning: divide by zero encountered in log10\n",
            "  - 0.5 * np.log10(f_sq + const[3]))\n"
          ],
          "name": "stderr"
        },
        {
          "output_type": "stream",
          "text": [
            "1183 / 1600 | drive/My Drive/AudioTaggerData/FSDKaggle2018.audio_test/0e722a03.wav\n"
          ],
          "name": "stdout"
        },
        {
          "output_type": "stream",
          "text": [
            "/usr/local/lib/python3.6/dist-packages/librosa/core/time_frequency.py:1006: RuntimeWarning: divide by zero encountered in log10\n",
            "  - 0.5 * np.log10(f_sq + const[3]))\n"
          ],
          "name": "stderr"
        },
        {
          "output_type": "stream",
          "text": [
            "1184 / 1600 | drive/My Drive/AudioTaggerData/FSDKaggle2018.audio_test/c95aa254.wav\n"
          ],
          "name": "stdout"
        },
        {
          "output_type": "stream",
          "text": [
            "/usr/local/lib/python3.6/dist-packages/librosa/core/time_frequency.py:1006: RuntimeWarning: divide by zero encountered in log10\n",
            "  - 0.5 * np.log10(f_sq + const[3]))\n"
          ],
          "name": "stderr"
        },
        {
          "output_type": "stream",
          "text": [
            "1185 / 1600 | drive/My Drive/AudioTaggerData/FSDKaggle2018.audio_test/ee93721d.wav\n"
          ],
          "name": "stdout"
        },
        {
          "output_type": "stream",
          "text": [
            "/usr/local/lib/python3.6/dist-packages/librosa/core/time_frequency.py:1006: RuntimeWarning: divide by zero encountered in log10\n",
            "  - 0.5 * np.log10(f_sq + const[3]))\n"
          ],
          "name": "stderr"
        },
        {
          "output_type": "stream",
          "text": [
            "1186 / 1600 | drive/My Drive/AudioTaggerData/FSDKaggle2018.audio_test/1850e006.wav\n"
          ],
          "name": "stdout"
        },
        {
          "output_type": "stream",
          "text": [
            "/usr/local/lib/python3.6/dist-packages/librosa/core/time_frequency.py:1006: RuntimeWarning: divide by zero encountered in log10\n",
            "  - 0.5 * np.log10(f_sq + const[3]))\n"
          ],
          "name": "stderr"
        },
        {
          "output_type": "stream",
          "text": [
            "1187 / 1600 | drive/My Drive/AudioTaggerData/FSDKaggle2018.audio_test/5d8faaeb.wav\n"
          ],
          "name": "stdout"
        },
        {
          "output_type": "stream",
          "text": [
            "/usr/local/lib/python3.6/dist-packages/librosa/core/time_frequency.py:1006: RuntimeWarning: divide by zero encountered in log10\n",
            "  - 0.5 * np.log10(f_sq + const[3]))\n"
          ],
          "name": "stderr"
        },
        {
          "output_type": "stream",
          "text": [
            "1188 / 1600 | drive/My Drive/AudioTaggerData/FSDKaggle2018.audio_test/5459ae88.wav\n"
          ],
          "name": "stdout"
        },
        {
          "output_type": "stream",
          "text": [
            "/usr/local/lib/python3.6/dist-packages/librosa/core/time_frequency.py:1006: RuntimeWarning: divide by zero encountered in log10\n",
            "  - 0.5 * np.log10(f_sq + const[3]))\n"
          ],
          "name": "stderr"
        },
        {
          "output_type": "stream",
          "text": [
            "1189 / 1600 | drive/My Drive/AudioTaggerData/FSDKaggle2018.audio_test/41780230.wav\n"
          ],
          "name": "stdout"
        },
        {
          "output_type": "stream",
          "text": [
            "/usr/local/lib/python3.6/dist-packages/librosa/core/time_frequency.py:1006: RuntimeWarning: divide by zero encountered in log10\n",
            "  - 0.5 * np.log10(f_sq + const[3]))\n"
          ],
          "name": "stderr"
        },
        {
          "output_type": "stream",
          "text": [
            "1190 / 1600 | drive/My Drive/AudioTaggerData/FSDKaggle2018.audio_test/b3b80eb6.wav\n"
          ],
          "name": "stdout"
        },
        {
          "output_type": "stream",
          "text": [
            "/usr/local/lib/python3.6/dist-packages/librosa/core/time_frequency.py:1006: RuntimeWarning: divide by zero encountered in log10\n",
            "  - 0.5 * np.log10(f_sq + const[3]))\n"
          ],
          "name": "stderr"
        },
        {
          "output_type": "stream",
          "text": [
            "1191 / 1600 | drive/My Drive/AudioTaggerData/FSDKaggle2018.audio_test/507932b4.wav\n"
          ],
          "name": "stdout"
        },
        {
          "output_type": "stream",
          "text": [
            "/usr/local/lib/python3.6/dist-packages/librosa/core/time_frequency.py:1006: RuntimeWarning: divide by zero encountered in log10\n",
            "  - 0.5 * np.log10(f_sq + const[3]))\n"
          ],
          "name": "stderr"
        },
        {
          "output_type": "stream",
          "text": [
            "1192 / 1600 | drive/My Drive/AudioTaggerData/FSDKaggle2018.audio_test/a8ece5fd.wav\n"
          ],
          "name": "stdout"
        },
        {
          "output_type": "stream",
          "text": [
            "/usr/local/lib/python3.6/dist-packages/librosa/core/time_frequency.py:1006: RuntimeWarning: divide by zero encountered in log10\n",
            "  - 0.5 * np.log10(f_sq + const[3]))\n"
          ],
          "name": "stderr"
        },
        {
          "output_type": "stream",
          "text": [
            "1193 / 1600 | drive/My Drive/AudioTaggerData/FSDKaggle2018.audio_test/99c9915c.wav\n"
          ],
          "name": "stdout"
        },
        {
          "output_type": "stream",
          "text": [
            "/usr/local/lib/python3.6/dist-packages/librosa/core/time_frequency.py:1006: RuntimeWarning: divide by zero encountered in log10\n",
            "  - 0.5 * np.log10(f_sq + const[3]))\n"
          ],
          "name": "stderr"
        },
        {
          "output_type": "stream",
          "text": [
            "1194 / 1600 | drive/My Drive/AudioTaggerData/FSDKaggle2018.audio_test/9c14157b.wav\n"
          ],
          "name": "stdout"
        },
        {
          "output_type": "stream",
          "text": [
            "/usr/local/lib/python3.6/dist-packages/librosa/core/time_frequency.py:1006: RuntimeWarning: divide by zero encountered in log10\n",
            "  - 0.5 * np.log10(f_sq + const[3]))\n"
          ],
          "name": "stderr"
        },
        {
          "output_type": "stream",
          "text": [
            "1195 / 1600 | drive/My Drive/AudioTaggerData/FSDKaggle2018.audio_test/c681ec18.wav\n"
          ],
          "name": "stdout"
        },
        {
          "output_type": "stream",
          "text": [
            "/usr/local/lib/python3.6/dist-packages/librosa/core/time_frequency.py:1006: RuntimeWarning: divide by zero encountered in log10\n",
            "  - 0.5 * np.log10(f_sq + const[3]))\n"
          ],
          "name": "stderr"
        },
        {
          "output_type": "stream",
          "text": [
            "1196 / 1600 | drive/My Drive/AudioTaggerData/FSDKaggle2018.audio_test/a1a61527.wav\n"
          ],
          "name": "stdout"
        },
        {
          "output_type": "stream",
          "text": [
            "/usr/local/lib/python3.6/dist-packages/librosa/core/time_frequency.py:1006: RuntimeWarning: divide by zero encountered in log10\n",
            "  - 0.5 * np.log10(f_sq + const[3]))\n"
          ],
          "name": "stderr"
        },
        {
          "output_type": "stream",
          "text": [
            "1197 / 1600 | drive/My Drive/AudioTaggerData/FSDKaggle2018.audio_test/45e681c2.wav\n"
          ],
          "name": "stdout"
        },
        {
          "output_type": "stream",
          "text": [
            "/usr/local/lib/python3.6/dist-packages/librosa/core/time_frequency.py:1006: RuntimeWarning: divide by zero encountered in log10\n",
            "  - 0.5 * np.log10(f_sq + const[3]))\n"
          ],
          "name": "stderr"
        },
        {
          "output_type": "stream",
          "text": [
            "1198 / 1600 | drive/My Drive/AudioTaggerData/FSDKaggle2018.audio_test/582bf94d.wav\n"
          ],
          "name": "stdout"
        },
        {
          "output_type": "stream",
          "text": [
            "/usr/local/lib/python3.6/dist-packages/librosa/core/time_frequency.py:1006: RuntimeWarning: divide by zero encountered in log10\n",
            "  - 0.5 * np.log10(f_sq + const[3]))\n"
          ],
          "name": "stderr"
        },
        {
          "output_type": "stream",
          "text": [
            "1199 / 1600 | drive/My Drive/AudioTaggerData/FSDKaggle2018.audio_test/7b672f5a.wav\n"
          ],
          "name": "stdout"
        },
        {
          "output_type": "stream",
          "text": [
            "/usr/local/lib/python3.6/dist-packages/librosa/core/time_frequency.py:1006: RuntimeWarning: divide by zero encountered in log10\n",
            "  - 0.5 * np.log10(f_sq + const[3]))\n"
          ],
          "name": "stderr"
        },
        {
          "output_type": "stream",
          "text": [
            "1200 / 1600 | drive/My Drive/AudioTaggerData/FSDKaggle2018.audio_test/23300ded.wav\n"
          ],
          "name": "stdout"
        },
        {
          "output_type": "stream",
          "text": [
            "/usr/local/lib/python3.6/dist-packages/librosa/core/time_frequency.py:1006: RuntimeWarning: divide by zero encountered in log10\n",
            "  - 0.5 * np.log10(f_sq + const[3]))\n"
          ],
          "name": "stderr"
        },
        {
          "output_type": "stream",
          "text": [
            "1201 / 1600 | drive/My Drive/AudioTaggerData/FSDKaggle2018.audio_test/416d2ced.wav\n"
          ],
          "name": "stdout"
        },
        {
          "output_type": "stream",
          "text": [
            "/usr/local/lib/python3.6/dist-packages/librosa/core/time_frequency.py:1006: RuntimeWarning: divide by zero encountered in log10\n",
            "  - 0.5 * np.log10(f_sq + const[3]))\n"
          ],
          "name": "stderr"
        },
        {
          "output_type": "stream",
          "text": [
            "1202 / 1600 | drive/My Drive/AudioTaggerData/FSDKaggle2018.audio_test/a4c78d41.wav\n"
          ],
          "name": "stdout"
        },
        {
          "output_type": "stream",
          "text": [
            "/usr/local/lib/python3.6/dist-packages/librosa/core/time_frequency.py:1006: RuntimeWarning: divide by zero encountered in log10\n",
            "  - 0.5 * np.log10(f_sq + const[3]))\n"
          ],
          "name": "stderr"
        },
        {
          "output_type": "stream",
          "text": [
            "1203 / 1600 | drive/My Drive/AudioTaggerData/FSDKaggle2018.audio_test/ae58af6d.wav\n"
          ],
          "name": "stdout"
        },
        {
          "output_type": "stream",
          "text": [
            "/usr/local/lib/python3.6/dist-packages/librosa/core/time_frequency.py:1006: RuntimeWarning: divide by zero encountered in log10\n",
            "  - 0.5 * np.log10(f_sq + const[3]))\n"
          ],
          "name": "stderr"
        },
        {
          "output_type": "stream",
          "text": [
            "1204 / 1600 | drive/My Drive/AudioTaggerData/FSDKaggle2018.audio_test/7b2d48f6.wav\n"
          ],
          "name": "stdout"
        },
        {
          "output_type": "stream",
          "text": [
            "/usr/local/lib/python3.6/dist-packages/librosa/core/time_frequency.py:1006: RuntimeWarning: divide by zero encountered in log10\n",
            "  - 0.5 * np.log10(f_sq + const[3]))\n"
          ],
          "name": "stderr"
        },
        {
          "output_type": "stream",
          "text": [
            "1205 / 1600 | drive/My Drive/AudioTaggerData/FSDKaggle2018.audio_test/91553414.wav\n"
          ],
          "name": "stdout"
        },
        {
          "output_type": "stream",
          "text": [
            "/usr/local/lib/python3.6/dist-packages/librosa/core/time_frequency.py:1006: RuntimeWarning: divide by zero encountered in log10\n",
            "  - 0.5 * np.log10(f_sq + const[3]))\n"
          ],
          "name": "stderr"
        },
        {
          "output_type": "stream",
          "text": [
            "1206 / 1600 | drive/My Drive/AudioTaggerData/FSDKaggle2018.audio_test/848d0520.wav\n"
          ],
          "name": "stdout"
        },
        {
          "output_type": "stream",
          "text": [
            "/usr/local/lib/python3.6/dist-packages/librosa/core/time_frequency.py:1006: RuntimeWarning: divide by zero encountered in log10\n",
            "  - 0.5 * np.log10(f_sq + const[3]))\n"
          ],
          "name": "stderr"
        },
        {
          "output_type": "stream",
          "text": [
            "1207 / 1600 | drive/My Drive/AudioTaggerData/FSDKaggle2018.audio_test/46d15a22.wav\n"
          ],
          "name": "stdout"
        },
        {
          "output_type": "stream",
          "text": [
            "/usr/local/lib/python3.6/dist-packages/librosa/core/time_frequency.py:1006: RuntimeWarning: divide by zero encountered in log10\n",
            "  - 0.5 * np.log10(f_sq + const[3]))\n"
          ],
          "name": "stderr"
        },
        {
          "output_type": "stream",
          "text": [
            "1208 / 1600 | drive/My Drive/AudioTaggerData/FSDKaggle2018.audio_test/f43f193a.wav\n"
          ],
          "name": "stdout"
        },
        {
          "output_type": "stream",
          "text": [
            "/usr/local/lib/python3.6/dist-packages/librosa/core/time_frequency.py:1006: RuntimeWarning: divide by zero encountered in log10\n",
            "  - 0.5 * np.log10(f_sq + const[3]))\n"
          ],
          "name": "stderr"
        },
        {
          "output_type": "stream",
          "text": [
            "1209 / 1600 | drive/My Drive/AudioTaggerData/FSDKaggle2018.audio_test/a2e551e2.wav\n"
          ],
          "name": "stdout"
        },
        {
          "output_type": "stream",
          "text": [
            "/usr/local/lib/python3.6/dist-packages/librosa/core/time_frequency.py:1006: RuntimeWarning: divide by zero encountered in log10\n",
            "  - 0.5 * np.log10(f_sq + const[3]))\n"
          ],
          "name": "stderr"
        },
        {
          "output_type": "stream",
          "text": [
            "1210 / 1600 | drive/My Drive/AudioTaggerData/FSDKaggle2018.audio_test/9693b612.wav\n"
          ],
          "name": "stdout"
        },
        {
          "output_type": "stream",
          "text": [
            "/usr/local/lib/python3.6/dist-packages/librosa/core/time_frequency.py:1006: RuntimeWarning: divide by zero encountered in log10\n",
            "  - 0.5 * np.log10(f_sq + const[3]))\n"
          ],
          "name": "stderr"
        },
        {
          "output_type": "stream",
          "text": [
            "1211 / 1600 | drive/My Drive/AudioTaggerData/FSDKaggle2018.audio_test/906516e4.wav\n"
          ],
          "name": "stdout"
        },
        {
          "output_type": "stream",
          "text": [
            "/usr/local/lib/python3.6/dist-packages/librosa/core/time_frequency.py:1006: RuntimeWarning: divide by zero encountered in log10\n",
            "  - 0.5 * np.log10(f_sq + const[3]))\n"
          ],
          "name": "stderr"
        },
        {
          "output_type": "stream",
          "text": [
            "1212 / 1600 | drive/My Drive/AudioTaggerData/FSDKaggle2018.audio_test/e78be583.wav\n"
          ],
          "name": "stdout"
        },
        {
          "output_type": "stream",
          "text": [
            "/usr/local/lib/python3.6/dist-packages/librosa/core/time_frequency.py:1006: RuntimeWarning: divide by zero encountered in log10\n",
            "  - 0.5 * np.log10(f_sq + const[3]))\n"
          ],
          "name": "stderr"
        },
        {
          "output_type": "stream",
          "text": [
            "1213 / 1600 | drive/My Drive/AudioTaggerData/FSDKaggle2018.audio_test/38df02f9.wav\n"
          ],
          "name": "stdout"
        },
        {
          "output_type": "stream",
          "text": [
            "/usr/local/lib/python3.6/dist-packages/librosa/core/time_frequency.py:1006: RuntimeWarning: divide by zero encountered in log10\n",
            "  - 0.5 * np.log10(f_sq + const[3]))\n"
          ],
          "name": "stderr"
        },
        {
          "output_type": "stream",
          "text": [
            "1214 / 1600 | drive/My Drive/AudioTaggerData/FSDKaggle2018.audio_test/f7eaa48b.wav\n"
          ],
          "name": "stdout"
        },
        {
          "output_type": "stream",
          "text": [
            "/usr/local/lib/python3.6/dist-packages/librosa/core/time_frequency.py:1006: RuntimeWarning: divide by zero encountered in log10\n",
            "  - 0.5 * np.log10(f_sq + const[3]))\n"
          ],
          "name": "stderr"
        },
        {
          "output_type": "stream",
          "text": [
            "1215 / 1600 | drive/My Drive/AudioTaggerData/FSDKaggle2018.audio_test/1fe092a5.wav\n"
          ],
          "name": "stdout"
        },
        {
          "output_type": "stream",
          "text": [
            "/usr/local/lib/python3.6/dist-packages/librosa/core/time_frequency.py:1006: RuntimeWarning: divide by zero encountered in log10\n",
            "  - 0.5 * np.log10(f_sq + const[3]))\n"
          ],
          "name": "stderr"
        },
        {
          "output_type": "stream",
          "text": [
            "1216 / 1600 | drive/My Drive/AudioTaggerData/FSDKaggle2018.audio_test/86503b54.wav\n"
          ],
          "name": "stdout"
        },
        {
          "output_type": "stream",
          "text": [
            "/usr/local/lib/python3.6/dist-packages/librosa/core/time_frequency.py:1006: RuntimeWarning: divide by zero encountered in log10\n",
            "  - 0.5 * np.log10(f_sq + const[3]))\n"
          ],
          "name": "stderr"
        },
        {
          "output_type": "stream",
          "text": [
            "1217 / 1600 | drive/My Drive/AudioTaggerData/FSDKaggle2018.audio_test/7eb3a36a.wav\n"
          ],
          "name": "stdout"
        },
        {
          "output_type": "stream",
          "text": [
            "/usr/local/lib/python3.6/dist-packages/librosa/core/time_frequency.py:1006: RuntimeWarning: divide by zero encountered in log10\n",
            "  - 0.5 * np.log10(f_sq + const[3]))\n"
          ],
          "name": "stderr"
        },
        {
          "output_type": "stream",
          "text": [
            "1218 / 1600 | drive/My Drive/AudioTaggerData/FSDKaggle2018.audio_test/1a4cd763.wav\n"
          ],
          "name": "stdout"
        },
        {
          "output_type": "stream",
          "text": [
            "/usr/local/lib/python3.6/dist-packages/librosa/core/time_frequency.py:1006: RuntimeWarning: divide by zero encountered in log10\n",
            "  - 0.5 * np.log10(f_sq + const[3]))\n"
          ],
          "name": "stderr"
        },
        {
          "output_type": "stream",
          "text": [
            "1219 / 1600 | drive/My Drive/AudioTaggerData/FSDKaggle2018.audio_test/21acb432.wav\n"
          ],
          "name": "stdout"
        },
        {
          "output_type": "stream",
          "text": [
            "/usr/local/lib/python3.6/dist-packages/librosa/core/time_frequency.py:1006: RuntimeWarning: divide by zero encountered in log10\n",
            "  - 0.5 * np.log10(f_sq + const[3]))\n"
          ],
          "name": "stderr"
        },
        {
          "output_type": "stream",
          "text": [
            "1220 / 1600 | drive/My Drive/AudioTaggerData/FSDKaggle2018.audio_test/aeb8716a.wav\n"
          ],
          "name": "stdout"
        },
        {
          "output_type": "stream",
          "text": [
            "/usr/local/lib/python3.6/dist-packages/librosa/core/time_frequency.py:1006: RuntimeWarning: divide by zero encountered in log10\n",
            "  - 0.5 * np.log10(f_sq + const[3]))\n"
          ],
          "name": "stderr"
        },
        {
          "output_type": "stream",
          "text": [
            "1221 / 1600 | drive/My Drive/AudioTaggerData/FSDKaggle2018.audio_test/ba9443c7.wav\n"
          ],
          "name": "stdout"
        },
        {
          "output_type": "stream",
          "text": [
            "/usr/local/lib/python3.6/dist-packages/librosa/core/time_frequency.py:1006: RuntimeWarning: divide by zero encountered in log10\n",
            "  - 0.5 * np.log10(f_sq + const[3]))\n"
          ],
          "name": "stderr"
        },
        {
          "output_type": "stream",
          "text": [
            "1222 / 1600 | drive/My Drive/AudioTaggerData/FSDKaggle2018.audio_test/7ef693d8.wav\n"
          ],
          "name": "stdout"
        },
        {
          "output_type": "stream",
          "text": [
            "/usr/local/lib/python3.6/dist-packages/librosa/core/time_frequency.py:1006: RuntimeWarning: divide by zero encountered in log10\n",
            "  - 0.5 * np.log10(f_sq + const[3]))\n"
          ],
          "name": "stderr"
        },
        {
          "output_type": "stream",
          "text": [
            "1223 / 1600 | drive/My Drive/AudioTaggerData/FSDKaggle2018.audio_test/b2319798.wav\n"
          ],
          "name": "stdout"
        },
        {
          "output_type": "stream",
          "text": [
            "/usr/local/lib/python3.6/dist-packages/librosa/core/time_frequency.py:1006: RuntimeWarning: divide by zero encountered in log10\n",
            "  - 0.5 * np.log10(f_sq + const[3]))\n"
          ],
          "name": "stderr"
        },
        {
          "output_type": "stream",
          "text": [
            "1224 / 1600 | drive/My Drive/AudioTaggerData/FSDKaggle2018.audio_test/b290f28b.wav\n"
          ],
          "name": "stdout"
        },
        {
          "output_type": "stream",
          "text": [
            "/usr/local/lib/python3.6/dist-packages/librosa/core/time_frequency.py:1006: RuntimeWarning: divide by zero encountered in log10\n",
            "  - 0.5 * np.log10(f_sq + const[3]))\n"
          ],
          "name": "stderr"
        },
        {
          "output_type": "stream",
          "text": [
            "1225 / 1600 | drive/My Drive/AudioTaggerData/FSDKaggle2018.audio_test/a9899813.wav\n"
          ],
          "name": "stdout"
        },
        {
          "output_type": "stream",
          "text": [
            "/usr/local/lib/python3.6/dist-packages/librosa/core/time_frequency.py:1006: RuntimeWarning: divide by zero encountered in log10\n",
            "  - 0.5 * np.log10(f_sq + const[3]))\n"
          ],
          "name": "stderr"
        },
        {
          "output_type": "stream",
          "text": [
            "1226 / 1600 | drive/My Drive/AudioTaggerData/FSDKaggle2018.audio_test/9764bf43.wav\n"
          ],
          "name": "stdout"
        },
        {
          "output_type": "stream",
          "text": [
            "/usr/local/lib/python3.6/dist-packages/librosa/core/time_frequency.py:1006: RuntimeWarning: divide by zero encountered in log10\n",
            "  - 0.5 * np.log10(f_sq + const[3]))\n"
          ],
          "name": "stderr"
        },
        {
          "output_type": "stream",
          "text": [
            "1227 / 1600 | drive/My Drive/AudioTaggerData/FSDKaggle2018.audio_test/5708ddea.wav\n"
          ],
          "name": "stdout"
        },
        {
          "output_type": "stream",
          "text": [
            "/usr/local/lib/python3.6/dist-packages/librosa/core/time_frequency.py:1006: RuntimeWarning: divide by zero encountered in log10\n",
            "  - 0.5 * np.log10(f_sq + const[3]))\n"
          ],
          "name": "stderr"
        },
        {
          "output_type": "stream",
          "text": [
            "1228 / 1600 | drive/My Drive/AudioTaggerData/FSDKaggle2018.audio_test/3d5cf3f8.wav\n"
          ],
          "name": "stdout"
        },
        {
          "output_type": "stream",
          "text": [
            "/usr/local/lib/python3.6/dist-packages/librosa/core/time_frequency.py:1006: RuntimeWarning: divide by zero encountered in log10\n",
            "  - 0.5 * np.log10(f_sq + const[3]))\n"
          ],
          "name": "stderr"
        },
        {
          "output_type": "stream",
          "text": [
            "1229 / 1600 | drive/My Drive/AudioTaggerData/FSDKaggle2018.audio_test/c590b377.wav\n"
          ],
          "name": "stdout"
        },
        {
          "output_type": "stream",
          "text": [
            "/usr/local/lib/python3.6/dist-packages/librosa/core/time_frequency.py:1006: RuntimeWarning: divide by zero encountered in log10\n",
            "  - 0.5 * np.log10(f_sq + const[3]))\n"
          ],
          "name": "stderr"
        },
        {
          "output_type": "stream",
          "text": [
            "1230 / 1600 | drive/My Drive/AudioTaggerData/FSDKaggle2018.audio_test/a3d78cd5.wav\n"
          ],
          "name": "stdout"
        },
        {
          "output_type": "stream",
          "text": [
            "/usr/local/lib/python3.6/dist-packages/librosa/core/time_frequency.py:1006: RuntimeWarning: divide by zero encountered in log10\n",
            "  - 0.5 * np.log10(f_sq + const[3]))\n"
          ],
          "name": "stderr"
        },
        {
          "output_type": "stream",
          "text": [
            "1231 / 1600 | drive/My Drive/AudioTaggerData/FSDKaggle2018.audio_test/d7b731c9.wav\n"
          ],
          "name": "stdout"
        },
        {
          "output_type": "stream",
          "text": [
            "/usr/local/lib/python3.6/dist-packages/librosa/core/time_frequency.py:1006: RuntimeWarning: divide by zero encountered in log10\n",
            "  - 0.5 * np.log10(f_sq + const[3]))\n"
          ],
          "name": "stderr"
        },
        {
          "output_type": "stream",
          "text": [
            "1232 / 1600 | drive/My Drive/AudioTaggerData/FSDKaggle2018.audio_test/45d66815.wav\n"
          ],
          "name": "stdout"
        },
        {
          "output_type": "stream",
          "text": [
            "/usr/local/lib/python3.6/dist-packages/librosa/core/time_frequency.py:1006: RuntimeWarning: divide by zero encountered in log10\n",
            "  - 0.5 * np.log10(f_sq + const[3]))\n"
          ],
          "name": "stderr"
        },
        {
          "output_type": "stream",
          "text": [
            "1233 / 1600 | drive/My Drive/AudioTaggerData/FSDKaggle2018.audio_test/2676d124.wav\n"
          ],
          "name": "stdout"
        },
        {
          "output_type": "stream",
          "text": [
            "/usr/local/lib/python3.6/dist-packages/librosa/core/time_frequency.py:1006: RuntimeWarning: divide by zero encountered in log10\n",
            "  - 0.5 * np.log10(f_sq + const[3]))\n"
          ],
          "name": "stderr"
        },
        {
          "output_type": "stream",
          "text": [
            "1234 / 1600 | drive/My Drive/AudioTaggerData/FSDKaggle2018.audio_test/b9ea68ec.wav\n"
          ],
          "name": "stdout"
        },
        {
          "output_type": "stream",
          "text": [
            "/usr/local/lib/python3.6/dist-packages/librosa/core/time_frequency.py:1006: RuntimeWarning: divide by zero encountered in log10\n",
            "  - 0.5 * np.log10(f_sq + const[3]))\n"
          ],
          "name": "stderr"
        },
        {
          "output_type": "stream",
          "text": [
            "1235 / 1600 | drive/My Drive/AudioTaggerData/FSDKaggle2018.audio_test/0a695221.wav\n"
          ],
          "name": "stdout"
        },
        {
          "output_type": "stream",
          "text": [
            "/usr/local/lib/python3.6/dist-packages/librosa/core/time_frequency.py:1006: RuntimeWarning: divide by zero encountered in log10\n",
            "  - 0.5 * np.log10(f_sq + const[3]))\n"
          ],
          "name": "stderr"
        },
        {
          "output_type": "stream",
          "text": [
            "1236 / 1600 | drive/My Drive/AudioTaggerData/FSDKaggle2018.audio_test/d6c150c6.wav\n"
          ],
          "name": "stdout"
        },
        {
          "output_type": "stream",
          "text": [
            "/usr/local/lib/python3.6/dist-packages/librosa/core/time_frequency.py:1006: RuntimeWarning: divide by zero encountered in log10\n",
            "  - 0.5 * np.log10(f_sq + const[3]))\n"
          ],
          "name": "stderr"
        },
        {
          "output_type": "stream",
          "text": [
            "1237 / 1600 | drive/My Drive/AudioTaggerData/FSDKaggle2018.audio_test/6ea0ef5e.wav\n"
          ],
          "name": "stdout"
        },
        {
          "output_type": "stream",
          "text": [
            "/usr/local/lib/python3.6/dist-packages/librosa/core/time_frequency.py:1006: RuntimeWarning: divide by zero encountered in log10\n",
            "  - 0.5 * np.log10(f_sq + const[3]))\n"
          ],
          "name": "stderr"
        },
        {
          "output_type": "stream",
          "text": [
            "1238 / 1600 | drive/My Drive/AudioTaggerData/FSDKaggle2018.audio_test/e4d51a78.wav\n"
          ],
          "name": "stdout"
        },
        {
          "output_type": "stream",
          "text": [
            "/usr/local/lib/python3.6/dist-packages/librosa/core/time_frequency.py:1006: RuntimeWarning: divide by zero encountered in log10\n",
            "  - 0.5 * np.log10(f_sq + const[3]))\n"
          ],
          "name": "stderr"
        },
        {
          "output_type": "stream",
          "text": [
            "1239 / 1600 | drive/My Drive/AudioTaggerData/FSDKaggle2018.audio_test/e0802994.wav\n"
          ],
          "name": "stdout"
        },
        {
          "output_type": "stream",
          "text": [
            "/usr/local/lib/python3.6/dist-packages/librosa/core/time_frequency.py:1006: RuntimeWarning: divide by zero encountered in log10\n",
            "  - 0.5 * np.log10(f_sq + const[3]))\n"
          ],
          "name": "stderr"
        },
        {
          "output_type": "stream",
          "text": [
            "1240 / 1600 | drive/My Drive/AudioTaggerData/FSDKaggle2018.audio_test/bd062294.wav\n"
          ],
          "name": "stdout"
        },
        {
          "output_type": "stream",
          "text": [
            "/usr/local/lib/python3.6/dist-packages/librosa/core/time_frequency.py:1006: RuntimeWarning: divide by zero encountered in log10\n",
            "  - 0.5 * np.log10(f_sq + const[3]))\n"
          ],
          "name": "stderr"
        },
        {
          "output_type": "stream",
          "text": [
            "1241 / 1600 | drive/My Drive/AudioTaggerData/FSDKaggle2018.audio_test/bef40206.wav\n"
          ],
          "name": "stdout"
        },
        {
          "output_type": "stream",
          "text": [
            "/usr/local/lib/python3.6/dist-packages/librosa/core/time_frequency.py:1006: RuntimeWarning: divide by zero encountered in log10\n",
            "  - 0.5 * np.log10(f_sq + const[3]))\n"
          ],
          "name": "stderr"
        },
        {
          "output_type": "stream",
          "text": [
            "1242 / 1600 | drive/My Drive/AudioTaggerData/FSDKaggle2018.audio_test/9e4016e8.wav\n"
          ],
          "name": "stdout"
        },
        {
          "output_type": "stream",
          "text": [
            "/usr/local/lib/python3.6/dist-packages/librosa/core/time_frequency.py:1006: RuntimeWarning: divide by zero encountered in log10\n",
            "  - 0.5 * np.log10(f_sq + const[3]))\n"
          ],
          "name": "stderr"
        },
        {
          "output_type": "stream",
          "text": [
            "1243 / 1600 | drive/My Drive/AudioTaggerData/FSDKaggle2018.audio_test/9ea318bd.wav\n"
          ],
          "name": "stdout"
        },
        {
          "output_type": "stream",
          "text": [
            "/usr/local/lib/python3.6/dist-packages/librosa/core/time_frequency.py:1006: RuntimeWarning: divide by zero encountered in log10\n",
            "  - 0.5 * np.log10(f_sq + const[3]))\n"
          ],
          "name": "stderr"
        },
        {
          "output_type": "stream",
          "text": [
            "1244 / 1600 | drive/My Drive/AudioTaggerData/FSDKaggle2018.audio_test/ba696ee8.wav\n"
          ],
          "name": "stdout"
        },
        {
          "output_type": "stream",
          "text": [
            "/usr/local/lib/python3.6/dist-packages/librosa/core/time_frequency.py:1006: RuntimeWarning: divide by zero encountered in log10\n",
            "  - 0.5 * np.log10(f_sq + const[3]))\n"
          ],
          "name": "stderr"
        },
        {
          "output_type": "stream",
          "text": [
            "1245 / 1600 | drive/My Drive/AudioTaggerData/FSDKaggle2018.audio_test/4c87caf5.wav\n"
          ],
          "name": "stdout"
        },
        {
          "output_type": "stream",
          "text": [
            "/usr/local/lib/python3.6/dist-packages/librosa/core/time_frequency.py:1006: RuntimeWarning: divide by zero encountered in log10\n",
            "  - 0.5 * np.log10(f_sq + const[3]))\n"
          ],
          "name": "stderr"
        },
        {
          "output_type": "stream",
          "text": [
            "1246 / 1600 | drive/My Drive/AudioTaggerData/FSDKaggle2018.audio_test/17cfddcf.wav\n"
          ],
          "name": "stdout"
        },
        {
          "output_type": "stream",
          "text": [
            "/usr/local/lib/python3.6/dist-packages/librosa/core/time_frequency.py:1006: RuntimeWarning: divide by zero encountered in log10\n",
            "  - 0.5 * np.log10(f_sq + const[3]))\n"
          ],
          "name": "stderr"
        },
        {
          "output_type": "stream",
          "text": [
            "1247 / 1600 | drive/My Drive/AudioTaggerData/FSDKaggle2018.audio_test/2b8f6e49.wav\n"
          ],
          "name": "stdout"
        },
        {
          "output_type": "stream",
          "text": [
            "/usr/local/lib/python3.6/dist-packages/librosa/core/time_frequency.py:1006: RuntimeWarning: divide by zero encountered in log10\n",
            "  - 0.5 * np.log10(f_sq + const[3]))\n"
          ],
          "name": "stderr"
        },
        {
          "output_type": "stream",
          "text": [
            "1248 / 1600 | drive/My Drive/AudioTaggerData/FSDKaggle2018.audio_test/92f822dd.wav\n"
          ],
          "name": "stdout"
        },
        {
          "output_type": "stream",
          "text": [
            "/usr/local/lib/python3.6/dist-packages/librosa/core/time_frequency.py:1006: RuntimeWarning: divide by zero encountered in log10\n",
            "  - 0.5 * np.log10(f_sq + const[3]))\n"
          ],
          "name": "stderr"
        },
        {
          "output_type": "stream",
          "text": [
            "1249 / 1600 | drive/My Drive/AudioTaggerData/FSDKaggle2018.audio_test/46b5a369.wav\n"
          ],
          "name": "stdout"
        },
        {
          "output_type": "stream",
          "text": [
            "/usr/local/lib/python3.6/dist-packages/librosa/core/time_frequency.py:1006: RuntimeWarning: divide by zero encountered in log10\n",
            "  - 0.5 * np.log10(f_sq + const[3]))\n"
          ],
          "name": "stderr"
        },
        {
          "output_type": "stream",
          "text": [
            "1250 / 1600 | drive/My Drive/AudioTaggerData/FSDKaggle2018.audio_test/34404331.wav\n"
          ],
          "name": "stdout"
        },
        {
          "output_type": "stream",
          "text": [
            "/usr/local/lib/python3.6/dist-packages/librosa/core/time_frequency.py:1006: RuntimeWarning: divide by zero encountered in log10\n",
            "  - 0.5 * np.log10(f_sq + const[3]))\n"
          ],
          "name": "stderr"
        },
        {
          "output_type": "stream",
          "text": [
            "1251 / 1600 | drive/My Drive/AudioTaggerData/FSDKaggle2018.audio_test/d835b7ea.wav\n"
          ],
          "name": "stdout"
        },
        {
          "output_type": "stream",
          "text": [
            "/usr/local/lib/python3.6/dist-packages/librosa/core/time_frequency.py:1006: RuntimeWarning: divide by zero encountered in log10\n",
            "  - 0.5 * np.log10(f_sq + const[3]))\n"
          ],
          "name": "stderr"
        },
        {
          "output_type": "stream",
          "text": [
            "1252 / 1600 | drive/My Drive/AudioTaggerData/FSDKaggle2018.audio_test/2d1863d6.wav\n"
          ],
          "name": "stdout"
        },
        {
          "output_type": "stream",
          "text": [
            "/usr/local/lib/python3.6/dist-packages/librosa/core/time_frequency.py:1006: RuntimeWarning: divide by zero encountered in log10\n",
            "  - 0.5 * np.log10(f_sq + const[3]))\n"
          ],
          "name": "stderr"
        },
        {
          "output_type": "stream",
          "text": [
            "1253 / 1600 | drive/My Drive/AudioTaggerData/FSDKaggle2018.audio_test/24f112b3.wav\n"
          ],
          "name": "stdout"
        },
        {
          "output_type": "stream",
          "text": [
            "/usr/local/lib/python3.6/dist-packages/librosa/core/time_frequency.py:1006: RuntimeWarning: divide by zero encountered in log10\n",
            "  - 0.5 * np.log10(f_sq + const[3]))\n"
          ],
          "name": "stderr"
        },
        {
          "output_type": "stream",
          "text": [
            "1254 / 1600 | drive/My Drive/AudioTaggerData/FSDKaggle2018.audio_test/0586f0e0.wav\n"
          ],
          "name": "stdout"
        },
        {
          "output_type": "stream",
          "text": [
            "/usr/local/lib/python3.6/dist-packages/librosa/core/time_frequency.py:1006: RuntimeWarning: divide by zero encountered in log10\n",
            "  - 0.5 * np.log10(f_sq + const[3]))\n"
          ],
          "name": "stderr"
        },
        {
          "output_type": "stream",
          "text": [
            "1255 / 1600 | drive/My Drive/AudioTaggerData/FSDKaggle2018.audio_test/75306f5f.wav\n"
          ],
          "name": "stdout"
        },
        {
          "output_type": "stream",
          "text": [
            "/usr/local/lib/python3.6/dist-packages/librosa/core/time_frequency.py:1006: RuntimeWarning: divide by zero encountered in log10\n",
            "  - 0.5 * np.log10(f_sq + const[3]))\n"
          ],
          "name": "stderr"
        },
        {
          "output_type": "stream",
          "text": [
            "1256 / 1600 | drive/My Drive/AudioTaggerData/FSDKaggle2018.audio_test/d922f831.wav\n"
          ],
          "name": "stdout"
        },
        {
          "output_type": "stream",
          "text": [
            "/usr/local/lib/python3.6/dist-packages/librosa/core/time_frequency.py:1006: RuntimeWarning: divide by zero encountered in log10\n",
            "  - 0.5 * np.log10(f_sq + const[3]))\n"
          ],
          "name": "stderr"
        },
        {
          "output_type": "stream",
          "text": [
            "1257 / 1600 | drive/My Drive/AudioTaggerData/FSDKaggle2018.audio_test/09d2d1c0.wav\n"
          ],
          "name": "stdout"
        },
        {
          "output_type": "stream",
          "text": [
            "/usr/local/lib/python3.6/dist-packages/librosa/core/time_frequency.py:1006: RuntimeWarning: divide by zero encountered in log10\n",
            "  - 0.5 * np.log10(f_sq + const[3]))\n"
          ],
          "name": "stderr"
        },
        {
          "output_type": "stream",
          "text": [
            "1258 / 1600 | drive/My Drive/AudioTaggerData/FSDKaggle2018.audio_test/09e83f2a.wav\n"
          ],
          "name": "stdout"
        },
        {
          "output_type": "stream",
          "text": [
            "/usr/local/lib/python3.6/dist-packages/librosa/core/time_frequency.py:1006: RuntimeWarning: divide by zero encountered in log10\n",
            "  - 0.5 * np.log10(f_sq + const[3]))\n"
          ],
          "name": "stderr"
        },
        {
          "output_type": "stream",
          "text": [
            "1259 / 1600 | drive/My Drive/AudioTaggerData/FSDKaggle2018.audio_test/a5124583.wav\n"
          ],
          "name": "stdout"
        },
        {
          "output_type": "stream",
          "text": [
            "/usr/local/lib/python3.6/dist-packages/librosa/core/time_frequency.py:1006: RuntimeWarning: divide by zero encountered in log10\n",
            "  - 0.5 * np.log10(f_sq + const[3]))\n"
          ],
          "name": "stderr"
        },
        {
          "output_type": "stream",
          "text": [
            "1260 / 1600 | drive/My Drive/AudioTaggerData/FSDKaggle2018.audio_test/763241e6.wav\n"
          ],
          "name": "stdout"
        },
        {
          "output_type": "stream",
          "text": [
            "/usr/local/lib/python3.6/dist-packages/librosa/core/time_frequency.py:1006: RuntimeWarning: divide by zero encountered in log10\n",
            "  - 0.5 * np.log10(f_sq + const[3]))\n"
          ],
          "name": "stderr"
        },
        {
          "output_type": "stream",
          "text": [
            "1261 / 1600 | drive/My Drive/AudioTaggerData/FSDKaggle2018.audio_test/1f8ce32b.wav\n"
          ],
          "name": "stdout"
        },
        {
          "output_type": "stream",
          "text": [
            "/usr/local/lib/python3.6/dist-packages/librosa/core/time_frequency.py:1006: RuntimeWarning: divide by zero encountered in log10\n",
            "  - 0.5 * np.log10(f_sq + const[3]))\n"
          ],
          "name": "stderr"
        },
        {
          "output_type": "stream",
          "text": [
            "1262 / 1600 | drive/My Drive/AudioTaggerData/FSDKaggle2018.audio_test/876169b6.wav\n"
          ],
          "name": "stdout"
        },
        {
          "output_type": "stream",
          "text": [
            "/usr/local/lib/python3.6/dist-packages/librosa/core/time_frequency.py:1006: RuntimeWarning: divide by zero encountered in log10\n",
            "  - 0.5 * np.log10(f_sq + const[3]))\n"
          ],
          "name": "stderr"
        },
        {
          "output_type": "stream",
          "text": [
            "1263 / 1600 | drive/My Drive/AudioTaggerData/FSDKaggle2018.audio_test/757a6a10.wav\n"
          ],
          "name": "stdout"
        },
        {
          "output_type": "stream",
          "text": [
            "/usr/local/lib/python3.6/dist-packages/librosa/core/time_frequency.py:1006: RuntimeWarning: divide by zero encountered in log10\n",
            "  - 0.5 * np.log10(f_sq + const[3]))\n"
          ],
          "name": "stderr"
        },
        {
          "output_type": "stream",
          "text": [
            "1264 / 1600 | drive/My Drive/AudioTaggerData/FSDKaggle2018.audio_test/e5ec0d52.wav\n"
          ],
          "name": "stdout"
        },
        {
          "output_type": "stream",
          "text": [
            "/usr/local/lib/python3.6/dist-packages/librosa/core/time_frequency.py:1006: RuntimeWarning: divide by zero encountered in log10\n",
            "  - 0.5 * np.log10(f_sq + const[3]))\n"
          ],
          "name": "stderr"
        },
        {
          "output_type": "stream",
          "text": [
            "1265 / 1600 | drive/My Drive/AudioTaggerData/FSDKaggle2018.audio_test/462a705d.wav\n"
          ],
          "name": "stdout"
        },
        {
          "output_type": "stream",
          "text": [
            "/usr/local/lib/python3.6/dist-packages/librosa/core/time_frequency.py:1006: RuntimeWarning: divide by zero encountered in log10\n",
            "  - 0.5 * np.log10(f_sq + const[3]))\n"
          ],
          "name": "stderr"
        },
        {
          "output_type": "stream",
          "text": [
            "1266 / 1600 | drive/My Drive/AudioTaggerData/FSDKaggle2018.audio_test/fd576268.wav\n"
          ],
          "name": "stdout"
        },
        {
          "output_type": "stream",
          "text": [
            "/usr/local/lib/python3.6/dist-packages/librosa/core/time_frequency.py:1006: RuntimeWarning: divide by zero encountered in log10\n",
            "  - 0.5 * np.log10(f_sq + const[3]))\n"
          ],
          "name": "stderr"
        },
        {
          "output_type": "stream",
          "text": [
            "1267 / 1600 | drive/My Drive/AudioTaggerData/FSDKaggle2018.audio_test/98ec2bde.wav\n"
          ],
          "name": "stdout"
        },
        {
          "output_type": "stream",
          "text": [
            "/usr/local/lib/python3.6/dist-packages/librosa/core/time_frequency.py:1006: RuntimeWarning: divide by zero encountered in log10\n",
            "  - 0.5 * np.log10(f_sq + const[3]))\n"
          ],
          "name": "stderr"
        },
        {
          "output_type": "stream",
          "text": [
            "1268 / 1600 | drive/My Drive/AudioTaggerData/FSDKaggle2018.audio_test/351dcc25.wav\n"
          ],
          "name": "stdout"
        },
        {
          "output_type": "stream",
          "text": [
            "/usr/local/lib/python3.6/dist-packages/librosa/core/time_frequency.py:1006: RuntimeWarning: divide by zero encountered in log10\n",
            "  - 0.5 * np.log10(f_sq + const[3]))\n"
          ],
          "name": "stderr"
        },
        {
          "output_type": "stream",
          "text": [
            "1269 / 1600 | drive/My Drive/AudioTaggerData/FSDKaggle2018.audio_test/25eb383d.wav\n"
          ],
          "name": "stdout"
        },
        {
          "output_type": "stream",
          "text": [
            "/usr/local/lib/python3.6/dist-packages/librosa/core/time_frequency.py:1006: RuntimeWarning: divide by zero encountered in log10\n",
            "  - 0.5 * np.log10(f_sq + const[3]))\n"
          ],
          "name": "stderr"
        },
        {
          "output_type": "stream",
          "text": [
            "1270 / 1600 | drive/My Drive/AudioTaggerData/FSDKaggle2018.audio_test/736dfa08.wav\n"
          ],
          "name": "stdout"
        },
        {
          "output_type": "stream",
          "text": [
            "/usr/local/lib/python3.6/dist-packages/librosa/core/time_frequency.py:1006: RuntimeWarning: divide by zero encountered in log10\n",
            "  - 0.5 * np.log10(f_sq + const[3]))\n"
          ],
          "name": "stderr"
        },
        {
          "output_type": "stream",
          "text": [
            "1271 / 1600 | drive/My Drive/AudioTaggerData/FSDKaggle2018.audio_test/280e6f34.wav\n"
          ],
          "name": "stdout"
        },
        {
          "output_type": "stream",
          "text": [
            "/usr/local/lib/python3.6/dist-packages/librosa/core/time_frequency.py:1006: RuntimeWarning: divide by zero encountered in log10\n",
            "  - 0.5 * np.log10(f_sq + const[3]))\n"
          ],
          "name": "stderr"
        },
        {
          "output_type": "stream",
          "text": [
            "1272 / 1600 | drive/My Drive/AudioTaggerData/FSDKaggle2018.audio_test/26d01867.wav\n"
          ],
          "name": "stdout"
        },
        {
          "output_type": "stream",
          "text": [
            "/usr/local/lib/python3.6/dist-packages/librosa/core/time_frequency.py:1006: RuntimeWarning: divide by zero encountered in log10\n",
            "  - 0.5 * np.log10(f_sq + const[3]))\n"
          ],
          "name": "stderr"
        },
        {
          "output_type": "stream",
          "text": [
            "1273 / 1600 | drive/My Drive/AudioTaggerData/FSDKaggle2018.audio_test/5a2b60df.wav\n"
          ],
          "name": "stdout"
        },
        {
          "output_type": "stream",
          "text": [
            "/usr/local/lib/python3.6/dist-packages/librosa/core/time_frequency.py:1006: RuntimeWarning: divide by zero encountered in log10\n",
            "  - 0.5 * np.log10(f_sq + const[3]))\n"
          ],
          "name": "stderr"
        },
        {
          "output_type": "stream",
          "text": [
            "1274 / 1600 | drive/My Drive/AudioTaggerData/FSDKaggle2018.audio_test/83257b4d.wav\n"
          ],
          "name": "stdout"
        },
        {
          "output_type": "stream",
          "text": [
            "/usr/local/lib/python3.6/dist-packages/librosa/core/time_frequency.py:1006: RuntimeWarning: divide by zero encountered in log10\n",
            "  - 0.5 * np.log10(f_sq + const[3]))\n"
          ],
          "name": "stderr"
        },
        {
          "output_type": "stream",
          "text": [
            "1275 / 1600 | drive/My Drive/AudioTaggerData/FSDKaggle2018.audio_test/6792c278.wav\n"
          ],
          "name": "stdout"
        },
        {
          "output_type": "stream",
          "text": [
            "/usr/local/lib/python3.6/dist-packages/librosa/core/time_frequency.py:1006: RuntimeWarning: divide by zero encountered in log10\n",
            "  - 0.5 * np.log10(f_sq + const[3]))\n"
          ],
          "name": "stderr"
        },
        {
          "output_type": "stream",
          "text": [
            "1276 / 1600 | drive/My Drive/AudioTaggerData/FSDKaggle2018.audio_test/9d9dc988.wav\n"
          ],
          "name": "stdout"
        },
        {
          "output_type": "stream",
          "text": [
            "/usr/local/lib/python3.6/dist-packages/librosa/core/time_frequency.py:1006: RuntimeWarning: divide by zero encountered in log10\n",
            "  - 0.5 * np.log10(f_sq + const[3]))\n"
          ],
          "name": "stderr"
        },
        {
          "output_type": "stream",
          "text": [
            "1277 / 1600 | drive/My Drive/AudioTaggerData/FSDKaggle2018.audio_test/dad459c3.wav\n"
          ],
          "name": "stdout"
        },
        {
          "output_type": "stream",
          "text": [
            "/usr/local/lib/python3.6/dist-packages/librosa/core/time_frequency.py:1006: RuntimeWarning: divide by zero encountered in log10\n",
            "  - 0.5 * np.log10(f_sq + const[3]))\n"
          ],
          "name": "stderr"
        },
        {
          "output_type": "stream",
          "text": [
            "1278 / 1600 | drive/My Drive/AudioTaggerData/FSDKaggle2018.audio_test/f0a8bcac.wav\n"
          ],
          "name": "stdout"
        },
        {
          "output_type": "stream",
          "text": [
            "/usr/local/lib/python3.6/dist-packages/librosa/core/time_frequency.py:1006: RuntimeWarning: divide by zero encountered in log10\n",
            "  - 0.5 * np.log10(f_sq + const[3]))\n"
          ],
          "name": "stderr"
        },
        {
          "output_type": "stream",
          "text": [
            "1279 / 1600 | drive/My Drive/AudioTaggerData/FSDKaggle2018.audio_test/c9e0106a.wav\n"
          ],
          "name": "stdout"
        },
        {
          "output_type": "stream",
          "text": [
            "/usr/local/lib/python3.6/dist-packages/librosa/core/time_frequency.py:1006: RuntimeWarning: divide by zero encountered in log10\n",
            "  - 0.5 * np.log10(f_sq + const[3]))\n"
          ],
          "name": "stderr"
        },
        {
          "output_type": "stream",
          "text": [
            "1280 / 1600 | drive/My Drive/AudioTaggerData/FSDKaggle2018.audio_test/43e2dc35.wav\n"
          ],
          "name": "stdout"
        },
        {
          "output_type": "stream",
          "text": [
            "/usr/local/lib/python3.6/dist-packages/librosa/core/time_frequency.py:1006: RuntimeWarning: divide by zero encountered in log10\n",
            "  - 0.5 * np.log10(f_sq + const[3]))\n"
          ],
          "name": "stderr"
        },
        {
          "output_type": "stream",
          "text": [
            "1281 / 1600 | drive/My Drive/AudioTaggerData/FSDKaggle2018.audio_test/ec8c2792.wav\n"
          ],
          "name": "stdout"
        },
        {
          "output_type": "stream",
          "text": [
            "/usr/local/lib/python3.6/dist-packages/librosa/core/time_frequency.py:1006: RuntimeWarning: divide by zero encountered in log10\n",
            "  - 0.5 * np.log10(f_sq + const[3]))\n"
          ],
          "name": "stderr"
        },
        {
          "output_type": "stream",
          "text": [
            "1282 / 1600 | drive/My Drive/AudioTaggerData/FSDKaggle2018.audio_test/dfec892c.wav\n"
          ],
          "name": "stdout"
        },
        {
          "output_type": "stream",
          "text": [
            "/usr/local/lib/python3.6/dist-packages/librosa/core/time_frequency.py:1006: RuntimeWarning: divide by zero encountered in log10\n",
            "  - 0.5 * np.log10(f_sq + const[3]))\n"
          ],
          "name": "stderr"
        },
        {
          "output_type": "stream",
          "text": [
            "1283 / 1600 | drive/My Drive/AudioTaggerData/FSDKaggle2018.audio_test/fe14e431.wav\n"
          ],
          "name": "stdout"
        },
        {
          "output_type": "stream",
          "text": [
            "/usr/local/lib/python3.6/dist-packages/librosa/core/time_frequency.py:1006: RuntimeWarning: divide by zero encountered in log10\n",
            "  - 0.5 * np.log10(f_sq + const[3]))\n"
          ],
          "name": "stderr"
        },
        {
          "output_type": "stream",
          "text": [
            "1284 / 1600 | drive/My Drive/AudioTaggerData/FSDKaggle2018.audio_test/d0893bc2.wav\n"
          ],
          "name": "stdout"
        },
        {
          "output_type": "stream",
          "text": [
            "/usr/local/lib/python3.6/dist-packages/librosa/core/time_frequency.py:1006: RuntimeWarning: divide by zero encountered in log10\n",
            "  - 0.5 * np.log10(f_sq + const[3]))\n"
          ],
          "name": "stderr"
        },
        {
          "output_type": "stream",
          "text": [
            "1285 / 1600 | drive/My Drive/AudioTaggerData/FSDKaggle2018.audio_test/b1b4ca7e.wav\n"
          ],
          "name": "stdout"
        },
        {
          "output_type": "stream",
          "text": [
            "/usr/local/lib/python3.6/dist-packages/librosa/core/time_frequency.py:1006: RuntimeWarning: divide by zero encountered in log10\n",
            "  - 0.5 * np.log10(f_sq + const[3]))\n"
          ],
          "name": "stderr"
        },
        {
          "output_type": "stream",
          "text": [
            "1286 / 1600 | drive/My Drive/AudioTaggerData/FSDKaggle2018.audio_test/e42e694c.wav\n"
          ],
          "name": "stdout"
        },
        {
          "output_type": "stream",
          "text": [
            "/usr/local/lib/python3.6/dist-packages/librosa/core/time_frequency.py:1006: RuntimeWarning: divide by zero encountered in log10\n",
            "  - 0.5 * np.log10(f_sq + const[3]))\n"
          ],
          "name": "stderr"
        },
        {
          "output_type": "stream",
          "text": [
            "1287 / 1600 | drive/My Drive/AudioTaggerData/FSDKaggle2018.audio_test/6b3d7d7e.wav\n"
          ],
          "name": "stdout"
        },
        {
          "output_type": "stream",
          "text": [
            "/usr/local/lib/python3.6/dist-packages/librosa/core/time_frequency.py:1006: RuntimeWarning: divide by zero encountered in log10\n",
            "  - 0.5 * np.log10(f_sq + const[3]))\n"
          ],
          "name": "stderr"
        },
        {
          "output_type": "stream",
          "text": [
            "1288 / 1600 | drive/My Drive/AudioTaggerData/FSDKaggle2018.audio_test/4a51b1a7.wav\n"
          ],
          "name": "stdout"
        },
        {
          "output_type": "stream",
          "text": [
            "/usr/local/lib/python3.6/dist-packages/librosa/core/time_frequency.py:1006: RuntimeWarning: divide by zero encountered in log10\n",
            "  - 0.5 * np.log10(f_sq + const[3]))\n"
          ],
          "name": "stderr"
        },
        {
          "output_type": "stream",
          "text": [
            "1289 / 1600 | drive/My Drive/AudioTaggerData/FSDKaggle2018.audio_test/669b7d38.wav\n"
          ],
          "name": "stdout"
        },
        {
          "output_type": "stream",
          "text": [
            "/usr/local/lib/python3.6/dist-packages/librosa/core/time_frequency.py:1006: RuntimeWarning: divide by zero encountered in log10\n",
            "  - 0.5 * np.log10(f_sq + const[3]))\n"
          ],
          "name": "stderr"
        },
        {
          "output_type": "stream",
          "text": [
            "1290 / 1600 | drive/My Drive/AudioTaggerData/FSDKaggle2018.audio_test/01bb344f.wav\n"
          ],
          "name": "stdout"
        },
        {
          "output_type": "stream",
          "text": [
            "/usr/local/lib/python3.6/dist-packages/librosa/core/time_frequency.py:1006: RuntimeWarning: divide by zero encountered in log10\n",
            "  - 0.5 * np.log10(f_sq + const[3]))\n"
          ],
          "name": "stderr"
        },
        {
          "output_type": "stream",
          "text": [
            "1291 / 1600 | drive/My Drive/AudioTaggerData/FSDKaggle2018.audio_test/f22e9699.wav\n"
          ],
          "name": "stdout"
        },
        {
          "output_type": "stream",
          "text": [
            "/usr/local/lib/python3.6/dist-packages/librosa/core/time_frequency.py:1006: RuntimeWarning: divide by zero encountered in log10\n",
            "  - 0.5 * np.log10(f_sq + const[3]))\n"
          ],
          "name": "stderr"
        },
        {
          "output_type": "stream",
          "text": [
            "1292 / 1600 | drive/My Drive/AudioTaggerData/FSDKaggle2018.audio_test/b0efba86.wav\n"
          ],
          "name": "stdout"
        },
        {
          "output_type": "stream",
          "text": [
            "/usr/local/lib/python3.6/dist-packages/librosa/core/time_frequency.py:1006: RuntimeWarning: divide by zero encountered in log10\n",
            "  - 0.5 * np.log10(f_sq + const[3]))\n"
          ],
          "name": "stderr"
        },
        {
          "output_type": "stream",
          "text": [
            "1293 / 1600 | drive/My Drive/AudioTaggerData/FSDKaggle2018.audio_test/8bd5a1c6.wav\n"
          ],
          "name": "stdout"
        },
        {
          "output_type": "stream",
          "text": [
            "/usr/local/lib/python3.6/dist-packages/librosa/core/time_frequency.py:1006: RuntimeWarning: divide by zero encountered in log10\n",
            "  - 0.5 * np.log10(f_sq + const[3]))\n"
          ],
          "name": "stderr"
        },
        {
          "output_type": "stream",
          "text": [
            "1294 / 1600 | drive/My Drive/AudioTaggerData/FSDKaggle2018.audio_test/aa41eeec.wav\n"
          ],
          "name": "stdout"
        },
        {
          "output_type": "stream",
          "text": [
            "/usr/local/lib/python3.6/dist-packages/librosa/core/time_frequency.py:1006: RuntimeWarning: divide by zero encountered in log10\n",
            "  - 0.5 * np.log10(f_sq + const[3]))\n"
          ],
          "name": "stderr"
        },
        {
          "output_type": "stream",
          "text": [
            "1295 / 1600 | drive/My Drive/AudioTaggerData/FSDKaggle2018.audio_test/80015cae.wav\n"
          ],
          "name": "stdout"
        },
        {
          "output_type": "stream",
          "text": [
            "/usr/local/lib/python3.6/dist-packages/librosa/core/time_frequency.py:1006: RuntimeWarning: divide by zero encountered in log10\n",
            "  - 0.5 * np.log10(f_sq + const[3]))\n"
          ],
          "name": "stderr"
        },
        {
          "output_type": "stream",
          "text": [
            "1296 / 1600 | drive/My Drive/AudioTaggerData/FSDKaggle2018.audio_test/e68bd9bf.wav\n"
          ],
          "name": "stdout"
        },
        {
          "output_type": "stream",
          "text": [
            "/usr/local/lib/python3.6/dist-packages/librosa/core/time_frequency.py:1006: RuntimeWarning: divide by zero encountered in log10\n",
            "  - 0.5 * np.log10(f_sq + const[3]))\n"
          ],
          "name": "stderr"
        },
        {
          "output_type": "stream",
          "text": [
            "1297 / 1600 | drive/My Drive/AudioTaggerData/FSDKaggle2018.audio_test/053e7bb5.wav\n"
          ],
          "name": "stdout"
        },
        {
          "output_type": "stream",
          "text": [
            "/usr/local/lib/python3.6/dist-packages/librosa/core/time_frequency.py:1006: RuntimeWarning: divide by zero encountered in log10\n",
            "  - 0.5 * np.log10(f_sq + const[3]))\n"
          ],
          "name": "stderr"
        },
        {
          "output_type": "stream",
          "text": [
            "1298 / 1600 | drive/My Drive/AudioTaggerData/FSDKaggle2018.audio_test/b2a232ab.wav\n"
          ],
          "name": "stdout"
        },
        {
          "output_type": "stream",
          "text": [
            "/usr/local/lib/python3.6/dist-packages/librosa/core/time_frequency.py:1006: RuntimeWarning: divide by zero encountered in log10\n",
            "  - 0.5 * np.log10(f_sq + const[3]))\n"
          ],
          "name": "stderr"
        },
        {
          "output_type": "stream",
          "text": [
            "1299 / 1600 | drive/My Drive/AudioTaggerData/FSDKaggle2018.audio_test/c0f3b6a8.wav\n"
          ],
          "name": "stdout"
        },
        {
          "output_type": "stream",
          "text": [
            "/usr/local/lib/python3.6/dist-packages/librosa/core/time_frequency.py:1006: RuntimeWarning: divide by zero encountered in log10\n",
            "  - 0.5 * np.log10(f_sq + const[3]))\n"
          ],
          "name": "stderr"
        },
        {
          "output_type": "stream",
          "text": [
            "1300 / 1600 | drive/My Drive/AudioTaggerData/FSDKaggle2018.audio_test/c28ae479.wav\n"
          ],
          "name": "stdout"
        },
        {
          "output_type": "stream",
          "text": [
            "/usr/local/lib/python3.6/dist-packages/librosa/core/time_frequency.py:1006: RuntimeWarning: divide by zero encountered in log10\n",
            "  - 0.5 * np.log10(f_sq + const[3]))\n"
          ],
          "name": "stderr"
        },
        {
          "output_type": "stream",
          "text": [
            "1301 / 1600 | drive/My Drive/AudioTaggerData/FSDKaggle2018.audio_test/433221cb.wav\n"
          ],
          "name": "stdout"
        },
        {
          "output_type": "stream",
          "text": [
            "/usr/local/lib/python3.6/dist-packages/librosa/core/time_frequency.py:1006: RuntimeWarning: divide by zero encountered in log10\n",
            "  - 0.5 * np.log10(f_sq + const[3]))\n"
          ],
          "name": "stderr"
        },
        {
          "output_type": "stream",
          "text": [
            "1302 / 1600 | drive/My Drive/AudioTaggerData/FSDKaggle2018.audio_test/3ad731d5.wav\n"
          ],
          "name": "stdout"
        },
        {
          "output_type": "stream",
          "text": [
            "/usr/local/lib/python3.6/dist-packages/librosa/core/time_frequency.py:1006: RuntimeWarning: divide by zero encountered in log10\n",
            "  - 0.5 * np.log10(f_sq + const[3]))\n"
          ],
          "name": "stderr"
        },
        {
          "output_type": "stream",
          "text": [
            "1303 / 1600 | drive/My Drive/AudioTaggerData/FSDKaggle2018.audio_test/441b8b36.wav\n"
          ],
          "name": "stdout"
        },
        {
          "output_type": "stream",
          "text": [
            "/usr/local/lib/python3.6/dist-packages/librosa/core/time_frequency.py:1006: RuntimeWarning: divide by zero encountered in log10\n",
            "  - 0.5 * np.log10(f_sq + const[3]))\n"
          ],
          "name": "stderr"
        },
        {
          "output_type": "stream",
          "text": [
            "1304 / 1600 | drive/My Drive/AudioTaggerData/FSDKaggle2018.audio_test/f4e4574e.wav\n"
          ],
          "name": "stdout"
        },
        {
          "output_type": "stream",
          "text": [
            "/usr/local/lib/python3.6/dist-packages/librosa/core/time_frequency.py:1006: RuntimeWarning: divide by zero encountered in log10\n",
            "  - 0.5 * np.log10(f_sq + const[3]))\n"
          ],
          "name": "stderr"
        },
        {
          "output_type": "stream",
          "text": [
            "1305 / 1600 | drive/My Drive/AudioTaggerData/FSDKaggle2018.audio_test/ba121fa8.wav\n"
          ],
          "name": "stdout"
        },
        {
          "output_type": "stream",
          "text": [
            "/usr/local/lib/python3.6/dist-packages/librosa/core/time_frequency.py:1006: RuntimeWarning: divide by zero encountered in log10\n",
            "  - 0.5 * np.log10(f_sq + const[3]))\n"
          ],
          "name": "stderr"
        },
        {
          "output_type": "stream",
          "text": [
            "1306 / 1600 | drive/My Drive/AudioTaggerData/FSDKaggle2018.audio_test/b84bad83.wav\n"
          ],
          "name": "stdout"
        },
        {
          "output_type": "stream",
          "text": [
            "/usr/local/lib/python3.6/dist-packages/librosa/core/time_frequency.py:1006: RuntimeWarning: divide by zero encountered in log10\n",
            "  - 0.5 * np.log10(f_sq + const[3]))\n"
          ],
          "name": "stderr"
        },
        {
          "output_type": "stream",
          "text": [
            "1307 / 1600 | drive/My Drive/AudioTaggerData/FSDKaggle2018.audio_test/cc4c0739.wav\n"
          ],
          "name": "stdout"
        },
        {
          "output_type": "stream",
          "text": [
            "/usr/local/lib/python3.6/dist-packages/librosa/core/time_frequency.py:1006: RuntimeWarning: divide by zero encountered in log10\n",
            "  - 0.5 * np.log10(f_sq + const[3]))\n"
          ],
          "name": "stderr"
        },
        {
          "output_type": "stream",
          "text": [
            "1308 / 1600 | drive/My Drive/AudioTaggerData/FSDKaggle2018.audio_test/ee68ada2.wav\n"
          ],
          "name": "stdout"
        },
        {
          "output_type": "stream",
          "text": [
            "/usr/local/lib/python3.6/dist-packages/librosa/core/time_frequency.py:1006: RuntimeWarning: divide by zero encountered in log10\n",
            "  - 0.5 * np.log10(f_sq + const[3]))\n"
          ],
          "name": "stderr"
        },
        {
          "output_type": "stream",
          "text": [
            "1309 / 1600 | drive/My Drive/AudioTaggerData/FSDKaggle2018.audio_test/520dd11d.wav\n"
          ],
          "name": "stdout"
        },
        {
          "output_type": "stream",
          "text": [
            "/usr/local/lib/python3.6/dist-packages/librosa/core/time_frequency.py:1006: RuntimeWarning: divide by zero encountered in log10\n",
            "  - 0.5 * np.log10(f_sq + const[3]))\n"
          ],
          "name": "stderr"
        },
        {
          "output_type": "stream",
          "text": [
            "1310 / 1600 | drive/My Drive/AudioTaggerData/FSDKaggle2018.audio_test/43723640.wav\n"
          ],
          "name": "stdout"
        },
        {
          "output_type": "stream",
          "text": [
            "/usr/local/lib/python3.6/dist-packages/librosa/core/time_frequency.py:1006: RuntimeWarning: divide by zero encountered in log10\n",
            "  - 0.5 * np.log10(f_sq + const[3]))\n"
          ],
          "name": "stderr"
        },
        {
          "output_type": "stream",
          "text": [
            "1311 / 1600 | drive/My Drive/AudioTaggerData/FSDKaggle2018.audio_test/2f1c2612.wav\n"
          ],
          "name": "stdout"
        }
      ]
    },
    {
      "cell_type": "code",
      "metadata": {
        "id": "T4ua6ZrXRNkt",
        "colab_type": "code",
        "colab": {
          "base_uri": "https://localhost:8080/",
          "height": 1788
        },
        "outputId": "5e2b157e-3bb8-4fb0-c2f7-3686b8e7a112"
      },
      "source": [
        "mean = train_data.mean(axis = 0)\n",
        "# print('Mean of sample 1:')\n",
        "# print(mean[0])\n",
        "train_data -= mean\n",
        "std = train_data.std(axis = 0)\n",
        "train_data /= std\n",
        "\n",
        "# ONCE I HAVE TEST DATA\n",
        "test_data -= mean\n",
        "test_data /= std\n",
        "\n",
        "# Use getter methods here\n",
        "# dummy_train_data = np.random.random((dummy_samples, dummy_max_timesteps,\n",
        "#                                      dummy_num_freq, 1))\n",
        "# # Categorical labels\n",
        "# dummy_train_labels = np.zeros((10, 41))\n",
        "# for i, label in enumerate(dummy_train_labels):\n",
        "#     label[i] = 1\n",
        "# print(dummy_train_labels)\n",
        "\n",
        "model = make_model((max_timesteps, num_freq, 1))\n",
        "model.compile(optimizer = 'rmsprop', loss = 'categorical_crossentropy',\n",
        "              metrics = ['accuracy'])\n",
        "\n",
        "k = 4\n",
        "num_val = len(train_data) // k\n",
        "num_train = len(train_labels) - num_val\n",
        "all_val_acc_histories, all_val_loss_histories = [], []\n",
        "for x in range(k):\n",
        "    val_data = train_data[x * num_val: (x + 1) * num_val]\n",
        "    val_labels = train_labels[x * num_val: (x + 1) * num_val]\n",
        "\n",
        "    partial_train_data = np.concatenate(\n",
        "        [train_data[: x * num_val], train_data[(x + 1) * num_val:]],\n",
        "        axis = 0)\n",
        "    partial_train_labels = np.concatenate(\n",
        "        [train_labels[: x * num_val],\n",
        "         train_labels[(x + 1) * num_val:]],\n",
        "        axis = 0)\n",
        "    \n",
        "    partial_train_data = partial_train_data.reshape(\n",
        "            (partial_train_data.shape[0], \n",
        "             partial_train_data.shape[1], \n",
        "             partial_train_data.shape[2], \n",
        "             1))\n",
        "    \n",
        "    val_data = val_data.reshape(\n",
        "            (val_data.shape[0], \n",
        "             val_data.shape[1], \n",
        "             val_data.shape[2], \n",
        "             1))\n",
        "    \n",
        "    hst = model.fit(partial_train_data, partial_train_labels, batch_size = 1024,\n",
        "                    epochs = 10, validation_data = (val_data, val_labels),)\n",
        "\n",
        "    hst = hst.history\n",
        "    all_val_loss_histories.append(hst['val_loss'])\n",
        "    all_val_acc_histories.append(hst['val_acc'])\n",
        "\n",
        "avg_val_loss_hst = np.mean(all_val_loss_histories, axis = 0)\n",
        "avg_val_acc_hst = np.mean(all_val_acc_histories, axis = 0)\n",
        "\n",
        "best_loss, best_acc, prev_acc, best_epoch = None, None, None, 0\n",
        "\n",
        "acc_increased = True\n",
        "for i in range(10):\n",
        "    print(avg_val_acc_hst[i], '/', avg_val_loss_hst[i])\n",
        "\n",
        "    if prev_acc is not None and avg_val_acc_hst[i] < prev_acc:\n",
        "        acc_increased = False\n",
        "    prev_acc = avg_val_loss_hst[i]\n",
        "\n",
        "    if (best_acc is None or avg_val_acc_hst[i] > best_acc and\n",
        "            acc_increased):\n",
        "        best_acc = avg_val_acc_hst[i]\n",
        "        best_loss = avg_val_loss_hst[i]\n",
        "        best_epoch = i + 1\n",
        "\n",
        "print('Best val loss:', best_loss, '& with acc:', best_acc, 'at epoch:',\n",
        "      str(best_epoch))\n",
        "\n",
        "model.save('2DCNN.h5')\n"
      ],
      "execution_count": 18,
      "outputs": [
        {
          "output_type": "stream",
          "text": [
            "Mean of sample 1:\n",
            "[-86.62562035 -80.24301205 -76.96972696 -74.24042989 -72.61073198\n",
            " -72.02183324 -71.96739275 -71.94178303 -72.11115085 -72.31134021\n",
            " -72.43132402 -73.15902811 -73.39463413 -73.82801204 -74.54069714\n",
            " -75.03079402 -75.5396978  -76.29402385 -76.83100721 -77.34660071\n",
            " -77.61326341 -78.22247951 -78.70824379 -79.37451051 -80.45232453\n",
            " -81.33338928 -82.41725067 -83.25649102 -84.30028947 -85.23726603\n",
            " -86.02354532 -86.80838875]\n",
            "Train on 7106 samples, validate on 2368 samples\n",
            "Epoch 1/10\n",
            "7106/7106 [==============================] - 9s 1ms/step - loss: 3.4839 - acc: 0.0948 - val_loss: 3.5066 - val_acc: 0.1035\n",
            "Epoch 2/10\n",
            "7106/7106 [==============================] - 6s 838us/step - loss: 3.1340 - acc: 0.1714 - val_loss: 3.1900 - val_acc: 0.1660\n",
            "Epoch 3/10\n",
            "7106/7106 [==============================] - 6s 843us/step - loss: 2.9191 - acc: 0.2118 - val_loss: 3.1819 - val_acc: 0.1959\n",
            "Epoch 4/10\n",
            "7106/7106 [==============================] - 6s 832us/step - loss: 2.7378 - acc: 0.2518 - val_loss: 3.3186 - val_acc: 0.1795\n",
            "Epoch 5/10\n",
            "7106/7106 [==============================] - 6s 821us/step - loss: 2.6411 - acc: 0.2658 - val_loss: 2.9438 - val_acc: 0.2323\n",
            "Epoch 6/10\n",
            "7106/7106 [==============================] - 6s 812us/step - loss: 2.5337 - acc: 0.2999 - val_loss: 3.0453 - val_acc: 0.2264\n",
            "Epoch 7/10\n",
            "7106/7106 [==============================] - 6s 812us/step - loss: 2.4390 - acc: 0.3259 - val_loss: 2.8863 - val_acc: 0.2707\n",
            "Epoch 8/10\n",
            "7106/7106 [==============================] - 6s 807us/step - loss: 2.3846 - acc: 0.3314 - val_loss: 2.9793 - val_acc: 0.2606\n",
            "Epoch 9/10\n",
            "7106/7106 [==============================] - 6s 805us/step - loss: 2.3067 - acc: 0.3504 - val_loss: 2.8706 - val_acc: 0.2804\n",
            "Epoch 10/10\n",
            "7106/7106 [==============================] - 6s 801us/step - loss: 2.2810 - acc: 0.3642 - val_loss: 2.8905 - val_acc: 0.2880\n",
            "Train on 7106 samples, validate on 2368 samples\n",
            "Epoch 1/10\n",
            "7106/7106 [==============================] - 6s 800us/step - loss: 2.2808 - acc: 0.3645 - val_loss: 2.7032 - val_acc: 0.3243\n",
            "Epoch 2/10\n",
            "7106/7106 [==============================] - 6s 804us/step - loss: 2.2294 - acc: 0.3757 - val_loss: 2.6236 - val_acc: 0.3315\n",
            "Epoch 3/10\n",
            "7106/7106 [==============================] - 6s 807us/step - loss: 2.2129 - acc: 0.3708 - val_loss: 2.5732 - val_acc: 0.3454\n",
            "Epoch 4/10\n",
            "7106/7106 [==============================] - 6s 808us/step - loss: 2.1672 - acc: 0.3870 - val_loss: 2.5079 - val_acc: 0.3623\n",
            "Epoch 5/10\n",
            "7106/7106 [==============================] - 6s 809us/step - loss: 2.1071 - acc: 0.4035 - val_loss: 2.4059 - val_acc: 0.3801\n",
            "Epoch 6/10\n",
            "7106/7106 [==============================] - 6s 811us/step - loss: 2.0939 - acc: 0.4053 - val_loss: 2.3587 - val_acc: 0.3860\n",
            "Epoch 7/10\n",
            "7106/7106 [==============================] - 6s 811us/step - loss: 2.0675 - acc: 0.4095 - val_loss: 2.3993 - val_acc: 0.3788\n",
            "Epoch 8/10\n",
            "7106/7106 [==============================] - 6s 813us/step - loss: 2.0198 - acc: 0.4256 - val_loss: 2.3242 - val_acc: 0.4008\n",
            "Epoch 9/10\n",
            "7106/7106 [==============================] - 6s 813us/step - loss: 1.9871 - acc: 0.4341 - val_loss: 2.4177 - val_acc: 0.3986\n",
            "Epoch 10/10\n",
            "7106/7106 [==============================] - 6s 826us/step - loss: 1.9951 - acc: 0.4222 - val_loss: 2.3449 - val_acc: 0.4130\n",
            "Train on 7106 samples, validate on 2368 samples\n",
            "Epoch 1/10\n",
            "7106/7106 [==============================] - 6s 808us/step - loss: 2.0158 - acc: 0.4325 - val_loss: 2.1053 - val_acc: 0.4261\n",
            "Epoch 2/10\n",
            "7106/7106 [==============================] - 6s 808us/step - loss: 1.9804 - acc: 0.4357 - val_loss: 2.4139 - val_acc: 0.3965\n",
            "Epoch 3/10\n",
            "7106/7106 [==============================] - 6s 809us/step - loss: 1.9450 - acc: 0.4507 - val_loss: 2.1160 - val_acc: 0.4307\n",
            "Epoch 4/10\n",
            "7106/7106 [==============================] - 6s 809us/step - loss: 1.9138 - acc: 0.4560 - val_loss: 2.3517 - val_acc: 0.4063\n",
            "Epoch 5/10\n",
            "7106/7106 [==============================] - 6s 808us/step - loss: 1.8799 - acc: 0.4630 - val_loss: 2.0761 - val_acc: 0.4523\n",
            "Epoch 6/10\n",
            "7106/7106 [==============================] - 6s 808us/step - loss: 1.8768 - acc: 0.4630 - val_loss: 2.0630 - val_acc: 0.4481\n",
            "Epoch 7/10\n",
            "7106/7106 [==============================] - 6s 809us/step - loss: 1.8436 - acc: 0.4726 - val_loss: 2.0514 - val_acc: 0.4493\n",
            "Epoch 8/10\n",
            "7106/7106 [==============================] - 6s 810us/step - loss: 1.8275 - acc: 0.4765 - val_loss: 2.1766 - val_acc: 0.4329\n",
            "Epoch 9/10\n",
            "7106/7106 [==============================] - 6s 809us/step - loss: 1.7878 - acc: 0.4893 - val_loss: 2.2204 - val_acc: 0.4413\n",
            "Epoch 10/10\n",
            "7106/7106 [==============================] - 6s 823us/step - loss: 1.7605 - acc: 0.4986 - val_loss: 2.1294 - val_acc: 0.4362\n",
            "Train on 7106 samples, validate on 2368 samples\n",
            "Epoch 1/10\n",
            "7106/7106 [==============================] - 6s 808us/step - loss: 1.8187 - acc: 0.4795 - val_loss: 1.8016 - val_acc: 0.4937\n",
            "Epoch 2/10\n",
            "7106/7106 [==============================] - 6s 809us/step - loss: 1.7953 - acc: 0.4816 - val_loss: 1.6923 - val_acc: 0.5144\n",
            "Epoch 3/10\n",
            "7106/7106 [==============================] - 6s 808us/step - loss: 1.7513 - acc: 0.4958 - val_loss: 1.7153 - val_acc: 0.5131\n",
            "Epoch 4/10\n",
            "7106/7106 [==============================] - 6s 809us/step - loss: 1.7209 - acc: 0.5042 - val_loss: 1.7672 - val_acc: 0.5110\n",
            "Epoch 5/10\n",
            "7106/7106 [==============================] - 6s 808us/step - loss: 1.7064 - acc: 0.5094 - val_loss: 1.8076 - val_acc: 0.5068\n",
            "Epoch 6/10\n",
            "7106/7106 [==============================] - 6s 810us/step - loss: 1.6793 - acc: 0.5115 - val_loss: 1.8205 - val_acc: 0.4970\n",
            "Epoch 7/10\n",
            "7106/7106 [==============================] - 6s 809us/step - loss: 1.6593 - acc: 0.5173 - val_loss: 1.9509 - val_acc: 0.4793\n",
            "Epoch 8/10\n",
            "7106/7106 [==============================] - 6s 810us/step - loss: 1.6566 - acc: 0.5187 - val_loss: 1.8156 - val_acc: 0.4869\n",
            "Epoch 9/10\n",
            "7106/7106 [==============================] - 6s 809us/step - loss: 1.6078 - acc: 0.5383 - val_loss: 1.8968 - val_acc: 0.4886\n",
            "Epoch 10/10\n",
            "7106/7106 [==============================] - 6s 808us/step - loss: 1.5965 - acc: 0.5408 - val_loss: 1.8344 - val_acc: 0.4962\n",
            "0.3368876702278047 / 2.5291878854906233\n",
            "0.35209037242708974 / 2.4799486970579303\n",
            "0.37130489824591456 / 2.3966149011173763\n",
            "0.36475929074190755 / 2.4863803209485233\n",
            "0.3928420609114943 / 2.3083473532586485\n",
            "0.3893581081081081 / 2.321887665503734\n",
            "0.3945312483890636 / 2.3219690459805564\n",
            "0.395270271176422 / 2.3238935744440234\n",
            "0.4022381752729416 / 2.351365850583927\n",
            "0.4083614862851195 / 2.299803314982234\n",
            "Best val loss: 2.5291878854906233 & with acc: 2.5291878854906233 at epoch: 1\n"
          ],
          "name": "stdout"
        }
      ]
    },
    {
      "cell_type": "code",
      "metadata": {
        "id": "UcabAPVsZpEH",
        "colab_type": "code",
        "colab": {
          "base_uri": "https://localhost:8080/",
          "height": 1652
        },
        "outputId": "f47a204a-6f91-4f0f-daa0-1ea0a345e597"
      },
      "source": [
        "\n",
        "\n",
        "def make_combined_CNN_RNN_model(input_shape):\n",
        "    nn = models.Sequential()\n",
        "    nn.add(layers.SeparableConv1D(64, 5, activation = 'relu',\n",
        "                                  input_shape = (None, input_shape[-1])))\n",
        "    nn.add(layers.BatchNormalization())\n",
        "    nn.add(layers.SeparableConv1D(64, 5, activation = 'relu'))\n",
        "    nn.add(layers.BatchNormalization())\n",
        "    nn.add(layers.MaxPooling1D(3))\n",
        "    nn.add(layers.Dropout(0.3))\n",
        "\n",
        "    nn.add(layers.SeparableConv1D(128, 5, activation = 'relu'))\n",
        "    nn.add(layers.BatchNormalization())\n",
        "    nn.add(layers.SeparableConv1D(128, 5, activation = 'relu'))\n",
        "    nn.add(layers.BatchNormalization())\n",
        "    # nn.add(layers.MaxPooling1D(3))\n",
        "    # nn.add(layers.Dropout(0.3))\n",
        "    #\n",
        "    # nn.add(layers.SeparableConv1D(512, 5, activation = 'relu'))\n",
        "    # nn.add(layers.BatchNormalization())\n",
        "    # nn.add(layers.SeparableConv1D(512, 5, activation = 'relu'))\n",
        "    # nn.add(layers.BatchNormalization())\n",
        "\n",
        "    nn.add(layers.Bidirectional(layers.LSTM(128, dropout = 0.3,\n",
        "                                            recurrent_dropout = 0.3,\n",
        "                                            return_sequences = True)))\n",
        "    nn.add(layers.Bidirectional(layers.LSTM(128, dropout = 0.3,\n",
        "                                            recurrent_dropout = 0.3,\n",
        "                                            return_sequences = True)))\n",
        "    nn.add(layers.Bidirectional(layers.LSTM(128, dropout = 0.3,\n",
        "                                            recurrent_dropout = 0.3,\n",
        "                                            return_sequences = True)))\n",
        "    nn.add(layers.Bidirectional(layers.LSTM(128, dropout = 0.3,\n",
        "                                            recurrent_dropout = 0.3)))\n",
        "\n",
        "    nn.add(layers.Dense(41, activation = 'softmax'))\n",
        "\n",
        "    return nn\n",
        "\n",
        "model = make_combined_CNN_RNN_model((max_timesteps, num_freq))\n",
        "model.compile(optimizer = 'rmsprop', loss = 'categorical_crossentropy',\n",
        "              metrics = ['accuracy'])\n",
        "\n",
        "k = 4\n",
        "num_val = len(train_data) // k\n",
        "num_train = len(train_labels) - num_val\n",
        "all_val_acc_histories, all_val_loss_histories = [], []\n",
        "for x in range(k):\n",
        "    val_data = train_data[x * num_val: (x + 1) * num_val]\n",
        "    val_labels = train_labels[x * num_val: (x + 1) * num_val]\n",
        "\n",
        "    partial_train_data = np.concatenate(\n",
        "        [train_data[: x * num_val], train_data[(x + 1) * num_val:]],\n",
        "        axis = 0)\n",
        "    partial_train_labels = np.concatenate(\n",
        "        [train_labels[: x * num_val],\n",
        "         train_labels[(x + 1) * num_val:]],\n",
        "        axis = 0)\n",
        "    \n",
        "    hst = model.fit(partial_train_data, partial_train_labels, batch_size = 1024,\n",
        "                    epochs = 10, validation_data = (val_data, val_labels),)\n",
        "\n",
        "    hst = hst.history\n",
        "    all_val_loss_histories.append(hst['val_loss'])\n",
        "    all_val_acc_histories.append(hst['val_acc'])\n",
        "\n",
        "avg_val_loss_hst = np.mean(all_val_loss_histories, axis = 0)\n",
        "avg_val_acc_hst = np.mean(all_val_acc_histories, axis = 0)\n",
        "\n",
        "best_loss, best_acc, prev_acc, best_epoch = None, None, None, 0\n",
        "\n",
        "acc_increased = True\n",
        "for i in range(10):\n",
        "    print(avg_val_acc_hst[i], '/', avg_val_loss_hst[i])\n",
        "\n",
        "    if prev_acc is not None and avg_val_acc_hst[i] < prev_acc:\n",
        "        acc_increased = False\n",
        "    prev_acc = avg_val_loss_hst[i]\n",
        "\n",
        "    if (best_acc is None or avg_val_acc_hst[i] > best_acc and\n",
        "            acc_increased):\n",
        "        best_acc = avg_val_acc_hst[i]\n",
        "        best_loss = avg_val_loss_hst[i]\n",
        "        best_epoch = i + 1\n",
        "\n",
        "print('Best val loss:', best_loss, '& with acc:', best_acc, 'at epoch:',\n",
        "      str(best_epoch))\n",
        "\n",
        "model.save('1DCNN_RNN.h5')"
      ],
      "execution_count": 19,
      "outputs": [
        {
          "output_type": "stream",
          "text": [
            "Train on 7106 samples, validate on 2368 samples\n",
            "Epoch 1/10\n",
            "7106/7106 [==============================] - 13s 2ms/step - loss: 3.5468 - acc: 0.0764 - val_loss: 3.3753 - val_acc: 0.1199\n",
            "Epoch 2/10\n",
            "7106/7106 [==============================] - 2s 217us/step - loss: 3.2932 - acc: 0.1203 - val_loss: 3.2199 - val_acc: 0.1410\n",
            "Epoch 3/10\n",
            "7106/7106 [==============================] - 2s 215us/step - loss: 3.1673 - acc: 0.1503 - val_loss: 3.1845 - val_acc: 0.1508\n",
            "Epoch 4/10\n",
            "7106/7106 [==============================] - 2s 214us/step - loss: 3.0714 - acc: 0.1689 - val_loss: 3.1538 - val_acc: 0.1715\n",
            "Epoch 5/10\n",
            "7106/7106 [==============================] - 2s 216us/step - loss: 2.9971 - acc: 0.1797 - val_loss: 3.1689 - val_acc: 0.1660\n",
            "Epoch 6/10\n",
            "7106/7106 [==============================] - 2s 218us/step - loss: 2.9317 - acc: 0.1929 - val_loss: 3.0140 - val_acc: 0.1934\n",
            "Epoch 7/10\n",
            "7106/7106 [==============================] - 2s 215us/step - loss: 2.9041 - acc: 0.1990 - val_loss: 2.9383 - val_acc: 0.2086\n",
            "Epoch 8/10\n",
            "7106/7106 [==============================] - 2s 213us/step - loss: 2.8419 - acc: 0.2198 - val_loss: 2.9370 - val_acc: 0.2010\n",
            "Epoch 9/10\n",
            "7106/7106 [==============================] - 2s 217us/step - loss: 2.7751 - acc: 0.2280 - val_loss: 2.9919 - val_acc: 0.2019\n",
            "Epoch 10/10\n",
            "7106/7106 [==============================] - 2s 214us/step - loss: 2.7558 - acc: 0.2301 - val_loss: 2.8746 - val_acc: 0.2200\n",
            "Train on 7106 samples, validate on 2368 samples\n",
            "Epoch 1/10\n",
            "7106/7106 [==============================] - 2s 215us/step - loss: 2.7542 - acc: 0.2298 - val_loss: 2.6175 - val_acc: 0.2720\n",
            "Epoch 2/10\n",
            "7106/7106 [==============================] - 2s 213us/step - loss: 2.7347 - acc: 0.2333 - val_loss: 2.5929 - val_acc: 0.2774\n",
            "Epoch 3/10\n",
            "7106/7106 [==============================] - 2s 216us/step - loss: 2.6788 - acc: 0.2534 - val_loss: 2.6084 - val_acc: 0.2665\n",
            "Epoch 4/10\n",
            "7106/7106 [==============================] - 2s 214us/step - loss: 2.6570 - acc: 0.2596 - val_loss: 2.6228 - val_acc: 0.2686\n",
            "Epoch 5/10\n",
            "7106/7106 [==============================] - 2s 213us/step - loss: 2.6252 - acc: 0.2612 - val_loss: 2.5492 - val_acc: 0.2931\n",
            "Epoch 6/10\n",
            "7106/7106 [==============================] - 2s 212us/step - loss: 2.5977 - acc: 0.2654 - val_loss: 2.5393 - val_acc: 0.2998\n",
            "Epoch 7/10\n",
            "7106/7106 [==============================] - 2s 213us/step - loss: 2.5512 - acc: 0.2771 - val_loss: 2.5528 - val_acc: 0.2876\n",
            "Epoch 8/10\n",
            "7106/7106 [==============================] - 2s 215us/step - loss: 2.5780 - acc: 0.2686 - val_loss: 2.5649 - val_acc: 0.2711\n",
            "Epoch 9/10\n",
            "7106/7106 [==============================] - 2s 212us/step - loss: 2.5257 - acc: 0.2900 - val_loss: 2.4735 - val_acc: 0.3184\n",
            "Epoch 10/10\n",
            "7106/7106 [==============================] - 2s 215us/step - loss: 2.5055 - acc: 0.2837 - val_loss: 2.5333 - val_acc: 0.3032\n",
            "Train on 7106 samples, validate on 2368 samples\n",
            "Epoch 1/10\n",
            "7106/7106 [==============================] - 2s 212us/step - loss: 2.5146 - acc: 0.2972 - val_loss: 2.3924 - val_acc: 0.3197\n",
            "Epoch 2/10\n",
            "7106/7106 [==============================] - 1s 211us/step - loss: 2.5185 - acc: 0.2907 - val_loss: 2.3768 - val_acc: 0.3121\n",
            "Epoch 3/10\n",
            "7106/7106 [==============================] - 2s 215us/step - loss: 2.4598 - acc: 0.3059 - val_loss: 2.3297 - val_acc: 0.3277\n",
            "Epoch 4/10\n",
            "7106/7106 [==============================] - 2s 211us/step - loss: 2.4526 - acc: 0.3042 - val_loss: 2.3732 - val_acc: 0.3264\n",
            "Epoch 5/10\n",
            "7106/7106 [==============================] - 2s 214us/step - loss: 2.4443 - acc: 0.3089 - val_loss: 2.3612 - val_acc: 0.3222\n",
            "Epoch 6/10\n",
            "7106/7106 [==============================] - 2s 213us/step - loss: 2.3993 - acc: 0.3180 - val_loss: 2.3748 - val_acc: 0.3256\n",
            "Epoch 7/10\n",
            "7106/7106 [==============================] - 2s 214us/step - loss: 2.3815 - acc: 0.3231 - val_loss: 2.4134 - val_acc: 0.3125\n",
            "Epoch 8/10\n",
            "7106/7106 [==============================] - 1s 210us/step - loss: 2.3608 - acc: 0.3299 - val_loss: 2.3427 - val_acc: 0.3315\n",
            "Epoch 9/10\n",
            "7106/7106 [==============================] - 2s 215us/step - loss: 2.3598 - acc: 0.3297 - val_loss: 2.3607 - val_acc: 0.3155\n",
            "Epoch 10/10\n",
            "7106/7106 [==============================] - 2s 213us/step - loss: 2.3617 - acc: 0.3341 - val_loss: 2.3384 - val_acc: 0.3277\n",
            "Train on 7106 samples, validate on 2368 samples\n",
            "Epoch 1/10\n",
            "7106/7106 [==============================] - 1s 211us/step - loss: 2.3779 - acc: 0.3245 - val_loss: 2.1724 - val_acc: 0.3725\n",
            "Epoch 2/10\n",
            "7106/7106 [==============================] - 2s 217us/step - loss: 2.3404 - acc: 0.3355 - val_loss: 2.1061 - val_acc: 0.3944\n",
            "Epoch 3/10\n",
            "7106/7106 [==============================] - 2s 214us/step - loss: 2.3426 - acc: 0.3299 - val_loss: 2.1578 - val_acc: 0.3704\n",
            "Epoch 4/10\n",
            "7106/7106 [==============================] - 2s 215us/step - loss: 2.3353 - acc: 0.3345 - val_loss: 2.1905 - val_acc: 0.3771\n",
            "Epoch 5/10\n",
            "7106/7106 [==============================] - 2s 215us/step - loss: 2.3078 - acc: 0.3458 - val_loss: 2.1869 - val_acc: 0.3733\n",
            "Epoch 6/10\n",
            "7106/7106 [==============================] - 2s 216us/step - loss: 2.2891 - acc: 0.3515 - val_loss: 2.1644 - val_acc: 0.3818\n",
            "Epoch 7/10\n",
            "7106/7106 [==============================] - 2s 218us/step - loss: 2.2547 - acc: 0.3545 - val_loss: 2.1739 - val_acc: 0.3784\n",
            "Epoch 8/10\n",
            "7106/7106 [==============================] - 2s 217us/step - loss: 2.2636 - acc: 0.3558 - val_loss: 2.2092 - val_acc: 0.3733\n",
            "Epoch 9/10\n",
            "7106/7106 [==============================] - 1s 211us/step - loss: 2.2443 - acc: 0.3574 - val_loss: 2.2010 - val_acc: 0.3704\n",
            "Epoch 10/10\n",
            "7106/7106 [==============================] - 2s 212us/step - loss: 2.2201 - acc: 0.3600 - val_loss: 2.1859 - val_acc: 0.3805\n",
            "0.27100929033917354 / 2.6393935309874044\n",
            "0.28124999959726593 / 2.573928994101447\n",
            "0.27882179013780645 / 2.5700892870490617\n",
            "0.285895271176422 / 2.5850954345754675\n",
            "0.28864020300475324 / 2.5665526228982047\n",
            "0.3001478050608893 / 2.523147151276872\n",
            "0.29676942507157456 / 2.5195683063687504\n",
            "0.29423564078437314 / 2.513448123996322\n",
            "0.3015202694648021 / 2.506787176067765\n",
            "0.3078547297297297 / 2.4830443166397713\n",
            "Best val loss: 2.6393935309874044 & with acc: 2.6393935309874044 at epoch: 1\n"
          ],
          "name": "stdout"
        }
      ]
    },
    {
      "cell_type": "code",
      "metadata": {
        "id": "2UODbmGDa-LH",
        "colab_type": "code",
        "colab": {
          "base_uri": "https://localhost:8080/",
          "height": 1652
        },
        "outputId": "1f0681b4-add4-4b20-c3eb-b586fa18acce"
      },
      "source": [
        "from keras.applications import DenseNet121\n",
        "\n",
        "def make_dense_net_model(conv_base):\n",
        "    nn = models.Sequential()\n",
        "    nn.add(conv_base)\n",
        "    nn.add(layers.Dense(41, activation = 'softmax'))\n",
        "    return nn\n",
        "\n",
        "dn_base = DenseNet121(include_top = False,\n",
        "                      input_shape = (max_timesteps, num_freq, 3),\n",
        "                      pooling = 'avg')\n",
        "dn_base.trainable = True\n",
        "# print(dn_base.summary())\n",
        "# Fine-tuning\n",
        "set_trainable = False\n",
        "for layer in dn_base.layers:\n",
        "    if layer.name == 'conv5_block13_0_bn':\n",
        "        set_trainable = True\n",
        "    if set_trainable:\n",
        "        layer.trainable = True\n",
        "    else:\n",
        "        layer.trainable = False\n",
        "\n",
        "model = make_dense_net_model(dn_base)\n",
        "model.compile(optimizer = 'rmsprop', loss = 'categorical_crossentropy',\n",
        "              metrics = ['accuracy'])\n",
        "\n",
        "k = 4\n",
        "num_val = len(train_data) // k\n",
        "num_train = len(train_labels) - num_val\n",
        "all_val_acc_histories, all_val_loss_histories = [], []\n",
        "for x in range(k):\n",
        "    val_data = train_data[x * num_val: (x + 1) * num_val]\n",
        "    val_labels = train_labels[x * num_val: (x + 1) * num_val]\n",
        "\n",
        "    partial_train_data = np.concatenate(\n",
        "        [train_data[: x * num_val], train_data[(x + 1) * num_val:]],\n",
        "        axis = 0)\n",
        "    partial_train_labels = np.concatenate(\n",
        "        [train_labels[: x * num_val],\n",
        "         train_labels[(x + 1) * num_val:]],\n",
        "        axis = 0)\n",
        "    \n",
        "    partial_train_data = partial_train_data.reshape(\n",
        "            (partial_train_data.shape[0], \n",
        "             partial_train_data.shape[1], \n",
        "             partial_train_data.shape[2], \n",
        "             1))\n",
        "    \n",
        "    partial_train_data = np.repeat(partial_train_data, 3, axis=3)\n",
        "    \n",
        "    val_data = val_data.reshape(\n",
        "            (val_data.shape[0], \n",
        "             val_data.shape[1], \n",
        "             val_data.shape[2], \n",
        "             1))\n",
        "    \n",
        "    val_data = np.repeat(val_data, 3, axis=3)\n",
        "#     print('Val Data shape:')\n",
        "#     print(val_data.shape)\n",
        "\n",
        "    \n",
        "    hst = model.fit(partial_train_data, partial_train_labels, batch_size = 1024,\n",
        "                    epochs = 10, validation_data = (val_data, val_labels),)\n",
        "\n",
        "    hst = hst.history\n",
        "    all_val_loss_histories.append(hst['val_loss'])\n",
        "    all_val_acc_histories.append(hst['val_acc'])\n",
        "\n",
        "avg_val_loss_hst = np.mean(all_val_loss_histories, axis = 0)\n",
        "avg_val_acc_hst = np.mean(all_val_acc_histories, axis = 0)\n",
        "\n",
        "best_loss, best_acc, prev_acc, best_epoch = None, None, None, 0\n",
        "\n",
        "acc_increased = True\n",
        "for i in range(10):\n",
        "    print(avg_val_acc_hst[i], '/', avg_val_loss_hst[i])\n",
        "\n",
        "    if prev_acc is not None and avg_val_acc_hst[i] < prev_acc:\n",
        "        acc_increased = False\n",
        "    prev_acc = avg_val_loss_hst[i]\n",
        "\n",
        "    if (best_acc is None or avg_val_acc_hst[i] > best_acc and\n",
        "            acc_increased):\n",
        "        best_acc = avg_val_acc_hst[i]\n",
        "        best_loss = avg_val_loss_hst[i]\n",
        "        best_epoch = i + 1\n",
        "\n",
        "print('Best val loss:', best_loss, '& with acc:', best_acc, 'at epoch:',\n",
        "      str(best_epoch))\n",
        "\n",
        "model.save('DenseNetModel.h5')"
      ],
      "execution_count": 28,
      "outputs": [
        {
          "output_type": "stream",
          "text": [
            "Train on 7106 samples, validate on 2368 samples\n",
            "Epoch 1/10\n",
            "7106/7106 [==============================] - 46s 7ms/step - loss: 3.8703 - acc: 0.1057 - val_loss: 11.5388 - val_acc: 0.0498\n",
            "Epoch 2/10\n",
            "7106/7106 [==============================] - 2s 339us/step - loss: 2.7379 - acc: 0.2831 - val_loss: 11.3960 - val_acc: 0.0465\n",
            "Epoch 3/10\n",
            "7106/7106 [==============================] - 2s 337us/step - loss: 2.2438 - acc: 0.4021 - val_loss: 11.2043 - val_acc: 0.0460\n",
            "Epoch 4/10\n",
            "7106/7106 [==============================] - 2s 340us/step - loss: 1.8462 - acc: 0.5250 - val_loss: 10.9872 - val_acc: 0.0481\n",
            "Epoch 5/10\n",
            "7106/7106 [==============================] - 2s 341us/step - loss: 1.5243 - acc: 0.6288 - val_loss: 11.6239 - val_acc: 0.0460\n",
            "Epoch 6/10\n",
            "7106/7106 [==============================] - 2s 343us/step - loss: 1.2511 - acc: 0.7181 - val_loss: 11.2657 - val_acc: 0.0439\n",
            "Epoch 7/10\n",
            "7106/7106 [==============================] - 2s 340us/step - loss: 1.0402 - acc: 0.7812 - val_loss: 11.6753 - val_acc: 0.0477\n",
            "Epoch 8/10\n",
            "7106/7106 [==============================] - 2s 342us/step - loss: 0.8560 - acc: 0.8285 - val_loss: 11.9305 - val_acc: 0.0503\n",
            "Epoch 9/10\n",
            "7106/7106 [==============================] - 2s 341us/step - loss: 0.7230 - acc: 0.8560 - val_loss: 12.3689 - val_acc: 0.0384\n",
            "Epoch 10/10\n",
            "7106/7106 [==============================] - 2s 342us/step - loss: 0.6345 - acc: 0.8688 - val_loss: 11.5533 - val_acc: 0.0498\n",
            "Train on 7106 samples, validate on 2368 samples\n",
            "Epoch 1/10\n",
            "7106/7106 [==============================] - 2s 337us/step - loss: 1.4740 - acc: 0.6632 - val_loss: 11.5291 - val_acc: 0.0541\n",
            "Epoch 2/10\n",
            "7106/7106 [==============================] - 2s 336us/step - loss: 0.9598 - acc: 0.7677 - val_loss: 11.5288 - val_acc: 0.0519\n",
            "Epoch 3/10\n",
            "7106/7106 [==============================] - 2s 332us/step - loss: 0.7585 - acc: 0.8273 - val_loss: 11.3166 - val_acc: 0.0515\n",
            "Epoch 4/10\n",
            "7106/7106 [==============================] - 2s 331us/step - loss: 0.6298 - acc: 0.8611 - val_loss: 11.8900 - val_acc: 0.0439\n",
            "Epoch 5/10\n",
            "7106/7106 [==============================] - 2s 331us/step - loss: 0.5658 - acc: 0.8731 - val_loss: 11.6781 - val_acc: 0.0422\n",
            "Epoch 6/10\n",
            "7106/7106 [==============================] - 2s 329us/step - loss: 0.5276 - acc: 0.8743 - val_loss: 11.8687 - val_acc: 0.0443\n",
            "Epoch 7/10\n",
            "7106/7106 [==============================] - 2s 330us/step - loss: 0.4989 - acc: 0.8781 - val_loss: 11.9905 - val_acc: 0.0405\n",
            "Epoch 8/10\n",
            "7106/7106 [==============================] - 2s 328us/step - loss: 0.4923 - acc: 0.8759 - val_loss: 12.0197 - val_acc: 0.0490\n",
            "Epoch 9/10\n",
            "7106/7106 [==============================] - 2s 325us/step - loss: 0.4773 - acc: 0.8787 - val_loss: 12.1649 - val_acc: 0.0477\n",
            "Epoch 10/10\n",
            "7106/7106 [==============================] - 2s 329us/step - loss: 0.4621 - acc: 0.8774 - val_loss: 12.0810 - val_acc: 0.0427\n",
            "Train on 7106 samples, validate on 2368 samples\n",
            "Epoch 1/10\n",
            "7106/7106 [==============================] - 2s 328us/step - loss: 0.6874 - acc: 0.8172 - val_loss: 12.1218 - val_acc: 0.0507\n",
            "Epoch 2/10\n",
            "7106/7106 [==============================] - 2s 330us/step - loss: 0.5121 - acc: 0.8729 - val_loss: 12.1266 - val_acc: 0.0486\n",
            "Epoch 3/10\n",
            "7106/7106 [==============================] - 2s 330us/step - loss: 0.4793 - acc: 0.8736 - val_loss: 12.1462 - val_acc: 0.0524\n",
            "Epoch 4/10\n",
            "7106/7106 [==============================] - 2s 330us/step - loss: 0.4894 - acc: 0.8722 - val_loss: 12.7101 - val_acc: 0.0477\n",
            "Epoch 5/10\n",
            "7106/7106 [==============================] - 2s 332us/step - loss: 0.4632 - acc: 0.8739 - val_loss: 12.7153 - val_acc: 0.0545\n",
            "Epoch 6/10\n",
            "7106/7106 [==============================] - 2s 330us/step - loss: 0.4561 - acc: 0.8766 - val_loss: 12.7385 - val_acc: 0.0460\n",
            "Epoch 7/10\n",
            "7106/7106 [==============================] - 2s 332us/step - loss: 0.4616 - acc: 0.8757 - val_loss: 13.0438 - val_acc: 0.0477\n",
            "Epoch 8/10\n",
            "7106/7106 [==============================] - 2s 331us/step - loss: 0.4550 - acc: 0.8745 - val_loss: 12.9050 - val_acc: 0.0486\n",
            "Epoch 9/10\n",
            "7106/7106 [==============================] - 2s 331us/step - loss: 0.4554 - acc: 0.8748 - val_loss: 13.3777 - val_acc: 0.0443\n",
            "Epoch 10/10\n",
            "7106/7106 [==============================] - 2s 331us/step - loss: 0.4519 - acc: 0.8756 - val_loss: 13.3320 - val_acc: 0.0473\n",
            "Train on 7106 samples, validate on 2368 samples\n",
            "Epoch 1/10\n",
            "7106/7106 [==============================] - 2s 324us/step - loss: 0.5147 - acc: 0.8631 - val_loss: 13.4786 - val_acc: 0.0486\n",
            "Epoch 2/10\n",
            "7106/7106 [==============================] - 2s 324us/step - loss: 0.4525 - acc: 0.8797 - val_loss: 13.5230 - val_acc: 0.0498\n",
            "Epoch 3/10\n",
            "7106/7106 [==============================] - 2s 326us/step - loss: 0.4377 - acc: 0.8802 - val_loss: 13.5819 - val_acc: 0.0431\n",
            "Epoch 4/10\n",
            "7106/7106 [==============================] - 2s 329us/step - loss: 0.4331 - acc: 0.8784 - val_loss: 13.5856 - val_acc: 0.0456\n",
            "Epoch 5/10\n",
            "7106/7106 [==============================] - 2s 327us/step - loss: 0.4329 - acc: 0.8804 - val_loss: 13.4532 - val_acc: 0.0553\n",
            "Epoch 6/10\n",
            "7106/7106 [==============================] - 2s 328us/step - loss: 0.4371 - acc: 0.8790 - val_loss: 14.0748 - val_acc: 0.0389\n",
            "Epoch 7/10\n",
            "7106/7106 [==============================] - 2s 327us/step - loss: 0.4291 - acc: 0.8780 - val_loss: 13.7813 - val_acc: 0.0511\n",
            "Epoch 8/10\n",
            "7106/7106 [==============================] - 2s 327us/step - loss: 0.4345 - acc: 0.8790 - val_loss: 13.9858 - val_acc: 0.0490\n",
            "Epoch 9/10\n",
            "7106/7106 [==============================] - 2s 327us/step - loss: 0.4300 - acc: 0.8794 - val_loss: 13.8031 - val_acc: 0.0566\n",
            "Epoch 10/10\n",
            "7106/7106 [==============================] - 2s 328us/step - loss: 0.4271 - acc: 0.8804 - val_loss: 13.8539 - val_acc: 0.0562\n",
            "0.05078124992448736 / 12.167063094474175\n",
            "0.04919763503445161 / 12.143606772293914\n",
            "0.04824746634207062 / 12.062243667808739\n",
            "0.04634712837837837 / 12.29324264784117\n",
            "0.04951435813327898 / 12.36764415534767\n",
            "0.04328547302331474 / 12.486927580189061\n",
            "0.04676942570084656 / 12.622717960460767\n",
            "0.04919763503445161 / 12.71025249764726\n",
            "0.046769425549821275 / 12.92864585567165\n",
            "0.048986486536828244 / 12.705041994919648\n",
            "Best val loss: 12.167063094474175 & with acc: 0.05078124992448736 at epoch: 1\n"
          ],
          "name": "stdout"
        }
      ]
    },
    {
      "cell_type": "code",
      "metadata": {
        "id": "RimUBVXglSku",
        "colab_type": "code",
        "colab": {
          "base_uri": "https://localhost:8080/",
          "height": 463
        },
        "outputId": "b2a32e35-a836-488f-dc99-b2a54626ed9a"
      },
      "source": [
        "\n",
        "\n",
        "def make_1DCNN_model(input_shape):\n",
        "    nn = models.Sequential()\n",
        "    nn.add(layers.SeparableConv1D(64, 7, activation = 'relu',\n",
        "                                  input_shape = (None, input_shape[-1])))\n",
        "    nn.add(layers.BatchNormalization())\n",
        "    nn.add(layers.SeparableConv1D(64, 7, activation = 'relu'))\n",
        "    nn.add(layers.BatchNormalization())\n",
        "    nn.add(layers.MaxPooling1D(5))\n",
        "    nn.add(layers.Dropout(0.3))\n",
        "\n",
        "    nn.add(layers.SeparableConv1D(128, 7, activation = 'relu'))\n",
        "    nn.add(layers.BatchNormalization())\n",
        "    nn.add(layers.SeparableConv1D(128, 7, activation = 'relu'))\n",
        "    nn.add(layers.BatchNormalization())\n",
        "    nn.add(layers.MaxPooling1D(5))\n",
        "    nn.add(layers.Dropout(0.3))\n",
        "\n",
        "    nn.add(layers.SeparableConv1D(512, 7, activation = 'relu'))\n",
        "    nn.add(layers.BatchNormalization())\n",
        "    nn.add(layers.SeparableConv1D(512, 7, activation = 'relu'))\n",
        "    nn.add(layers.BatchNormalization())\n",
        "    nn.add(layers.GlobalAveragePooling1D())\n",
        "\n",
        "    nn.add(layers.Dense(41, activation = 'softmax'))\n",
        "\n",
        "    return nn\n",
        "\n",
        "model = make_1DCNN_model((max_timesteps, num_freq))\n",
        "model.compile(optimizer = 'rmsprop', loss = 'categorical_crossentropy',\n",
        "              metrics = ['accuracy'])\n",
        "\n",
        "k = 4\n",
        "num_val = len(train_data) // k\n",
        "num_train = len(train_labels) - num_val\n",
        "all_val_acc_histories, all_val_loss_histories = [], []\n",
        "for x in range(k):\n",
        "    val_data = train_data[x * num_val: (x + 1) * num_val]\n",
        "    val_labels = train_labels[x * num_val: (x + 1) * num_val]\n",
        "\n",
        "    partial_train_data = np.concatenate(\n",
        "        [train_data[: x * num_val], train_data[(x + 1) * num_val:]],\n",
        "        axis = 0)\n",
        "    partial_train_labels = np.concatenate(\n",
        "        [train_labels[: x * num_val],\n",
        "         train_labels[(x + 1) * num_val:]],\n",
        "        axis = 0)\n",
        "    \n",
        "    hst = model.fit(partial_train_data, partial_train_labels, batch_size = 1024,\n",
        "                    epochs = 10, validation_data = (val_data, val_labels),)\n",
        "\n",
        "    hst = hst.history\n",
        "    all_val_loss_histories.append(hst['val_loss'])\n",
        "    all_val_acc_histories.append(hst['val_acc'])\n",
        "\n",
        "avg_val_loss_hst = np.mean(all_val_loss_histories, axis = 0)\n",
        "avg_val_acc_hst = np.mean(all_val_acc_histories, axis = 0)\n",
        "\n",
        "best_loss, best_acc, prev_acc, best_epoch = None, None, None, 0\n",
        "\n",
        "acc_increased = True\n",
        "for i in range(10):\n",
        "    print(avg_val_acc_hst[i], '/', avg_val_loss_hst[i])\n",
        "\n",
        "    if prev_acc is not None and avg_val_acc_hst[i] < prev_acc:\n",
        "        acc_increased = False\n",
        "    prev_acc = avg_val_loss_hst[i]\n",
        "\n",
        "    if (best_acc is None or avg_val_acc_hst[i] > best_acc and\n",
        "            acc_increased):\n",
        "        best_acc = avg_val_acc_hst[i]\n",
        "        best_loss = avg_val_loss_hst[i]\n",
        "        best_epoch = i + 1\n",
        "\n",
        "print('Best val loss:', best_loss, '& with acc:', best_acc, 'at epoch:',\n",
        "      str(best_epoch))\n",
        "\n",
        "model.save('1DCNN.h5')\n"
      ],
      "execution_count": 29,
      "outputs": [
        {
          "output_type": "stream",
          "text": [
            "Train on 7106 samples, validate on 2368 samples\n",
            "Epoch 1/10\n"
          ],
          "name": "stdout"
        },
        {
          "output_type": "error",
          "ename": "InvalidArgumentError",
          "evalue": "ignored",
          "traceback": [
            "\u001b[0;31m---------------------------------------------------------------------------\u001b[0m",
            "\u001b[0;31mInvalidArgumentError\u001b[0m                      Traceback (most recent call last)",
            "\u001b[0;32m<ipython-input-29-c8721997813f>\u001b[0m in \u001b[0;36m<module>\u001b[0;34m()\u001b[0m\n\u001b[1;32m     49\u001b[0m \u001b[0;34m\u001b[0m\u001b[0m\n\u001b[1;32m     50\u001b[0m     hst = model.fit(partial_train_data, partial_train_labels, batch_size = 1024,\n\u001b[0;32m---> 51\u001b[0;31m                     epochs = 10, validation_data = (val_data, val_labels),)\n\u001b[0m\u001b[1;32m     52\u001b[0m \u001b[0;34m\u001b[0m\u001b[0m\n\u001b[1;32m     53\u001b[0m     \u001b[0mhst\u001b[0m \u001b[0;34m=\u001b[0m \u001b[0mhst\u001b[0m\u001b[0;34m.\u001b[0m\u001b[0mhistory\u001b[0m\u001b[0;34m\u001b[0m\u001b[0;34m\u001b[0m\u001b[0m\n",
            "\u001b[0;32m/usr/local/lib/python3.6/dist-packages/keras/engine/training.py\u001b[0m in \u001b[0;36mfit\u001b[0;34m(self, x, y, batch_size, epochs, verbose, callbacks, validation_split, validation_data, shuffle, class_weight, sample_weight, initial_epoch, steps_per_epoch, validation_steps, **kwargs)\u001b[0m\n\u001b[1;32m   1037\u001b[0m                                         \u001b[0minitial_epoch\u001b[0m\u001b[0;34m=\u001b[0m\u001b[0minitial_epoch\u001b[0m\u001b[0;34m,\u001b[0m\u001b[0;34m\u001b[0m\u001b[0;34m\u001b[0m\u001b[0m\n\u001b[1;32m   1038\u001b[0m                                         \u001b[0msteps_per_epoch\u001b[0m\u001b[0;34m=\u001b[0m\u001b[0msteps_per_epoch\u001b[0m\u001b[0;34m,\u001b[0m\u001b[0;34m\u001b[0m\u001b[0;34m\u001b[0m\u001b[0m\n\u001b[0;32m-> 1039\u001b[0;31m                                         validation_steps=validation_steps)\n\u001b[0m\u001b[1;32m   1040\u001b[0m \u001b[0;34m\u001b[0m\u001b[0m\n\u001b[1;32m   1041\u001b[0m     def evaluate(self, x=None, y=None,\n",
            "\u001b[0;32m/usr/local/lib/python3.6/dist-packages/keras/engine/training_arrays.py\u001b[0m in \u001b[0;36mfit_loop\u001b[0;34m(model, f, ins, out_labels, batch_size, epochs, verbose, callbacks, val_f, val_ins, shuffle, callback_metrics, initial_epoch, steps_per_epoch, validation_steps)\u001b[0m\n\u001b[1;32m    197\u001b[0m                     \u001b[0mins_batch\u001b[0m\u001b[0;34m[\u001b[0m\u001b[0mi\u001b[0m\u001b[0;34m]\u001b[0m \u001b[0;34m=\u001b[0m \u001b[0mins_batch\u001b[0m\u001b[0;34m[\u001b[0m\u001b[0mi\u001b[0m\u001b[0;34m]\u001b[0m\u001b[0;34m.\u001b[0m\u001b[0mtoarray\u001b[0m\u001b[0;34m(\u001b[0m\u001b[0;34m)\u001b[0m\u001b[0;34m\u001b[0m\u001b[0;34m\u001b[0m\u001b[0m\n\u001b[1;32m    198\u001b[0m \u001b[0;34m\u001b[0m\u001b[0m\n\u001b[0;32m--> 199\u001b[0;31m                 \u001b[0mouts\u001b[0m \u001b[0;34m=\u001b[0m \u001b[0mf\u001b[0m\u001b[0;34m(\u001b[0m\u001b[0mins_batch\u001b[0m\u001b[0;34m)\u001b[0m\u001b[0;34m\u001b[0m\u001b[0;34m\u001b[0m\u001b[0m\n\u001b[0m\u001b[1;32m    200\u001b[0m                 \u001b[0mouts\u001b[0m \u001b[0;34m=\u001b[0m \u001b[0mto_list\u001b[0m\u001b[0;34m(\u001b[0m\u001b[0mouts\u001b[0m\u001b[0;34m)\u001b[0m\u001b[0;34m\u001b[0m\u001b[0;34m\u001b[0m\u001b[0m\n\u001b[1;32m    201\u001b[0m                 \u001b[0;32mfor\u001b[0m \u001b[0ml\u001b[0m\u001b[0;34m,\u001b[0m \u001b[0mo\u001b[0m \u001b[0;32min\u001b[0m \u001b[0mzip\u001b[0m\u001b[0;34m(\u001b[0m\u001b[0mout_labels\u001b[0m\u001b[0;34m,\u001b[0m \u001b[0mouts\u001b[0m\u001b[0;34m)\u001b[0m\u001b[0;34m:\u001b[0m\u001b[0;34m\u001b[0m\u001b[0;34m\u001b[0m\u001b[0m\n",
            "\u001b[0;32m/usr/local/lib/python3.6/dist-packages/keras/backend/tensorflow_backend.py\u001b[0m in \u001b[0;36m__call__\u001b[0;34m(self, inputs)\u001b[0m\n\u001b[1;32m   2713\u001b[0m                 \u001b[0;32mreturn\u001b[0m \u001b[0mself\u001b[0m\u001b[0;34m.\u001b[0m\u001b[0m_legacy_call\u001b[0m\u001b[0;34m(\u001b[0m\u001b[0minputs\u001b[0m\u001b[0;34m)\u001b[0m\u001b[0;34m\u001b[0m\u001b[0;34m\u001b[0m\u001b[0m\n\u001b[1;32m   2714\u001b[0m \u001b[0;34m\u001b[0m\u001b[0m\n\u001b[0;32m-> 2715\u001b[0;31m             \u001b[0;32mreturn\u001b[0m \u001b[0mself\u001b[0m\u001b[0;34m.\u001b[0m\u001b[0m_call\u001b[0m\u001b[0;34m(\u001b[0m\u001b[0minputs\u001b[0m\u001b[0;34m)\u001b[0m\u001b[0;34m\u001b[0m\u001b[0;34m\u001b[0m\u001b[0m\n\u001b[0m\u001b[1;32m   2716\u001b[0m         \u001b[0;32melse\u001b[0m\u001b[0;34m:\u001b[0m\u001b[0;34m\u001b[0m\u001b[0;34m\u001b[0m\u001b[0m\n\u001b[1;32m   2717\u001b[0m             \u001b[0;32mif\u001b[0m \u001b[0mpy_any\u001b[0m\u001b[0;34m(\u001b[0m\u001b[0mis_tensor\u001b[0m\u001b[0;34m(\u001b[0m\u001b[0mx\u001b[0m\u001b[0;34m)\u001b[0m \u001b[0;32mfor\u001b[0m \u001b[0mx\u001b[0m \u001b[0;32min\u001b[0m \u001b[0minputs\u001b[0m\u001b[0;34m)\u001b[0m\u001b[0;34m:\u001b[0m\u001b[0;34m\u001b[0m\u001b[0;34m\u001b[0m\u001b[0m\n",
            "\u001b[0;32m/usr/local/lib/python3.6/dist-packages/keras/backend/tensorflow_backend.py\u001b[0m in \u001b[0;36m_call\u001b[0;34m(self, inputs)\u001b[0m\n\u001b[1;32m   2673\u001b[0m             \u001b[0mfetched\u001b[0m \u001b[0;34m=\u001b[0m \u001b[0mself\u001b[0m\u001b[0;34m.\u001b[0m\u001b[0m_callable_fn\u001b[0m\u001b[0;34m(\u001b[0m\u001b[0;34m*\u001b[0m\u001b[0marray_vals\u001b[0m\u001b[0;34m,\u001b[0m \u001b[0mrun_metadata\u001b[0m\u001b[0;34m=\u001b[0m\u001b[0mself\u001b[0m\u001b[0;34m.\u001b[0m\u001b[0mrun_metadata\u001b[0m\u001b[0;34m)\u001b[0m\u001b[0;34m\u001b[0m\u001b[0;34m\u001b[0m\u001b[0m\n\u001b[1;32m   2674\u001b[0m         \u001b[0;32melse\u001b[0m\u001b[0;34m:\u001b[0m\u001b[0;34m\u001b[0m\u001b[0;34m\u001b[0m\u001b[0m\n\u001b[0;32m-> 2675\u001b[0;31m             \u001b[0mfetched\u001b[0m \u001b[0;34m=\u001b[0m \u001b[0mself\u001b[0m\u001b[0;34m.\u001b[0m\u001b[0m_callable_fn\u001b[0m\u001b[0;34m(\u001b[0m\u001b[0;34m*\u001b[0m\u001b[0marray_vals\u001b[0m\u001b[0;34m)\u001b[0m\u001b[0;34m\u001b[0m\u001b[0;34m\u001b[0m\u001b[0m\n\u001b[0m\u001b[1;32m   2676\u001b[0m         \u001b[0;32mreturn\u001b[0m \u001b[0mfetched\u001b[0m\u001b[0;34m[\u001b[0m\u001b[0;34m:\u001b[0m\u001b[0mlen\u001b[0m\u001b[0;34m(\u001b[0m\u001b[0mself\u001b[0m\u001b[0;34m.\u001b[0m\u001b[0moutputs\u001b[0m\u001b[0;34m)\u001b[0m\u001b[0;34m]\u001b[0m\u001b[0;34m\u001b[0m\u001b[0;34m\u001b[0m\u001b[0m\n\u001b[1;32m   2677\u001b[0m \u001b[0;34m\u001b[0m\u001b[0m\n",
            "\u001b[0;32m/usr/local/lib/python3.6/dist-packages/tensorflow/python/client/session.py\u001b[0m in \u001b[0;36m__call__\u001b[0;34m(self, *args, **kwargs)\u001b[0m\n\u001b[1;32m   1437\u001b[0m           ret = tf_session.TF_SessionRunCallable(\n\u001b[1;32m   1438\u001b[0m               \u001b[0mself\u001b[0m\u001b[0;34m.\u001b[0m\u001b[0m_session\u001b[0m\u001b[0;34m.\u001b[0m\u001b[0m_session\u001b[0m\u001b[0;34m,\u001b[0m \u001b[0mself\u001b[0m\u001b[0;34m.\u001b[0m\u001b[0m_handle\u001b[0m\u001b[0;34m,\u001b[0m \u001b[0margs\u001b[0m\u001b[0;34m,\u001b[0m \u001b[0mstatus\u001b[0m\u001b[0;34m,\u001b[0m\u001b[0;34m\u001b[0m\u001b[0;34m\u001b[0m\u001b[0m\n\u001b[0;32m-> 1439\u001b[0;31m               run_metadata_ptr)\n\u001b[0m\u001b[1;32m   1440\u001b[0m         \u001b[0;32mif\u001b[0m \u001b[0mrun_metadata\u001b[0m\u001b[0;34m:\u001b[0m\u001b[0;34m\u001b[0m\u001b[0;34m\u001b[0m\u001b[0m\n\u001b[1;32m   1441\u001b[0m           \u001b[0mproto_data\u001b[0m \u001b[0;34m=\u001b[0m \u001b[0mtf_session\u001b[0m\u001b[0;34m.\u001b[0m\u001b[0mTF_GetBuffer\u001b[0m\u001b[0;34m(\u001b[0m\u001b[0mrun_metadata_ptr\u001b[0m\u001b[0;34m)\u001b[0m\u001b[0;34m\u001b[0m\u001b[0;34m\u001b[0m\u001b[0m\n",
            "\u001b[0;32m/usr/local/lib/python3.6/dist-packages/tensorflow/python/framework/errors_impl.py\u001b[0m in \u001b[0;36m__exit__\u001b[0;34m(self, type_arg, value_arg, traceback_arg)\u001b[0m\n\u001b[1;32m    526\u001b[0m             \u001b[0;32mNone\u001b[0m\u001b[0;34m,\u001b[0m \u001b[0;32mNone\u001b[0m\u001b[0;34m,\u001b[0m\u001b[0;34m\u001b[0m\u001b[0;34m\u001b[0m\u001b[0m\n\u001b[1;32m    527\u001b[0m             \u001b[0mcompat\u001b[0m\u001b[0;34m.\u001b[0m\u001b[0mas_text\u001b[0m\u001b[0;34m(\u001b[0m\u001b[0mc_api\u001b[0m\u001b[0;34m.\u001b[0m\u001b[0mTF_Message\u001b[0m\u001b[0;34m(\u001b[0m\u001b[0mself\u001b[0m\u001b[0;34m.\u001b[0m\u001b[0mstatus\u001b[0m\u001b[0;34m.\u001b[0m\u001b[0mstatus\u001b[0m\u001b[0;34m)\u001b[0m\u001b[0;34m)\u001b[0m\u001b[0;34m,\u001b[0m\u001b[0;34m\u001b[0m\u001b[0;34m\u001b[0m\u001b[0m\n\u001b[0;32m--> 528\u001b[0;31m             c_api.TF_GetCode(self.status.status))\n\u001b[0m\u001b[1;32m    529\u001b[0m     \u001b[0;31m# Delete the underlying status object from memory otherwise it stays alive\u001b[0m\u001b[0;34m\u001b[0m\u001b[0;34m\u001b[0m\u001b[0;34m\u001b[0m\u001b[0m\n\u001b[1;32m    530\u001b[0m     \u001b[0;31m# as there is a reference to status from this from the traceback due to\u001b[0m\u001b[0;34m\u001b[0m\u001b[0;34m\u001b[0m\u001b[0;34m\u001b[0m\u001b[0m\n",
            "\u001b[0;31mInvalidArgumentError\u001b[0m: Computed output size would be negative: -2 [input_size: 4, effective_filter_size: 7, stride: 1]\n\t [[{{node separable_conv1d_8/separable_conv2d/depthwise}}]]\n\t [[{{node metrics_10/acc/Mean}}]]"
          ]
        }
      ]
    },
    {
      "cell_type": "code",
      "metadata": {
        "id": "tCOWN6mzmJBE",
        "colab_type": "code",
        "colab": {}
      },
      "source": [
        "def make_RNN_model(input_shape):\n",
        "    nn = models.Sequential()\n",
        "    nn.add(layers.Bidirectional(layers.LSTM(64, dropout = 0.3,\n",
        "                                            recurrent_dropout = 0.3,\n",
        "                                            return_sequences = True,\n",
        "                                            input_shape =\n",
        "                                            (None, input_shape[-1]))))\n",
        "    nn.add(layers.Bidirectional(layers.LSTM(64, dropout = 0.3,\n",
        "                                            recurrent_dropout = 0.3,\n",
        "                                            return_sequences = True)))\n",
        "    nn.add(layers.Bidirectional(layers.LSTM(64, dropout = 0.3,\n",
        "                                            recurrent_dropout = 0.3,\n",
        "                                            return_sequences = True)))\n",
        "    nn.add(layers.Bidirectional(layers.LSTM(64, dropout = 0.3,\n",
        "                                            recurrent_dropout = 0.3)))\n",
        "    nn.add(layers.Dense(41, activation = 'softmax'))\n",
        "\n",
        "    return nn\n",
        "\n",
        "\n",
        "model = make_RNN_model((max_timesteps, num_freq))\n",
        "model.compile(optimizer = 'rmsprop', loss = 'categorical_crossentropy',\n",
        "              metrics = ['accuracy'])\n",
        "\n",
        "k = 4\n",
        "num_val = len(train_data) // k\n",
        "num_train = len(train_labels) - num_val\n",
        "all_val_acc_histories, all_val_loss_histories = [], []\n",
        "for x in range(k):\n",
        "    val_data = train_data[x * num_val: (x + 1) * num_val]\n",
        "    val_labels = train_labels[x * num_val: (x + 1) * num_val]\n",
        "\n",
        "    partial_train_data = np.concatenate(\n",
        "        [train_data[: x * num_val], train_data[(x + 1) * num_val:]],\n",
        "        axis = 0)\n",
        "    partial_train_labels = np.concatenate(\n",
        "        [train_labels[: x * num_val],\n",
        "         train_labels[(x + 1) * num_val:]],\n",
        "        axis = 0)\n",
        "    \n",
        "    hst = model.fit(partial_train_data, partial_train_labels, batch_size = 1024,\n",
        "                    epochs = 10, validation_data = (val_data, val_labels),)\n",
        "\n",
        "    hst = hst.history\n",
        "    all_val_loss_histories.append(hst['val_loss'])\n",
        "    all_val_acc_histories.append(hst['val_acc'])\n",
        "\n",
        "avg_val_loss_hst = np.mean(all_val_loss_histories, axis = 0)\n",
        "avg_val_acc_hst = np.mean(all_val_acc_histories, axis = 0)\n",
        "\n",
        "best_loss, best_acc, prev_acc, best_epoch = None, None, None, 0\n",
        "\n",
        "acc_increased = True\n",
        "for i in range(10):\n",
        "    print(avg_val_acc_hst[i], '/', avg_val_loss_hst[i])\n",
        "\n",
        "    if prev_acc is not None and avg_val_acc_hst[i] < prev_acc:\n",
        "        acc_increased = False\n",
        "    prev_acc = avg_val_loss_hst[i]\n",
        "\n",
        "    if (best_acc is None or avg_val_acc_hst[i] > best_acc and\n",
        "            acc_increased):\n",
        "        best_acc = avg_val_acc_hst[i]\n",
        "        best_loss = avg_val_loss_hst[i]\n",
        "        best_epoch = i + 1\n",
        "\n",
        "print('Best val loss:', best_loss, '& with acc:', best_acc, 'at epoch:',\n",
        "      str(best_epoch))\n",
        "\n",
        "model.save('RNN.h5')\n"
      ],
      "execution_count": 0,
      "outputs": []
    },
    {
      "cell_type": "code",
      "metadata": {
        "id": "w6T_IeSRm0ha",
        "colab_type": "code",
        "colab": {}
      },
      "source": [
        "# Reorganize all data as sets of flat vectors of 0-1.0 values\n",
        "# Shape (..., 28, 28, 1)\n",
        "\n",
        "test_data_2D = test_data.reshape(\n",
        "               (test_data.shape[0], \n",
        "                test_data.shape[1], \n",
        "                test_data.shape[2], \n",
        "                1))\n",
        "    \n",
        "test_data_2D_3chan = np.repeat(test_data_2D, 3, axis=3)\n",
        "    \n",
        "\n",
        "cnn2D = models.load_model('2DCNN.h5')\n",
        "rnn = models.load_model('RNN.h5')\n",
        "cnn1D = models.load_model('1DCNN.h5')\n",
        "cnn_rnn = models.load_model('1DCNN_RNN.h5')\n",
        "dense_net = models.load_model('DenseNetModel.h5')\n",
        "\n",
        "cnn2D_preds = cnn2D.predict(test_data_2D)\n",
        "rnn_preds = rnn.predict(test_data)\n",
        "cnn1D_preds = cnn1D.predict(test_data)\n",
        "cnn_rnn_preds = cnn_rnn.predict(test_data)\n",
        "dense_net_preds = dense_net.predict(test_data_2D_3chan)\n",
        "\n",
        "final_preds = 0.2 * (cnn2D_preds + rnn_preds + cnn1D_preds + \n",
        "                     cnn_rnn_preds + dense_net_preds)\n",
        "\n",
        "with open('TestTags.txt', 'w') as ttf:\n",
        "    for i, res in enumerate(final_preds):\n",
        "        ttf.write(i+')', unique_labels[res.index(1.)])\n",
        "\n",
        "\n",
        "# Prompt for user to enter a wav filename then predicts??\n",
        "\n",
        "# batch_size = 128\n",
        "# results = nn.predict(test_data, batch_size = batch_size)\n",
        "# for result in results:\n",
        "#     res = np.argmax(result)\n",
        "#     print(res)"
      ],
      "execution_count": 0,
      "outputs": []
    }
  ]
}